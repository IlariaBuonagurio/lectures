{
 "cells": [
  {
   "cell_type": "markdown",
   "metadata": {},
   "source": [
    "# Speeding"
   ]
  },
  {
   "cell_type": "markdown",
   "metadata": {},
   "source": [
    "Cython is a Python-like language that:\n",
    "Improves Python’s performance – 1000x speedups not uncommon\n",
    "wraps external code: C, C++, Fortran, others...\n",
    " \n",
    "The cython command:\n",
    " generates an optimized C or C++ source file from a Cython source file,\n",
    " the C/C++ source is then compiled into a Python extension module.\n",
    "\n",
    "Other features:\n",
    "built-in support for NumPy,\n",
    "integrates with IPython,\n",
    "Combine C’s performance with Python’s ease of use.\n",
    "http://www.cython.org/"
   ]
  },
  {
   "cell_type": "markdown",
   "metadata": {},
   "source": [
    "Cython is both a language (a superset of Python) and a Python library. \n",
    "\n",
    "With Cython, we start from a regular Python program and we add annotations about the type of the variables. Then, Cython translates that code to C and compiles the result to a Python extension module. Finally, we can use this compiled module in any Python program.\n",
    "\n",
    "While dynamic typing comes with a performance cost in Python, statically-typed variables in Cython generally lead to faster code execution.\n",
    "\n",
    "Performance gains are most signi cant in CPU-bound programs, notably in tight Python loops. By contrast, I/O-bound programs are not expected to bene t much from a Cython implementation.\n"
   ]
  },
  {
   "cell_type": "code",
   "execution_count": null,
   "metadata": {
    "collapsed": false
   },
   "outputs": [],
   "source": [
    "def fib(n):\n",
    "    a,b = 1,1\n",
    "    for i in range(n):\n",
    "        a, b = a+b, a\n",
    "    return a"
   ]
  },
  {
   "cell_type": "code",
   "execution_count": null,
   "metadata": {
    "collapsed": false
   },
   "outputs": [],
   "source": [
    "fib"
   ]
  },
  {
   "cell_type": "code",
   "execution_count": null,
   "metadata": {
    "collapsed": false
   },
   "outputs": [],
   "source": [
    "%load_ext cython"
   ]
  },
  {
   "cell_type": "code",
   "execution_count": null,
   "metadata": {
    "collapsed": true
   },
   "outputs": [],
   "source": [
    "%%cython\n",
    "def cfib(int n):\n",
    "    cdef int i, a, b\n",
    "    a,b = 1,1\n",
    "    for i in range(n):\n",
    "        a, b = a+b, a\n",
    "    return a"
   ]
  },
  {
   "cell_type": "markdown",
   "metadata": {
    "collapsed": true
   },
   "source": [
    "```python\n",
    "def cfib(int n):\n",
    "    cdef int i, a, b\n",
    "    a,b = 1,1\n",
    "    for i in range(n):\n",
    "        a, b = a+b, a\n",
    "    return a\n",
    "```"
   ]
  },
  {
   "cell_type": "markdown",
   "metadata": {},
   "source": [
    "* We added `int` to argument"
   ]
  },
  {
   "cell_type": "markdown",
   "metadata": {},
   "source": [
    "* We used `cdef`"
   ]
  },
  {
   "cell_type": "code",
   "execution_count": null,
   "metadata": {
    "collapsed": false
   },
   "outputs": [],
   "source": [
    "%%cython\n",
    "make an eror"
   ]
  },
  {
   "cell_type": "code",
   "execution_count": null,
   "metadata": {
    "collapsed": false
   },
   "outputs": [],
   "source": [
    "help(\"cdef\")"
   ]
  },
  {
   "cell_type": "code",
   "execution_count": null,
   "metadata": {
    "collapsed": false
   },
   "outputs": [],
   "source": [
    "cfib"
   ]
  },
  {
   "cell_type": "code",
   "execution_count": null,
   "metadata": {
    "collapsed": false
   },
   "outputs": [],
   "source": [
    "fib(10)"
   ]
  },
  {
   "cell_type": "code",
   "execution_count": null,
   "metadata": {
    "collapsed": false
   },
   "outputs": [],
   "source": [
    "cfib(10)"
   ]
  },
  {
   "cell_type": "code",
   "execution_count": null,
   "metadata": {
    "collapsed": false
   },
   "outputs": [],
   "source": [
    "%%capture\n",
    "# Number to compute\n",
    "test_size = 100000\n",
    "# Normal python\n",
    "t1 = %timeit -n1 -r1 -o fib(test_size)\n",
    "# Cython library\n",
    "t2 = %timeit -n1 -r1 -o cfib(test_size)"
   ]
  },
  {
   "cell_type": "code",
   "execution_count": null,
   "metadata": {
    "collapsed": false
   },
   "outputs": [],
   "source": [
    "print(\"%sx speedup\" % (t1.best // t2.best))"
   ]
  },
  {
   "cell_type": "markdown",
   "metadata": {},
   "source": [
    "A C compiler is required."
   ]
  },
  {
   "cell_type": "markdown",
   "metadata": {},
   "source": [
    "# With numpy!\n",
    "\n",
    "Generating the Mandelbrot fractal."
   ]
  },
  {
   "cell_type": "code",
   "execution_count": null,
   "metadata": {
    "collapsed": true
   },
   "outputs": [],
   "source": [
    "import numpy as np\n",
    "\n",
    "def mandelbrot_python(m, size, iterations):\n",
    "    for i in range(size):\n",
    "        for j in range(size):\n",
    "            c = -2 + 3./size*j + 1j*(1.5-3./size*i) \n",
    "            z= 0\n",
    "            for n in range(iterations):\n",
    "                if np.abs(z) <= 10:\n",
    "                    z = z*z + c\n",
    "                    m[i, j] = n\n",
    "                else:\n",
    "                    break"
   ]
  },
  {
   "cell_type": "code",
   "execution_count": null,
   "metadata": {
    "collapsed": false
   },
   "outputs": [],
   "source": [
    "mandelbrot_python"
   ]
  },
  {
   "cell_type": "code",
   "execution_count": null,
   "metadata": {
    "collapsed": true
   },
   "outputs": [],
   "source": [
    "size = 200\n",
    "iterations = 100"
   ]
  },
  {
   "cell_type": "code",
   "execution_count": null,
   "metadata": {
    "collapsed": false
   },
   "outputs": [],
   "source": [
    "%%timeit -n1 -r1 m = np.zeros((size, size),dtype=np.int32) \n",
    "mandelbrot_python(m, size, iterations)"
   ]
  },
  {
   "cell_type": "code",
   "execution_count": null,
   "metadata": {
    "collapsed": true
   },
   "outputs": [],
   "source": [
    "%%cython\n",
    "import numpy as np\n",
    "def mandelbrot_cython(int[:,::1] m, int size, int iterations):\n",
    "    cdef int i, j, n\n",
    "    cdef complex z, c\n",
    "\n",
    "    for i in range(size):\n",
    "        for j in range(size):\n",
    "            c = -2 + 3./size*j + 1j*(1.5-3./size*i)\n",
    "            z= 0\n",
    "            for n in range(iterations):\n",
    "                if z.real**2 + z.imag**2 <= 100:\n",
    "                    z = z*z + c\n",
    "                    m[i, j] = n\n",
    "                else:\n",
    "                    break"
   ]
  },
  {
   "cell_type": "code",
   "execution_count": null,
   "metadata": {
    "collapsed": false
   },
   "outputs": [],
   "source": [
    "%%timeit -n1 -r1 m = np.zeros((size, size),dtype=np.int32) \n",
    "mandelbrot_cython(m, size, iterations)"
   ]
  },
  {
   "cell_type": "markdown",
   "metadata": {},
   "source": [
    "# Wait. Does this really work?"
   ]
  },
  {
   "cell_type": "code",
   "execution_count": null,
   "metadata": {
    "collapsed": false
   },
   "outputs": [],
   "source": [
    "import matplotlib.pyplot as plt\n",
    "%matplotlib inline\n",
    "\n",
    "m = np.zeros((size, size),dtype=np.int32) \n",
    "mandelbrot_cython(m, size, iterations)\n",
    "plt.imshow(np.log(m), cmap=plt.cm.hot)\n",
    "plt.xticks([]); plt.yticks([])"
   ]
  },
  {
   "cell_type": "markdown",
   "metadata": {},
   "source": [
    "All we have done is speci ed the type of the local variables and function arguments and bypassed NumPy's np.abs() function when computing the absolute value of z. These changes have helped Cython to generate more optimized C code from Python code."
   ]
  },
  {
   "cell_type": "markdown",
   "metadata": {},
   "source": [
    "# How it works"
   ]
  },
  {
   "cell_type": "markdown",
   "metadata": {},
   "source": [
    "The cdef keyword declares a variable as a statically-typed C variable. C variables lead to faster code execution because the overhead from Python's dynamic typing is mitigated. Function arguments can also be declared as statically-typed C variables.\n",
    "In general, variables used inside tight loops should be declared with cdef. To ensure that our code is well-optimized, we can use annotations. We just add the -a  ag after the %%cython magic and the non-optimized lines will be shown in a gradient of yellow (white lines are faster, yellow lines are slower). This is shown in the following screenshot. The color depends on the relative number of Python API calls at each line."
   ]
  },
  {
   "cell_type": "markdown",
   "metadata": {},
   "source": [
    "There are two ways of declaring NumPy arrays as C variables with Cython: using array buffers or using typed memory views. In this recipe, we used typed memory views. We will cover array buffers in the next recipe.\n",
    "Typed memory views allow ef cient access to data buffers with a NumPy-like indexing syntax. For example, we can use int[:,::1] to declare a C-ordered 2D NumPy array with integer values, with ::1 meaning a contiguous layout in this dimension. Typed memory views can be indexed just like NumPy arrays.\n",
    "However, memory views do not implement element-wise operations like NumPy. Thus, memory views act as convenient data containers within tight for loops. For element-wise NumPy-like operations, array buffers should be used instead."
   ]
  },
  {
   "cell_type": "markdown",
   "metadata": {},
   "source": [
    "\n",
    "We could achieve a signi cant performance speedup by replacing the call to np.abs with a faster expression. The reason is that np.abs is a NumPy function with a slight call overhead. It is designed to work with relatively large arrays, not scalar values. This overhead results in a signi cant performance hit in a tight loop such as here. This bottleneck can be spotted with Cython annotations."
   ]
  },
  {
   "cell_type": "markdown",
   "metadata": {},
   "source": [
    "Using Cython from IPython is very convenient with the %%cython cell magic. However, it is sometimes necessary to create a reusable C extension module with Cython. This is actually what IPython's %%cython cell magic does under the hood."
   ]
  },
  {
   "cell_type": "markdown",
   "metadata": {},
   "source": [
    "# Step by step"
   ]
  },
  {
   "cell_type": "markdown",
   "metadata": {},
   "source": [
    "## Step 1\n",
    "\n",
    "Write a standalone Cython script in a `.pyx` file. \n",
    "\n",
    "This should correspond exactly to the entire contents of a %%cython cell magic.\n"
   ]
  },
  {
   "cell_type": "code",
   "execution_count": null,
   "metadata": {
    "collapsed": false
   },
   "outputs": [],
   "source": [
    "%%writefile fib.pyx\n",
    "def fcfib(int n):\n",
    "    cdef int i, a, b\n",
    "    a,b = 1,1\n",
    "    for i in range(n):\n",
    "        a, b = a+b, a\n",
    "    return a"
   ]
  },
  {
   "cell_type": "markdown",
   "metadata": {},
   "source": [
    "## Step 2\n",
    "\n",
    "Create a setup.py file that we will use to compile the Cython module.\n"
   ]
  },
  {
   "cell_type": "code",
   "execution_count": null,
   "metadata": {
    "collapsed": false
   },
   "outputs": [],
   "source": [
    "%%writefile setup.py\n",
    "from distutils.core import setup\n",
    "from distutils.extension import Extension\n",
    "from Cython.Distutils import build_ext\n",
    "    \n",
    "setup(cmdclass = {'build_ext': build_ext},\n",
    "      ext_modules = [Extension(\"cython_fibonacci\", [\"fib.pyx\"])])"
   ]
  },
  {
   "cell_type": "markdown",
   "metadata": {},
   "source": [
    "## Step 3\n",
    "\n",
    "Execute this setup script with Python:"
   ]
  },
  {
   "cell_type": "code",
   "execution_count": null,
   "metadata": {
    "collapsed": false
   },
   "outputs": [],
   "source": [
    "! python setup.py build_ext --inplace"
   ]
  },
  {
   "cell_type": "markdown",
   "metadata": {},
   "source": [
    "Two files have been created during the build process: \n",
    "\n",
    "1. the C source file \n",
    "2. and a compiled Python extension. \n",
    "\n",
    "The  le extension is .pyd on Windows (DLL files) and .so on UNIX"
   ]
  },
  {
   "cell_type": "code",
   "execution_count": null,
   "metadata": {
    "collapsed": false
   },
   "outputs": [],
   "source": [
    "! ls *.so"
   ]
  },
  {
   "cell_type": "markdown",
   "metadata": {},
   "source": [
    "## Step 4\n",
    "\n",
    "Finally, we can load the compiled module as usual (using from mandelbrot import mandelbrot)."
   ]
  },
  {
   "cell_type": "code",
   "execution_count": null,
   "metadata": {
    "collapsed": false
   },
   "outputs": [],
   "source": [
    "from cython_fibonacci import fcfib"
   ]
  },
  {
   "cell_type": "markdown",
   "metadata": {},
   "source": [
    "We can use the optimized function"
   ]
  },
  {
   "cell_type": "code",
   "execution_count": null,
   "metadata": {
    "collapsed": false
   },
   "outputs": [],
   "source": [
    "fcfib(10)"
   ]
  },
  {
   "cell_type": "code",
   "execution_count": null,
   "metadata": {
    "collapsed": false
   },
   "outputs": [],
   "source": [
    "fcfib"
   ]
  },
  {
   "cell_type": "markdown",
   "metadata": {},
   "source": [
    "\n",
    "With this technique, Cython code can also be integrated within a Python package. \n",
    "\n",
    "Here are a few references:\n",
    "\n",
    "* Distributing Cython modules\n",
    "       explained at http://docs.cython.org/src/userguide/source_files_and_compilation.html\n",
    "* Compilation with Cython\n",
    "       explained at http://docs.cython.org/src/reference/compilation.html"
   ]
  },
  {
   "cell_type": "markdown",
   "metadata": {},
   "source": [
    "# Interactive plots?\n",
    "\n",
    "http://bokeh.pydata.org/en/0.10.0/docs/gallery.html"
   ]
  },
  {
   "cell_type": "code",
   "execution_count": null,
   "metadata": {
    "collapsed": true
   },
   "outputs": [],
   "source": [
    "# Preparation\n",
    "import pandas as pd\n",
    "from bokeh.plotting import figure, show, output_notebook\n",
    "from collections import OrderedDict"
   ]
  },
  {
   "cell_type": "code",
   "execution_count": null,
   "metadata": {
    "collapsed": true
   },
   "outputs": [],
   "source": [
    "from bokeh.sampledata.iris import flowers\n",
    "\n",
    "colormap = {'setosa': 'red', 'versicolor': 'green', 'virginica': 'blue'}\n",
    "flowers['color'] = flowers['species'].map(lambda x: colormap[x])\n",
    "\n",
    "p = figure(title = \"Iris Morphology\")\n",
    "p.xaxis.axis_label = 'Petal Length'\n",
    "p.yaxis.axis_label = 'Petal Width'\n",
    "\n",
    "p.circle(flowers[\"petal_length\"], flowers[\"petal_width\"], color=flowers[\"color\"], fill_alpha=0.2, size=10)\n",
    "output_notebook()\n",
    "show(p)"
   ]
  },
  {
   "cell_type": "code",
   "execution_count": null,
   "metadata": {
    "collapsed": false
   },
   "outputs": [],
   "source": [
    "from bokeh._legacy_charts import Donut, show, output_file\n",
    "from bokeh.sampledata.olympics2014 import data\n",
    "\n",
    "# throw the data into a pandas data frame\n",
    "df = pd.io.json.json_normalize(data['data'])\n",
    "\n",
    "# filter by countries with at least one medal and sort\n",
    "df = df[df['medals.total'] > 8]\n",
    "df = df.sort(\"medals.total\", ascending=False)\n",
    "\n",
    "# get the countries and we group the data by medal type\n",
    "countries = df.abbr.values.tolist()\n",
    "gold = df['medals.gold'].astype(float).values\n",
    "silver = df['medals.silver'].astype(float).values\n",
    "bronze = df['medals.bronze'].astype(float).values\n",
    "\n",
    "# build a dict containing the grouped data\n",
    "medals = OrderedDict()\n",
    "medals['bronze'] = bronze\n",
    "medals['silver'] = silver\n",
    "medals['gold'] = gold\n",
    "medals = pd.DataFrame(medals)\n",
    "\n",
    "donut = Donut(medals, countries)\n",
    "output_notebook()\n",
    "show(donut)"
   ]
  },
  {
   "cell_type": "markdown",
   "metadata": {},
   "source": [
    "# Parallel"
   ]
  },
  {
   "cell_type": "code",
   "execution_count": null,
   "metadata": {
    "collapsed": false,
    "scrolled": true
   },
   "outputs": [],
   "source": [
    "! conda install -y ipyparallel"
   ]
  },
  {
   "cell_type": "markdown",
   "metadata": {},
   "source": [
    "Now: open a terminal a create a cluster.\n",
    "\n",
    "```bash\n",
    "$ ipcluster start -n 4\n",
    "```"
   ]
  },
  {
   "cell_type": "markdown",
   "metadata": {},
   "source": [
    "The first step is to import the IPython ipyparallel module and then create a Client instance"
   ]
  },
  {
   "cell_type": "code",
   "execution_count": 2,
   "metadata": {
    "collapsed": false
   },
   "outputs": [
    {
     "data": {
      "text/plain": [
       "<ipyparallel.client.client.Client at 0x7fab2ca3dc88>"
      ]
     },
     "execution_count": 2,
     "metadata": {},
     "output_type": "execute_result"
    }
   ],
   "source": [
    "import ipyparallel as ipp\n",
    "rc = ipp.Client()\n",
    "rc"
   ]
  },
  {
   "cell_type": "code",
   "execution_count": 3,
   "metadata": {
    "collapsed": false
   },
   "outputs": [
    {
     "data": {
      "text/plain": [
       "[0, 1, 2, 3]"
      ]
     },
     "execution_count": 3,
     "metadata": {},
     "output_type": "execute_result"
    }
   ],
   "source": [
    "rc.ids"
   ]
  },
  {
   "cell_type": "code",
   "execution_count": 4,
   "metadata": {
    "collapsed": false
   },
   "outputs": [
    {
     "data": {
      "text/plain": [
       "{0: 486, 1: 487, 2: 488, 3: 489}"
      ]
     },
     "execution_count": 4,
     "metadata": {},
     "output_type": "execute_result"
    }
   ],
   "source": [
    "import os\n",
    "ar = rc[:].apply_async(os.getpid)\n",
    "pid_map = ar.get_dict()\n",
    "pid_map"
   ]
  },
  {
   "cell_type": "code",
   "execution_count": 5,
   "metadata": {
    "collapsed": true
   },
   "outputs": [],
   "source": [
    "dview = rc[:]"
   ]
  },
  {
   "cell_type": "markdown",
   "metadata": {},
   "source": [
    "Blocking execution"
   ]
  },
  {
   "cell_type": "code",
   "execution_count": null,
   "metadata": {
    "collapsed": true
   },
   "outputs": [],
   "source": [
    "In [2]: dview = rc[:] # A DirectView of all engines\n",
    "In [3]: dview.block=True\n",
    "In [4]: dview['a'] = 5\n",
    "\n",
    "In [5]: dview['b'] = 10\n",
    "\n",
    "In [6]: dview.apply(lambda x: a+b+x, 27)\n",
    "Out[6]: [42, 42, 42, 42]"
   ]
  },
  {
   "cell_type": "markdown",
   "metadata": {},
   "source": [
    "Magic"
   ]
  },
  {
   "cell_type": "code",
   "execution_count": 6,
   "metadata": {
    "collapsed": false
   },
   "outputs": [
    {
     "name": "stdout",
     "output_type": "stream",
     "text": [
      "[stdout:0] hi\n",
      "[stdout:1] hi\n",
      "[stdout:2] hi\n",
      "[stdout:3] hi\n"
     ]
    }
   ],
   "source": [
    "%px print('hi')"
   ]
  },
  {
   "cell_type": "code",
   "execution_count": 7,
   "metadata": {
    "collapsed": false
   },
   "outputs": [
    {
     "ename": "CompositeError",
     "evalue": "one or more exceptions from call to method: execute\n[0:execute]: SyntaxError: unexpected EOF while parsing (<ipython-input-2-a77ac1d8bdf6>, line 1)\n[1:execute]: SyntaxError: unexpected EOF while parsing (<ipython-input-2-a77ac1d8bdf6>, line 1)\n[2:execute]: SyntaxError: unexpected EOF while parsing (<ipython-input-2-a77ac1d8bdf6>, line 1)\n[3:execute]: SyntaxError: unexpected EOF while parsing (<ipython-input-2-a77ac1d8bdf6>, line 1)",
     "output_type": "error",
     "traceback": [
      "[0:execute]: ",
      "\u001b[1;36m  File \u001b[1;32m\"<ipython-input-2-a77ac1d8bdf6>\"\u001b[1;36m, line \u001b[1;32m1\u001b[0m",
      "\u001b[1;33m    print('hi'\u001b[0m",
      "\u001b[1;37m              ^\u001b[0m",
      "\u001b[1;31mSyntaxError\u001b[0m\u001b[1;31m:\u001b[0m unexpected EOF while parsing",
      "",
      "[1:execute]: ",
      "\u001b[1;36m  File \u001b[1;32m\"<ipython-input-2-a77ac1d8bdf6>\"\u001b[1;36m, line \u001b[1;32m1\u001b[0m",
      "\u001b[1;33m    print('hi'\u001b[0m",
      "\u001b[1;37m              ^\u001b[0m",
      "\u001b[1;31mSyntaxError\u001b[0m\u001b[1;31m:\u001b[0m unexpected EOF while parsing",
      "",
      "[2:execute]: ",
      "\u001b[1;36m  File \u001b[1;32m\"<ipython-input-2-a77ac1d8bdf6>\"\u001b[1;36m, line \u001b[1;32m1\u001b[0m",
      "\u001b[1;33m    print('hi'\u001b[0m",
      "\u001b[1;37m              ^\u001b[0m",
      "\u001b[1;31mSyntaxError\u001b[0m\u001b[1;31m:\u001b[0m unexpected EOF while parsing",
      "",
      "[3:execute]: ",
      "\u001b[1;36m  File \u001b[1;32m\"<ipython-input-2-a77ac1d8bdf6>\"\u001b[1;36m, line \u001b[1;32m1\u001b[0m",
      "\u001b[1;33m    print('hi'\u001b[0m",
      "\u001b[1;37m              ^\u001b[0m",
      "\u001b[1;31mSyntaxError\u001b[0m\u001b[1;31m:\u001b[0m unexpected EOF while parsing",
      ""
     ]
    }
   ],
   "source": [
    "# OOPS\n",
    "%px print('hi'"
   ]
  },
  {
   "cell_type": "code",
   "execution_count": 8,
   "metadata": {
    "collapsed": false
   },
   "outputs": [
    {
     "ename": "CompositeError",
     "evalue": "one or more exceptions from call to method: execute\n[0:execute]: NameError: name 'numpy' is not defined\n[1:execute]: NameError: name 'numpy' is not defined\n[2:execute]: NameError: name 'numpy' is not defined\n[3:execute]: NameError: name 'numpy' is not defined",
     "output_type": "error",
     "traceback": [
      "[0:execute]: ",
      "\u001b[1;31m---------------------------------------------------------------------------\u001b[0m\u001b[1;31mNameError\u001b[0m                                 Traceback (most recent call last)\u001b[1;32m<ipython-input-3-7dc56fe79fbb>\u001b[0m in \u001b[0;36m<module>\u001b[1;34m()\u001b[0m",
      "\u001b[1;32m----> 1\u001b[1;33m \u001b[0mnumpy\u001b[0m\u001b[1;33m.\u001b[0m\u001b[0mrandom\u001b[0m\u001b[1;33m.\u001b[0m\u001b[0mrand\u001b[0m\u001b[1;33m(\u001b[0m\u001b[1;36m1\u001b[0m\u001b[1;33m)\u001b[0m\u001b[1;33m\u001b[0m\u001b[0m",
      "\u001b[0m\u001b[1;31mNameError\u001b[0m: name 'numpy' is not defined",
      "",
      "[1:execute]: ",
      "\u001b[1;31m---------------------------------------------------------------------------\u001b[0m\u001b[1;31mNameError\u001b[0m                                 Traceback (most recent call last)\u001b[1;32m<ipython-input-3-7dc56fe79fbb>\u001b[0m in \u001b[0;36m<module>\u001b[1;34m()\u001b[0m",
      "\u001b[1;32m----> 1\u001b[1;33m \u001b[0mnumpy\u001b[0m\u001b[1;33m.\u001b[0m\u001b[0mrandom\u001b[0m\u001b[1;33m.\u001b[0m\u001b[0mrand\u001b[0m\u001b[1;33m(\u001b[0m\u001b[1;36m1\u001b[0m\u001b[1;33m)\u001b[0m\u001b[1;33m\u001b[0m\u001b[0m",
      "\u001b[0m\u001b[1;31mNameError\u001b[0m: name 'numpy' is not defined",
      "",
      "[2:execute]: ",
      "\u001b[1;31m---------------------------------------------------------------------------\u001b[0m\u001b[1;31mNameError\u001b[0m                                 Traceback (most recent call last)\u001b[1;32m<ipython-input-3-7dc56fe79fbb>\u001b[0m in \u001b[0;36m<module>\u001b[1;34m()\u001b[0m",
      "\u001b[1;32m----> 1\u001b[1;33m \u001b[0mnumpy\u001b[0m\u001b[1;33m.\u001b[0m\u001b[0mrandom\u001b[0m\u001b[1;33m.\u001b[0m\u001b[0mrand\u001b[0m\u001b[1;33m(\u001b[0m\u001b[1;36m1\u001b[0m\u001b[1;33m)\u001b[0m\u001b[1;33m\u001b[0m\u001b[0m",
      "\u001b[0m\u001b[1;31mNameError\u001b[0m: name 'numpy' is not defined",
      "",
      "[3:execute]: ",
      "\u001b[1;31m---------------------------------------------------------------------------\u001b[0m\u001b[1;31mNameError\u001b[0m                                 Traceback (most recent call last)\u001b[1;32m<ipython-input-3-7dc56fe79fbb>\u001b[0m in \u001b[0;36m<module>\u001b[1;34m()\u001b[0m",
      "\u001b[1;32m----> 1\u001b[1;33m \u001b[0mnumpy\u001b[0m\u001b[1;33m.\u001b[0m\u001b[0mrandom\u001b[0m\u001b[1;33m.\u001b[0m\u001b[0mrand\u001b[0m\u001b[1;33m(\u001b[0m\u001b[1;36m1\u001b[0m\u001b[1;33m)\u001b[0m\u001b[1;33m\u001b[0m\u001b[0m",
      "\u001b[0m\u001b[1;31mNameError\u001b[0m: name 'numpy' is not defined",
      ""
     ]
    }
   ],
   "source": [
    "import numpy\n",
    "%px numpy.random.rand(1)"
   ]
  },
  {
   "cell_type": "code",
   "execution_count": 9,
   "metadata": {
    "collapsed": false
   },
   "outputs": [
    {
     "name": "stdout",
     "output_type": "stream",
     "text": [
      "importing numpy on engine(s)\n"
     ]
    }
   ],
   "source": [
    "with rc[:].sync_imports():\n",
    "    import numpy"
   ]
  },
  {
   "cell_type": "code",
   "execution_count": 10,
   "metadata": {
    "collapsed": false
   },
   "outputs": [
    {
     "data": {
      "text/plain": [
       "\u001b[0;31mOut[0:4]: \u001b[0marray([ 0.43836421,  0.96818569])"
      ]
     },
     "metadata": {},
     "output_type": "display_data"
    },
    {
     "data": {
      "text/plain": [
       "\u001b[0;31mOut[1:4]: \u001b[0marray([ 0.17273788,  0.33252851])"
      ]
     },
     "metadata": {},
     "output_type": "display_data"
    },
    {
     "data": {
      "text/plain": [
       "\u001b[0;31mOut[2:4]: \u001b[0marray([ 0.10277511,  0.46678834])"
      ]
     },
     "metadata": {},
     "output_type": "display_data"
    },
    {
     "data": {
      "text/plain": [
       "\u001b[0;31mOut[3:4]: \u001b[0marray([ 1.10829684, -0.25781599])"
      ]
     },
     "metadata": {},
     "output_type": "display_data"
    }
   ],
   "source": [
    "%%px \n",
    "a = numpy.random.rand(2,2)\n",
    "numpy.linalg.eigvals(a)"
   ]
  },
  {
   "cell_type": "code",
   "execution_count": 12,
   "metadata": {
    "collapsed": false
   },
   "outputs": [
    {
     "name": "stdout",
     "output_type": "stream",
     "text": [
      "I am number 1\n"
     ]
    }
   ],
   "source": [
    "%%px --targets 1\n",
    "print(\"I am number 1\")"
   ]
  },
  {
   "cell_type": "markdown",
   "metadata": {},
   "source": [
    "Non-blocking execution: asyncronous"
   ]
  },
  {
   "cell_type": "code",
   "execution_count": 27,
   "metadata": {
    "collapsed": false
   },
   "outputs": [
    {
     "data": {
      "text/plain": [
       "<AsyncResult: execute>"
      ]
     },
     "execution_count": 27,
     "metadata": {},
     "output_type": "execute_result"
    }
   ],
   "source": [
    "%%px --noblock\n",
    "import time\n",
    "import random\n",
    "pause = random.randint(1,5)\n",
    "time.sleep(pause)\n",
    "now = time.strftime(\"%Y-%m-%d %H:%M:%S\", time.gmtime(time.time()))\n",
    "print(\"[%s] Completed after %s seconds \" % (now,pause) )"
   ]
  },
  {
   "cell_type": "code",
   "execution_count": 28,
   "metadata": {
    "collapsed": false
   },
   "outputs": [
    {
     "name": "stdout",
     "output_type": "stream",
     "text": [
      "[stdout:0] [2015-12-02 22:26:41] Completed after 4 seconds \n",
      "[stdout:1] [2015-12-02 22:26:38] Completed after 1 seconds \n",
      "[stdout:2] [2015-12-02 22:26:40] Completed after 3 seconds \n",
      "[stdout:3] [2015-12-02 22:26:39] Completed after 2 seconds \n"
     ]
    }
   ],
   "source": [
    "%pxresult"
   ]
  },
  {
   "cell_type": "code",
   "execution_count": 34,
   "metadata": {
    "collapsed": false
   },
   "outputs": [
    {
     "name": "stdout",
     "output_type": "stream",
     "text": [
      "[stdout:0] I am even\n",
      "[stdout:2] I am even\n"
     ]
    }
   ],
   "source": [
    "%%px --targets ::2\n",
    "print(\"I am even\")"
   ]
  },
  {
   "cell_type": "code",
   "execution_count": 36,
   "metadata": {
    "collapsed": false
   },
   "outputs": [
    {
     "name": "stdout",
     "output_type": "stream",
     "text": [
      "[stdout:1] In the middle\n",
      "[stdout:2] In the middle\n"
     ]
    }
   ],
   "source": [
    "%%px --targets 1:3\n",
    "print(\"In the middle\")"
   ]
  },
  {
   "cell_type": "markdown",
   "metadata": {},
   "source": [
    "* Dependencies\n",
    "* controller and engine are separated\n",
    "    - they can run on different hosts\n",
    "* Integrates with MPI\n",
    "* PBS mode\n",
    "* Load balancer\n",
    "* Scheduler\n",
    "* Retries"
   ]
  },
  {
   "cell_type": "markdown",
   "metadata": {},
   "source": [
    "```ipython\n",
    "# for a visible LAN controller listening on an external port:\n",
    "rc = Client('tcp://192.168.1.16:10101')\n",
    "# or to connect with a specific profile you have set up:\n",
    "rc = Client(profile='mpi')\n",
    "```"
   ]
  },
  {
   "cell_type": "markdown",
   "metadata": {},
   "source": [
    "https://ipyparallel.readthedocs.org/en/latest/index.html"
   ]
  }
 ],
 "metadata": {
  "celltoolbar": "Slideshow",
  "kernelspec": {
   "display_name": "Python 3",
   "language": "python",
   "name": "python3"
  },
  "language_info": {
   "codemirror_mode": {
    "name": "ipython",
    "version": 3
   },
   "file_extension": ".py",
   "mimetype": "text/x-python",
   "name": "python",
   "nbconvert_exporter": "python",
   "pygments_lexer": "ipython3",
   "version": "3.5.0"
  }
 },
 "nbformat": 4,
 "nbformat_minor": 0
}
