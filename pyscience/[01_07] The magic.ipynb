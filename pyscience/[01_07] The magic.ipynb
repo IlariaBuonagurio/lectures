{
 "cells": [
  {
   "cell_type": "markdown",
   "metadata": {
    "slideshow": {
     "slide_type": "slide"
    }
   },
   "source": [
    "# Hahahaha, It's *magic*!\n",
    "(cit: [Queen: It's a kind of magic](https://www.youtube.com/watch?v=0p_1QSUsbsM))"
   ]
  },
  {
   "cell_type": "markdown",
   "metadata": {
    "slideshow": {
     "slide_type": "subslide"
    }
   },
   "source": [
    "<img src='http://ecx.images-amazon.com/images/I/81Z%2BqXVVWQL.png' width=600>\n",
    "\n",
    "The ol'good game: **Simon the sorcerer**."
   ]
  },
  {
   "cell_type": "markdown",
   "metadata": {
    "slideshow": {
     "slide_type": "slide"
    }
   },
   "source": [
    "## Ipython magic\n",
    "\n",
    "Commands that start with **'`%`'**"
   ]
  },
  {
   "cell_type": "code",
   "execution_count": 32,
   "metadata": {
    "collapsed": false,
    "slideshow": {
     "slide_type": "subslide"
    }
   },
   "outputs": [
    {
     "data": {
      "text/plain": [
       "['[MapReduce] 00 - Introduction.ipynb',\n",
       " '[MapReduce] 01 - Notebooks.ipynb',\n",
       " '[MapReduce] 02 - Extending.ipynb',\n",
       " '[MapReduce] 03 - Hadoop.ipynb',\n",
       " '[MapReduce] 04 - MrJob.ipynb',\n",
       " '[MapReduce] 05 - A real use case.ipynb']"
      ]
     },
     "execution_count": 32,
     "metadata": {},
     "output_type": "execute_result"
    }
   ],
   "source": [
    "%system ls *MapReduce*"
   ]
  },
  {
   "cell_type": "code",
   "execution_count": 33,
   "metadata": {
    "collapsed": false,
    "slideshow": {
     "slide_type": "fragment"
    }
   },
   "outputs": [
    {
     "data": {
      "text/plain": [
       "'[MapReduce] 02 - Extending.ipynb'"
      ]
     },
     "execution_count": 33,
     "metadata": {},
     "output_type": "execute_result"
    }
   ],
   "source": [
    "out = _\n",
    "out[2]"
   ]
  },
  {
   "cell_type": "markdown",
   "metadata": {},
   "source": [
    "Note: i could have used directly `_[2]`"
   ]
  },
  {
   "cell_type": "markdown",
   "metadata": {
    "slideshow": {
     "slide_type": "subslide"
    }
   },
   "source": [
    "There are many magics ready from the start"
   ]
  },
  {
   "cell_type": "code",
   "execution_count": 6,
   "metadata": {
    "collapsed": false,
    "slideshow": {
     "slide_type": "fragment"
    }
   },
   "outputs": [
    {
     "data": {
      "application/json": {
       "cell": {
        "!": "OSMagics",
        "HTML": "Other",
        "SVG": "Other",
        "bash": "Other",
        "capture": "ExecutionMagics",
        "debug": "ExecutionMagics",
        "file": "Other",
        "html": "DisplayMagics",
        "javascript": "DisplayMagics",
        "latex": "DisplayMagics",
        "perl": "Other",
        "prun": "ExecutionMagics",
        "pypy": "Other",
        "python": "Other",
        "python2": "Other",
        "python3": "Other",
        "ruby": "Other",
        "script": "ScriptMagics",
        "sh": "Other",
        "svg": "DisplayMagics",
        "sx": "OSMagics",
        "system": "OSMagics",
        "time": "ExecutionMagics",
        "timeit": "ExecutionMagics",
        "writefile": "OSMagics"
       },
       "line": {
        "alias": "OSMagics",
        "alias_magic": "BasicMagics",
        "autocall": "AutoMagics",
        "automagic": "AutoMagics",
        "autosave": "KernelMagics",
        "bookmark": "OSMagics",
        "cat": "Other",
        "cd": "OSMagics",
        "clear": "KernelMagics",
        "colors": "BasicMagics",
        "config": "ConfigMagics",
        "connect_info": "KernelMagics",
        "cp": "Other",
        "debug": "ExecutionMagics",
        "dhist": "OSMagics",
        "dirs": "OSMagics",
        "doctest_mode": "BasicMagics",
        "ed": "Other",
        "edit": "KernelMagics",
        "env": "OSMagics",
        "gui": "BasicMagics",
        "hist": "Other",
        "history": "HistoryMagics",
        "install_default_config": "DeprecatedMagics",
        "install_ext": "ExtensionMagics",
        "install_profiles": "DeprecatedMagics",
        "killbgscripts": "ScriptMagics",
        "ldir": "Other",
        "less": "KernelMagics",
        "lf": "Other",
        "lk": "Other",
        "ll": "Other",
        "load": "CodeMagics",
        "load_ext": "ExtensionMagics",
        "loadpy": "CodeMagics",
        "logoff": "LoggingMagics",
        "logon": "LoggingMagics",
        "logstart": "LoggingMagics",
        "logstate": "LoggingMagics",
        "logstop": "LoggingMagics",
        "ls": "Other",
        "lsmagic": "BasicMagics",
        "lx": "Other",
        "macro": "ExecutionMagics",
        "magic": "BasicMagics",
        "man": "KernelMagics",
        "matplotlib": "PylabMagics",
        "mkdir": "Other",
        "more": "KernelMagics",
        "mv": "Other",
        "notebook": "BasicMagics",
        "page": "BasicMagics",
        "pastebin": "CodeMagics",
        "pdb": "ExecutionMagics",
        "pdef": "NamespaceMagics",
        "pdoc": "NamespaceMagics",
        "pfile": "NamespaceMagics",
        "pinfo": "NamespaceMagics",
        "pinfo2": "NamespaceMagics",
        "popd": "OSMagics",
        "pprint": "BasicMagics",
        "precision": "BasicMagics",
        "profile": "BasicMagics",
        "prun": "ExecutionMagics",
        "psearch": "NamespaceMagics",
        "psource": "NamespaceMagics",
        "pushd": "OSMagics",
        "pwd": "OSMagics",
        "pycat": "OSMagics",
        "pylab": "PylabMagics",
        "qtconsole": "KernelMagics",
        "quickref": "BasicMagics",
        "recall": "HistoryMagics",
        "rehashx": "OSMagics",
        "reload_ext": "ExtensionMagics",
        "rep": "Other",
        "rerun": "HistoryMagics",
        "reset": "NamespaceMagics",
        "reset_selective": "NamespaceMagics",
        "rm": "Other",
        "rmdir": "Other",
        "run": "ExecutionMagics",
        "save": "CodeMagics",
        "sc": "OSMagics",
        "set_env": "OSMagics",
        "store": "StoreMagics",
        "sx": "OSMagics",
        "system": "OSMagics",
        "tb": "ExecutionMagics",
        "time": "ExecutionMagics",
        "timeit": "ExecutionMagics",
        "unalias": "OSMagics",
        "unload_ext": "ExtensionMagics",
        "who": "NamespaceMagics",
        "who_ls": "NamespaceMagics",
        "whos": "NamespaceMagics",
        "xdel": "NamespaceMagics",
        "xmode": "BasicMagics"
       }
      },
      "text/plain": [
       "Available line magics:\n",
       "%alias  %alias_magic  %autocall  %automagic  %autosave  %bookmark  %cat  %cd  %clear  %colors  %config  %connect_info  %cp  %debug  %dhist  %dirs  %doctest_mode  %ed  %edit  %env  %gui  %hist  %history  %install_default_config  %install_ext  %install_profiles  %killbgscripts  %ldir  %less  %lf  %lk  %ll  %load  %load_ext  %loadpy  %logoff  %logon  %logstart  %logstate  %logstop  %ls  %lsmagic  %lx  %macro  %magic  %man  %matplotlib  %mkdir  %more  %mv  %notebook  %page  %pastebin  %pdb  %pdef  %pdoc  %pfile  %pinfo  %pinfo2  %popd  %pprint  %precision  %profile  %prun  %psearch  %psource  %pushd  %pwd  %pycat  %pylab  %qtconsole  %quickref  %recall  %rehashx  %reload_ext  %rep  %rerun  %reset  %reset_selective  %rm  %rmdir  %run  %save  %sc  %set_env  %store  %sx  %system  %tb  %time  %timeit  %unalias  %unload_ext  %who  %who_ls  %whos  %xdel  %xmode\n",
       "\n",
       "Available cell magics:\n",
       "%%!  %%HTML  %%SVG  %%bash  %%capture  %%debug  %%file  %%html  %%javascript  %%latex  %%perl  %%prun  %%pypy  %%python  %%python2  %%python3  %%ruby  %%script  %%sh  %%svg  %%sx  %%system  %%time  %%timeit  %%writefile\n",
       "\n",
       "Automagic is ON, % prefix IS NOT needed for line magics."
      ]
     },
     "execution_count": 6,
     "metadata": {},
     "output_type": "execute_result"
    }
   ],
   "source": [
    "%lsmagic"
   ]
  },
  {
   "cell_type": "code",
   "execution_count": null,
   "metadata": {
    "collapsed": true,
    "slideshow": {
     "slide_type": "subslide"
    }
   },
   "outputs": [],
   "source": [
    "# Ask documentation\n",
    "%env?"
   ]
  },
  {
   "cell_type": "code",
   "execution_count": 26,
   "metadata": {
    "collapsed": false,
    "slideshow": {
     "slide_type": "fragment"
    }
   },
   "outputs": [
    {
     "data": {
      "text/plain": [
       "'xterm-color'"
      ]
     },
     "execution_count": 26,
     "metadata": {},
     "output_type": "execute_result"
    }
   ],
   "source": [
    "# Test AUTOmagic\n",
    "env TERM"
   ]
  },
  {
   "cell_type": "code",
   "execution_count": 29,
   "metadata": {
    "collapsed": false,
    "slideshow": {
     "slide_type": "fragment"
    }
   },
   "outputs": [
    {
     "name": "stdout",
     "output_type": "stream",
     "text": [
      "\n",
      "Automagic is OFF, % prefix IS needed for line magics.\n"
     ]
    }
   ],
   "source": [
    "%automagic off"
   ]
  },
  {
   "cell_type": "code",
   "execution_count": 30,
   "metadata": {
    "collapsed": false
   },
   "outputs": [
    {
     "ename": "SyntaxError",
     "evalue": "invalid syntax (<ipython-input-30-a801c845f1e1>, line 1)",
     "output_type": "error",
     "traceback": [
      "\u001b[1;36m  File \u001b[1;32m\"<ipython-input-30-a801c845f1e1>\"\u001b[1;36m, line \u001b[1;32m1\u001b[0m\n\u001b[1;33m    env TERM\u001b[0m\n\u001b[1;37m           ^\u001b[0m\n\u001b[1;31mSyntaxError\u001b[0m\u001b[1;31m:\u001b[0m invalid syntax\n"
     ]
    }
   ],
   "source": [
    "env TERM"
   ]
  },
  {
   "cell_type": "code",
   "execution_count": 28,
   "metadata": {
    "collapsed": true,
    "slideshow": {
     "slide_type": "subslide"
    }
   },
   "outputs": [],
   "source": [
    "# To follow the ipython built-in quickstart on ipython magics:\n",
    "%quickref"
   ]
  },
  {
   "cell_type": "markdown",
   "metadata": {
    "slideshow": {
     "slide_type": "subslide"
    }
   },
   "source": [
    "The power of magic"
   ]
  },
  {
   "cell_type": "code",
   "execution_count": 5,
   "metadata": {
    "collapsed": false,
    "slideshow": {
     "slide_type": "-"
    }
   },
   "outputs": [
    {
     "data": {
      "text/html": [
       "\n",
       "<table>\n",
       "    <tr>\n",
       "        <td> Cell one </td>\n",
       "        <td> Cell <i>two</i> </td>\n",
       "    </tr>\n",
       "    <tr>\n",
       "        <td> Cell <b>three</b> </td>\n",
       "        <td> <a href='www.cineca.it'>link</a> </td>\n",
       "    </tr>\n",
       "</table>"
      ],
      "text/plain": [
       "<IPython.core.display.HTML object>"
      ]
     },
     "metadata": {},
     "output_type": "display_data"
    }
   ],
   "source": [
    "%%HTML\n",
    "\n",
    "<table>\n",
    "    <tr>\n",
    "        <td> Cell one </td>\n",
    "        <td> Cell <i>two</i> </td>\n",
    "    </tr>\n",
    "    <tr>\n",
    "        <td> Cell <b>three</b> </td>\n",
    "        <td> <a href='www.cineca.it'>link</a> </td>\n",
    "    </tr>\n",
    "</table>\n"
   ]
  },
  {
   "cell_type": "markdown",
   "metadata": {
    "slideshow": {
     "slide_type": "slide"
    }
   },
   "source": [
    "Did you notice?\n",
    "    \n",
    "* One % is referring to a **line** magic command:\n",
    "```\n",
    "%cd /opt\n",
    "```\n",
    "*In this case you have to write all the requested options in the same line of the command*\n",
    "\n",
    "\n",
    "* Two % is referring to a **cell** magic command:\n",
    "```\n",
    "%%bash\n",
    "var='test'\n",
    "echo \"$var\"\n",
    "```\n",
    "*Here there might be options on the same line, but the whole cell is captured by the magic*"
   ]
  },
  {
   "cell_type": "code",
   "execution_count": 39,
   "metadata": {
    "collapsed": false,
    "slideshow": {
     "slide_type": "subslide"
    }
   },
   "outputs": [
    {
     "name": "stdout",
     "output_type": "stream",
     "text": [
      "System out: ['test']\n"
     ]
    }
   ],
   "source": [
    "# Line magic does not bother the rest of the cell\n",
    "out = %system echo 'test'\n",
    "print(\"System out:\", out)"
   ]
  },
  {
   "cell_type": "code",
   "execution_count": 40,
   "metadata": {
    "collapsed": false,
    "slideshow": {
     "slide_type": "fragment"
    }
   },
   "outputs": [
    {
     "ename": "SyntaxError",
     "evalue": "invalid syntax (<ipython-input-40-1925a597e3a5>, line 2)",
     "output_type": "error",
     "traceback": [
      "\u001b[1;36m  File \u001b[1;32m\"<ipython-input-40-1925a597e3a5>\"\u001b[1;36m, line \u001b[1;32m2\u001b[0m\n\u001b[1;33m    %%bash\u001b[0m\n\u001b[1;37m    ^\u001b[0m\n\u001b[1;31mSyntaxError\u001b[0m\u001b[1;31m:\u001b[0m invalid syntax\n"
     ]
    }
   ],
   "source": [
    "# Cell magic cannot contain another command inside\n",
    "print(\"test\")\n",
    "%%bash\n",
    "ls"
   ]
  },
  {
   "cell_type": "markdown",
   "metadata": {
    "slideshow": {
     "slide_type": "slide"
    }
   },
   "source": [
    "## Exercise\n",
    "\n",
    "Choose one **line** magic command from the list and try to use it."
   ]
  },
  {
   "cell_type": "markdown",
   "metadata": {
    "slideshow": {
     "slide_type": "slide"
    }
   },
   "source": [
    "## File management"
   ]
  },
  {
   "cell_type": "markdown",
   "metadata": {
    "slideshow": {
     "slide_type": "subslide"
    }
   },
   "source": [
    "Playing with directories and files"
   ]
  },
  {
   "cell_type": "code",
   "execution_count": 62,
   "metadata": {
    "collapsed": false
   },
   "outputs": [
    {
     "data": {
      "text/plain": [
       "'/data/tmp/lorem.txt'"
      ]
     },
     "execution_count": 62,
     "metadata": {},
     "output_type": "execute_result"
    }
   ],
   "source": [
    "import os\n",
    "current_dir = %system pwd\n",
    "mydir = 'tmp'\n",
    "myfile = 'lorem.txt'\n",
    "os.path.join(current_dir[0], mydir, myfile)"
   ]
  },
  {
   "cell_type": "markdown",
   "metadata": {
    "slideshow": {
     "slide_type": "subslide"
    }
   },
   "source": [
    "Save last output"
   ]
  },
  {
   "cell_type": "code",
   "execution_count": 67,
   "metadata": {
    "collapsed": false
   },
   "outputs": [
    {
     "data": {
      "text/plain": [
       "'/data/tmp/lorem.txt'"
      ]
     },
     "execution_count": 67,
     "metadata": {},
     "output_type": "execute_result"
    }
   ],
   "source": [
    "filename=_\n",
    "filename"
   ]
  },
  {
   "cell_type": "code",
   "execution_count": 68,
   "metadata": {
    "collapsed": true,
    "slideshow": {
     "slide_type": "subslide"
    }
   },
   "outputs": [],
   "source": [
    "# Create directory if not exists\n",
    "%mkdir -p $mydir\n",
    "# Write a file with magic:"
   ]
  },
  {
   "cell_type": "code",
   "execution_count": 69,
   "metadata": {
    "collapsed": false,
    "slideshow": {
     "slide_type": "fragment"
    }
   },
   "outputs": [
    {
     "name": "stdout",
     "output_type": "stream",
     "text": [
      "Overwriting /data/tmp/lorem.txt\n"
     ]
    }
   ],
   "source": [
    "%%writefile $filename\n",
    "Lorem ipsum dolor sit amet, consectetur adipisicing elit, sed do eiusmod\n",
    "tempor incididunt ut labore et dolore magna aliqua. Ut enim ad minim veniam,\n",
    "quis nostrud exercitation ullamco laboris nisi ut aliquip ex ea commodo\n",
    "consequat. Duis aute irure dolor in reprehenderit in voluptate velit esse\n",
    "cillum dolore eu fugiat nulla pariatur. Excepteur sint occaecat cupidatat non\n",
    "proident, sunt in culpa qui officia deserunt mollit anim id est laborum."
   ]
  },
  {
   "cell_type": "code",
   "execution_count": 66,
   "metadata": {
    "collapsed": false,
    "slideshow": {
     "slide_type": "subslide"
    }
   },
   "outputs": [
    {
     "name": "stdout",
     "output_type": "stream",
     "text": [
      "Lorem ipsum dolor sit amet, consectetur adipisicing elit, sed do eiusmod\r\n",
      "tempor incididunt ut labore et dolore magna aliqua. Ut enim ad minim veniam,\r\n",
      "quis nostrud exercitation ullamco laboris nisi ut aliquip ex ea commodo\r\n",
      "consequat. Duis aute irure dolor in reprehenderit in voluptate velit esse\r\n",
      "cillum dolore eu fugiat nulla pariatur. Excepteur sint occaecat cupidatat non\r\n",
      "proident, sunt in culpa qui officia deserunt mollit anim id est laborum."
     ]
    }
   ],
   "source": [
    "%cat $filename"
   ]
  },
  {
   "cell_type": "markdown",
   "metadata": {
    "slideshow": {
     "slide_type": "slide"
    }
   },
   "source": [
    "## Exercise\n",
    "Write a bash file and execute it from within the ipython kernel"
   ]
  },
  {
   "cell_type": "markdown",
   "metadata": {
    "slideshow": {
     "slide_type": "slide"
    }
   },
   "source": [
    "## Writing a magic command"
   ]
  },
  {
   "cell_type": "markdown",
   "metadata": {
    "slideshow": {
     "slide_type": "subslide"
    }
   },
   "source": [
    "A magic is a *piece of cake*"
   ]
  },
  {
   "cell_type": "code",
   "execution_count": 84,
   "metadata": {
    "collapsed": true,
    "slideshow": {
     "slide_type": "subslide"
    }
   },
   "outputs": [],
   "source": [
    "# Line magic\n",
    "from IPython.core.magic import register_line_magic\n",
    "\n",
    "@register_line_magic\n",
    "def custom_magic_line(line):\n",
    "    print(\"Hello\", line)"
   ]
  },
  {
   "cell_type": "code",
   "execution_count": 85,
   "metadata": {
    "collapsed": false,
    "slideshow": {
     "slide_type": "fragment"
    }
   },
   "outputs": [
    {
     "name": "stdout",
     "output_type": "stream",
     "text": [
      "Hello \n",
      "Hello test\n"
     ]
    }
   ],
   "source": [
    "# test it\n",
    "%custom_magic_line\n",
    "%custom_magic_line test"
   ]
  },
  {
   "cell_type": "code",
   "execution_count": 86,
   "metadata": {
    "collapsed": false,
    "slideshow": {
     "slide_type": "subslide"
    }
   },
   "outputs": [
    {
     "name": "stderr",
     "output_type": "stream",
     "text": [
      "ERROR: Cell magic `%%custom_magic_line` not found (But line magic `%custom_magic_line` exists, did you mean that instead?).\n"
     ]
    }
   ],
   "source": [
    "%%custom_magic_line"
   ]
  },
  {
   "cell_type": "code",
   "execution_count": 87,
   "metadata": {
    "collapsed": true,
    "slideshow": {
     "slide_type": "subslide"
    }
   },
   "outputs": [],
   "source": [
    "# Cell magic\n",
    "from IPython.core.magic import register_cell_magic\n",
    "\n",
    "@register_cell_magic\n",
    "def custom_cell_magic(line, cell):\n",
    "    print(\"Hello *%s*\\n*%s*\" % (line,cell))"
   ]
  },
  {
   "cell_type": "code",
   "execution_count": 88,
   "metadata": {
    "collapsed": false,
    "slideshow": {
     "slide_type": "fragment"
    }
   },
   "outputs": [
    {
     "name": "stdout",
     "output_type": "stream",
     "text": [
      "Hello *line*\n",
      "*cell line 1\n",
      "cell line 2*\n"
     ]
    }
   ],
   "source": [
    "%%custom_cell_magic line\n",
    "cell line 1\n",
    "cell line 2"
   ]
  },
  {
   "cell_type": "code",
   "execution_count": 89,
   "metadata": {
    "collapsed": false,
    "slideshow": {
     "slide_type": "subslide"
    }
   },
   "outputs": [
    {
     "name": "stderr",
     "output_type": "stream",
     "text": [
      "ERROR: Line magic function `%custom_cell_magic` not found (But cell magic `%%custom_cell_magic` exists, did you mean that instead?).\n"
     ]
    }
   ],
   "source": [
    "%custom_cell_magic line"
   ]
  },
  {
   "cell_type": "code",
   "execution_count": 90,
   "metadata": {
    "collapsed": true,
    "slideshow": {
     "slide_type": "subslide"
    }
   },
   "outputs": [],
   "source": [
    "# Both magics\n",
    "from IPython.core.magic import register_line_cell_magic\n",
    "\n",
    "@register_line_cell_magic\n",
    "def custom_magic(line, cell=\"\"):\n",
    "    print(\"Hello *%s*\\n*%s*\" % (line,cell))"
   ]
  },
  {
   "cell_type": "code",
   "execution_count": 91,
   "metadata": {
    "collapsed": false,
    "slideshow": {
     "slide_type": "fragment"
    }
   },
   "outputs": [
    {
     "name": "stdout",
     "output_type": "stream",
     "text": [
      "Hello *line*\n",
      "**\n"
     ]
    }
   ],
   "source": [
    "%custom_magic line"
   ]
  },
  {
   "cell_type": "code",
   "execution_count": 93,
   "metadata": {
    "collapsed": false,
    "slideshow": {
     "slide_type": "fragment"
    }
   },
   "outputs": [
    {
     "name": "stdout",
     "output_type": "stream",
     "text": [
      "Hello *line*\n",
      "*cell*\n"
     ]
    }
   ],
   "source": [
    "%%custom_magic line\n",
    "cell"
   ]
  },
  {
   "cell_type": "code",
   "execution_count": 117,
   "metadata": {
    "collapsed": false
   },
   "outputs": [
    {
     "name": "stdout",
     "output_type": "stream",
     "text": [
      "/data\n"
     ]
    }
   ],
   "source": [
    "%cd /data"
   ]
  },
  {
   "cell_type": "code",
   "execution_count": 134,
   "metadata": {
    "collapsed": true,
    "slideshow": {
     "slide_type": "subslide"
    }
   },
   "outputs": [],
   "source": [
    "# Using ipython magic inside the magic\n",
    "\n",
    "@register_line_magic\n",
    "def search_file_extension(extension):\n",
    "    \"\"\" Find files with given extension inside the current directory and sub-directories \"\"\"\n",
    "    if extension is '':\n",
    "        extension = 'txt'\n",
    "    cmd = \"find ./ -iname *.\" + extension\n",
    "    out = %system $cmd\n",
    "    print(\"Found\", out)"
   ]
  },
  {
   "cell_type": "code",
   "execution_count": 135,
   "metadata": {
    "collapsed": false,
    "slideshow": {
     "slide_type": "subslide"
    }
   },
   "outputs": [
    {
     "name": "stdout",
     "output_type": "stream",
     "text": [
      "Found ['./worker/books/pg1232.txt']\n"
     ]
    }
   ],
   "source": [
    "%search_file_extension"
   ]
  },
  {
   "cell_type": "code",
   "execution_count": 136,
   "metadata": {
    "collapsed": false,
    "slideshow": {
     "slide_type": "fragment"
    }
   },
   "outputs": [
    {
     "name": "stdout",
     "output_type": "stream",
     "text": [
      "Found ['./whois_pdonorio.py']\n"
     ]
    }
   ],
   "source": [
    "%search_file_extension py"
   ]
  },
  {
   "cell_type": "code",
   "execution_count": 158,
   "metadata": {
    "collapsed": false,
    "slideshow": {
     "slide_type": "fragment"
    }
   },
   "outputs": [],
   "source": [
    "%search_file_extension?"
   ]
  },
  {
   "cell_type": "markdown",
   "metadata": {
    "slideshow": {
     "slide_type": "slide"
    }
   },
   "source": [
    "## Exercise\n",
    "Write your own magic to take a file and count the words inside"
   ]
  },
  {
   "cell_type": "markdown",
   "metadata": {},
   "source": [
    "p.s. write a solution"
   ]
  },
  {
   "cell_type": "markdown",
   "metadata": {
    "slideshow": {
     "slide_type": "slide"
    }
   },
   "source": [
    "## Writing an extension"
   ]
  },
  {
   "cell_type": "code",
   "execution_count": 15,
   "metadata": {
    "collapsed": false,
    "slideshow": {
     "slide_type": "subslide"
    }
   },
   "outputs": [
    {
     "name": "stdout",
     "output_type": "stream",
     "text": [
      "Overwriting extension.py\n"
     ]
    }
   ],
   "source": [
    "%%writefile extension.py\n",
    "\n",
    "# -*- coding: utf-8 -*-\n",
    "\"\"\" A custom magic command \"\"\"\n",
    "from IPython.core.magic import register_line_magic\n",
    "import subprocess\n",
    "MAIN_DIR = '/data'\n",
    "\n",
    "@register_line_magic\n",
    "def mysearch(extension):\n",
    "    \"\"\" Find files with given extension inside the current directory and sub-directories \"\"\"\n",
    "    if extension is '':\n",
    "        extension = 'txt'\n",
    "    cmd = \"find \" + MAIN_DIR + \" -iname *.\" + extension\n",
    "    process = subprocess.Popen(cmd.split(\" \"), stdout=subprocess.PIPE)\n",
    "    out, err = process.communicate()\n",
    "    return out\n",
    "\n",
    "def load_ipython_extension(ipython):\n",
    "    ipython.register_magic_function(mysearch, 'line')"
   ]
  },
  {
   "cell_type": "markdown",
   "metadata": {
    "slideshow": {
     "slide_type": "subslide"
    }
   },
   "source": [
    "Note: you cannot use ipython syntax and `%magic` commands inside the extension\n",
    "\n",
    "as it is written with standard python, like a normal module."
   ]
  },
  {
   "cell_type": "code",
   "execution_count": 16,
   "metadata": {
    "collapsed": false,
    "slideshow": {
     "slide_type": "subslide"
    }
   },
   "outputs": [
    {
     "data": {
      "text/plain": [
       "b'/data/worker/books/pg1232.txt\\n'"
      ]
     },
     "execution_count": 16,
     "metadata": {},
     "output_type": "execute_result"
    }
   ],
   "source": [
    "# Load extension\n",
    "%reload_ext extension\n",
    "# Test it\n",
    "%mysearch txt"
   ]
  },
  {
   "cell_type": "markdown",
   "metadata": {
    "slideshow": {
     "slide_type": "subslide"
    }
   },
   "source": [
    "Note: original place for extensions is\n",
    "`$HOME/.ipython/extensions/`\n",
    "\n",
    "That path is `read-only` for the running container.\n",
    "\n",
    "It is corresponding to main `ipython_extensions` directory of the lectures repo."
   ]
  },
  {
   "cell_type": "code",
   "execution_count": 18,
   "metadata": {
    "collapsed": false,
    "slideshow": {
     "slide_type": "fragment"
    }
   },
   "outputs": [
    {
     "name": "stdout",
     "output_type": "stream",
     "text": [
      "/root/.ipython/extensions/mrjobmagic.py\r\n",
      "/root/.ipython/extensions/version_information.py\r\n"
     ]
    }
   ],
   "source": [
    "! ls $HOME/.ipython/extensions/*.py"
   ]
  },
  {
   "cell_type": "markdown",
   "metadata": {
    "slideshow": {
     "slide_type": "slide"
    }
   },
   "source": [
    "## Exercise\n",
    "Take the magic you wrote in the previous exercise and create the extension.\n",
    "\n",
    "<small>Note: The notebook server works as a decent file editor for extensions differents from `ipynb`.</small>"
   ]
  },
  {
   "cell_type": "markdown",
   "metadata": {
    "slideshow": {
     "slide_type": "slide"
    }
   },
   "source": [
    "## Extensions list\n",
    "\n",
    "There are many cool magicians in the community,\n",
    "and they share their magic:\n",
    "\n",
    "https://github.com/ipython/ipython/wiki/Extensions-Index"
   ]
  },
  {
   "cell_type": "markdown",
   "metadata": {
    "slideshow": {
     "slide_type": "subslide"
    }
   },
   "source": [
    "A short example:\n",
    "\n",
    "Become the **master of databases** from within the notebook"
   ]
  },
  {
   "cell_type": "code",
   "execution_count": 31,
   "metadata": {
    "collapsed": false,
    "slideshow": {
     "slide_type": "subslide"
    }
   },
   "outputs": [
    {
     "name": "stdout",
     "output_type": "stream",
     "text": [
      "Requirement already up-to-date: ipython-sql in /opt/conda/lib/python3.4/site-packages\n",
      "Requirement already up-to-date: sqlalchemy>=0.6.7 in /opt/conda/lib/python3.4/site-packages (from ipython-sql)\n",
      "Requirement already up-to-date: prettytable in /opt/conda/lib/python3.4/site-packages (from ipython-sql)\n",
      "Requirement already up-to-date: ipython>=1.0 in /opt/conda/lib/python3.4/site-packages (from ipython-sql)\n",
      "Requirement already up-to-date: sqlparse in /opt/conda/lib/python3.4/site-packages (from ipython-sql)\n",
      "Requirement already up-to-date: six in /opt/conda/lib/python3.4/site-packages (from ipython-sql)\n"
     ]
    }
   ],
   "source": [
    "! pip install --user --upgrade ipython-sql"
   ]
  },
  {
   "cell_type": "code",
   "execution_count": 23,
   "metadata": {
    "collapsed": false,
    "slideshow": {
     "slide_type": "subslide"
    }
   },
   "outputs": [],
   "source": [
    "# Load new installed extension\n",
    "%reload_ext sql\n",
    "# Create a file database with sqllite\n",
    "import sqlite3\n",
    "dbfile = '/data/tmp/mydata.sql'\n",
    "conn = sqlite3.connect(dbfile)"
   ]
  },
  {
   "cell_type": "markdown",
   "metadata": {
    "slideshow": {
     "slide_type": "subslide"
    }
   },
   "source": [
    "Query your database from a notebook cell"
   ]
  },
  {
   "cell_type": "code",
   "execution_count": 29,
   "metadata": {
    "collapsed": false,
    "slideshow": {
     "slide_type": "fragment"
    }
   },
   "outputs": [
    {
     "name": "stdout",
     "output_type": "stream",
     "text": [
      "Done.\n",
      "2 rows affected.\n",
      "Done.\n"
     ]
    },
    {
     "data": {
      "text/html": [
       "<table>\n",
       "    <tr>\n",
       "        <th>x</th>\n",
       "        <th>y</th>\n",
       "        <th>z</th>\n",
       "    </tr>\n",
       "    <tr>\n",
       "        <td>1</td>\n",
       "        <td>2</td>\n",
       "        <td>3</td>\n",
       "    </tr>\n",
       "    <tr>\n",
       "        <td>9</td>\n",
       "        <td>8</td>\n",
       "        <td>7</td>\n",
       "    </tr>\n",
       "</table>"
      ],
      "text/plain": [
       "[(1, 2, 3), (9, 8, 7)]"
      ]
     },
     "execution_count": 29,
     "metadata": {},
     "output_type": "execute_result"
    }
   ],
   "source": [
    "%%sql sqlite:///$dbfile\n",
    "CREATE TABLE IF NOT EXISTS t(x INTEGER, y, z, PRIMARY KEY(x ASC));\n",
    "INSERT INTO t VALUES (1,2,3),(9,8,7);\n",
    "SELECT * FROM t;"
   ]
  },
  {
   "cell_type": "markdown",
   "metadata": {
    "slideshow": {
     "slide_type": "fragment"
    }
   },
   "source": [
    "Note: it works with **sqllite**, **mysql**, **postgres**"
   ]
  },
  {
   "cell_type": "markdown",
   "metadata": {
    "slideshow": {
     "slide_type": "slide"
    }
   },
   "source": [
    "# Make presentations"
   ]
  },
  {
   "cell_type": "markdown",
   "metadata": {
    "slideshow": {
     "slide_type": "subslide"
    }
   },
   "source": [
    "* Slideshows are not standard part of the jupyter project.\n",
    "* There is a GitHub repository for extending it with the '`reveal.js`' plugin called **RISE**.\n",
    "* We forked the repo to add custom keybindings.\n",
    "* This is the reason why you have the Live Slideshow button inside your notebooks today.\n",
    "* All of this has been made inside our custom docker image."
   ]
  },
  {
   "cell_type": "markdown",
   "metadata": {
    "slideshow": {
     "slide_type": "subslide"
    }
   },
   "source": [
    "To make a presentation you just have to:\n",
    "\n",
    "1. Change Cell Toolbar from None to Slideshow\n",
    "2. Change slide type for each cell to emulate slides like powerpoint\n",
    "3. Launch Live Slideshow (with the button or pressing Alt+R)"
   ]
  },
  {
   "cell_type": "markdown",
   "metadata": {
    "slideshow": {
     "slide_type": "slide"
    }
   },
   "source": [
    "## Markdown\n",
    "Notebooks comments and notes are written using the **Markdown syntax**"
   ]
  },
  {
   "cell_type": "markdown",
   "metadata": {
    "slideshow": {
     "slide_type": "subslide"
    }
   },
   "source": [
    "(Double click to reveal the syntax)\n",
    "\n",
    "Emphasis, aka italics, with *asterisks* or _underscores_.\n",
    "\n",
    "Strong emphasis, aka bold, with **asterisks** or __underscores__.\n",
    "\n",
    "Combined emphasis with **asterisks and _underscores_**.\n",
    "\n",
    "Strikethrough uses two tildes. ~~Scratch this.~~\n",
    "\n",
    "Links are very easy to create: [google](http://www.google.com)"
   ]
  },
  {
   "cell_type": "markdown",
   "metadata": {
    "slideshow": {
     "slide_type": "subslide"
    }
   },
   "source": [
    "1. First ordered list item\n",
    "2. Another item\n",
    "    * Unordered sub-list. \n",
    "1. Actual numbers don't matter, just that it's a number\n",
    "    1. Ordered sub-list\n",
    "4. And another item."
   ]
  },
  {
   "cell_type": "markdown",
   "metadata": {
    "slideshow": {
     "slide_type": "subslide"
    }
   },
   "source": [
    "You should learn markdown language!\n",
    "\n",
    "For example here: http://markdowntutorial.com/\n",
    "\n",
    "You can easily find a [cheatsheet](https://github.com/adam-p/markdown-here/wiki/Markdown-Cheatsheet) when you get lost."
   ]
  },
  {
   "cell_type": "markdown",
   "metadata": {
    "slideshow": {
     "slide_type": "subslide"
    }
   },
   "source": [
    "*MD Advantages*\n",
    "\n",
    "* Markdown files can be easily converted to PDF\n",
    "    - e.g. www.markdowntopdf.com\n",
    "* GitHub Readmes and readable files are written in Markdown\n",
    "    - Since notebooks are a mix of JSON cells with Markdowns syntax, also notebooks file are previewed into repositories\n",
    "* You may write your project documentation in Markdown\n",
    "    - e.g. http://www.mkdocs.org/\n",
    "    - it can be compiled and used on free services like https://readthedocs.org/\n",
    "    - Even if the standard the facto is ReST language (similar to Markdown)"
   ]
  },
  {
   "cell_type": "markdown",
   "metadata": {
    "slideshow": {
     "slide_type": "slide"
    }
   },
   "source": [
    "## Exercise\n",
    "\n",
    "Write a web page with notebooks. \n",
    "\n",
    "The layout should be: \n",
    "* header \n",
    "* a big image\n",
    "* a **lorem** text \n",
    "* and a piece of python code\n",
    "\n",
    "<small>Note - this is a *lorem*:\n",
    "\n",
    "Lorem ipsum dolor sit amet, consectetur adipisicing elit, sed do eiusmod\n",
    "tempor incididunt ut labore et dolore magna aliqua. Ut enim ad minim veniam,\n",
    "quis nostrud exercitation ullamco laboris nisi ut aliquip ex ea commodo\n",
    "consequat. Duis aute irure dolor in reprehenderit in voluptate velit esse\n",
    "cillum dolore eu fugiat nulla pariatur. Excepteur sint occaecat cupidatat non\n",
    "proident, sunt in culpa qui officia deserunt mollit anim id est laborum.\n",
    "</small>"
   ]
  },
  {
   "cell_type": "code",
   "execution_count": 34,
   "metadata": {
    "collapsed": true,
    "slideshow": {
     "slide_type": "slide"
    }
   },
   "outputs": [
    {
     "name": "stdout",
     "output_type": "stream",
     "text": [
      "%%HTML\n",
      "\n",
      "<table>\n",
      "<tr><td> Cell one </td></tr>\n",
      "</table>\n",
      "%%HTML\n",
      "\n",
      "<table>\n",
      "    <tr>\n",
      "        <td> Cell one </td>\n",
      "        <td> Cell two </td>\n",
      "    </tr>\n",
      "</table>\n",
      "%%HTML\n",
      "\n",
      "<table>\n",
      "    <tr>\n",
      "        <td> Cell one </td>\n",
      "        <td> Cell two </td>\n",
      "    </tr>\n",
      "    <tr>\n",
      "        <td> Cell <b>three</b> </td>\n",
      "        <td> Cell four </td>\n",
      "    </tr>\n",
      "</table>\n",
      "%%HTML\n",
      "\n",
      "<table>\n",
      "    <tr>\n",
      "        <td> Cell one </td>\n",
      "        <td> Cell <i>two</i> </td>\n",
      "    </tr>\n",
      "    <tr>\n",
      "        <td> Cell <b>three</b> </td>\n",
      "        <td> Cell four </td>\n",
      "    </tr>\n",
      "</table>\n",
      "%%HTML\n",
      "\n",
      "<table>\n",
      "    <tr>\n",
      "        <td> Cell one </td>\n",
      "        <td> Cell <i>two</i> </td>\n",
      "    </tr>\n",
      "    <tr>\n",
      "        <td> Cell <b>three</b> </td>\n",
      "        <td> <a href='www.cineca.it'>link</a> </td>\n",
      "    </tr>\n",
      "</table>\n",
      "%lsmagic\n",
      "%edit?\n",
      "%edit\n",
      "%who\n",
      "%system\n",
      "%system?\n",
      "%system ls\n",
      "out = %system ls\n",
      "out = %system ls\n",
      "out\n",
      "out = %system ls *MapReduce*\n",
      "out\n",
      "%system ls *MapReduce*\n",
      "out = _\n",
      "out[2]\n",
      "%bash ls -l\n",
      "! ls *MapReduce*\n",
      "%quickref\n",
      "man lsmagic\n",
      "man cd\n",
      "man ls\n",
      "%save?\n",
      "env\n",
      "env TERM\n",
      "# To follow the ipython built-in tutorial on ipython magics:\n",
      "%quickref\n",
      "# To follow the ipython built-in quickstart on ipython magics:\n",
      "%quickref\n",
      "%automagic off\n",
      "env TERM\n",
      "out = _\n",
      "out[2]\n",
      "%system ls *MapReduce*\n",
      "out = _\n",
      "out[2]\n",
      "%hist\n"
     ]
    }
   ],
   "source": [
    "# List all the commands written inside this notebook\n",
    "%hist "
   ]
  },
  {
   "cell_type": "markdown",
   "metadata": {
    "slideshow": {
     "slide_type": "slide"
    }
   },
   "source": [
    "# End of chapter"
   ]
  }
 ],
 "metadata": {
  "celltoolbar": "Slideshow",
  "kernelspec": {
   "display_name": "Python 3",
   "language": "python",
   "name": "python3"
  },
  "language_info": {
   "codemirror_mode": {
    "name": "ipython",
    "version": 3
   },
   "file_extension": ".py",
   "mimetype": "text/x-python",
   "name": "python",
   "nbconvert_exporter": "python",
   "pygments_lexer": "ipython3",
   "version": "3.5.0"
  }
 },
 "nbformat": 4,
 "nbformat_minor": 0
}
