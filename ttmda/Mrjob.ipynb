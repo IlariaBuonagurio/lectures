{
 "cells": [
  {
   "cell_type": "markdown",
   "metadata": {},
   "source": [
    "# MapReduce in Jupyter"
   ]
  },
  {
   "cell_type": "markdown",
   "metadata": {},
   "source": [
    "Define where the file will be"
   ]
  },
  {
   "cell_type": "code",
   "execution_count": 1,
   "metadata": {
    "collapsed": false
   },
   "outputs": [],
   "source": [
    "jobfile = \"./job.py\""
   ]
  },
  {
   "cell_type": "markdown",
   "metadata": {},
   "source": [
    "Define bash variables via notebook"
   ]
  },
  {
   "cell_type": "code",
   "execution_count": 2,
   "metadata": {
    "collapsed": false
   },
   "outputs": [
    {
     "name": "stdout",
     "output_type": "stream",
     "text": [
      "env: JOBFILE=./job.py\n"
     ]
    },
    {
     "data": {
      "text/plain": [
       "'source /opt/miniconda/bin/activate python34'"
      ]
     },
     "execution_count": 2,
     "metadata": {},
     "output_type": "execute_result"
    }
   ],
   "source": [
    "%env JOBFILE {jobfile}\n",
    "%env CONDA_ACTIVATE"
   ]
  },
  {
   "cell_type": "markdown",
   "metadata": {},
   "source": [
    "Write your MapReduce job via magic command"
   ]
  },
  {
   "cell_type": "code",
   "execution_count": 3,
   "metadata": {
    "collapsed": false
   },
   "outputs": [
    {
     "name": "stdout",
     "output_type": "stream",
     "text": [
      "Overwriting ./job.py\n"
     ]
    }
   ],
   "source": [
    "%%writefile {jobfile}\n",
    "#!/usr/bin/env python3\n",
    "# -*- coding: utf-8 -*-\n",
    "\"\"\" MapReduce easily with Python \"\"\"\n",
    "\n",
    "from mrjob.job import MRJob\n",
    "from mrjob.step import MRStep\n",
    "\n",
    "class job(MRJob):\n",
    "    def mapper(self, _, line):\n",
    "        pass\n",
    "    def reducer(self, key, line):\n",
    "        pass\n",
    "    def steps(self):\n",
    "        return [ \\\n",
    "            MRStep(mapper=self.mapper, reducer=self.reducer), \\\n",
    "        ]\n",
    "\n",
    "if __name__ == \"__main__\":\n",
    "    job.run()"
   ]
  },
  {
   "cell_type": "markdown",
   "metadata": {},
   "source": [
    "Use **bash commands** *directly* from the notebook via magic"
   ]
  },
  {
   "cell_type": "code",
   "execution_count": 5,
   "metadata": {
    "collapsed": false
   },
   "outputs": [
    {
     "name": "stderr",
     "output_type": "stream",
     "text": [
      "discarding /opt/miniconda/envs/python34/bin from PATH\n",
      "prepending /opt/miniconda/envs/python34/bin to PATH\n",
      "no configs found; falling back on auto-configuration\n",
      "no configs found; falling back on auto-configuration\n",
      "creating tmp directory /tmp/job.root.20150915.141927.533120\n",
      "reading from STDIN\n",
      "writing to /tmp/job.root.20150915.141927.533120/step-0-mapper_part-00000\n",
      "Counters from step 1:\n",
      "  (no counters found)\n",
      "writing to /tmp/job.root.20150915.141927.533120/step-0-mapper-sorted\n",
      "> sort /tmp/job.root.20150915.141927.533120/step-0-mapper_part-00000\n",
      "writing to /tmp/job.root.20150915.141927.533120/step-0-reducer_part-00000\n",
      "Counters from step 1:\n",
      "  (no counters found)\n",
      "Moving /tmp/job.root.20150915.141927.533120/step-0-reducer_part-00000 -> /tmp/job.root.20150915.141927.533120/output/part-00000\n",
      "Streaming final output from /tmp/job.root.20150915.141927.533120/output\n",
      "removing tmp directory /tmp/job.root.20150915.141927.533120\n"
     ]
    }
   ],
   "source": [
    "%%bash\n",
    "# Activate anaconda environment in bash shell\n",
    "$CONDA_ACTIVATE\n",
    "# Launch a python3 script\n",
    "python3 $JOBFILE"
   ]
  },
  {
   "cell_type": "code",
   "execution_count": null,
   "metadata": {
    "collapsed": true
   },
   "outputs": [],
   "source": []
  }
 ],
 "metadata": {
  "kernelspec": {
   "display_name": "Python 3",
   "language": "python",
   "name": "python3"
  },
  "language_info": {
   "codemirror_mode": {
    "name": "ipython",
    "version": 3
   },
   "file_extension": ".py",
   "mimetype": "text/x-python",
   "name": "python",
   "nbconvert_exporter": "python",
   "pygments_lexer": "ipython3",
   "version": "3.4.3"
  }
 },
 "nbformat": 4,
 "nbformat_minor": 0
}
