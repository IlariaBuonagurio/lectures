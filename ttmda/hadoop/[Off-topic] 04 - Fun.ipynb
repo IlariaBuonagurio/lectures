{
 "cells": [
  {
   "cell_type": "markdown",
   "metadata": {},
   "source": [
    "# Change notebook Theme"
   ]
  },
  {
   "cell_type": "markdown",
   "metadata": {},
   "source": [
    "Install themer and apply one"
   ]
  },
  {
   "cell_type": "code",
   "execution_count": 5,
   "metadata": {
    "collapsed": true
   },
   "outputs": [
    {
     "name": "stdout",
     "output_type": "stream",
     "text": [
      "Requirement already up-to-date: jupyter-themer in /opt/conda/lib/python3.4/site-packages\n",
      "Requirement already up-to-date: notebook in /opt/conda/lib/python3.4/site-packages (from jupyter-themer)\n",
      "Requirement already up-to-date: jupyter in /opt/conda/lib/python3.4/site-packages (from jupyter-themer)\n",
      "Requirement already up-to-date: ipython-genutils in /opt/conda/lib/python3.4/site-packages (from notebook->jupyter-themer)\n",
      "Requirement already up-to-date: jupyter-client in /opt/conda/lib/python3.4/site-packages (from notebook->jupyter-themer)\n",
      "Requirement already up-to-date: tornado>=4 in /opt/conda/lib/python3.4/site-packages (from notebook->jupyter-themer)\n",
      "Requirement already up-to-date: nbconvert in /opt/conda/lib/python3.4/site-packages (from notebook->jupyter-themer)\n",
      "Requirement already up-to-date: nbformat in /opt/conda/lib/python3.4/site-packages (from notebook->jupyter-themer)\n",
      "Requirement already up-to-date: terminado>=0.3.3 in /opt/conda/lib/python3.4/site-packages (from notebook->jupyter-themer)\n",
      "Requirement already up-to-date: jupyter-core in /opt/conda/lib/python3.4/site-packages (from notebook->jupyter-themer)\n",
      "Requirement already up-to-date: ipykernel in /opt/conda/lib/python3.4/site-packages (from notebook->jupyter-themer)\n",
      "Requirement already up-to-date: traitlets in /opt/conda/lib/python3.4/site-packages (from notebook->jupyter-themer)\n",
      "Requirement already up-to-date: jinja2 in /opt/conda/lib/python3.4/site-packages (from notebook->jupyter-themer)\n",
      "Requirement already up-to-date: qtconsole in /opt/conda/lib/python3.4/site-packages (from jupyter->jupyter-themer)\n",
      "Requirement already up-to-date: jupyter-console in /opt/conda/lib/python3.4/site-packages (from jupyter->jupyter-themer)\n",
      "Requirement already up-to-date: ipywidgets in /opt/conda/lib/python3.4/site-packages (from jupyter->jupyter-themer)\n",
      "Requirement already up-to-date: pyzmq>=13 in /opt/conda/lib/python3.4/site-packages (from jupyter-client->notebook->jupyter-themer)\n",
      "Requirement already up-to-date: jsonschema!=2.5.0,>=2.0 in /opt/conda/lib/python3.4/site-packages (from nbformat->notebook->jupyter-themer)\n",
      "Requirement already up-to-date: MarkupSafe in /opt/conda/lib/python3.4/site-packages (from jinja2->notebook->jupyter-themer)\n",
      "Requirement already up-to-date: pygments in /opt/conda/lib/python3.4/site-packages (from qtconsole->jupyter->jupyter-themer)\n",
      "Requirement already up-to-date: ipython in /opt/conda/lib/python3.4/site-packages (from jupyter-console->jupyter->jupyter-themer)\n",
      "Custom jupyter notebook theme created - refresh any open jupyter notebooks to apply theme.\n"
     ]
    }
   ],
   "source": [
    "! pip install --upgrade jupyter-themer && jupyter-themer -c lesser-dark -l wide -t serif"
   ]
  },
  {
   "cell_type": "markdown",
   "metadata": {},
   "source": [
    "Another theme"
   ]
  },
  {
   "cell_type": "code",
   "execution_count": null,
   "metadata": {
    "collapsed": true
   },
   "outputs": [],
   "source": [
    "%bash jupyter-themer -c "
   ]
  },
  {
   "cell_type": "markdown",
   "metadata": {},
   "source": [
    "To revert back"
   ]
  },
  {
   "cell_type": "code",
   "execution_count": 7,
   "metadata": {
    "collapsed": false
   },
   "outputs": [
    {
     "name": "stdout",
     "output_type": "stream",
     "text": [
      "Jupyter notebook reverted to default style.\r\n"
     ]
    }
   ],
   "source": [
    "! jupyter-themer"
   ]
  }
 ],
 "metadata": {
  "kernelspec": {
   "display_name": "Python 3",
   "language": "python",
   "name": "python3"
  },
  "language_info": {
   "codemirror_mode": {
    "name": "ipython",
    "version": 3
   },
   "file_extension": ".py",
   "mimetype": "text/x-python",
   "name": "python",
   "nbconvert_exporter": "python",
   "pygments_lexer": "ipython3",
   "version": "3.4.3"
  }
 },
 "nbformat": 4,
 "nbformat_minor": 0
}
