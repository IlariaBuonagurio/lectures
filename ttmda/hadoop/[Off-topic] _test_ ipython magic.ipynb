{
 "cells": [
  {
   "cell_type": "markdown",
   "metadata": {},
   "source": [
    "# Simpler MapReduce\n",
    "Creating an extension for helping users with mapreduce in Jupyter Notebook"
   ]
  },
  {
   "cell_type": "code",
   "execution_count": 48,
   "metadata": {
    "collapsed": false
   },
   "outputs": [
    {
     "name": "stdout",
     "output_type": "stream",
     "text": [
      "worker/books/pg1232.txt\r\n"
     ]
    }
   ],
   "source": [
    "file = \"worker/books/pg1232.txt\"\n",
    "!ls {file}"
   ]
  },
  {
   "cell_type": "code",
   "execution_count": 49,
   "metadata": {
    "collapsed": false
   },
   "outputs": [],
   "source": [
    "%reload_ext mrjobmagic"
   ]
  },
  {
   "cell_type": "code",
   "execution_count": 50,
   "metadata": {
    "collapsed": false
   },
   "outputs": [
    {
     "name": "stdout",
     "output_type": "stream",
     "text": [
      "Input file is worker/books/pg1232.txt\n",
      "Saving jobs/script_000085058.py\n",
      "Executing python3 jobs/script_000085058.py -r inline worker/books/pg1232.txt\n",
      "no configs found; falling back on auto-configuration\n",
      "no configs found; falling back on auto-configuration\n",
      "creating tmp directory /tmp/script_000085058.root.20151009.145927.029028\n",
      "writing to /tmp/script_000085058.root.20151009.145927.029028/step-0-mapper_part-00000\n",
      "Counters from step 1:\n",
      "  (no counters found)\n",
      "writing to /tmp/script_000085058.root.20151009.145927.029028/step-0-mapper-sorted\n",
      "> sort /tmp/script_000085058.root.20151009.145927.029028/step-0-mapper_part-00000\n",
      "writing to /tmp/script_000085058.root.20151009.145927.029028/step-0-reducer_part-00000\n",
      "Counters from step 1:\n",
      "  (no counters found)\n",
      "Moving /tmp/script_000085058.root.20151009.145927.029028/step-0-reducer_part-00000 -> /tmp/script_000085058.root.20151009.145927.029028/output/part-00000\n",
      "Streaming final output from /tmp/script_000085058.root.20151009.145927.029028/output\n",
      "removing tmp directory /tmp/script_000085058.root.20151009.145927.029028\n"
     ]
    },
    {
     "data": {
      "text/plain": [
       "'Done'"
      ]
     },
     "execution_count": 50,
     "metadata": {},
     "output_type": "execute_result"
    }
   ],
   "source": [
    "%%mapreduce $file\n",
    "\n",
    "def mapper(self, _, line):\n",
    "    pass\n",
    "def reducer(self, key, line):\n",
    "    pass\n"
   ]
  },
  {
   "cell_type": "markdown",
   "metadata": {},
   "source": [
    "---"
   ]
  },
  {
   "cell_type": "code",
   "execution_count": null,
   "metadata": {
    "collapsed": true
   },
   "outputs": [],
   "source": [
    "%%mapreduce?"
   ]
  }
 ],
 "metadata": {
  "kernelspec": {
   "display_name": "Python 3",
   "language": "python",
   "name": "python3"
  },
  "language_info": {
   "codemirror_mode": {
    "name": "ipython",
    "version": 3
   },
   "file_extension": ".py",
   "mimetype": "text/x-python",
   "name": "python",
   "nbconvert_exporter": "python",
   "pygments_lexer": "ipython3",
   "version": "3.4.3"
  }
 },
 "nbformat": 4,
 "nbformat_minor": 0
}
