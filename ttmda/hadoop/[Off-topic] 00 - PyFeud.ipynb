{
 "cells": [
  {
   "cell_type": "markdown",
   "metadata": {
    "slideshow": {
     "slide_type": "slide"
    }
   },
   "source": [
    "# A `python` clan war"
   ]
  },
  {
   "cell_type": "markdown",
   "metadata": {
    "slideshow": {
     "slide_type": "fragment"
    }
   },
   "source": [
    "Short version: \n",
    "\n",
    "* Python 2.x is **legacy**\n",
    "* Python 3.x is the **present** and **future** of the language"
   ]
  },
  {
   "cell_type": "markdown",
   "metadata": {
    "slideshow": {
     "slide_type": "subslide"
    }
   },
   "source": [
    "* Python was released in 1991\n",
    "* Python 2.0 was released in 2000\n",
    "* Python 3.0 was released in 2008. \n",
    "* The final 2.x version 2.7 release came out in mid-2010\n",
    "    - with a statement\n",
    "    > extended support for this end-of-life release\n",
    "   "
   ]
  },
  {
   "cell_type": "markdown",
   "metadata": {
    "slideshow": {
     "slide_type": "subslide"
    }
   },
   "source": [
    "**The 2.x branch will see no new major releases.**\n",
    "\n",
    "3.x is under active development and has already seen over SEVEN years of stable releases. \n",
    "> Current release is `python 3.5`.\n",
    "\n",
    "This means that all recent standard library improvements, for example, are only available by default in Python 3.x."
   ]
  },
  {
   "cell_type": "markdown",
   "metadata": {
    "slideshow": {
     "slide_type": "subslide"
    }
   },
   "source": [
    "## How it all started\n",
    "\n",
    "Guido van Rossum (the original creator of the Python language) decided to clean up Python 2.x **properly**.\n",
    "\n",
    "* less regard for backwards compatibility\n",
    "* most drastic improvement is the better Unicode support\n",
    "    * (all text strings being Unicode by default) \n",
    "    * saner bytes/Unicode separation.\n",
    "\n",
    "Several other aspects of the core language have been adjusted to be easier for newcomers to learn.\n",
    "\n",
    "source: https://wiki.python.org/moin/Python2orPython3"
   ]
  },
  {
   "cell_type": "markdown",
   "metadata": {
    "slideshow": {
     "slide_type": "subslide"
    }
   },
   "source": [
    "## The problems so far\n",
    "\n",
    "A list of well known excuses to not use Python 3\n",
    "\n",
    "* Not easy to switch to Python 3 if you're an hardcore Python 2 programmer\n",
    "* Not easy to port my Python 2 code into Python 3\n",
    "* Not easy to support Python 2 AND Python 3 when writing code\n",
    "* Not all famous libraries are available in Python 3"
   ]
  },
  {
   "cell_type": "markdown",
   "metadata": {
    "slideshow": {
     "slide_type": "subslide"
    }
   },
   "source": [
    "# NOT TRUE ANYMORE"
   ]
  },
  {
   "cell_type": "markdown",
   "metadata": {
    "slideshow": {
     "slide_type": "subslide"
    }
   },
   "source": [
    "* <strike>Not easy to switch to Python 3 if you're an hardcore Python 2 programmer</strike>\n",
    "    - **After 7 years you may find great resources like http://python3porting.com/differences.html**\n",
    "* Not easy to port my Python 2 code into Python 3\n",
    "* Not easy to support Python 2 AND Python 3 when writing code\n",
    "* Not all famous libraries are available in Python 3"
   ]
  },
  {
   "cell_type": "markdown",
   "metadata": {
    "slideshow": {
     "slide_type": "subslide"
    }
   },
   "source": [
    "* <strike>Not easy to switch to Python 3 if you're an hardcore Python 2 programmer</strike>\n",
    "* <strike>Not easy to port my Python 2 code into Python 3</strike>\n",
    "    - **Use `2to3` library, works for 90% of the code**\n",
    "    - there is also a `3to2` library, for the record\n",
    "* Not easy to support Python 2 AND Python 3 when writing code\n",
    "* Not all famous libraries are available in Python 3"
   ]
  },
  {
   "cell_type": "markdown",
   "metadata": {
    "slideshow": {
     "slide_type": "subslide"
    }
   },
   "source": [
    "* <strike>Not easy to switch to Python 3 if you're an hardcore Python 2 programmer</strike>\n",
    "* <strike>Not easy to port my Python 2 code into Python 3</strike>\n",
    "* <strike>Not easy to support Python 2 AND Python 3 when writing code</strike>\n",
    "    - **Use the `six` package (because `2*3 = 6`)**\n",
    "* Not all famous libraries are available in Python 3"
   ]
  },
  {
   "cell_type": "markdown",
   "metadata": {
    "slideshow": {
     "slide_type": "subslide"
    }
   },
   "source": [
    "* <strike>Not easy to switch to Python 3 if you're an hardcore Python 2 programmer</strike>\n",
    "* <strike>Not easy to port my Python 2 code into Python 3</strike>\n",
    "* <strike>Not easy to support Python 2 AND Python 3 when writing code</strike>\n",
    "* <strike>Not all famous libraries are available in Python 3</strike>\n",
    "    - **Anaconda (used by Jupyter on Docker) ported all their data stack **\n",
    "    - numpy, scipy, matplotlib, scikit-learn, and so on.."
   ]
  },
  {
   "cell_type": "markdown",
   "metadata": {
    "slideshow": {
     "slide_type": "slide"
    }
   },
   "source": [
    "## The differences you need to know"
   ]
  },
  {
   "cell_type": "markdown",
   "metadata": {
    "slideshow": {
     "slide_type": "subslide"
    }
   },
   "source": [
    "* `print` function\n",
    "* str vs unicode\n",
    "* dictionaries\n",
    "\n",
    "<small> Other differences you would not notice until you go PRO </small>"
   ]
  },
  {
   "cell_type": "markdown",
   "metadata": {
    "slideshow": {
     "slide_type": "subslide"
    }
   },
   "source": [
    "How Jupyter Notebook may help to solve the issue:\n",
    "\n",
    "* different kernels\n",
    "* ipython magic"
   ]
  },
  {
   "cell_type": "markdown",
   "metadata": {
    "slideshow": {
     "slide_type": "slide"
    }
   },
   "source": [
    "## [Main differences 01]: \n",
    "## Print function"
   ]
  },
  {
   "cell_type": "markdown",
   "metadata": {
    "slideshow": {
     "slide_type": "subslide"
    }
   },
   "source": [
    "The wrong way"
   ]
  },
  {
   "cell_type": "code",
   "execution_count": 7,
   "metadata": {
    "collapsed": false
   },
   "outputs": [
    {
     "name": "stdout",
     "output_type": "stream",
     "text": [
      "test\n",
      "test test two\n"
     ]
    }
   ],
   "source": [
    "%%python2\n",
    "print \"test\"\n",
    "print \"test\",\n",
    "print \"test\", \"two\""
   ]
  },
  {
   "cell_type": "code",
   "execution_count": 2,
   "metadata": {
    "collapsed": false,
    "slideshow": {
     "slide_type": "fragment"
    }
   },
   "outputs": [
    {
     "name": "stderr",
     "output_type": "stream",
     "text": [
      "  File \"<stdin>\", line 1\n",
      "    print \"test\"\n",
      "               ^\n",
      "SyntaxError: Missing parentheses in call to 'print'\n"
     ]
    }
   ],
   "source": [
    "%%python3\n",
    "print \"test\""
   ]
  },
  {
   "cell_type": "markdown",
   "metadata": {
    "slideshow": {
     "slide_type": "subslide"
    }
   },
   "source": [
    "A better way: always use print as a function, with parenthesis"
   ]
  },
  {
   "cell_type": "code",
   "execution_count": 65,
   "metadata": {
    "collapsed": false
   },
   "outputs": [
    {
     "name": "stdout",
     "output_type": "stream",
     "text": [
      "test\n",
      "('test', 'two')\n"
     ]
    }
   ],
   "source": [
    "%%python2\n",
    "print(\"test\")\n",
    "print(\"test\", \"two\")"
   ]
  },
  {
   "cell_type": "code",
   "execution_count": 66,
   "metadata": {
    "collapsed": false,
    "slideshow": {
     "slide_type": "fragment"
    }
   },
   "outputs": [
    {
     "name": "stdout",
     "output_type": "stream",
     "text": [
      "test\n",
      "test two\n"
     ]
    }
   ],
   "source": [
    "%%python3\n",
    "print(\"test\")\n",
    "print(\"test\", \"two\")"
   ]
  },
  {
   "cell_type": "markdown",
   "metadata": {
    "slideshow": {
     "slide_type": "subslide"
    }
   },
   "source": [
    "The best way is **one string** to the function"
   ]
  },
  {
   "cell_type": "code",
   "execution_count": 69,
   "metadata": {
    "collapsed": false
   },
   "outputs": [
    {
     "name": "stdout",
     "output_type": "stream",
     "text": [
      "test two\n",
      "test two, three\n"
     ]
    }
   ],
   "source": [
    "%%python2\n",
    "print(\"test %s\" % \"two\")\n",
    "var1 = \"two\"\n",
    "var2 = \"three\"\n",
    "print(\"test %s, %s\" % (var1, var2))"
   ]
  },
  {
   "cell_type": "code",
   "execution_count": 70,
   "metadata": {
    "collapsed": false
   },
   "outputs": [
    {
     "name": "stdout",
     "output_type": "stream",
     "text": [
      "test two\n",
      "test two, three\n"
     ]
    }
   ],
   "source": [
    "%%python3\n",
    "print(\"test %s\" % \"two\")\n",
    "var1 = \"two\"\n",
    "var2 = \"three\"\n",
    "print(\"test %s, %s\" % (var1, var2))"
   ]
  },
  {
   "cell_type": "markdown",
   "metadata": {
    "slideshow": {
     "slide_type": "subslide"
    }
   },
   "source": [
    "If writing Python real packages and/or projects, you should use `log`\n",
    "and avoid the `print` function as much as possible."
   ]
  },
  {
   "cell_type": "code",
   "execution_count": 77,
   "metadata": {
    "collapsed": false,
    "slideshow": {
     "slide_type": "fragment"
    }
   },
   "outputs": [
    {
     "name": "stderr",
     "output_type": "stream",
     "text": [
      "DEBUG:notebook:test\n"
     ]
    }
   ],
   "source": [
    "import logging\n",
    "FORMAT = '%(asctime)s %(name)-12s %(levelname)-8s %(message)s'\n",
    "logging.basicConfig(format=FORMAT)\n",
    "logger = logging.getLogger(\"notebook\")\n",
    "logger.setLevel(logging.DEBUG)\n",
    "logger.debug(\"test\")"
   ]
  },
  {
   "cell_type": "code",
   "execution_count": 78,
   "metadata": {
    "collapsed": false,
    "slideshow": {
     "slide_type": "subslide"
    }
   },
   "outputs": [
    {
     "name": "stderr",
     "output_type": "stream",
     "text": [
      "DEBUG:notebook:test two, three\n"
     ]
    }
   ],
   "source": [
    "var1 = \"two\"\n",
    "var2 = \"three\"\n",
    "logger.debug(\"test %s, %s\" % (var1, var2))"
   ]
  },
  {
   "cell_type": "markdown",
   "metadata": {
    "slideshow": {
     "slide_type": "subslide"
    }
   },
   "source": [
    "Log levels: DEBUG < INFO < WARNING < CRITICAL < ERROR"
   ]
  },
  {
   "cell_type": "code",
   "execution_count": 79,
   "metadata": {
    "collapsed": false,
    "slideshow": {
     "slide_type": "fragment"
    }
   },
   "outputs": [
    {
     "name": "stderr",
     "output_type": "stream",
     "text": [
      "INFO:notebook:one last time\n"
     ]
    }
   ],
   "source": [
    "logger.setLevel(logging.INFO)\n",
    "logger.debug(\"test again\")\n",
    "# this time it will not show\n",
    "logger.info(\"one last time\")"
   ]
  },
  {
   "cell_type": "markdown",
   "metadata": {
    "slideshow": {
     "slide_type": "slide"
    }
   },
   "source": [
    "## Ask if you don't know"
   ]
  },
  {
   "cell_type": "code",
   "execution_count": 29,
   "metadata": {
    "collapsed": false,
    "slideshow": {
     "slide_type": "subslide"
    }
   },
   "outputs": [
    {
     "name": "stdout",
     "output_type": "stream",
     "text": [
      ">>> x = \"Hello World!\"\r\n",
      ">>> x[2:]\r\n",
      "'llo World!'\r\n",
      ">>> x[:2]\r\n",
      "'He'\r\n",
      ">>> x[:-2]\r\n",
      "'Hello Worl'\r\n",
      ">>> x[-2:]\r\n",
      "'d!'\r\n",
      ">>> x[2:-2]\r\n",
      "'llo Worl'\r\n",
      "\r\n"
     ]
    }
   ],
   "source": [
    "! howdoi get substring in python"
   ]
  },
  {
   "cell_type": "markdown",
   "metadata": {
    "slideshow": {
     "slide_type": "subslide"
    }
   },
   "source": [
    "A little trick for the command line:\n",
    "\n",
    "`howdoi` is a python package which queries google/stackoverflow and shows the best answer."
   ]
  },
  {
   "cell_type": "code",
   "execution_count": 30,
   "metadata": {
    "collapsed": false,
    "slideshow": {
     "slide_type": "fragment"
    }
   },
   "outputs": [
    {
     "name": "stdout",
     "output_type": "stream",
     "text": [
      "usage: howdoi [-h] [-p POS] [-a] [-l] [-c] [-n NUM_ANSWERS] [-C] [-v]\r\n",
      "              [QUERY [QUERY ...]]\r\n",
      "\r\n",
      "instant coding answers via the command line\r\n",
      "\r\n",
      "positional arguments:\r\n",
      "  QUERY                 the question to answer\r\n",
      "\r\n",
      "optional arguments:\r\n",
      "  -h, --help            show this help message and exit\r\n",
      "  -p POS, --pos POS     select answer in specified position (default: 1)\r\n",
      "  -a, --all             display the full text of the answer\r\n",
      "  -l, --link            display only the answer link\r\n",
      "  -c, --color           enable colorized output\r\n",
      "  -n NUM_ANSWERS, --num-answers NUM_ANSWERS\r\n",
      "                        number of answers to return\r\n",
      "  -C, --clear-cache     clear the cache\r\n",
      "  -v, --version         displays the current version of howdoi\r\n"
     ]
    }
   ],
   "source": [
    "! howdoi"
   ]
  },
  {
   "cell_type": "markdown",
   "metadata": {
    "slideshow": {
     "slide_type": "slide"
    }
   },
   "source": [
    "## [Main differences 02]: \n",
    "## Unicode"
   ]
  },
  {
   "cell_type": "markdown",
   "metadata": {},
   "source": [
    "todo"
   ]
  },
  {
   "cell_type": "markdown",
   "metadata": {
    "slideshow": {
     "slide_type": "slide"
    }
   },
   "source": [
    "## [Main differences: 03] \n",
    "## Dictionaries methods"
   ]
  },
  {
   "cell_type": "code",
   "execution_count": 54,
   "metadata": {
    "collapsed": false,
    "slideshow": {
     "slide_type": "fragment"
    }
   },
   "outputs": [
    {
     "data": {
      "text/plain": [
       "{'anotherkey': 'anothervalue', 'key': 'value'}"
      ]
     },
     "execution_count": 54,
     "metadata": {},
     "output_type": "execute_result"
    }
   ],
   "source": [
    "mydict = {\n",
    "    \"key\":\"value\", \n",
    "    \"anotherkey\": \"anothervalue\"\n",
    "}\n",
    "mydict"
   ]
  },
  {
   "cell_type": "code",
   "execution_count": 55,
   "metadata": {
    "collapsed": false,
    "slideshow": {
     "slide_type": "subslide"
    }
   },
   "outputs": [
    {
     "name": "stdout",
     "output_type": "stream",
     "text": [
      "Using iteritems() while adding or deleting entries in the dictionary may raise a RuntimeError or fail to iterate over all entries\r\n",
      "\r\n"
     ]
    }
   ],
   "source": [
    "! howdoi cycle py2 dictionaries"
   ]
  },
  {
   "cell_type": "code",
   "execution_count": 57,
   "metadata": {
    "collapsed": false,
    "slideshow": {
     "slide_type": "fragment"
    }
   },
   "outputs": [
    {
     "name": "stdout",
     "output_type": "stream",
     "text": [
      "[anotherkey]:\tanothervalue\n",
      "[key]:\tvalue\n"
     ]
    }
   ],
   "source": [
    "%%python2\n",
    "mydict = {\n",
    "    \"key\":\"value\", \n",
    "    \"anotherkey\": \"anothervalue\"\n",
    "}\n",
    "\n",
    "for (key, value) in mydict.iteritems():\n",
    "    print(\"[%s]:\\t%s\" % (key, value))"
   ]
  },
  {
   "cell_type": "code",
   "execution_count": 61,
   "metadata": {
    "collapsed": false,
    "slideshow": {
     "slide_type": "subslide"
    }
   },
   "outputs": [
    {
     "name": "stdout",
     "output_type": "stream",
     "text": [
      "items()\r\n",
      "\r\n"
     ]
    }
   ],
   "source": [
    "! howdoi cycle py3 dictionaries"
   ]
  },
  {
   "cell_type": "code",
   "execution_count": 59,
   "metadata": {
    "collapsed": false
   },
   "outputs": [
    {
     "name": "stdout",
     "output_type": "stream",
     "text": [
      "[anotherkey]:\tanothervalue\n",
      "[key]:\tvalue\n"
     ]
    }
   ],
   "source": [
    "%%python3\n",
    "mydict = {\n",
    "    \"key\":\"value\", \n",
    "    \"anotherkey\": \"anothervalue\"\n",
    "}\n",
    "\n",
    "for (key, value) in mydict.items():\n",
    "    print(\"[%s]:\\t%s\" % (key, value))"
   ]
  },
  {
   "cell_type": "markdown",
   "metadata": {
    "slideshow": {
     "slide_type": "subslide"
    }
   },
   "source": [
    "In Python 2 dictionaries have the methods iterkeys(), itervalues() and iteritems() that return iterators instead of lists. \n",
    "\n",
    "In Python 3 the standard keys(), values() and items() return dictionary views, which are iterators, so the iterator variants become pointless and are removed."
   ]
  },
  {
   "cell_type": "code",
   "execution_count": null,
   "metadata": {
    "collapsed": true
   },
   "outputs": [],
   "source": []
  },
  {
   "cell_type": "markdown",
   "metadata": {
    "slideshow": {
     "slide_type": "subslide"
    }
   },
   "source": [
    "Saving both worlds"
   ]
  },
  {
   "cell_type": "code",
   "execution_count": 83,
   "metadata": {
    "collapsed": false,
    "slideshow": {
     "slide_type": "fragment"
    }
   },
   "outputs": [
    {
     "name": "stdout",
     "output_type": "stream",
     "text": [
      "[anotherkey]:\tanothervalue\n",
      "[key]:\tvalue\n"
     ]
    }
   ],
   "source": [
    "%%python2\n",
    "from six import iteritems\n",
    "\n",
    "mydict = {\"key\":\"value\", \"anotherkey\": \"anothervalue\"}\n",
    "for (key, value) in iteritems(mydict):\n",
    "    print(\"[%s]:\\t%s\" % (key, value))"
   ]
  },
  {
   "cell_type": "code",
   "execution_count": 84,
   "metadata": {
    "collapsed": false
   },
   "outputs": [
    {
     "name": "stdout",
     "output_type": "stream",
     "text": [
      "[key]:\tvalue\n",
      "[anotherkey]:\tanothervalue\n"
     ]
    }
   ],
   "source": [
    "%%python3\n",
    "from six import iteritems\n",
    "\n",
    "mydict = {\"key\":\"value\", \"anotherkey\": \"anothervalue\"}\n",
    "for (key, value) in iteritems(mydict):\n",
    "    print(\"[%s]:\\t%s\" % (key, value))"
   ]
  },
  {
   "cell_type": "markdown",
   "metadata": {
    "slideshow": {
     "slide_type": "slide"
    }
   },
   "source": [
    "# end of chapter"
   ]
  }
 ],
 "metadata": {
  "celltoolbar": "Slideshow",
  "kernelspec": {
   "display_name": "Python 3",
   "language": "python",
   "name": "python3"
  },
  "language_info": {
   "codemirror_mode": {
    "name": "ipython",
    "version": 3
   },
   "file_extension": ".py",
   "mimetype": "text/x-python",
   "name": "python",
   "nbconvert_exporter": "python",
   "pygments_lexer": "ipython3",
   "version": "3.4.3"
  }
 },
 "nbformat": 4,
 "nbformat_minor": 0
}
