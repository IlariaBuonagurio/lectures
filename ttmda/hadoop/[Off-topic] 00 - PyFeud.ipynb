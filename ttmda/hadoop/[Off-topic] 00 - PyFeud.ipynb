{
 "cells": [
  {
   "cell_type": "markdown",
   "metadata": {
    "slideshow": {
     "slide_type": "slide"
    }
   },
   "source": [
    "# A `python` clan war"
   ]
  },
  {
   "cell_type": "markdown",
   "metadata": {
    "slideshow": {
     "slide_type": "fragment"
    }
   },
   "source": [
    "Short version: \n",
    "\n",
    "* Python 2.x is **legacy**\n",
    "* Python 3.x is the **present** and **future** of the language"
   ]
  },
  {
   "cell_type": "markdown",
   "metadata": {
    "slideshow": {
     "slide_type": "subslide"
    }
   },
   "source": [
    "* Python was released in 1991\n",
    "* Python 2.0 was released in 2000\n",
    "* Python 3.0 was released in 2008. \n",
    "* The final 2.x version 2.7 release came out in mid-2010\n",
    "    - with a statement\n",
    "    > extended support for this end-of-life release\n",
    "   "
   ]
  },
  {
   "cell_type": "markdown",
   "metadata": {
    "slideshow": {
     "slide_type": "subslide"
    }
   },
   "source": [
    "**The 2.x branch will see no new major releases.**\n",
    "\n",
    "3.x is under active development and has already seen over SEVEN years of stable releases. \n",
    "> Current release is `python 3.5`.\n",
    "\n",
    "This means that all recent standard library improvements, for example, are only available by default in Python 3.x."
   ]
  },
  {
   "cell_type": "markdown",
   "metadata": {
    "slideshow": {
     "slide_type": "subslide"
    }
   },
   "source": [
    "## How it all started\n",
    "\n",
    "Guido van Rossum (the original creator of the Python language) decided to clean up Python 2.x **properly**.\n",
    "\n",
    "* less regard for backwards compatibility\n",
    "* most drastic improvement is the better Unicode support\n",
    "    * (all text strings being Unicode by default) \n",
    "    * saner bytes/Unicode separation.\n",
    "\n",
    "Several other aspects of the core language have been adjusted to be easier for newcomers to learn.\n",
    "\n",
    "source: https://wiki.python.org/moin/Python2orPython3"
   ]
  },
  {
   "cell_type": "markdown",
   "metadata": {
    "slideshow": {
     "slide_type": "subslide"
    }
   },
   "source": [
    "## The problems so far\n",
    "\n",
    "A list of well known excuses to not use Python 3\n",
    "\n",
    "* Not easy to switch to Python 3 if you're an hardcore Python 2 programmer\n",
    "* Not easy to port my Python 2 code into Python 3\n",
    "* Not easy to support Python 2 AND Python 3 when writing code\n",
    "* Not all famous libraries are available in Python 3"
   ]
  },
  {
   "cell_type": "markdown",
   "metadata": {
    "slideshow": {
     "slide_type": "subslide"
    }
   },
   "source": [
    "# NOT TRUE ANYMORE"
   ]
  },
  {
   "cell_type": "markdown",
   "metadata": {
    "slideshow": {
     "slide_type": "subslide"
    }
   },
   "source": [
    "* <strike>Not easy to switch to Python 3 if you're an hardcore Python 2 programmer</strike>\n",
    "    - **After 7 years you may find great resources like http://python3porting.com/differences.html**\n",
    "* Not easy to port my Python 2 code into Python 3\n",
    "* Not easy to support Python 2 AND Python 3 when writing code\n",
    "* Not all famous libraries are available in Python 3"
   ]
  },
  {
   "cell_type": "markdown",
   "metadata": {
    "slideshow": {
     "slide_type": "subslide"
    }
   },
   "source": [
    "* <strike>Not easy to switch to Python 3 if you're an hardcore Python 2 programmer</strike>\n",
    "* <strike>Not easy to port my Python 2 code into Python 3</strike>\n",
    "    - **Use `2to3` library, works for 90% of the code**\n",
    "    - there is also a `3to2` library, for the record\n",
    "* Not easy to support Python 2 AND Python 3 when writing code\n",
    "* Not all famous libraries are available in Python 3"
   ]
  },
  {
   "cell_type": "markdown",
   "metadata": {
    "slideshow": {
     "slide_type": "subslide"
    }
   },
   "source": [
    "* <strike>Not easy to switch to Python 3 if you're an hardcore Python 2 programmer</strike>\n",
    "* <strike>Not easy to port my Python 2 code into Python 3</strike>\n",
    "* <strike>Not easy to support Python 2 AND Python 3 when writing code</strike>\n",
    "    - **Use the `six` package (because `2*3 = 6`)**\n",
    "* Not all famous libraries are available in Python 3"
   ]
  },
  {
   "cell_type": "markdown",
   "metadata": {
    "slideshow": {
     "slide_type": "subslide"
    }
   },
   "source": [
    "* <strike>Not easy to switch to Python 3 if you're an hardcore Python 2 programmer</strike>\n",
    "* <strike>Not easy to port my Python 2 code into Python 3</strike>\n",
    "* <strike>Not easy to support Python 2 AND Python 3 when writing code</strike>\n",
    "* <strike>Not all famous libraries are available in Python 3</strike>\n",
    "    - **Anaconda (used by Jupyter on Docker) ported all their data stack **\n",
    "    - numpy, scipy, matplotlib, scikit-learn, and so on.."
   ]
  },
  {
   "cell_type": "markdown",
   "metadata": {
    "slideshow": {
     "slide_type": "slide"
    }
   },
   "source": [
    "## The differences you need to know"
   ]
  },
  {
   "cell_type": "markdown",
   "metadata": {
    "slideshow": {
     "slide_type": "subslide"
    }
   },
   "source": [
    "* `print` function\n",
    "* str vs unicode\n",
    "* dictionaries\n",
    "\n",
    "<small> Other differences you would not notice until you go PRO </small>"
   ]
  },
  {
   "cell_type": "markdown",
   "metadata": {
    "slideshow": {
     "slide_type": "subslide"
    }
   },
   "source": [
    "How Jupyter Notebook may help to solve the issue:\n",
    "\n",
    "* different kernels\n",
    "* ipython magic"
   ]
  },
  {
   "cell_type": "markdown",
   "metadata": {
    "slideshow": {
     "slide_type": "slide"
    }
   },
   "source": [
    "## Print function"
   ]
  },
  {
   "cell_type": "markdown",
   "metadata": {
    "slideshow": {
     "slide_type": "subslide"
    }
   },
   "source": [
    "The wrong way"
   ]
  },
  {
   "cell_type": "code",
   "execution_count": 7,
   "metadata": {
    "collapsed": false
   },
   "outputs": [
    {
     "name": "stdout",
     "output_type": "stream",
     "text": [
      "test\n",
      "test test two\n"
     ]
    }
   ],
   "source": [
    "%%python2\n",
    "print \"test\"\n",
    "print \"test\",\n",
    "print \"test\", \"two\""
   ]
  },
  {
   "cell_type": "code",
   "execution_count": 2,
   "metadata": {
    "collapsed": false,
    "slideshow": {
     "slide_type": "fragment"
    }
   },
   "outputs": [
    {
     "name": "stderr",
     "output_type": "stream",
     "text": [
      "  File \"<stdin>\", line 1\n",
      "    print \"test\"\n",
      "               ^\n",
      "SyntaxError: Missing parentheses in call to 'print'\n"
     ]
    }
   ],
   "source": [
    "%%python3\n",
    "print \"test\""
   ]
  },
  {
   "cell_type": "markdown",
   "metadata": {
    "slideshow": {
     "slide_type": "subslide"
    }
   },
   "source": [
    "The right way"
   ]
  },
  {
   "cell_type": "code",
   "execution_count": 9,
   "metadata": {
    "collapsed": false
   },
   "outputs": [
    {
     "name": "stdout",
     "output_type": "stream",
     "text": [
      "test\n"
     ]
    }
   ],
   "source": [
    "%%python2\n",
    "print(\"test\")"
   ]
  },
  {
   "cell_type": "code",
   "execution_count": 6,
   "metadata": {
    "collapsed": false,
    "slideshow": {
     "slide_type": "fragment"
    }
   },
   "outputs": [
    {
     "name": "stdout",
     "output_type": "stream",
     "text": [
      "test two\n"
     ]
    }
   ],
   "source": [
    "%%python3\n",
    "print(\"test\", \"two\")"
   ]
  },
  {
   "cell_type": "markdown",
   "metadata": {
    "slideshow": {
     "slide_type": "subslide"
    }
   },
   "source": [
    "The best way"
   ]
  },
  {
   "cell_type": "code",
   "execution_count": 11,
   "metadata": {
    "collapsed": false
   },
   "outputs": [
    {
     "name": "stdout",
     "output_type": "stream",
     "text": [
      "test two\n"
     ]
    }
   ],
   "source": [
    "%%python2\n",
    "print(\"test %s\" % \"two\")"
   ]
  },
  {
   "cell_type": "code",
   "execution_count": 14,
   "metadata": {
    "collapsed": false
   },
   "outputs": [
    {
     "name": "stdout",
     "output_type": "stream",
     "text": [
      "test two, three\n"
     ]
    }
   ],
   "source": [
    "%%python3\n",
    "var1 = \"two\"\n",
    "var2 = \"three\"\n",
    "print(\"test %s, %s\" % (var1, var2))"
   ]
  },
  {
   "cell_type": "markdown",
   "metadata": {
    "slideshow": {
     "slide_type": "subslide"
    }
   },
   "source": [
    "If writing Python real packages and/or projects, you should use `log`\n",
    "and avoid the `print` function as much as possible."
   ]
  },
  {
   "cell_type": "code",
   "execution_count": 21,
   "metadata": {
    "collapsed": false,
    "slideshow": {
     "slide_type": "fragment"
    }
   },
   "outputs": [
    {
     "name": "stderr",
     "output_type": "stream",
     "text": [
      "DEBUG:root:test\n"
     ]
    }
   ],
   "source": [
    "import logging\n",
    "FORMAT = '%(asctime)s %(name)-12s %(levelname)-8s %(message)s'\n",
    "logging.basicConfig(format=FORMAT)\n",
    "logger = logging.getLogger()\n",
    "logger.setLevel(logging.DEBUG)\n",
    "logger.debug(\"test\")"
   ]
  },
  {
   "cell_type": "markdown",
   "metadata": {
    "slideshow": {
     "slide_type": "subslide"
    }
   },
   "source": [
    "Log levels: DEBUG < INFO < WARNING < CRITICAL < ERROR"
   ]
  },
  {
   "cell_type": "code",
   "execution_count": 26,
   "metadata": {
    "collapsed": false,
    "slideshow": {
     "slide_type": "fragment"
    }
   },
   "outputs": [
    {
     "name": "stderr",
     "output_type": "stream",
     "text": [
      "INFO:root:one last time\n"
     ]
    }
   ],
   "source": [
    "logger.setLevel(logging.INFO)\n",
    "logger.debug(\"test again\")\n",
    "# this time it will not show\n",
    "logger.info(\"one last time\")"
   ]
  }
 ],
 "metadata": {
  "celltoolbar": "Slideshow",
  "kernelspec": {
   "display_name": "Python 3",
   "language": "python",
   "name": "python3"
  },
  "language_info": {
   "codemirror_mode": {
    "name": "ipython",
    "version": 3
   },
   "file_extension": ".py",
   "mimetype": "text/x-python",
   "name": "python",
   "nbconvert_exporter": "python",
   "pygments_lexer": "ipython3",
   "version": "3.4.3"
  }
 },
 "nbformat": 4,
 "nbformat_minor": 0
}
