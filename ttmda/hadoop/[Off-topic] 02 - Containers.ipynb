{
 "cells": [
  {
   "cell_type": "markdown",
   "metadata": {},
   "source": [
    "# Docker"
   ]
  },
  {
   "cell_type": "markdown",
   "metadata": {
    "collapsed": true
   },
   "source": [
    "Cineca account:\n",
    "https://hub.docker.com/u/cineca/"
   ]
  },
  {
   "cell_type": "markdown",
   "metadata": {},
   "source": [
    "Docker compose notebook + Hadoop\n",
    "\n",
    "Docker lightweight virtualization"
   ]
  },
  {
   "cell_type": "markdown",
   "metadata": {},
   "source": [
    "---"
   ]
  },
  {
   "cell_type": "markdown",
   "metadata": {},
   "source": [
    "Docker allows us to create applications in a controlled, isolated, flexible, and portable manner. The central logic behind it— a container—isn’t new. Container software like LXC or Linux Containers, which help multiple isolated systems run on a single host, has been around for years. But what Docker does is make the creation and sharing of these containers so easy and efficient that pretty much anyone can use them."
   ]
  },
  {
   "cell_type": "markdown",
   "metadata": {},
   "source": [
    "Before Docker came along, developers had a hard time implementing or even figuring out how containers worked. But Docker’s ease of use has altered this situation and changed the way we develop, test, share, and deploy applications."
   ]
  },
  {
   "cell_type": "markdown",
   "metadata": {
    "collapsed": true
   },
   "source": [
    "## Docker Containers or Traditional Virtualization?\n",
    "\n",
    "You might be tempted to compare a docker container to a small VM (virtual machine) container. \n",
    "\n",
    "The difference, however, lies in their performance: \n",
    "a container is faster to start up, since it doesn’t carry out all the OS-related steps of booting up. It shares the operating system kernel, binaries, and libraries. Hence, it takes up less space and is more lightweight than a VM.\n",
    "\n",
    "<img width=600 src='http://blog.qburst.com/wp-content/uploads/2015/09/Docker-Inner.png'>"
   ]
  },
  {
   "cell_type": "markdown",
   "metadata": {},
   "source": [
    "source: http://blog.qburst.com/2015/10/docker-devops-new-best-friend/"
   ]
  },
  {
   "cell_type": "markdown",
   "metadata": {},
   "source": [
    "Stats for running containers?\n",
    "```\n",
    "docker stats (docker ps | grep containers_ | awk '{print $NF}')\n",
    "```"
   ]
  }
 ],
 "metadata": {
  "kernelspec": {
   "display_name": "Python 3",
   "language": "python",
   "name": "python3"
  },
  "language_info": {
   "codemirror_mode": {
    "name": "ipython",
    "version": 3
   },
   "file_extension": ".py",
   "mimetype": "text/x-python",
   "name": "python",
   "nbconvert_exporter": "python",
   "pygments_lexer": "ipython3",
   "version": "3.4.3"
  }
 },
 "nbformat": 4,
 "nbformat_minor": 0
}
