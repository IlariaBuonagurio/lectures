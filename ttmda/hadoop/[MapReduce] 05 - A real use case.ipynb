{
 "cells": [
  {
   "cell_type": "markdown",
   "metadata": {
    "slideshow": {
     "slide_type": "slide"
    }
   },
   "source": [
    "# A test case from the real world\n",
    "\n",
    "(disclaimer: i deal everyday with these data)"
   ]
  },
  {
   "cell_type": "markdown",
   "metadata": {
    "slideshow": {
     "slide_type": "slide"
    }
   },
   "source": [
    "## Next Generation Sequencing"
   ]
  },
  {
   "cell_type": "markdown",
   "metadata": {},
   "source": [
    "\n",
    "\n",
    "DNA analysis\n",
    "New generation sequencing (NGS) platform\n",
    "High throughput\n",
    "Big text files\n",
    "Lots of statistics and checks\n",
    "\n",
    "**IMAGE** with illumina platform and pipeline of analysis"
   ]
  },
  {
   "cell_type": "markdown",
   "metadata": {},
   "source": [
    "One sequence \n",
    "\n",
    "<small>(usually called **short-reads**)</small>\n",
    "\n",
    "```\n",
    "@HWI-EAS209_0006_FC706VJ:5:58:5894:21141#ATCACG/1\n",
    "\n",
    "TTAATTGGTAAATAAATCTCCTAATAGCTTAGATNTTACCTTNNNNNNNNN\n",
    "\n",
    "+HWI-EAS209_0006_FC706VJ:5:58:5894:21141#ATCACG/1\n",
    "\n",
    "efcfffffcfeefffcffffffddf`feed]`]_Ba_^__[YBBBBBBBBB\n",
    "```\n"
   ]
  },
  {
   "cell_type": "markdown",
   "metadata": {},
   "source": [
    "### Mapping phase\n",
    "\n",
    "Input sequences\n",
    "Short-reads\n",
    "Alignment\n",
    "Map input to a reference genome\n",
    "e.g. Against latest release of reference human genome\n",
    "output\n",
    "aligned sequences\n",
    "Standards (SAM format)"
   ]
  },
  {
   "cell_type": "markdown",
   "metadata": {},
   "source": [
    "**IMAGE**\n",
    "\n",
    "Mapping coordinates: \n",
    "Chromosome, Start position, End position"
   ]
  },
  {
   "cell_type": "markdown",
   "metadata": {},
   "source": [
    "### SAM specifications\n",
    "\n",
    "http://samtools.sourceforge.net/samtools.shtml#5\n",
    "\n",
    "Sequence Alignment/Map (SAM) format is TAB-delimited\n",
    "\n",
    "The header lines are started with the ‘@’ symbol\n",
    "\n",
    "Each line is one aligned sequence\n",
    "\n",
    "**TABLE**"
   ]
  },
  {
   "cell_type": "markdown",
   "metadata": {},
   "source": [
    "### SAM header\n",
    "\n",
    "```\n",
    "$ head input.sam                                                                        \n",
    "\n",
    "@HD\tVN:1.4\tGO:none\tSO:coordinate\n",
    "@SQ\tSN:chrM\tLN:16571\n",
    "@SQ\tSN:chr1\tLN:249250621\n",
    "@SQ\tSN:chr2\tLN:243199373\n",
    "@SQ\tSN:chr3\tLN:198022430\n",
    "@SQ\tSN:chr4\tLN:191154276\n",
    "@SQ\tSN:chr5\tLN:180915260\n",
    "@SQ\tSN:chr6\tLN:171115067\n",
    "@SQ\tSN:chr7\tLN:159138663\n",
    "@SQ\tSN:chr8\tLN:146364022\n",
    "```"
   ]
  },
  {
   "cell_type": "markdown",
   "metadata": {},
   "source": [
    "### SAM content\n",
    "\n",
    "```\n",
    "$ head -150 input.sam | tail -1                                                         \n",
    "\n",
    "M02009:11:000000000-A7FE3:1:1103:19592:9636\t69\tchr1\t115251152\t0\t*\t=\t115251152\t0\tGTCCGTTGAGCTAGCTCCTCATTTTTTTCTCATTTTTTCCTTTTATAGGGTGTTGAAGATGCTTTTTACACACTGGTAAGAGAAATACGCCAGTACCGAATGAAAAAACTCAACAGCAGTGATGATGGGACTCAGGGTTGTATGGGATTGC\t.../1799:89988998898::::::::898:::9:::889:::8:88999:9::::8:9:98::::88:8:89:998:8:8::::88398:898883::::::::::898::8889:89::::89999:89898999::98999999999\tBD:Z:CCCCCCCCCCCCCCCCCCCCCCCBBBBBCCCCCCBBBBCCCCBBCCCCCCCCCCCCCCCCCCCCBBBCCCCCCCCCCCCCCCCCBCCCCCCCCCCCCCCCCCCCBBBBCCCCCCCCCCCCCCCCCCCCCCCCCCCCCCCCCCCCCCCCCCC\tPG:Z:MarkDuplicates\tRG:Z:19\tBI:Z:IIIIIIIIIIIIIIIIIIIIIIIHHHHHIIIIIIHHHHIIIIHHIIIIIIIIIIIIIIIIIIIIHHHIIIIIIIIIIIIIIIIIIIIIIIIIIIIIIIIIIIIIIIIIIIIIIIIIIIIIIIIIIIIIIIIIIIIIIIIIIIIIIIIIIII\n",
    "```"
   ]
  },
  {
   "cell_type": "markdown",
   "metadata": {},
   "source": [
    "## Get the file"
   ]
  },
  {
   "cell_type": "code",
   "execution_count": null,
   "metadata": {
    "collapsed": true
   },
   "outputs": [],
   "source": [
    "# Variables for python and bash\n",
    "myfile = '/data/worker/ngs.sam'\n",
    "%env myfile $myfile"
   ]
  },
  {
   "cell_type": "code",
   "execution_count": null,
   "metadata": {
    "collapsed": true
   },
   "outputs": [],
   "source": [
    "%%bash\n",
    "# Download compressed NGS data from a link\n",
    "wget -q \"http://bit.ly/ngs_sample_data\" -O $myfile.bz2 && echo \"downloaded\"\n",
    "# Decompress the file\n",
    "bunzip2 $myfile.bz2 && echo \"decompressed\""
   ]
  }
 ],
 "metadata": {
  "celltoolbar": "Slideshow",
  "kernelspec": {
   "display_name": "Python 3",
   "language": "python",
   "name": "python3"
  },
  "language_info": {
   "codemirror_mode": {
    "name": "ipython",
    "version": 3
   },
   "file_extension": ".py",
   "mimetype": "text/x-python",
   "name": "python",
   "nbconvert_exporter": "python",
   "pygments_lexer": "ipython3",
   "version": "3.4.3"
  }
 },
 "nbformat": 4,
 "nbformat_minor": 0
}
