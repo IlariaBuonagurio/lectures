{
 "cells": [
  {
   "cell_type": "markdown",
   "metadata": {},
   "source": [
    "# Tools for managing source code\n",
    "*this is extremely important for your future work*\n",
    "\n",
    "Ensuring replicability and reprodicibility of scientific simulations is a *complicated problem*\n",
    "\n",
    "#### Revision Control System (RCS) software\n",
    "Good choices include\n",
    "* git - http://git-scm.com\n",
    "* mercurial - http://mercurial.selenic.com. Also known as `hg`\n",
    "* subversion - http://subversion.apache.org. Also known as `svn`\n",
    "    \n",
    "#### Online repositories for source code\n",
    "Some good alternatives are\n",
    "* Github - http://www.github.com\n",
    "* Bitbucket - http://www.bitbucket.com\n",
    "* Privately hosted repositories on the university's or department's servers\n",
    "\n",
    "\n",
    "Repositories are also excellent for:\n",
    "\n",
    "version controlling manuscripts, figures, thesis files, data files, lab logs, etc. \n",
    "\n",
    "Basically for any digital content that must be preserved and is frequently updated!\n",
    "\n",
    "They are also excellent **collaboration tools**!\n"
   ]
  },
  {
   "cell_type": "code",
   "execution_count": null,
   "metadata": {
    "collapsed": true
   },
   "outputs": [],
   "source": []
  }
 ],
 "metadata": {
  "kernelspec": {
   "display_name": "Python 3",
   "language": "python",
   "name": "python3"
  },
  "language_info": {
   "codemirror_mode": {
    "name": "ipython",
    "version": 3
   },
   "file_extension": ".py",
   "mimetype": "text/x-python",
   "name": "python",
   "nbconvert_exporter": "python",
   "pygments_lexer": "ipython3",
   "version": "3.4.3"
  }
 },
 "nbformat": 4,
 "nbformat_minor": 0
}
