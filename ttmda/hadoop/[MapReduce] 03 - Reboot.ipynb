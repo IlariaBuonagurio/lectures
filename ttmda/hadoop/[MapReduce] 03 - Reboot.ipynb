{
 "cells": [
  {
   "cell_type": "markdown",
   "metadata": {
    "slideshow": {
     "slide_type": "slide"
    }
   },
   "source": [
    "<center>\n",
    "\n",
    "![welcome](http://westcoastswing.ro/image.axd?picture=2014%2F9%2Fwelcome_back.jpg)\n",
    "\n",
    "</center>"
   ]
  },
  {
   "cell_type": "markdown",
   "metadata": {
    "slideshow": {
     "slide_type": "slide"
    }
   },
   "source": [
    "# Be better"
   ]
  },
  {
   "cell_type": "code",
   "execution_count": 1,
   "metadata": {
    "collapsed": false,
    "slideshow": {
     "slide_type": "subslide"
    }
   },
   "outputs": [
    {
     "name": "stdout",
     "output_type": "stream",
     "text": [
      "The Zen of Python, by Tim Peters\n",
      "\n",
      "Beautiful is better than ugly.\n",
      "Explicit is better than implicit.\n",
      "Simple is better than complex.\n",
      "Complex is better than complicated.\n",
      "Flat is better than nested.\n",
      "Sparse is better than dense.\n",
      "Readability counts.\n",
      "Special cases aren't special enough to break the rules.\n",
      "Although practicality beats purity.\n",
      "Errors should never pass silently.\n",
      "Unless explicitly silenced.\n",
      "In the face of ambiguity, refuse the temptation to guess.\n",
      "There should be one-- and preferably only one --obvious way to do it.\n",
      "Although that way may not be obvious at first unless you're Dutch.\n",
      "Now is better than never.\n",
      "Although never is often better than *right* now.\n",
      "If the implementation is hard to explain, it's a bad idea.\n",
      "If the implementation is easy to explain, it may be a good idea.\n",
      "Namespaces are one honking great idea -- let's do more of those!\n"
     ]
    }
   ],
   "source": [
    "import this"
   ]
  },
  {
   "cell_type": "markdown",
   "metadata": {
    "slideshow": {
     "slide_type": "subslide"
    }
   },
   "source": [
    "> Special cases aren't special enough to break the rules"
   ]
  },
  {
   "cell_type": "markdown",
   "metadata": {
    "slideshow": {
     "slide_type": "fragment"
    }
   },
   "source": [
    "Once you admit the first exception, the Zen is gone."
   ]
  },
  {
   "cell_type": "markdown",
   "metadata": {},
   "source": [
    "> We believe in continuous LEARNING\n",
    "\n",
    "> both learning and teaching, \n",
    "\n",
    "> internally and externally"
   ]
  },
  {
   "cell_type": "markdown",
   "metadata": {
    "slideshow": {
     "slide_type": "slide"
    }
   },
   "source": [
    "# What has been discussed so far"
   ]
  },
  {
   "cell_type": "markdown",
   "metadata": {
    "slideshow": {
     "slide_type": "subslide"
    }
   },
   "source": [
    "### Scripting\n",
    "\n",
    "* No compiling phase like C, Java or Fortran\n",
    "* Higher level, worse performance "
   ]
  },
  {
   "cell_type": "markdown",
   "metadata": {
    "slideshow": {
     "slide_type": "subslide"
    }
   },
   "source": [
    "### Python\n",
    "\n",
    "* Python Interpreter \n",
    "* scripting language style\n",
    "* Ipython is interaction enhancements\n",
    "    - Magic commands and notebook extensions"
   ]
  },
  {
   "cell_type": "markdown",
   "metadata": {
    "slideshow": {
     "slide_type": "subslide"
    }
   },
   "source": [
    "### Notebooks\n",
    "\n",
    "* Write, test, share\n",
    "* Markdown comments and notes\n",
    "    - like a web page\n",
    "    - slideshow\n",
    "* Shortcuts and editor\n",
    "* Web inline bash commands and packages installations\n",
    "* Many kernels (you will see the Spark environment!)"
   ]
  },
  {
   "cell_type": "markdown",
   "metadata": {
    "slideshow": {
     "slide_type": "fragment"
    }
   },
   "source": [
    "> my taste is very simple i only require the best\n",
    "\n",
    "*O. Wilde*"
   ]
  },
  {
   "cell_type": "markdown",
   "metadata": {
    "slideshow": {
     "slide_type": "subslide"
    }
   },
   "source": [
    "### Hadoop\n",
    "\n",
    "1. *PREPROCESS*: Move input files from local directories to HDFS\n",
    "2. *SPLITTING*\n",
    "3. *DISTRIBUTION*\n",
    "4. *MAPPER*: Learn how to create the key necessary to emit for your algorithm\n",
    "5. *SHUFFLE*: grouping by the key\n",
    "6. *REDUCER*: One per key, operations to your key\n",
    "7. *POSTPROCESSING*: Move/stream files from HDFS to your environment\n",
    "\n",
    "*JOBTRACKING*: monitor the hadoop cluster, resources and jobs:\n",
    "<br>(http://localhost:8088 or your virtualbox IP e.g. http://192.168.99.100:8088)"
   ]
  },
  {
   "cell_type": "markdown",
   "metadata": {
    "slideshow": {
     "slide_type": "subslide"
    }
   },
   "source": [
    "### Hadoop streaming\n",
    "\n",
    "- A jar compiled Java class\n",
    "- Helps you execute any executable/language for Mapper, Reducer or both.\n",
    "- You can mix languages\n",
    "- Almost original Hadoop performances"
   ]
  },
  {
   "cell_type": "markdown",
   "metadata": {
    "slideshow": {
     "slide_type": "subslide"
    }
   },
   "source": [
    "### Pythonic MapReduce?\n",
    "\n",
    "The step to let Hadoop and Notebook worlds meet."
   ]
  },
  {
   "cell_type": "markdown",
   "metadata": {
    "slideshow": {
     "slide_type": "subslide"
    }
   },
   "source": [
    "### Github repositories\n",
    "\n",
    "* Use them\n",
    "* Share notebooks!\n",
    "* Let people collaborate with you\n",
    "* Follow and discover interesting projects"
   ]
  },
  {
   "cell_type": "markdown",
   "metadata": {
    "slideshow": {
     "slide_type": "subslide"
    }
   },
   "source": [
    "### Docker containers\n",
    "\n",
    "* Easy environment reproduction\n",
    "    - At low performance costs\n",
    "* Also complex applications, see our images:\n",
    "    - Hadoop (namenode + datanode) & HDFS\n",
    "    - Jupyter \n",
    "    - Data libraries (numpy, matplotlib, etc.)\n",
    "    - Live slideshow\n",
    "    - MrJob\n",
    "\n",
    "  "
   ]
  },
  {
   "cell_type": "markdown",
   "metadata": {
    "slideshow": {
     "slide_type": "subslide"
    }
   },
   "source": [
    "### Docker volumes\n",
    "\n",
    "* A container will not save any modification when you run it\n",
    "    - It's like a checkpoint\n",
    "    - You can commit a running container into a new image (docker commit)\n",
    "* Data persistence is obtained with volumes\n",
    "    - And by mounting a shared folder within the host system\n",
    "\n",
    "`/PATH/TO/YOUR/GIT/LECTURES/data/ttmda/hadoop` is mounted as `/data` for this course"
   ]
  },
  {
   "cell_type": "markdown",
   "metadata": {
    "slideshow": {
     "slide_type": "slide"
    }
   },
   "source": [
    "# HDFS"
   ]
  },
  {
   "cell_type": "markdown",
   "metadata": {
    "slideshow": {
     "slide_type": "fragment"
    }
   },
   "source": [
    "Little demo with `HDFS` file system\n",
    "\n",
    "```\n",
    "hdfs dfs -comand\n",
    "```"
   ]
  },
  {
   "cell_type": "markdown",
   "metadata": {
    "slideshow": {
     "slide_type": "slide"
    }
   },
   "source": [
    "# Notebook text editor"
   ]
  },
  {
   "cell_type": "markdown",
   "metadata": {
    "slideshow": {
     "slide_type": "fragment"
    }
   },
   "source": [
    "Little demo to prove how to use it\n",
    "\n",
    "* also `VIM` mode!"
   ]
  },
  {
   "cell_type": "markdown",
   "metadata": {
    "slideshow": {
     "slide_type": "slide"
    }
   },
   "source": [
    "# Let's get back to exercise!"
   ]
  },
  {
   "cell_type": "markdown",
   "metadata": {
    "slideshow": {
     "slide_type": "subslide"
    }
   },
   "source": [
    "Download the sample data to have a 'big' file to test."
   ]
  },
  {
   "cell_type": "code",
   "execution_count": null,
   "metadata": {
    "collapsed": true,
    "slideshow": {
     "slide_type": "fragment"
    }
   },
   "outputs": [],
   "source": [
    "myfile = '/data/worker/ngs.sam'\n",
    "\n",
    "# Download compressed NGS data from a link\n",
    "%system wget -q \"http://bit.ly/ngs_sample_data\" -O $myfile.bz2 && echo \"downloaded\"\n",
    "# Decompress the file\n",
    "%system bunzip2 $myfile.bz2 && echo \"decompressed\""
   ]
  },
  {
   "cell_type": "markdown",
   "metadata": {
    "slideshow": {
     "slide_type": "subslide"
    }
   },
   "source": [
    "Next:\n",
    "\n",
    "Understanding in deep Bash pipes and Hadoop Streaming"
   ]
  },
  {
   "cell_type": "markdown",
   "metadata": {
    "collapsed": false,
    "slideshow": {
     "slide_type": "slide"
    }
   },
   "source": [
    "# End of chapter"
   ]
  }
 ],
 "metadata": {
  "celltoolbar": "Slideshow",
  "kernelspec": {
   "display_name": "Python 3",
   "language": "python",
   "name": "python3"
  },
  "language_info": {
   "codemirror_mode": {
    "name": "ipython",
    "version": 3
   },
   "file_extension": ".py",
   "mimetype": "text/x-python",
   "name": "python",
   "nbconvert_exporter": "python",
   "pygments_lexer": "ipython3",
   "version": "3.4.3"
  }
 },
 "nbformat": 4,
 "nbformat_minor": 0
}
