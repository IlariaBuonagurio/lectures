{
 "cells": [
  {
   "cell_type": "markdown",
   "metadata": {},
   "source": [
    "# MapReduce in Jupyter"
   ]
  },
  {
   "cell_type": "markdown",
   "metadata": {},
   "source": [
    "A MapReduce job can be described in python with many libraries.\n",
    "One of the most light and easy-to-use is **MrJob**.\n",
    "\n",
    "You should read the [documentation of the latest version](http://mrjob.readthedocs.org/en/latest/).\n",
    "\n",
    "<small>Note: We are using the most recent version (*release* **v.0.5.0dev** ) because its the first one to support Python 3.</small>"
   ]
  },
  {
   "cell_type": "markdown",
   "metadata": {},
   "source": [
    "## Make use of MrJob"
   ]
  },
  {
   "cell_type": "markdown",
   "metadata": {},
   "source": [
    "Define where the file will be"
   ]
  },
  {
   "cell_type": "code",
   "execution_count": 1,
   "metadata": {
    "collapsed": false
   },
   "outputs": [],
   "source": [
    "jobfile = \"./automatic_script.py\""
   ]
  },
  {
   "cell_type": "markdown",
   "metadata": {},
   "source": [
    "Define bash variables via notebook"
   ]
  },
  {
   "cell_type": "code",
   "execution_count": 3,
   "metadata": {
    "collapsed": false
   },
   "outputs": [
    {
     "name": "stdout",
     "output_type": "stream",
     "text": [
      "env: JOBFILE=./automatic_script.py\n"
     ]
    }
   ],
   "source": [
    "%env JOBFILE {jobfile}"
   ]
  },
  {
   "cell_type": "markdown",
   "metadata": {},
   "source": [
    "Write your MapReduce job via magic command"
   ]
  },
  {
   "cell_type": "code",
   "execution_count": 4,
   "metadata": {
    "collapsed": false
   },
   "outputs": [
    {
     "name": "stdout",
     "output_type": "stream",
     "text": [
      "Overwriting ./automatic_script.py\n"
     ]
    }
   ],
   "source": [
    "%%writefile {jobfile}\n",
    "#!/usr/bin/env python3\n",
    "# -*- coding: utf-8 -*-\n",
    "\"\"\" MapReduce easily with Python \"\"\"\n",
    "\n",
    "from mrjob.job import MRJob\n",
    "from mrjob.step import MRStep\n",
    "\n",
    "class job(MRJob):\n",
    "    def mapper(self, _, line):\n",
    "        pass\n",
    "    def reducer(self, key, line):\n",
    "        pass\n",
    "    def steps(self):\n",
    "        return [ \\\n",
    "            MRStep(mapper=self.mapper, reducer=self.reducer), \\\n",
    "        ]\n",
    "\n",
    "if __name__ == \"__main__\":\n",
    "    job.run()"
   ]
  },
  {
   "cell_type": "markdown",
   "metadata": {},
   "source": [
    "Use **bash commands** *directly* from the notebook via magic"
   ]
  },
  {
   "cell_type": "code",
   "execution_count": 6,
   "metadata": {
    "collapsed": false
   },
   "outputs": [
    {
     "name": "stderr",
     "output_type": "stream",
     "text": [
      "no configs found; falling back on auto-configuration\n",
      "no configs found; falling back on auto-configuration\n",
      "creating tmp directory /tmp/automatic_script.jovyan.20151005.080615.206827\n",
      "reading from STDIN\n",
      "writing to /tmp/automatic_script.jovyan.20151005.080615.206827/step-0-mapper_part-00000\n",
      "Counters from step 1:\n",
      "  (no counters found)\n",
      "writing to /tmp/automatic_script.jovyan.20151005.080615.206827/step-0-mapper-sorted\n",
      "> sort /tmp/automatic_script.jovyan.20151005.080615.206827/step-0-mapper_part-00000\n",
      "writing to /tmp/automatic_script.jovyan.20151005.080615.206827/step-0-reducer_part-00000\n",
      "Counters from step 1:\n",
      "  (no counters found)\n",
      "Moving /tmp/automatic_script.jovyan.20151005.080615.206827/step-0-reducer_part-00000 -> /tmp/automatic_script.jovyan.20151005.080615.206827/output/part-00000\n",
      "Streaming final output from /tmp/automatic_script.jovyan.20151005.080615.206827/output\n",
      "removing tmp directory /tmp/automatic_script.jovyan.20151005.080615.206827\n"
     ]
    }
   ],
   "source": [
    "%%bash\n",
    "# Launch a python3 script\n",
    "python3 $JOBFILE"
   ]
  }
 ],
 "metadata": {
  "kernelspec": {
   "display_name": "Python 3",
   "language": "python",
   "name": "python3"
  },
  "language_info": {
   "codemirror_mode": {
    "name": "ipython",
    "version": 3
   },
   "file_extension": ".py",
   "mimetype": "text/x-python",
   "name": "python",
   "nbconvert_exporter": "python",
   "pygments_lexer": "ipython3",
   "version": "3.4.3"
  }
 },
 "nbformat": 4,
 "nbformat_minor": 0
}
