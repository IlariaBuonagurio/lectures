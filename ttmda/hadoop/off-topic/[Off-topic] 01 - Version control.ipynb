{
 "cells": [
  {
   "cell_type": "markdown",
   "metadata": {
    "slideshow": {
     "slide_type": "slide"
    }
   },
   "source": [
    "# Tools for managing source code\n",
    "*this is extremely important for your future work*"
   ]
  },
  {
   "cell_type": "markdown",
   "metadata": {},
   "source": [
    "\n",
    "Ensuring replicability and reprodicibility of scientific simulations is a *complicated problem*\n",
    "\n",
    "#### Revision Control System (RCS) software\n",
    "Good choices include\n",
    "\n",
    "* git - http://git-scm.com\n",
    "* mercurial - http://mercurial.selenic.com. Also known as `hg`\n",
    "* subversion - http://subversion.apache.org. Also known as `svn`\n",
    "    \n",
    "#### Online repositories for source code\n",
    "Some good alternatives are\n",
    "\n",
    "* Github - http://www.github.com\n",
    "* Bitbucket - http://www.bitbucket.com\n",
    "* Privately hosted repositories on the university's or department's servers\n",
    "    - e.g. **GitLab** can be your own hosted running git repository service\n",
    "    \n",
    "\n",
    "\n",
    "Repositories are also excellent for:\n",
    "\n",
    "version controlling manuscripts, figures, thesis files, data files, lab logs, etc. \n",
    "\n",
    "Basically for any digital content that must be preserved and is frequently updated!\n",
    "\n",
    "They are also excellent **collaboration tools**!\n"
   ]
  },
  {
   "cell_type": "markdown",
   "metadata": {},
   "source": [
    "# A comunity place\n",
    "\n",
    "ask and it will be given (in time)\n",
    "\n",
    "https://github.com/Yelp/mrjob/issues/1142\n",
    "\n",
    "- answered the same day\n",
    "- resolved in four days"
   ]
  },
  {
   "cell_type": "markdown",
   "metadata": {
    "collapsed": true,
    "slideshow": {
     "slide_type": "slide"
    }
   },
   "source": [
    "## Nbviewer for notebook saved on github"
   ]
  },
  {
   "cell_type": "markdown",
   "metadata": {
    "slideshow": {
     "slide_type": "slide"
    }
   },
   "source": [
    "They are also building other cool services based on github.\n",
    "The most recents i am taking an eye on:"
   ]
  },
  {
   "cell_type": "markdown",
   "metadata": {},
   "source": [
    "* a service to provide an interactive version of your notebooks on jupyter\n"
   ]
  },
  {
   "cell_type": "markdown",
   "metadata": {},
   "source": [
    "* a class-school for making exercises\n",
    "\n",
    "http://www.producthunt.com/tech/classroom-for-github"
   ]
  },
  {
   "cell_type": "code",
   "execution_count": null,
   "metadata": {
    "collapsed": true
   },
   "outputs": [],
   "source": []
  }
 ],
 "metadata": {
  "celltoolbar": "Slideshow",
  "kernelspec": {
   "display_name": "Python 3",
   "language": "python",
   "name": "python3"
  },
  "language_info": {
   "codemirror_mode": {
    "name": "ipython",
    "version": 3
   },
   "file_extension": ".py",
   "mimetype": "text/x-python",
   "name": "python",
   "nbconvert_exporter": "python",
   "pygments_lexer": "ipython3",
   "version": "3.4.3"
  }
 },
 "nbformat": 4,
 "nbformat_minor": 0
}
