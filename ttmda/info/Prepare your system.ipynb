{
 "cells": [
  {
   "cell_type": "markdown",
   "metadata": {
    "slideshow": {
     "slide_type": "slide"
    }
   },
   "source": [
    "# Get ready for our Massive Data Analysis course"
   ]
  },
  {
   "cell_type": "markdown",
   "metadata": {
    "slideshow": {
     "slide_type": "fragment"
    }
   },
   "source": [
    "You may read this instructions also here:\n",
    "\n",
    "http://bit.ly/cineca_course_instructions"
   ]
  },
  {
   "cell_type": "markdown",
   "metadata": {
    "slideshow": {
     "slide_type": "slide"
    }
   },
   "source": [
    "## Prerequisites\n",
    "\n",
    "You need to have installed the following applications:\n",
    "* [git](https://git-scm.com/book/en/v1/Getting-Started-Installing-Git) 1.7+\n",
    "* [docker](https://docs.docker.com/installation) 1.8+\n",
    "* [docker-compose](https://docs.docker.com/compose/install) 1.4+\n"
   ]
  },
  {
   "cell_type": "markdown",
   "metadata": {
    "slideshow": {
     "slide_type": "subslide"
    }
   },
   "source": [
    "### For UNIX systems\n",
    "To install docker and docker-compose from a `UNIX` terminal, \n",
    "you may run:\n",
    "\n",
    "``` bash\n",
    "# Install docker\n",
    "$ curl -sSL https://get.docker.com/ | sh\n",
    "\n",
    "# Install docker-compose with python package manager\n",
    "$ pip install -U docker-compose\n",
    "```"
   ]
  },
  {
   "cell_type": "markdown",
   "metadata": {
    "slideshow": {
     "slide_type": "subslide"
    }
   },
   "source": [
    "### For others OS\n",
    "For `Mac` and `Windows` users the best way to get Docker tools working,\n",
    "is using their new [**toolbox**](https://www.docker.com/toolbox).\n"
   ]
  },
  {
   "cell_type": "markdown",
   "metadata": {
    "slideshow": {
     "slide_type": "slide"
    }
   },
   "source": [
    "## Download docker images\n",
    "\n",
    "Open a Terminal (UNIX) or a boot2docker shell (Mac / Windows),\n",
    "then copy and paste the following commands:\n",
    "\n",
    "*Warning*: the total size of these images is ~ **8GB**.\n",
    "Please make sure you have enough space on your main disk.\n",
    "\n",
    "``` bash\n",
    "docker pull busybox\n",
    "docker pull cineca/hadoopnotebook\n",
    "docker pull cineca/sparkcluster\n",
    "docker pull cineca/sparknotebook\n",
    "```\n",
    "\n",
    "The complete list of our images is available on the *official account* inside the public [Docker Hub](https://hub.docker.com/u/cineca/)"
   ]
  },
  {
   "cell_type": "markdown",
   "metadata": {
    "slideshow": {
     "slide_type": "slide"
    }
   },
   "source": [
    "## Test one Jupyter service\n",
    "\n",
    "Inside the terminal:\n",
    "``` bash\n",
    "docker run -it -p 80:8888 cineca/hadoopnotebook jupyter notebook --no-browser --ip=0.0.0.0\n",
    "```\n",
    "\n",
    "If the logs shows no errors you may access the server via web browser, \n",
    "at the URL [http://localhost](http://localhost).\n",
    "\n",
    "<small>Note: if you use docker on Mac or Windows, instead of ***localhost*** you\n",
    "should find the virtual machine IP where Docker is running. <br>\n",
    "This is usually possible with commands like `boot2docker ip` or `docker-machine ip`.</small>"
   ]
  },
  {
   "cell_type": "markdown",
   "metadata": {
    "slideshow": {
     "slide_type": "slide"
    }
   },
   "source": [
    "## Clean your docker environment\n",
    "\n",
    "Inside the terminal, you may use one of these commands:\n",
    "\n",
    "``` bash\n",
    "# Check running containers\n",
    "docker ps\n",
    "\n",
    "# Check all containers\n",
    "docker ps -a\n",
    "\n",
    "# Remove all containers \n",
    "#(warning: you may loose data if you don't save what you modified)\n",
    "docker stop $(docker ps -a)\n",
    "docker rm $(docker ps -a)\n",
    "\n",
    "# Remove intermediate images\n",
    "#(this action would free some space if any but makes no harm to your images and containers)\n",
    "docker rmi $(docker images -q --filter \"dangling=true\")\n",
    "```"
   ]
  }
 ],
 "metadata": {
  "celltoolbar": "Slideshow",
  "kernelspec": {
   "display_name": "Python 3",
   "language": "python",
   "name": "python3"
  },
  "language_info": {
   "codemirror_mode": {
    "name": "ipython",
    "version": 3
   },
   "file_extension": ".py",
   "mimetype": "text/x-python",
   "name": "python",
   "nbconvert_exporter": "python",
   "pygments_lexer": "ipython3",
   "version": "3.4.3"
  }
 },
 "nbformat": 4,
 "nbformat_minor": 0
}
