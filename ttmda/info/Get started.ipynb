{
 "cells": [
  {
   "cell_type": "markdown",
   "metadata": {},
   "source": [
    "# Become a `notebooker`"
   ]
  },
  {
   "cell_type": "markdown",
   "metadata": {},
   "source": [
    "Inside your `UNIX` shell:\n",
    "\n",
    "```bash\n",
    "# Go to your home directory\n",
    "cd \n",
    "# Clone the repo\n",
    "git clone https://github.com/cineca-scai/lectures.git\n",
    "# Clone the repo and change branch\n",
    "cd lectures && massive-analysis\n",
    "# Update (or download) docker images\n",
    "bash containers/update.sh\n",
    "# Launch the hadoop environment for the first day of the LAB\n",
    "bash containers/hadoop.sh\n",
    "```"
   ]
  },
  {
   "cell_type": "markdown",
   "metadata": {},
   "source": [
    "\n",
    "This notebook is a part of [our GitHub repository](https://github.com/cineca-scai/lectures/tree/massive-analysis) for lectures"
   ]
  }
 ],
 "metadata": {
  "kernelspec": {
   "display_name": "Python 3",
   "language": "python",
   "name": "python3"
  },
  "language_info": {
   "codemirror_mode": {
    "name": "ipython",
    "version": 3
   },
   "file_extension": ".py",
   "mimetype": "text/x-python",
   "name": "python",
   "nbconvert_exporter": "python",
   "pygments_lexer": "ipython3",
   "version": "3.4.3"
  }
 },
 "nbformat": 4,
 "nbformat_minor": 0
}
