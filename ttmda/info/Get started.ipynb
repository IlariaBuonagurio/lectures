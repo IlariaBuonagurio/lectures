{
 "cells": [
  {
   "cell_type": "markdown",
   "metadata": {},
   "source": [
    "# Become a `notebooker`"
   ]
  },
  {
   "cell_type": "markdown",
   "metadata": {},
   "source": [
    "*warning*, you should already have installed:\n",
    "    \n",
    "* git\n",
    "* docker\n",
    "* docker-compose"
   ]
  },
  {
   "cell_type": "markdown",
   "metadata": {},
   "source": [
    "---"
   ]
  },
  {
   "cell_type": "markdown",
   "metadata": {},
   "source": [
    "## Linux and Mac\n",
    "\n",
    "### One line command\n",
    "\n",
    "You can copy and past this one-liner command into your `UNIX` *shell*:\n",
    "    \n",
    "```\n",
    " wget -qO- http://j.mp/massive_unixinstall | sh\n",
    "```"
   ]
  },
  {
   "cell_type": "markdown",
   "metadata": {},
   "source": [
    "### Few lines command\n",
    "\n",
    "If you can't have **docker-compose** to work, you can use this alternative:\n",
    "\n",
    "```bash\n",
    "# Go to your home directory\n",
    "cd\n",
    "# Clone the repo\n",
    "if [ ! -d 'lectures' ]; then git clone https://github.com/cineca-scai/lectures.git; fi\n",
    "# Clone the repo and change branch\n",
    "cd lectures && git checkout massive-analysis && git pull\n",
    "# Update (or download) docker images\n",
    "bash containers/update.sh\n",
    "# Launch the hadoop environment for the first day of the LAB\n",
    "bash containers/hadoop.sh\n",
    "```"
   ]
  },
  {
   "cell_type": "markdown",
   "metadata": {},
   "source": [
    "---"
   ]
  },
  {
   "cell_type": "markdown",
   "metadata": {},
   "source": [
    "## Windows\n",
    "\n",
    "* Download our official GIT repo\n",
    "\n",
    "[cineca-scai/lectures](http://github.com/cineca-scai/lectures)\n",
    "* Pull Docker images:\n",
    "```\n",
    "docker pull busybox\n",
    "docker pull cineca/hadoopnotebook\n",
    "docker pull cineca/sparkcluster\n",
    "docker pull cineca/sparknotebook\n",
    "```\n",
    "* Run containers with commands found inside the [dedicated folder](https://github.com/cineca-scai/lectures/tree/massive-analysis/containers)\n",
    "    1. See [these commands](https://github.com/cineca-scai/lectures/blob/massive-analysis/containers/hadoop.sh) for Hadoop services\n",
    "    2. See [other commands](https://github.com/cineca-scai/lectures/blob/massive-analysis/containers/spark.sh) for the Spark cluster"
   ]
  },
  {
   "cell_type": "markdown",
   "metadata": {},
   "source": [
    "---\n",
    "\n",
    "<small>\n",
    "This notebook is a part of [our GitHub repository](https://github.com/cineca-scai/lectures/tree/massive-analysis) for lectures.\n",
    "\n",
    "The official web page for this course is available [here](https://hpc-forge.cineca.it/files/CoursesDev/public/2015/Tools_Techniques_Data_Analysis/).\n",
    "</small>"
   ]
  }
 ],
 "metadata": {
  "kernelspec": {
   "display_name": "Python 3",
   "language": "python",
   "name": "python3"
  },
  "language_info": {
   "codemirror_mode": {
    "name": "ipython",
    "version": 3
   },
   "file_extension": ".py",
   "mimetype": "text/x-python",
   "name": "python",
   "nbconvert_exporter": "python",
   "pygments_lexer": "ipython3",
   "version": "3.4.3"
  }
 },
 "nbformat": 4,
 "nbformat_minor": 0
}
