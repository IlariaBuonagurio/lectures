{
 "cells": [
  {
   "cell_type": "markdown",
   "metadata": {},
   "source": [
    "# How to"
   ]
  },
  {
   "cell_type": "markdown",
   "metadata": {},
   "source": [
    "## Git"
   ]
  },
  {
   "cell_type": "markdown",
   "metadata": {},
   "source": [
    "Download the git repo\n",
    "```bash\n",
    "cd $HOME\n",
    "git clone https://github.com/cineca-scai/lectures.git lectures-user\n",
    "```"
   ]
  },
  {
   "cell_type": "markdown",
   "metadata": {},
   "source": [
    "Go to the  directory where you downloaded the `lectures` github repo. Pull updates to material:\n",
    "\n",
    "```bash\n",
    "cd $HOME/lectures-user && git pull\n",
    "```"
   ]
  },
  {
   "cell_type": "markdown",
   "metadata": {},
   "source": [
    "## Docker images"
   ]
  },
  {
   "cell_type": "markdown",
   "metadata": {},
   "source": [
    "Download or update images\n",
    "```\n",
    "docker pull cineca/hadoopnotebook\n",
    "docker pull cineca/sparknotebook\n",
    "docker pull cineca/sparkcluster\n",
    "```"
   ]
  },
  {
   "cell_type": "markdown",
   "metadata": {},
   "source": [
    "## Docker compose"
   ]
  },
  {
   "cell_type": "markdown",
   "metadata": {},
   "source": [
    "FIRST LAB: **Hadoop** environemnt\n",
    "\n",
    "```\n",
    "docker-compose -f containers/massive.yml up hadoopclient\n",
    "```\n",
    "\n",
    "SECOND LAB: **Spark** environemnt\n",
    "\n",
    "```\n",
    "docker-compose -f containers/massive.yml up sparkclient\n",
    "```\n"
   ]
  },
  {
   "cell_type": "markdown",
   "metadata": {},
   "source": [
    "## Without Docker compose"
   ]
  },
  {
   "cell_type": "markdown",
   "metadata": {},
   "source": [
    "FIRST LAB: **Hadoop** environemnt\n",
    "\n",
    "```\n",
    "bash containers/hadoop.sh\n",
    "```\n",
    "\n",
    "SECOND LAB: **Spark** environemnt\n",
    "\n",
    "```\n",
    "bash containers/spark.sh\n",
    "```\n"
   ]
  },
  {
   "cell_type": "markdown",
   "metadata": {},
   "source": [
    "## Remove all containers"
   ]
  },
  {
   "cell_type": "markdown",
   "metadata": {},
   "source": [
    "```\n",
    "docker rm -f -v $(docker ps -a -q)\n",
    "```"
   ]
  }
 ],
 "metadata": {
  "kernelspec": {
   "display_name": "Python 3",
   "language": "python",
   "name": "python3"
  },
  "language_info": {
   "codemirror_mode": {
    "name": "ipython",
    "version": 3
   },
   "file_extension": ".py",
   "mimetype": "text/x-python",
   "name": "python",
   "nbconvert_exporter": "python",
   "pygments_lexer": "ipython3",
   "version": "3.4.3"
  }
 },
 "nbformat": 4,
 "nbformat_minor": 0
}
