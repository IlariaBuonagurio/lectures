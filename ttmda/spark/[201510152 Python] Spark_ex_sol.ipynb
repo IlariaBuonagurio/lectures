{
 "cells": [
  {
   "cell_type": "markdown",
   "metadata": {},
   "source": [
    "# (Py)Spark Exercizes\n",
    "@stravanni\n",
    "\n"
   ]
  },
  {
   "cell_type": "code",
   "execution_count": null,
   "metadata": {
    "collapsed": true
   },
   "outputs": [],
   "source": [
    "from pyspark import SparkConf, SparkContext\n",
    "conf = SparkConf()\n",
    "sc = SparkContext(conf=conf)"
   ]
  },
  {
   "cell_type": "markdown",
   "metadata": {},
   "source": [
    "----\n",
    "# Exercises\n",
    "### Try to solve the following exercizes employing the API presentet above"
   ]
  },
  {
   "cell_type": "markdown",
   "metadata": {},
   "source": [
    "## A. Wordcount\n",
    "1. Read the file \"example.txt\", containing \"THE DIVINE COMEDY\"\n",
    "2. Select the 10 most frequent words"
   ]
  },
  {
   "cell_type": "code",
   "execution_count": null,
   "metadata": {
    "collapsed": false
   },
   "outputs": [],
   "source": [
    "FILE_PATH = \"data/\""
   ]
  },
  {
   "cell_type": "code",
   "execution_count": null,
   "metadata": {
    "collapsed": false
   },
   "outputs": [],
   "source": [
    "# Write your solution here\n",
    "# Most common words in \"THE DIVINE COMEDY\"\n",
    "rdd = sc.textFile(FILE_PATH + \"DivineComedy.txt\")\n",
    "res = (rdd.flatMap(lambda x: x.split())\n",
    "       .map(lambda x: x.lower())\n",
    "       .map(lambda x: (x, 1))\n",
    "       .reduceByKey(lambda x, y: x + y)\n",
    "       .sortBy(lambda x: x[1], ascending=False)\n",
    "      ).take(10)\n",
    "res"
   ]
  },
  {
   "cell_type": "markdown",
   "metadata": {},
   "source": [
    "## B. Estimating Pi\n",
    "This code estimates π by \"throwing darts\" at a circle.\n",
    "\n",
    "1. We pick random points in the unit square ((0, 0) to (1,1)) and see how many fall in the unit circle.\n",
    "2. The fraction should be π / 4, so we use this to get our estimate."
   ]
  },
  {
   "cell_type": "code",
   "execution_count": null,
   "metadata": {
    "collapsed": false,
    "slideshow": {
     "slide_type": "slide"
    }
   },
   "outputs": [],
   "source": [
    "# SOLUTION\n",
    "from random import random\n",
    "NUM_SAMPLES = 100000000\n",
    "\n",
    "def sample(p):\n",
    "    x, y = random(), random()\n",
    "    return 1 if x*x + y*y < 1 else 0\n",
    "\n",
    "\n",
    "    \n",
    "\n",
    "sample_nums = sc.parallelize(range(0, NUM_SAMPLES))\n",
    "\n",
    "sample = sample_nums.map(sample)\n",
    "def summ(x, y):\n",
    "    return x + y\n",
    "\n",
    "count = sample.reduce(summ)\n",
    "#count = sample.reduce(lambda x, y: x + y)\n",
    "\n",
    "print(\"Pi is roughly %f\" % (4.0 * count / NUM_SAMPLES))"
   ]
  },
  {
   "cell_type": "markdown",
   "metadata": {},
   "source": [
    "## C. TMax"
   ]
  },
  {
   "cell_type": "code",
   "execution_count": null,
   "metadata": {
    "collapsed": true
   },
   "outputs": [],
   "source": [
    "import re\n",
    "import sys"
   ]
  },
  {
   "cell_type": "code",
   "execution_count": null,
   "metadata": {
    "collapsed": true
   },
   "outputs": [],
   "source": [
    "#function to extract the data from the line\n",
    "#based on position and filter out the invalid records\n",
    "def extractData(line):\n",
    "    val = line.strip()\n",
    "    (year, temp, q) = (str(val[15:19]), str(val[87:92]), str(val[92:93]))\n",
    "    if (temp != \"+9999\" and re.match(\"[01459]\", q)):\n",
    "        return [(year, temp)]\n",
    "    else:\n",
    "        return []"
   ]
  },
  {
   "cell_type": "code",
   "execution_count": null,
   "metadata": {
    "collapsed": false
   },
   "outputs": [],
   "source": [
    "#Create an RDD from the input data in HDFS\n",
    "weatherData = sc.textFile(FILE_PATH + \"1902.txt\")\n",
    "\n",
    "#Transform the data to extract/filter and then find the max temperature\n",
    "temperature_per_year = weatherData.flatMap(extractData)"
   ]
  },
  {
   "cell_type": "code",
   "execution_count": null,
   "metadata": {
    "collapsed": false
   },
   "outputs": [],
   "source": [
    "temperature_per_year.collect()"
   ]
  },
  {
   "cell_type": "code",
   "execution_count": null,
   "metadata": {
    "collapsed": false
   },
   "outputs": [],
   "source": [
    "max_temperature_per_year = temperature_per_year.reduceByKey(lambda x,y: int(x) if int(x)>int(y) else int(y))"
   ]
  },
  {
   "cell_type": "code",
   "execution_count": null,
   "metadata": {
    "collapsed": false
   },
   "outputs": [],
   "source": [
    "max_temperature_per_year.collect()"
   ]
  },
  {
   "cell_type": "code",
   "execution_count": null,
   "metadata": {
    "collapsed": false
   },
   "outputs": [],
   "source": [
    "years = max_temperature_per_year.map(lambda x: x[1])\n",
    "years.distinct().collect()"
   ]
  },
  {
   "cell_type": "code",
   "execution_count": null,
   "metadata": {
    "collapsed": false
   },
   "outputs": [],
   "source": [
    "#Save the RDD back into HDFS\n",
    "max_temperature_per_year.saveAsTextFile(\"out/output\")"
   ]
  },
  {
   "cell_type": "markdown",
   "metadata": {},
   "source": [
    "#### Currently, pyspark doesn't support overwrite or append.\n",
    "\n",
    "- The function `saveAsTextFile` is\n",
    "a wrapper around `saveAsHadoopFile` and it's not possible overwrite existing files.\n",
    "\n",
    "#### in scala\n",
    "It is however trivial to do this using HDFS directly from Scala:\n",
    "```\n",
    "val hadoopConf = new org.apache.hadoop.conf.Configuration()\n",
    "\n",
    "val hdfs = org.apache.hadoop.fs.FileSystem.get(new java.net.URI(\"hdfs://localhost:9000\"), hadoopConf)\n",
    "```\n",
    "#### in shell\n",
    "- If you need to merge hdfs file, remember to use:\n",
    "[hadoop getMerge](https://hadoop.apache.org/docs/r2.4.1/hadoop-project-dist/hadoop-common/FileSystemShell.html#getmerge)\n",
    "- If you simply want to delete it:\n",
    "```\n",
    "hdfs dfs -rm -R \"hdfs:///output\"\n",
    "```"
   ]
  },
  {
   "cell_type": "code",
   "execution_count": null,
   "metadata": {
    "collapsed": true
   },
   "outputs": [],
   "source": [
    "weatherData_ = sc.textFile(\"out/output\")"
   ]
  },
  {
   "cell_type": "code",
   "execution_count": null,
   "metadata": {
    "collapsed": false
   },
   "outputs": [],
   "source": [
    "weatherData_.collect()"
   ]
  },
  {
   "cell_type": "code",
   "execution_count": null,
   "metadata": {
    "collapsed": true
   },
   "outputs": [],
   "source": []
  }
 ],
 "metadata": {
  "celltoolbar": "Raw Cell Format",
  "kernelspec": {
   "display_name": "Python 3",
   "language": "python",
   "name": "python3"
  },
  "language_info": {
   "codemirror_mode": {
    "name": "ipython",
    "version": 3
   },
   "file_extension": ".py",
   "mimetype": "text/x-python",
   "name": "python",
   "nbconvert_exporter": "python",
   "pygments_lexer": "ipython3",
   "version": "3.4.3"
  }
 },
 "nbformat": 4,
 "nbformat_minor": 0
}
