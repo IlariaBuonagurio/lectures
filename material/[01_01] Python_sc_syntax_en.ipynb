{
 "cells": [
  {
   "cell_type": "markdown",
   "metadata": {
    "slideshow": {
     "slide_type": "slide"
    }
   },
   "source": [
    "![](files/images/cover.png)"
   ]
  },
  {
   "cell_type": "markdown",
   "metadata": {
    "slideshow": {
     "slide_type": "subslide"
    }
   },
   "source": [
    "## Outlook\n",
    "\n",
    "* Philosophy                    \n",
    "* Interpreter\n",
    "* Built-in types and operations \n",
    "* Program file\n",
    "* Built-in containers\n",
    " * Tuples\n",
    " * Lists\n",
    " * Sets\n",
    " * Dicts"
   ]
  },
  {
   "cell_type": "markdown",
   "metadata": {
    "slideshow": {
     "slide_type": "subslide"
    }
   },
   "source": [
    "## Outlook\n",
    "\n",
    "* Flow control contructs\n",
    " * if-elif-else\n",
    " * For loops\n",
    " * While loops\n",
    "* Object reference\n",
    "* Functions\n",
    " * Argument Passing\n",
    " * Doc string\n",
    " * Lambda functions"
   ]
  },
  {
   "cell_type": "markdown",
   "metadata": {
    "slideshow": {
     "slide_type": "subslide"
    }
   },
   "source": [
    "## Outlook\n",
    "\n",
    "* Sequences\n",
    " * Functional programming\n",
    " * List comprehension\n",
    "* Output representation\n",
    " * str and repr\n",
    " * String formatting\n",
    "* Classes \n",
    " * Instances \n",
    " * Methods\n",
    " * Attributes\n",
    " * Inheritance"
   ]
  },
  {
   "cell_type": "markdown",
   "metadata": {
    "slideshow": {
     "slide_type": "subslide"
    }
   },
   "source": [
    "## Outlook\n",
    "\n",
    "* Iterables and Iterators\n",
    "* Introspection\n",
    "* Modules\n",
    " * Packages\n",
    " * pydoc and help()\n",
    " * Program arguments\n",
    "* File I/O\n",
    "* Error handling"
   ]
  },
  {
   "cell_type": "markdown",
   "metadata": {
    "slideshow": {
     "slide_type": "slide"
    }
   },
   "source": [
    "## philosophy\n",
    "\n",
    "Python is a programming language with many good features:\n",
    "\n",
    "* Very easy to use\n",
    "* Easy to learn (looks like pseudo-coding)\n",
    "* Excellent readability (there is only one way to do anything)\n",
    "* Excellent portability\n"
   ]
  },
  {
   "cell_type": "markdown",
   "metadata": {
    "slideshow": {
     "slide_type": "subslide"
    }
   },
   "source": [
    "## philosophy\n",
    "\n",
    "* Do not call it a “scripting language”! Although it can be used as such, it is much more.\n",
    "* It is an high level language, modern, complete, with which it is possible to realize highly complex software.\n",
    "* It is an interpreted language, but it would be more appropriate to call it \"dynamic language\".\n",
    "\n"
   ]
  },
  {
   "cell_type": "markdown",
   "metadata": {
    "slideshow": {
     "slide_type": "subslide"
    }
   },
   "source": [
    "## philosophy\n",
    "\n",
    "* A dynamic language is a high­level language in which many of the controls are executed run-time, while in other languages they are done at compile time.\n",
    "\n",
    "* Actually python \"compile\" the source into bytecode that runs on a virtual machine (like Java).\n"
   ]
  },
  {
   "cell_type": "markdown",
   "metadata": {
    "slideshow": {
     "slide_type": "subslide"
    }
   },
   "source": [
    "## philosophy\n",
    "\n",
    "It is a multiparadigm language:\n",
    "* Imperative\n",
    "* Object-oriented\n",
    "* Functional\n",
    "* Structural\n",
    "* Aspect-oriented\n",
    "* Design by contract (with an extension)\n",
    "* ...\n"
   ]
  },
  {
   "cell_type": "markdown",
   "metadata": {
    "slideshow": {
     "slide_type": "subslide"
    }
   },
   "source": [
    "## The Zen of python\n"
   ]
  },
  {
   "cell_type": "code",
   "execution_count": null,
   "metadata": {
    "collapsed": true,
    "slideshow": {
     "slide_type": "fragment"
    }
   },
   "outputs": [],
   "source": [
    "import this"
   ]
  },
  {
   "cell_type": "markdown",
   "metadata": {
    "collapsed": true,
    "slideshow": {
     "slide_type": "subslide"
    }
   },
   "source": [
    "## disavtanges?\n",
    "\n",
    "Python is often considered a slow language. To a large extent this is true: it is slower than Java, for \n",
    "example.\n",
    "\n",
    "But the speed is not always the bottleneck. Often, the management of the complexity is a problem more important than speed.\n",
    "\n",
    "However, there are several ways to make faster the \"critical\" parts of a python program.\n"
   ]
  },
  {
   "cell_type": "markdown",
   "metadata": {
    "slideshow": {
     "slide_type": "subslide"
    }
   },
   "source": [
    "## performance \n",
    "\n",
    "“People are able to code complex algorithms in much less time by using a high-level language like \n",
    "Python (e.g., also C++). There can be a performance penalty in the most pure sense of the \n",
    "term.”\n"
   ]
  },
  {
   "cell_type": "markdown",
   "metadata": {
    "slideshow": {
     "slide_type": "subslide"
    }
   },
   "source": [
    "## optimization\n",
    "\n",
    "\"The best performance improvement is the transition from the nonworking to the working state.\"\n",
    "--John Ousterhout\n",
    "\n",
    "\"Premature optimization is the root of all evil.\"\n",
    "--Donald Knuth\n",
    "\n",
    "\"You can always optimize it later.\"\n",
    "-- Unknown\n"
   ]
  },
  {
   "cell_type": "markdown",
   "metadata": {
    "slideshow": {
     "slide_type": "subslide"
    }
   },
   "source": [
    "## Python 2 / Python 3\n",
    "\n",
    "* There are two main branches of development of python:\n",
    " * python2: it is a “dead” branch, that is maintained, but that will not undergo updates / evolution\n",
    " * python3: it is the new python, actually still little used compared to python2.\n",
    "* The differences are not huge, also there is the utility 2to3 to convert code from the old to the new python.\n"
   ]
  },
  {
   "cell_type": "markdown",
   "metadata": {
    "slideshow": {
     "slide_type": "subslide"
    }
   },
   "source": [
    "## Python 3\n",
    "\n",
    "* We will take care mainly of python3.\n",
    "* I will try to point out the main differences.\n"
   ]
  },
  {
   "cell_type": "markdown",
   "metadata": {
    "slideshow": {
     "slide_type": "slide"
    }
   },
   "source": [
    "## intepreter\n",
    "\n",
    "* Python is an interpreted language\n",
    "* The interpreter performs a compilation from source to bytecode, which is then executed on a virtual machine, as in Java\n",
    "* The interpreter is also an excellent \"calculator\", to be used in interactive!"
   ]
  },
  {
   "cell_type": "code",
   "execution_count": null,
   "metadata": {
    "collapsed": false,
    "slideshow": {
     "slide_type": "fragment"
    }
   },
   "outputs": [],
   "source": [
    "2**1024"
   ]
  },
  {
   "cell_type": "markdown",
   "metadata": {
    "slideshow": {
     "slide_type": "subslide"
    }
   },
   "source": [
    "## intepreter\n",
    "\n",
    "* When used in interactive mode, the interpreter acts a little differently.\n",
    "* This is the prompt: “>>>” \n",
    "* If an expression has a value, it is printed automatically:\n"
   ]
  },
  {
   "cell_type": "markdown",
   "metadata": {
    "slideshow": {
     "slide_type": "subslide"
    }
   },
   "source": [
    "## intepreter\n",
    "\n",
    "* Any error can occur during the execution of the interpreter in interactive mode, the interpreter survives, even in case of SyntaxError:\n"
   ]
  },
  {
   "cell_type": "code",
   "execution_count": null,
   "metadata": {
    "collapsed": false,
    "slideshow": {
     "slide_type": "fragment"
    }
   },
   "outputs": [],
   "source": [
    "5/0"
   ]
  },
  {
   "cell_type": "code",
   "execution_count": null,
   "metadata": {
    "collapsed": false,
    "slideshow": {
     "slide_type": "subslide"
    }
   },
   "outputs": [],
   "source": [
    "fact(100)"
   ]
  },
  {
   "cell_type": "code",
   "execution_count": null,
   "metadata": {
    "collapsed": false,
    "slideshow": {
     "slide_type": "fragment"
    }
   },
   "outputs": [],
   "source": [
    "@@@ausfd?="
   ]
  },
  {
   "cell_type": "markdown",
   "metadata": {
    "slideshow": {
     "slide_type": "subslide"
    }
   },
   "source": [
    "## print() \n",
    "\n",
    "To print on standard output you may use the print() function.\n",
    "\n",
    "It can take any number of arguments:\n"
   ]
  },
  {
   "cell_type": "code",
   "execution_count": null,
   "metadata": {
    "collapsed": false,
    "slideshow": {
     "slide_type": "fragment"
    }
   },
   "outputs": [],
   "source": [
    "print(0, 2, 4)"
   ]
  },
  {
   "cell_type": "code",
   "execution_count": null,
   "metadata": {
    "collapsed": false,
    "slideshow": {
     "slide_type": "fragment"
    }
   },
   "outputs": [],
   "source": [
    "print(0, 2, 4, end='')"
   ]
  },
  {
   "cell_type": "markdown",
   "metadata": {
    "slideshow": {
     "slide_type": "subslide"
    }
   },
   "source": [
    "## python2\n",
    "\n",
    "Please note, in python2 print is an operator:\n",
    "\n",
    "<pre>\n",
    ">>> print 1, 2, 3\n",
    "</pre>"
   ]
  },
  {
   "cell_type": "markdown",
   "metadata": {
    "slideshow": {
     "slide_type": "subslide"
    }
   },
   "source": [
    "## integers\n",
    "\n",
    "* In python the integers have arbitrary precision; This allowed us to calculate `2**1024` without problems.\n",
    "* Any integer whose definition can be contained in the RAM of your computer is permitted.\n"
   ]
  },
  {
   "cell_type": "markdown",
   "metadata": {
    "slideshow": {
     "slide_type": "subslide"
    }
   },
   "source": [
    "## python2\n",
    "\n",
    "In python2 there are two types of integers: \n",
    "* int for integers up to `2**63-1` (see sys.maxint)\n",
    "* long for integers of any size!\n",
    "The int values are automatically converted into long as \n",
    "needed:\n",
    "\n",
    "<pre>\n",
    ">>> print a, type(a)\n",
    "9223372036854775807 &lt;type 'int'&gt;\n",
    ">>> a += 1\n",
    ">>> print a, type(a)\n",
    "9223372036854775808 &lt;type 'long'&gt;\n",
    "</pre>"
   ]
  },
  {
   "cell_type": "markdown",
   "metadata": {
    "slideshow": {
     "slide_type": "subslide"
    }
   },
   "source": [
    "## floating point \n",
    "\n",
    "<pre>\n",
    ">>> 2.0**-1024\n",
    "5.5626846462680035e-309\n",
    "</pre>\n",
    "The floating point numbers have finite precision:\n",
    "<pre>\n",
    ">>> 2.0**+2048\n",
    "Traceback (most recent call last):\n",
    "  File \"&lt;stdin&gt;\", line 1, in &lt;module&gt;\n",
    "OverflowError: (34, 'Numerical result out of \n",
    "range')\n",
    ">>> \n",
    "</pre>\n"
   ]
  },
  {
   "cell_type": "markdown",
   "metadata": {
    "slideshow": {
     "slide_type": "subslide"
    }
   },
   "source": [
    "## integer division\n",
    "\n",
    "\n",
    "In python, dividing two integers produces a float:\n",
    "\n",
    "<pre>\n",
    ">>> 10 / 4\n",
    "2.5\n",
    "</pre>\n",
    "\n",
    "When you want the division with truncation, you can use the operator `//`:\n",
    "\n",
    "<pre>\n",
    ">>> 10 // 4\n",
    "2\n",
    "</pre>\n",
    "\n",
    "Despite being highly atypical compared to other languages, this \n",
    "is very convenient.\n"
   ]
  },
  {
   "cell_type": "markdown",
   "metadata": {
    "slideshow": {
     "slide_type": "subslide"
    }
   },
   "source": [
    "## division with truncation\n",
    "\n",
    "The operator // division with truncation is also \n",
    "available for the float:\n",
    "\n",
    "<pre>\n",
    ">>> 10.0 / 4.0\n",
    "2.5\n",
    ">>> 10.0 // 4.0\n",
    "2.0\n",
    ">>> \n",
    "</pre>\n"
   ]
  },
  {
   "cell_type": "markdown",
   "metadata": {
    "slideshow": {
     "slide_type": "subslide"
    }
   },
   "source": [
    "## python2\n",
    "\n",
    "In python2, integer division produces an integer, \n",
    "and it matches with the division with truncation."
   ]
  },
  {
   "cell_type": "markdown",
   "metadata": {
    "slideshow": {
     "slide_type": "subslide"
    }
   },
   "source": [
    "## divmod\n",
    "\n",
    "Sometimes it is helpful to have both the quotient and the remainder of a integer division; you can use the divmod() function\n",
    "\n",
    "This function returns two values, the quotient and the remainder (or modulo)."
   ]
  },
  {
   "cell_type": "code",
   "execution_count": null,
   "metadata": {
    "collapsed": false,
    "slideshow": {
     "slide_type": "fragment"
    }
   },
   "outputs": [],
   "source": [
    "divmod(10,4)"
   ]
  },
  {
   "cell_type": "markdown",
   "metadata": {
    "slideshow": {
     "slide_type": "subslide"
    }
   },
   "source": [
    "## test (interactive mode)\n",
    "\n",
    "<pre>\n",
    "Do the following:\n",
    ">>> 2**1024\n",
    ">>> 100/3\n",
    ">>> 100//3\n",
    ">>> 100.0/3\n",
    ">>> 100.0//3\n",
    ">>> 100%3\n",
    ">>> divmod(100, 3)\n",
    "</pre>"
   ]
  },
  {
   "cell_type": "code",
   "execution_count": null,
   "metadata": {
    "collapsed": false,
    "slideshow": {
     "slide_type": "fragment"
    }
   },
   "outputs": [],
   "source": [
    "divmod(100,3)"
   ]
  },
  {
   "cell_type": "markdown",
   "metadata": {
    "slideshow": {
     "slide_type": "subslide"
    }
   },
   "source": [
    "## complex\n",
    "There is a `complex` type\n",
    "\n",
    "<pre>\n",
    ">>> z = 3.0 + 4.0j\n",
    ">>> w = 3.0 - 4.0j\n",
    ">>> z+w\n",
    "(6+0j)\n",
    ">>> z*w\n",
    "(25+0j)\n",
    ">>> type(z)\n",
    "&lt;class 'complex'&gt;\n",
    ">>> print(z.real, z.imag, abs(z))\n",
    "3.0 4.0 5.0\n",
    ">>>\n",
    "</pre>\n"
   ]
  },
  {
   "cell_type": "markdown",
   "metadata": {
    "slideshow": {
     "slide_type": "slide"
    }
   },
   "source": [
    "## variables\n",
    "\n",
    "You can assign to any object a symbolic name, which does not need to be declared.\n",
    "\n",
    "<pre>\n",
    ">>> a = 5\n",
    ">>> b = 3.2\n",
    ">>> c = a\n",
    ">>> C = b # it's not \"c\", it's another variable\n",
    ">>>\n",
    "</pre>"
   ]
  },
  {
   "cell_type": "markdown",
   "metadata": {
    "slideshow": {
     "slide_type": "subslide"
    }
   },
   "source": [
    "## variables\n",
    "\n",
    "Although it is a bit premature to explain it now, actually __symbolic names a, b, c and C are not \n",
    "variables.__\n",
    "\n",
    "Moreover, the symbol \"=\" is not at all what it seems!\n",
    "\n",
    "For now anyway we can continue \"pretending\" that these symbols are variables and that \"=\" execute an assignment or copy (as in C, C++ or Fortran).\n"
   ]
  },
  {
   "cell_type": "markdown",
   "metadata": {
    "slideshow": {
     "slide_type": "subslide"
    }
   },
   "source": [
    "## operators\n",
    "\n",
    "Common operators are available:\n",
    "* \\+ (sum, concatenation)\n",
    "* \\- (subtraction)\n",
    "* \\* (product)\n",
    "* / (division)\n",
    "* // (integer division, this is new)\n",
    "* % (modulo)\n",
    "* ...\n"
   ]
  },
  {
   "cell_type": "markdown",
   "metadata": {
    "slideshow": {
     "slide_type": "subslide"
    }
   },
   "source": [
    "## binary operators\n",
    "\n",
    "Like in C, binary operators are associated to assignment operators:\n",
    "* += (increase)\n",
    "* -= (decrease)\n",
    "* ...\n",
    "therefore,\n",
    "\n",
    "<pre>\n",
    ">>> a = 10\n",
    ">>> a += 4\n",
    ">>> print(a)\n",
    "14\n",
    ">>>\n",
    "</pre>"
   ]
  },
  {
   "cell_type": "markdown",
   "metadata": {
    "slideshow": {
     "slide_type": "slide"
    }
   },
   "source": [
    "## strings\n",
    "\n",
    "* The type str is commonly used for the strings. It can handle unicode strings.\n",
    "* They can be created either with single quotes ('alpha') or double quotes (“alpha”)"
   ]
  },
  {
   "cell_type": "code",
   "execution_count": null,
   "metadata": {
    "collapsed": false,
    "slideshow": {
     "slide_type": "fragment"
    }
   },
   "outputs": [],
   "source": [
    "\"alpha\" + 'beta'"
   ]
  },
  {
   "cell_type": "markdown",
   "metadata": {
    "slideshow": {
     "slide_type": "subslide"
    }
   },
   "source": [
    "## strings\n",
    "Strings can be printed in 2 ways: \n",
    "* If function print() is used, the string content is shown\n",
    "\n",
    "<pre>\n",
    ">>> print(\"Hello, \" + \"world!\")\n",
    "Hello, world!\n",
    "</pre>\n",
    "\n",
    "* In the interactive intepreter, if we write an expression that produces a string, the content will be shown with quotes:\n",
    "\n",
    "<pre>\n",
    ">>> \"Hello, \" + \"world!\"\n",
    "'Hello, world!'\n",
    "</pre>"
   ]
  },
  {
   "cell_type": "markdown",
   "metadata": {
    "slideshow": {
     "slide_type": "subslide"
    }
   },
   "source": [
    "## strings\n",
    "\n",
    "* Triple quotes: `“””` or `'''`, can be used for strings that span over more than one line, or that contain single or double quotes (or the other triple quotes):"
   ]
  },
  {
   "cell_type": "code",
   "execution_count": null,
   "metadata": {
    "collapsed": false,
    "slideshow": {
     "slide_type": "fragment"
    }
   },
   "outputs": [],
   "source": [
    "a = \"\"\"This string spans over two lines,\n",
    "and contains 'single quotes', \"double quotes\" and \n",
    "'''triple quotes'''\"\"\"\n",
    "print(a)\n"
   ]
  },
  {
   "cell_type": "markdown",
   "metadata": {
    "slideshow": {
     "slide_type": "subslide"
    }
   },
   "source": [
    "## strings\n",
    "* Escape characters are more or less like in C code:\n",
    "\n",
    "<pre>\n",
    ">>> print(\"alpha\\nbeta\\tgamma\")\n",
    "alpha\n",
    "beta    gamma\n",
    ">>>\n",
    "</pre>"
   ]
  },
  {
   "cell_type": "markdown",
   "metadata": {
    "slideshow": {
     "slide_type": "subslide"
    }
   },
   "source": [
    "## strings\n",
    "\n",
    "* It's possible to create raw strings (escape characters will not be interpreted):\n",
    "\n",
    "<pre>\n",
    ">>> print(r\"alfa\\nbeta\\tgamma\")\n",
    "alfa\\nbeta\\tgamma\n",
    ">>>\n",
    "</pre>\n",
    "\n",
    "* This is particular helpful in defining regular expression\n"
   ]
  },
  {
   "cell_type": "markdown",
   "metadata": {
    "slideshow": {
     "slide_type": "subslide"
    }
   },
   "source": [
    "## strings\n",
    "\n",
    "It is possible to operate on strings in different ways:\n",
    "\n",
    "Try yourself on a python interpreter\n"
   ]
  },
  {
   "cell_type": "code",
   "execution_count": null,
   "metadata": {
    "collapsed": false,
    "slideshow": {
     "slide_type": "fragment"
    }
   },
   "outputs": [],
   "source": [
    "s = \"Hello, world!\""
   ]
  },
  {
   "cell_type": "code",
   "execution_count": null,
   "metadata": {
    "collapsed": false,
    "slideshow": {
     "slide_type": "fragment"
    }
   },
   "outputs": [],
   "source": [
    "print(s.lower())"
   ]
  },
  {
   "cell_type": "code",
   "execution_count": null,
   "metadata": {
    "collapsed": false,
    "slideshow": {
     "slide_type": "fragment"
    }
   },
   "outputs": [],
   "source": [
    "print(s.upper())"
   ]
  },
  {
   "cell_type": "code",
   "execution_count": null,
   "metadata": {
    "collapsed": false,
    "slideshow": {
     "slide_type": "fragment"
    }
   },
   "outputs": [],
   "source": [
    "print(s.title())"
   ]
  },
  {
   "cell_type": "code",
   "execution_count": null,
   "metadata": {
    "collapsed": false,
    "scrolled": true,
    "slideshow": {
     "slide_type": "fragment"
    }
   },
   "outputs": [],
   "source": [
    "print(s.replace('o', 'x'))"
   ]
  },
  {
   "cell_type": "code",
   "execution_count": null,
   "metadata": {
    "collapsed": false,
    "slideshow": {
     "slide_type": "subslide"
    }
   },
   "outputs": [],
   "source": [
    "print(s.find('or'))"
   ]
  },
  {
   "cell_type": "code",
   "execution_count": null,
   "metadata": {
    "collapsed": false,
    "slideshow": {
     "slide_type": "fragment"
    }
   },
   "outputs": [],
   "source": [
    "print(len(s))"
   ]
  },
  {
   "cell_type": "code",
   "execution_count": null,
   "metadata": {
    "collapsed": false,
    "slideshow": {
     "slide_type": "fragment"
    }
   },
   "outputs": [],
   "source": [
    "print(\"Hello, world!\".upper())"
   ]
  },
  {
   "cell_type": "markdown",
   "metadata": {
    "slideshow": {
     "slide_type": "subslide"
    }
   },
   "source": [
    "## strings\n",
    "\n",
    "We can have access to single characters or substrings:"
   ]
  },
  {
   "cell_type": "code",
   "execution_count": null,
   "metadata": {
    "collapsed": false,
    "slideshow": {
     "slide_type": "fragment"
    }
   },
   "outputs": [],
   "source": [
    "hi_folk = \"Hi, folk!\"\n",
    "#          012345678 "
   ]
  },
  {
   "cell_type": "code",
   "execution_count": null,
   "metadata": {
    "collapsed": false,
    "slideshow": {
     "slide_type": "fragment"
    }
   },
   "outputs": [],
   "source": [
    "print(hi_folk[0])"
   ]
  },
  {
   "cell_type": "code",
   "execution_count": null,
   "metadata": {
    "collapsed": false,
    "slideshow": {
     "slide_type": "fragment"
    }
   },
   "outputs": [],
   "source": [
    "print(hi_folk[4])"
   ]
  },
  {
   "cell_type": "code",
   "execution_count": null,
   "metadata": {
    "collapsed": false,
    "slideshow": {
     "slide_type": "fragment"
    }
   },
   "outputs": [],
   "source": [
    "print(hi_folk[-1])"
   ]
  },
  {
   "cell_type": "code",
   "execution_count": null,
   "metadata": {
    "collapsed": true,
    "slideshow": {
     "slide_type": "subslide"
    }
   },
   "outputs": [],
   "source": [
    "hi_folk = \"Hi, folk!\"\n",
    "#          012345678 "
   ]
  },
  {
   "cell_type": "code",
   "execution_count": null,
   "metadata": {
    "collapsed": false,
    "slideshow": {
     "slide_type": "-"
    }
   },
   "outputs": [],
   "source": [
    "print(hi_folk[2:])"
   ]
  },
  {
   "cell_type": "code",
   "execution_count": null,
   "metadata": {
    "collapsed": false,
    "slideshow": {
     "slide_type": "fragment"
    }
   },
   "outputs": [],
   "source": [
    "print(hi_folk[:3])"
   ]
  },
  {
   "cell_type": "code",
   "execution_count": null,
   "metadata": {
    "collapsed": false,
    "slideshow": {
     "slide_type": "fragment"
    }
   },
   "outputs": [],
   "source": [
    "print(hi_folk[2:5])"
   ]
  },
  {
   "cell_type": "markdown",
   "metadata": {
    "slideshow": {
     "slide_type": "subslide"
    }
   },
   "source": [
    "## strings\n",
    "\n",
    "Interestingly, strings cannot be modified:\n"
   ]
  },
  {
   "cell_type": "code",
   "execution_count": null,
   "metadata": {
    "collapsed": false,
    "slideshow": {
     "slide_type": "fragment"
    }
   },
   "outputs": [],
   "source": [
    "hi_folk[1] = 'X'"
   ]
  },
  {
   "cell_type": "markdown",
   "metadata": {
    "slideshow": {
     "slide_type": "subslide"
    }
   },
   "source": [
    "## strings\n",
    "\n",
    "Often we are faced with the need of splitting strings in tokens:"
   ]
  },
  {
   "cell_type": "code",
   "execution_count": null,
   "metadata": {
    "collapsed": false,
    "slideshow": {
     "slide_type": "fragment"
    }
   },
   "outputs": [],
   "source": [
    "s = \"alpha:beta:gamma\"\n",
    "s.split(\":\")"
   ]
  },
  {
   "cell_type": "code",
   "execution_count": null,
   "metadata": {
    "collapsed": false,
    "slideshow": {
     "slide_type": "fragment"
    }
   },
   "outputs": [],
   "source": [
    "':'.join(['alpha', 'beta', 'gamma'])"
   ]
  },
  {
   "cell_type": "markdown",
   "metadata": {
    "slideshow": {
     "slide_type": "subslide"
    }
   },
   "source": [
    "## strings\n",
    "Some times we need to remove leading or trailing characters:"
   ]
  },
  {
   "cell_type": "code",
   "execution_count": null,
   "metadata": {
    "collapsed": false,
    "slideshow": {
     "slide_type": "fragment"
    }
   },
   "outputs": [],
   "source": [
    "s = \" \\t\\n alpha beta\\tgamma \"\n",
    "s.strip()"
   ]
  },
  {
   "cell_type": "code",
   "execution_count": null,
   "metadata": {
    "collapsed": false,
    "slideshow": {
     "slide_type": "fragment"
    }
   },
   "outputs": [],
   "source": [
    "s.lstrip()"
   ]
  },
  {
   "cell_type": "code",
   "execution_count": null,
   "metadata": {
    "collapsed": false,
    "slideshow": {
     "slide_type": "fragment"
    }
   },
   "outputs": [],
   "source": [
    "s.rstrip()"
   ]
  },
  {
   "cell_type": "markdown",
   "metadata": {
    "slideshow": {
     "slide_type": "subslide"
    }
   },
   "source": [
    "## strings\n",
    "\n",
    "By default str.strip() remove all the characters of space type (' ', '\\t', '\\n'); it can also \n",
    "receive the characters to remove:"
   ]
  },
  {
   "cell_type": "code",
   "execution_count": null,
   "metadata": {
    "collapsed": false,
    "slideshow": {
     "slide_type": "fragment"
    }
   },
   "outputs": [],
   "source": [
    "s = \"aaabbbccc\"\n",
    "s.strip(\"a\")  # try stripping also \"b\", \"c\", and \"ab\""
   ]
  },
  {
   "cell_type": "markdown",
   "metadata": {
    "slideshow": {
     "slide_type": "slide"
    }
   },
   "source": [
    "## bool \n",
    "\n",
    "The bool type is used for logical values True/False.\n",
    "\n",
    "Thus, a bool object can assume either one of: \n",
    "valori:\n",
    "* `True`\n",
    "* `False`\n"
   ]
  },
  {
   "cell_type": "markdown",
   "metadata": {
    "slideshow": {
     "slide_type": "subslide"
    }
   },
   "source": [
    "## None\n",
    "\n",
    "In python exists a special object called None. It is used as an indefinite value (or no value). It is not a type, but an object!\n",
    "\n",
    "<pre>\n",
    ">>> a = None\n",
    ">>> print(a)\n",
    "None\n",
    ">>>\n",
    "</pre>\n"
   ]
  },
  {
   "cell_type": "markdown",
   "metadata": {
    "slideshow": {
     "slide_type": "slide"
    }
   },
   "source": [
    "## python program file\n",
    "\n",
    "\n",
    "<pre>\n",
    "#!/usr/bin/env python3\n",
    "\n",
    "# this is a useless comment\n",
    "a = 10  # this is an inline comment\n",
    "print(a)\n",
    "</pre>"
   ]
  },
  {
   "cell_type": "markdown",
   "metadata": {
    "slideshow": {
     "slide_type": "subslide"
    }
   },
   "source": [
    "## python program file\n",
    "\n",
    "Let us analyze the content:\n",
    "* The first line\n",
    "  ```\n",
    "  #!/usr/bin/env python3\n",
    "  ```\n",
    "  It is nothing more than a comment but instructs the Unix shell that will be used the interpreter python3 to run the    program. The trick /usr/bin/env is to avoid worrying about the exact path of the python installation, indeed the env command is able to find it.\n",
    "\n",
    "* It must be the first line of the file.\n",
    "* The file name is arbitrary (not necessarily have to end in .py).\n"
   ]
  },
  {
   "cell_type": "markdown",
   "metadata": {
    "slideshow": {
     "slide_type": "subslide"
    }
   },
   "source": [
    "## python program file\n",
    "Let us analyze the content:\n",
    "* The line\n",
    "   ```\n",
    "   # this is a useless comment\n",
    "   ```\n",
    "  is a comment, and it is ignored. \n",
    "* Also the next line contains an inline comment. All that is after a # until the end of the line is not interpreted.\n"
   ]
  },
  {
   "cell_type": "markdown",
   "metadata": {
    "slideshow": {
     "slide_type": "subslide"
    }
   },
   "source": [
    "## source encoding\n",
    "* The python code can be written in any system of characters. By default, if you do not declare anything, it is utf-8.\n",
    "* But it can be anything, even Chinese."
   ]
  },
  {
   "cell_type": "markdown",
   "metadata": {
    "slideshow": {
     "slide_type": "subslide"
    }
   },
   "source": [
    "## python2\n",
    "* In python2 the default encoding is latin1, and it is nothing but ASCII characters. Accented letters, for example, are not allowed, not even in the comments.\n",
    "* To change the encoding is used a line like this at the beginning of the file:\n",
    "```\n",
    "# -*- coding: utf-8 -*-\n",
    "```\n",
    "(PEP 0263)\n"
   ]
  },
  {
   "cell_type": "markdown",
   "metadata": {
    "slideshow": {
     "slide_type": "subslide"
    }
   },
   "source": [
    "## test (name.py)\n",
    "* Define a string name that contains your name, a string surname containing your last name;\n",
    "* Print the length of the two strings;\n",
    "* Concatenate the two strings forming name_surname;\n",
    "* Print the length of name_surname.\n"
   ]
  },
  {
   "cell_type": "markdown",
   "metadata": {
    "slideshow": {
     "slide_type": "slide"
    }
   },
   "source": [
    "## containers\n",
    "One of the strengths of python is the availability of the containers, which are very efficient, comfortable to use, and versatile:\n",
    "* tuple ()\n",
    "* list []\n",
    "* dict {}\n",
    "* set {}, frozenset\n",
    "* other containers in collections module\n",
    " * OrderedDict, Counter, defaultdict...\n"
   ]
  },
  {
   "cell_type": "markdown",
   "metadata": {
    "slideshow": {
     "slide_type": "slide"
    }
   },
   "source": [
    "## tuples\n",
    "A tuple is an __ordered__ sequence, __immutable__, of values, in arbitrary number and arbitrary type."
   ]
  },
  {
   "cell_type": "code",
   "execution_count": null,
   "metadata": {
    "collapsed": false,
    "slideshow": {
     "slide_type": "fragment"
    }
   },
   "outputs": [],
   "source": [
    "a = (3, 4, 5)\n",
    "print(a)"
   ]
  },
  {
   "cell_type": "code",
   "execution_count": null,
   "metadata": {
    "collapsed": false,
    "slideshow": {
     "slide_type": "fragment"
    }
   },
   "outputs": [],
   "source": [
    "a[1]  # indexes from 0 to len-1"
   ]
  },
  {
   "cell_type": "code",
   "execution_count": null,
   "metadata": {
    "collapsed": false,
    "slideshow": {
     "slide_type": "fragment"
    }
   },
   "outputs": [],
   "source": [
    "b = 2,3  # without brackets!\n",
    "print(b)"
   ]
  },
  {
   "cell_type": "code",
   "execution_count": null,
   "metadata": {
    "collapsed": false,
    "slideshow": {
     "slide_type": "subslide"
    }
   },
   "outputs": [],
   "source": [
    "# They are not necessarily homogeneous:\n",
    "z = (3+4j)\n",
    "c = (4, z, \"alfa\", b)\n",
    "print(c)"
   ]
  },
  {
   "cell_type": "code",
   "execution_count": null,
   "metadata": {
    "collapsed": false,
    "slideshow": {
     "slide_type": "fragment"
    }
   },
   "outputs": [],
   "source": [
    "# They can also be on the left of the equal sign:\n",
    "print(z)\n",
    "r, i = z.real, z.imag\n",
    "print(\"real:\", r, \"imag:\", i)\n",
    "d, m = divmod(100, 3)\n",
    "print(d, m)\n"
   ]
  },
  {
   "cell_type": "code",
   "execution_count": null,
   "metadata": {
    "collapsed": false,
    "slideshow": {
     "slide_type": "subslide"
    }
   },
   "outputs": [],
   "source": [
    "# they define other operations\n",
    "a = (1, 2, 3)\n",
    "b = (4, 5, 6)\n",
    "# concatenation\n",
    "a + b"
   ]
  },
  {
   "cell_type": "code",
   "execution_count": null,
   "metadata": {
    "collapsed": false,
    "slideshow": {
     "slide_type": "fragment"
    }
   },
   "outputs": [],
   "source": [
    "# reiteration\n",
    "a * 3 "
   ]
  },
  {
   "cell_type": "code",
   "execution_count": null,
   "metadata": {
    "collapsed": false,
    "slideshow": {
     "slide_type": "subslide"
    }
   },
   "outputs": [],
   "source": [
    "# tuples\n",
    "# The brackets are not required (almost never); but the comma is important!\n",
    "x = 1\n",
    "print(type(x), x)\n",
    "y = 1,\n",
    "print(type(y), y)"
   ]
  },
  {
   "cell_type": "code",
   "execution_count": null,
   "metadata": {
    "collapsed": false,
    "slideshow": {
     "slide_type": "fragment"
    }
   },
   "outputs": [],
   "source": [
    "# The brackets are only necessary to define the empty tuple:\n",
    "empty = ()\n",
    "empty"
   ]
  },
  {
   "cell_type": "code",
   "execution_count": null,
   "metadata": {
    "collapsed": false,
    "slideshow": {
     "slide_type": "subslide"
    }
   },
   "outputs": [],
   "source": [
    "# Slicing gives you access to \"portions\" of a tuple:\n",
    "a = (0, 1, 2, 3, 4)\n",
    "print(a)"
   ]
  },
  {
   "cell_type": "code",
   "execution_count": null,
   "metadata": {
    "collapsed": false,
    "slideshow": {
     "slide_type": "fragment"
    }
   },
   "outputs": [],
   "source": [
    "print(a[1:3])  # from the second element INCLUDED to the fourth EXCLUDED"
   ]
  },
  {
   "cell_type": "code",
   "execution_count": null,
   "metadata": {
    "collapsed": false,
    "slideshow": {
     "slide_type": "fragment"
    }
   },
   "outputs": [],
   "source": [
    "print(a[:2])  # from the first INCLUDED to the third EXCLUDED"
   ]
  },
  {
   "cell_type": "code",
   "execution_count": null,
   "metadata": {
    "collapsed": false,
    "slideshow": {
     "slide_type": "fragment"
    }
   },
   "outputs": [],
   "source": [
    "print(a[2:]) # from the third INCLUDED to the last EXCLUDED"
   ]
  },
  {
   "cell_type": "code",
   "execution_count": null,
   "metadata": {
    "collapsed": false,
    "slideshow": {
     "slide_type": "fragment"
    }
   },
   "outputs": [],
   "source": [
    "print(a[2:] + a[:2])"
   ]
  },
  {
   "cell_type": "code",
   "execution_count": null,
   "metadata": {
    "collapsed": false,
    "slideshow": {
     "slide_type": "subslide"
    }
   },
   "outputs": [],
   "source": [
    "# Tuples can not be changed, like strings:\n",
    "t = (1, 2, 3)"
   ]
  },
  {
   "cell_type": "code",
   "execution_count": null,
   "metadata": {
    "collapsed": false,
    "slideshow": {
     "slide_type": "-"
    }
   },
   "outputs": [],
   "source": [
    "t[0] = 2"
   ]
  },
  {
   "cell_type": "markdown",
   "metadata": {
    "slideshow": {
     "slide_type": "subslide"
    }
   },
   "source": [
    "## test (name.py)\n",
    "\n",
    "* Starting from the file _name.py_, define a tuple containing your name, your last name, and year of birth.\n",
    "\n",
    "* Build, starting from the previous one, a new tuple containing, in order, year of birth, name, last name).\n"
   ]
  },
  {
   "cell_type": "markdown",
   "metadata": {
    "slideshow": {
     "slide_type": "slide"
    }
   },
   "source": [
    "## lists\n",
    "\n",
    "A list is an __ordered__ sequence, __mutable__ of arbitrary values in arbitrary number.\n",
    "\n",
    "In practice they are mutable tuples.\n"
   ]
  },
  {
   "cell_type": "code",
   "execution_count": null,
   "metadata": {
    "collapsed": true,
    "slideshow": {
     "slide_type": "subslide"
    }
   },
   "outputs": [],
   "source": [
    "l = [1, 2, 3]\n",
    "print(l)"
   ]
  },
  {
   "cell_type": "code",
   "execution_count": null,
   "metadata": {
    "collapsed": true,
    "slideshow": {
     "slide_type": "fragment"
    }
   },
   "outputs": [],
   "source": [
    "l.append(4)\n",
    "print(l)"
   ]
  },
  {
   "cell_type": "code",
   "execution_count": null,
   "metadata": {
    "collapsed": true,
    "slideshow": {
     "slide_type": "fragment"
    }
   },
   "outputs": [],
   "source": [
    "l.insert(2, \"XYZ\")\n",
    "print(l)\n",
    "print(len(l))"
   ]
  },
  {
   "cell_type": "code",
   "execution_count": null,
   "metadata": {
    "collapsed": true,
    "slideshow": {
     "slide_type": "subslide"
    }
   },
   "outputs": [],
   "source": [
    "# As with tuples, you can \"slice\" lists\n",
    "print(l)\n",
    "print(l[0], l[-1])  # not a container  \n",
    "print(l[:2])\n",
    "print(l[-4:])\n",
    "l[1] = 3, 2, 1, 0\n",
    "print(l)"
   ]
  },
  {
   "cell_type": "code",
   "execution_count": null,
   "metadata": {
    "collapsed": true,
    "slideshow": {
     "slide_type": "subslide"
    }
   },
   "outputs": [],
   "source": [
    "# some of the functioncs that operate on lists\n",
    "l = [3, 5, 7, 9, 11, 13]\n",
    "l.append(2)\n",
    "l.remove(9)\n",
    "l"
   ]
  },
  {
   "cell_type": "code",
   "execution_count": null,
   "metadata": {
    "collapsed": true,
    "slideshow": {
     "slide_type": "fragment"
    }
   },
   "outputs": [],
   "source": [
    "l.sort()\n",
    "print(l)"
   ]
  },
  {
   "cell_type": "code",
   "execution_count": null,
   "metadata": {
    "collapsed": true,
    "slideshow": {
     "slide_type": "fragment"
    }
   },
   "outputs": [],
   "source": [
    "l.reverse()\n",
    "print(l)"
   ]
  },
  {
   "cell_type": "code",
   "execution_count": null,
   "metadata": {
    "collapsed": true,
    "slideshow": {
     "slide_type": "subslide"
    }
   },
   "outputs": [],
   "source": [
    "# Lists can be used as stacks:\n",
    "print(l)"
   ]
  },
  {
   "cell_type": "code",
   "execution_count": null,
   "metadata": {
    "collapsed": true,
    "slideshow": {
     "slide_type": "fragment"
    }
   },
   "outputs": [],
   "source": [
    "l.pop()"
   ]
  },
  {
   "cell_type": "code",
   "execution_count": null,
   "metadata": {
    "collapsed": true,
    "slideshow": {
     "slide_type": "fragment"
    }
   },
   "outputs": [],
   "source": [
    "l.pop()"
   ]
  },
  {
   "cell_type": "code",
   "execution_count": null,
   "metadata": {
    "collapsed": true,
    "slideshow": {
     "slide_type": "fragment"
    }
   },
   "outputs": [],
   "source": [
    "print(l)"
   ]
  },
  {
   "cell_type": "code",
   "execution_count": null,
   "metadata": {
    "collapsed": true,
    "slideshow": {
     "slide_type": "subslide"
    }
   },
   "outputs": [],
   "source": [
    "l*=2\n",
    "print(l)"
   ]
  },
  {
   "cell_type": "code",
   "execution_count": null,
   "metadata": {
    "collapsed": true,
    "slideshow": {
     "slide_type": "fragment"
    }
   },
   "outputs": [],
   "source": [
    "# item assignment \n",
    "l[1:4] = ['a', 'b', 'c']\n",
    "print(l)"
   ]
  },
  {
   "cell_type": "code",
   "execution_count": null,
   "metadata": {
    "collapsed": true,
    "slideshow": {
     "slide_type": "fragment"
    }
   },
   "outputs": [],
   "source": [
    "l.count(13) # try also l.count('z')\n",
    "print(l)"
   ]
  },
  {
   "cell_type": "code",
   "execution_count": null,
   "metadata": {
    "collapsed": true,
    "slideshow": {
     "slide_type": "fragment"
    }
   },
   "outputs": [],
   "source": [
    "l.index('c')"
   ]
  },
  {
   "cell_type": "code",
   "execution_count": null,
   "metadata": {
    "collapsed": true,
    "slideshow": {
     "slide_type": "subslide"
    }
   },
   "outputs": [],
   "source": [
    "l.extend( (2,3,5) )\n",
    "print(l)"
   ]
  },
  {
   "cell_type": "code",
   "execution_count": null,
   "metadata": {
    "collapsed": true,
    "slideshow": {
     "slide_type": "fragment"
    }
   },
   "outputs": [],
   "source": [
    "del l[:-4]\n",
    "print(l)"
   ]
  },
  {
   "cell_type": "markdown",
   "metadata": {
    "slideshow": {
     "slide_type": "subslide"
    }
   },
   "source": [
    "## test (books.py)\n",
    "\n",
    "Define a list containing the names of some books that you read.\n",
    "\n",
    "Add few more items to the list.\n",
    "\n",
    "Print the number of items in the list.Sort the list."
   ]
  },
  {
   "cell_type": "markdown",
   "metadata": {
    "slideshow": {
     "slide_type": "slide"
    }
   },
   "source": [
    "## range\n",
    "\n",
    "Range is a function to build sequences of integers:"
   ]
  },
  {
   "cell_type": "code",
   "execution_count": null,
   "metadata": {
    "collapsed": false,
    "slideshow": {
     "slide_type": "fragment"
    }
   },
   "outputs": [],
   "source": [
    "print(range(4))\n",
    "l = list(range(4))\n",
    "l"
   ]
  },
  {
   "cell_type": "code",
   "execution_count": null,
   "metadata": {
    "collapsed": false,
    "slideshow": {
     "slide_type": "fragment"
    }
   },
   "outputs": [],
   "source": [
    "print(list(range(3, 7)))"
   ]
  },
  {
   "cell_type": "code",
   "execution_count": null,
   "metadata": {
    "collapsed": true,
    "slideshow": {
     "slide_type": "fragment"
    }
   },
   "outputs": [],
   "source": [
    "print(list(range(3, 10, 2)))"
   ]
  },
  {
   "cell_type": "markdown",
   "metadata": {
    "slideshow": {
     "slide_type": "subslide"
    }
   },
   "source": [
    "## range\n",
    "\n",
    "Actually range does not build a list or a tuple, but a sequence, that is an object iterable in a given direction.\n",
    "\n",
    "Basically, range returns an object that you can scroll from the first to the last element, one element after another, always in the same direction.\n",
    "\n",
    "From this object you can build a container, such as a list or a tuple.\n",
    "\n",
    "\n",
    "\n",
    "\n",
    "\n",
    " \n"
   ]
  },
  {
   "cell_type": "markdown",
   "metadata": {
    "slideshow": {
     "slide_type": "subslide"
    }
   },
   "source": [
    "## python2\n",
    "\n",
    "In python2 the range(...) function has the same interface we've seen, but returns a list.\n",
    "\n",
    "Instead the xrange(...) function behaves exactly like the range in python3."
   ]
  },
  {
   "cell_type": "markdown",
   "metadata": {
    "slideshow": {
     "slide_type": "subslide"
    }
   },
   "source": [
    "## extended slices\n",
    "\n",
    "Slicing syntax also accepts a stride parameter, always separated by \":\""
   ]
  },
  {
   "cell_type": "code",
   "execution_count": null,
   "metadata": {
    "collapsed": false,
    "slideshow": {
     "slide_type": "fragment"
    }
   },
   "outputs": [],
   "source": [
    "l = list(range(20))\n",
    "l[1:18]  # try also l[1:18:3]\n",
    "         #          l[1::3]\n",
    "         #          l[:5:3]\n",
    "         #          l[::3]"
   ]
  },
  {
   "cell_type": "code",
   "execution_count": null,
   "metadata": {
    "collapsed": false,
    "slideshow": {
     "slide_type": "subslide"
    }
   },
   "outputs": [],
   "source": [
    "l = list(range(20))\n",
    "# stride can also be negative\n",
    "l[18:3:-3]  # try also l[17:2:-3]\n",
    "            #          l[::-1] "
   ]
  },
  {
   "cell_type": "markdown",
   "metadata": {
    "slideshow": {
     "slide_type": "subslide"
    }
   },
   "source": [
    "## extended slices\n",
    "\n",
    "When you assign with slicing, the extended slices are less flexible than regular slices, in fact the length \n",
    "of the operands must be identical:\n",
    "\n",
    "<pre>\n",
    ">>> l = list(range(5))\n",
    ">>> r = ['a', 'b', 'c', 'd']\n",
    ">>> r[1:3] = l[:-1]  # len(r[1:3]) == len(l[:-1]), OK\n",
    ">>> r\n",
    "['a', 0, 1, 2, 3, 'd']\n",
    ">>> r[::3] = l[::2]  # len(r[::2]) != len(l[::2]), KO!!!\n",
    "Traceback (most recent call last):\n",
    "  File \"&lt;stdin&gt;\", line 1, in &lt;module&gt;\n",
    "ValueError: attempt to assign sequence of size 3 to extended slice of size 2 \n",
    ">>> r[::2] = l[::2] # len(r[::2]) == len(l[::2]), ok\n",
    ">>> r\n",
    "[0, 0, 2, 2, 4, 'd']\n",
    ">>>\n",
    "</pre>\n"
   ]
  },
  {
   "cell_type": "markdown",
   "metadata": {
    "slideshow": {
     "slide_type": "subslide"
    }
   },
   "source": [
    "## extended slices\n",
    "When you delete items with slicing, there are no problems:\n",
    "\n",
    "<pre>\n",
    ">>> l = list(range(11))\n",
    ">>> del l[::3]\n",
    ">>> l\n",
    "[1, 2, 4, 5, 7, 8, 10]\n",
    ">>> del l[::2]\n",
    ">>> l\n",
    "[2, 5, 8]\n",
    ">>> \n",
    "</pre>\n"
   ]
  },
  {
   "cell_type": "markdown",
   "metadata": {
    "slideshow": {
     "slide_type": "subslide"
    }
   },
   "source": [
    "## sets\n",
    "\n",
    "A set is an __unordered__ collection, without duplicates, __mutable__, containing arbitrary values in arbitrary number.\n",
    "\n",
    "A frozenset is an __unordered__ collection, without duplicates, __immutable__, containing arbitrary values in arbitrary number.\n",
    "\n",
    "They are not ordered in the sense that the elements are not maintained in a meaningful user order; this because the order used by the interpreter is useful to make fast searching of items.\n"
   ]
  },
  {
   "cell_type": "code",
   "execution_count": null,
   "metadata": {
    "collapsed": false,
    "slideshow": {
     "slide_type": "subslide"
    }
   },
   "outputs": [],
   "source": [
    "s = set()\n",
    "s.add(2)\n",
    "s.add(3)\n",
    "s.add(2)\n",
    "s.add(4)\n",
    "s"
   ]
  },
  {
   "cell_type": "code",
   "execution_count": null,
   "metadata": {
    "collapsed": false,
    "slideshow": {
     "slide_type": "subslide"
    }
   },
   "outputs": [],
   "source": [
    "u = set(['alfa', 2, 3.5])\n",
    "print(u)"
   ]
  },
  {
   "cell_type": "code",
   "execution_count": null,
   "metadata": {
    "collapsed": false,
    "slideshow": {
     "slide_type": "fragment"
    }
   },
   "outputs": [],
   "source": [
    "# one can also use the '{}'\n",
    "u = {'alfa', 2, 3.5}\n",
    "print(u)"
   ]
  },
  {
   "cell_type": "code",
   "execution_count": null,
   "metadata": {
    "collapsed": false,
    "slideshow": {
     "slide_type": "subslide"
    }
   },
   "outputs": [],
   "source": [
    "print(s)\n",
    "l=[1, 2, 2, 3, 3, 3, 4, 4, 4, 4]\n",
    "t = set(l)\n",
    "print(t)"
   ]
  },
  {
   "cell_type": "code",
   "execution_count": null,
   "metadata": {
    "collapsed": true,
    "slideshow": {
     "slide_type": "fragment"
    }
   },
   "outputs": [],
   "source": [
    "print(s.intersection(t))\n",
    "print(s.difference(t))  # result in set() not {}!\n",
    "print(t.difference(s))"
   ]
  },
  {
   "cell_type": "code",
   "execution_count": null,
   "metadata": {
    "collapsed": false,
    "slideshow": {
     "slide_type": "subslide"
    }
   },
   "outputs": [],
   "source": [
    "print(s)\n",
    "print(t)\n",
    "s.symmetric_difference(t)"
   ]
  },
  {
   "cell_type": "code",
   "execution_count": null,
   "metadata": {
    "collapsed": false,
    "slideshow": {
     "slide_type": "fragment"
    }
   },
   "outputs": [],
   "source": [
    "s.union(t)"
   ]
  },
  {
   "cell_type": "code",
   "execution_count": null,
   "metadata": {
    "collapsed": false,
    "slideshow": {
     "slide_type": "fragment"
    }
   },
   "outputs": [],
   "source": [
    "s.discard(3)\n",
    "print(s)"
   ]
  },
  {
   "cell_type": "code",
   "execution_count": null,
   "metadata": {
    "collapsed": false,
    "slideshow": {
     "slide_type": "fragment"
    }
   },
   "outputs": [],
   "source": [
    "s.clear()\n",
    "print(s)"
   ]
  },
  {
   "cell_type": "markdown",
   "metadata": {
    "slideshow": {
     "slide_type": "subslide"
    }
   },
   "source": [
    "## frozensets\n",
    "\n",
    "By analogy with the tuples, which can be considered \"frozen lists\", there are also frozensets:\n",
    "\n",
    "<pre>\n",
    ">>> ft = frozenset(t)\n",
    ">>> ft\n",
    "frozenset({1, 2, 3, 4})\n",
    ">>> ft.add(2)\n",
    "Traceback (most recent call last):\n",
    "  File \"&lt;stdin&gt;\", line 1, in &lt;module&gt;\n",
    "AttributeError: 'frozenset' object has no attribute \n",
    "'add'\n",
    ">>>\n",
    "</pre>\n"
   ]
  },
  {
   "cell_type": "markdown",
   "metadata": {
    "slideshow": {
     "slide_type": "subslide"
    }
   },
   "source": [
    "## test (primes_1.py)\n",
    "\n",
    "With only these data structures:\n",
    "\n",
    "<pre>\n",
    ">>> all = set(range(1, 20))\n",
    ">>> primes = {1, 2, 3, 5, 7, 11, 13, 17, 19}\n",
    ">>> even = {2, 4, 6, 8, 10, 12, 14, 16, 18}\n",
    "</pre>\n",
    "\n",
    "Print:\n",
    "* the set of odd numbers\n",
    "* the set of odd prime numbers\n",
    "* the set of odd not prime numbers (lower than 20).\n"
   ]
  },
  {
   "cell_type": "markdown",
   "metadata": {
    "slideshow": {
     "slide_type": "slide"
    }
   },
   "source": [
    "## dicts\n",
    "A dictionary (dict) is a container that associates an arbitrary and __unique key__ to an arbitrary __value__.\n",
    "\n",
    "Basically, the keys are handled as a set, but each key is uniquely associated with a value.\n",
    "\n",
    "In other languages it is known as an associative array or a map.\n"
   ]
  },
  {
   "cell_type": "code",
   "execution_count": null,
   "metadata": {
    "collapsed": false,
    "scrolled": false,
    "slideshow": {
     "slide_type": "subslide"
    }
   },
   "outputs": [],
   "source": [
    "atomic_number = {'H': 1, 'He': 2, 'C': 6, 'Fe': 26}\n",
    "atomic_number"
   ]
  },
  {
   "cell_type": "code",
   "execution_count": null,
   "metadata": {
    "collapsed": false,
    "slideshow": {
     "slide_type": "fragment"
    }
   },
   "outputs": [],
   "source": [
    "atomic_number['C']"
   ]
  },
  {
   "cell_type": "code",
   "execution_count": null,
   "metadata": {
    "collapsed": false,
    "slideshow": {
     "slide_type": "subslide"
    }
   },
   "outputs": [],
   "source": [
    "# They are not necessarily homogeneous:\n",
    "d = {}\n",
    "d['alfa'] = 3\n",
    "d[2.5] = 'xyz'\n",
    "d[3+4j] = [3, 4, 5]\n",
    "d[(1,2,3)] = { 'x': 2, 'y': 3, 'z': 1 }\n",
    "print(d)"
   ]
  },
  {
   "cell_type": "code",
   "execution_count": null,
   "metadata": {
    "collapsed": false,
    "slideshow": {
     "slide_type": "subslide"
    }
   },
   "outputs": [],
   "source": [
    "list(d.keys())"
   ]
  },
  {
   "cell_type": "code",
   "execution_count": null,
   "metadata": {
    "collapsed": false,
    "slideshow": {
     "slide_type": "fragment"
    }
   },
   "outputs": [],
   "source": [
    "list(d.values())"
   ]
  },
  {
   "cell_type": "code",
   "execution_count": null,
   "metadata": {
    "collapsed": false,
    "slideshow": {
     "slide_type": "fragment"
    }
   },
   "outputs": [],
   "source": [
    "list(d.items())"
   ]
  },
  {
   "cell_type": "code",
   "execution_count": null,
   "metadata": {
    "collapsed": false,
    "slideshow": {
     "slide_type": "fragment"
    }
   },
   "outputs": [],
   "source": [
    "'alfa' in d  # try also 'beta' in d"
   ]
  },
  {
   "cell_type": "code",
   "execution_count": null,
   "metadata": {
    "collapsed": false,
    "slideshow": {
     "slide_type": "subslide"
    }
   },
   "outputs": [],
   "source": [
    "d.get('alfa', -1999)  # try also  d.get('beta', -1999)"
   ]
  },
  {
   "cell_type": "code",
   "execution_count": null,
   "metadata": {
    "collapsed": false,
    "slideshow": {
     "slide_type": "fragment"
    }
   },
   "outputs": [],
   "source": [
    "print(d)\n",
    "d.setdefault('alfa', -1999)\n",
    "d.setdefault('beta', -1999)\n",
    "print(d)"
   ]
  },
  {
   "cell_type": "code",
   "execution_count": null,
   "metadata": {
    "collapsed": false,
    "slideshow": {
     "slide_type": "subslide"
    }
   },
   "outputs": [],
   "source": [
    "# They can be used as stacks:\n",
    "d.pop('alfa', -5)   # -5 is a default value in case the requiret key is not found\n",
    "                    # try also d.pop('gamma', -5)"
   ]
  },
  {
   "cell_type": "code",
   "execution_count": null,
   "metadata": {
    "collapsed": false,
    "slideshow": {
     "slide_type": "fragment"
    }
   },
   "outputs": [],
   "source": [
    "d.popitem()"
   ]
  },
  {
   "cell_type": "code",
   "execution_count": null,
   "metadata": {
    "collapsed": false,
    "slideshow": {
     "slide_type": "fragment"
    }
   },
   "outputs": [],
   "source": [
    "print(d)"
   ]
  },
  {
   "cell_type": "code",
   "execution_count": null,
   "metadata": {
    "collapsed": false,
    "slideshow": {
     "slide_type": "subslide"
    }
   },
   "outputs": [],
   "source": [
    "# updating a dictionary\n",
    "d1 = dict(a=1, b=2, c=3, d=4)\n",
    "d2 = {1: 1.0, 2: 2.0}\n",
    "d1.update(d2)\n",
    "print(d1)"
   ]
  },
  {
   "cell_type": "code",
   "execution_count": null,
   "metadata": {
    "collapsed": false,
    "slideshow": {
     "slide_type": "fragment"
    }
   },
   "outputs": [],
   "source": [
    "d.clear()\n",
    "print(d)"
   ]
  },
  {
   "cell_type": "markdown",
   "metadata": {
    "slideshow": {
     "slide_type": "subslide"
    }
   },
   "source": [
    "## test (books.py)\n",
    "\n",
    "Define a dictionary that links some of the books that you read with the name of its author.\n",
    "\n",
    "Print the names of all authors (without duplicates)."
   ]
  },
  {
   "cell_type": "markdown",
   "metadata": {
    "slideshow": {
     "slide_type": "slide"
    }
   },
   "source": [
    "## flow control constructs\n",
    "Python has few constructs for flow control, according to the philosophy of maximum simplicity.\n"
   ]
  },
  {
   "cell_type": "markdown",
   "metadata": {
    "slideshow": {
     "slide_type": "subslide"
    }
   },
   "source": [
    "## indentation\n",
    "\n",
    "* In python indentation is syntactic, that is it determines the nesting of statements.\n",
    "* This is an integral part of the python philosophy: since indenting is good, and since a program without indentation is bad, why do not force to indent?\n",
    "* Thus becomes unnecessary to use the curly brackets to enclose blocks, as in C/C++, or statement of closure, as the END of Fortran.\n"
   ]
  },
  {
   "cell_type": "markdown",
   "metadata": {
    "slideshow": {
     "slide_type": "subslide"
    }
   },
   "source": [
    "## indentation\n",
    "\n",
    "How much you should indent? \n",
    "\n",
    "It is arbitrary, but must be consistent within the block.\n",
    "\n",
    "Style/common sense rules are:\n",
    "* indent always with 4 spaces\n",
    "* NEVER use tabs to indent"
   ]
  },
  {
   "cell_type": "markdown",
   "metadata": {
    "slideshow": {
     "slide_type": "subslide"
    }
   },
   "source": [
    "## if-elif-else\n",
    "\n",
    "<pre>\n",
    ">>> if a == b:\n",
    "...     print(a)\n",
    "... elif a > b:\n",
    "...     print(b)\n",
    "... else:\n",
    "...     print(a + b)\n",
    "...\n",
    "</pre>"
   ]
  },
  {
   "cell_type": "markdown",
   "metadata": {
    "slideshow": {
     "slide_type": "subslide"
    }
   },
   "source": [
    "## for loop\n",
    "\n",
    "* The for loop allows you to iterate over \"iterable objects\" as lists, tuples, sets, dicts, range, ...\n",
    "\n",
    "<pre>\n",
    ">>> for i in range(3):\n",
    "...     print(i)\n",
    "...\n",
    "0\n",
    "1\n",
    "2\n",
    ">>>\n",
    "</pre>\n"
   ]
  },
  {
   "cell_type": "markdown",
   "metadata": {
    "slideshow": {
     "slide_type": "subslide"
    }
   },
   "source": [
    "## for loop\n",
    "\n",
    "<pre>\n",
    ">>> t = ('a', 'b', 10, 5.5)\n",
    ">>> for i in t:\n",
    "...     print(i)\n",
    "...\n",
    "a\n",
    "b\n",
    "10\n",
    "5.5\n",
    ">>>\n",
    "</pre>"
   ]
  },
  {
   "cell_type": "markdown",
   "metadata": {
    "slideshow": {
     "slide_type": "subslide"
    }
   },
   "source": [
    "## for loop\n",
    "\n",
    "<pre>\n",
    ">>> d = {'a': 0, 'b': 1, 'c': 2}\n",
    ">>> for key in d.keys():\n",
    "...     print(key)\n",
    "...\n",
    "a\n",
    "c\n",
    "b\n",
    ">>>\n",
    "</pre>"
   ]
  },
  {
   "cell_type": "markdown",
   "metadata": {
    "slideshow": {
     "slide_type": "subslide"
    }
   },
   "source": [
    "## for loop\n",
    "\n",
    "<pre>\n",
    ">>> for val in d.values():\n",
    "...     print(val)\n",
    "...\n",
    "0\n",
    "2\n",
    "1\n",
    ">>>\n",
    "</pre>"
   ]
  },
  {
   "cell_type": "markdown",
   "metadata": {
    "slideshow": {
     "slide_type": "subslide"
    }
   },
   "source": [
    "## for loop\n",
    "\n",
    "<pre>\n",
    ">>> for key, val in d.items():\n",
    "...     print(key, '=', val)\n",
    "...\n",
    "a = 0\n",
    "c = 2\n",
    "b = 1\n",
    ">>>\n",
    "</pre>\n"
   ]
  },
  {
   "cell_type": "markdown",
   "metadata": {
    "slideshow": {
     "slide_type": "subslide"
    }
   },
   "source": [
    "## for loop\n",
    "\n",
    "<pre>\n",
    ">>> for key in d:\n",
    "...     print(key)\n",
    "...\n",
    "a\n",
    "c\n",
    "b\n",
    ">>>\n",
    "</pre>"
   ]
  },
  {
   "cell_type": "markdown",
   "metadata": {
    "slideshow": {
     "slide_type": "subslide"
    }
   },
   "source": [
    "## for loop\n",
    "\n",
    "<pre>\n",
    ">>> for key in ('a', 'd', 'c'):\n",
    "...     print(d.get(key, None))\n",
    "...\n",
    "0\n",
    "None\n",
    "2\n",
    ">>>\n",
    "</pre>"
   ]
  },
  {
   "cell_type": "markdown",
   "metadata": {
    "slideshow": {
     "slide_type": "subslide"
    }
   },
   "source": [
    "## for loop\n",
    "\n",
    "<pre>\n",
    ">>> s = set(list(range(0, 10, 2))+list(range(0, 10, 3)))\n",
    ">>> print(s)\n",
    "{0, 2, 3, 4, 6, 8, 9}\n",
    ">>> for i in s:\n",
    "...     print(i)\n",
    "...\n",
    "0\n",
    "2\n",
    "3\n",
    "4\n",
    "6\n",
    "8\n",
    "9\n",
    ">>>\n",
    "</pre>"
   ]
  },
  {
   "cell_type": "markdown",
   "metadata": {
    "slideshow": {
     "slide_type": "subslide"
    }
   },
   "source": [
    "## for & range\n",
    "The use of for and range allows us to understand the difference between \n",
    "containers (such as lists, tuples, sets, dicts) and iterables (as range). For \n",
    "example:\n",
    "\n",
    "<pre>\n",
    ">>> for i in range(1000000000000000000000):\n",
    "...     if i < 3: \n",
    "...         print(i)\n",
    "... \n",
    "0\n",
    "1\n",
    "2\n",
    "...... # please, be patient! \n",
    "</pre>\n",
    "\n",
    "If it was a list or a tuple I would not have enough memory available to build this object!"
   ]
  },
  {
   "cell_type": "markdown",
   "metadata": {
    "slideshow": {
     "slide_type": "subslide"
    }
   },
   "source": [
    "## if/for body\n",
    "The indentation has a side effect: there must be at least one statement. \n",
    "\n",
    "Then:\n",
    "\n",
    "<pre>\n",
    ">>> if a > 10:\n",
    "...     # nothing to do\n",
    "... \n",
    "  File \"&lt;stdin&gt;\", line 3\n",
    " \n",
    "    ^\n",
    "IndentationError: expected an indented block\n",
    ">>> \n",
    "</pre>"
   ]
  },
  {
   "cell_type": "markdown",
   "metadata": {
    "slideshow": {
     "slide_type": "subslide"
    }
   },
   "source": [
    "## pass\n",
    "\n",
    "In these situations you can use the special statement **pass**, which does nothing:\n",
    "\n",
    "<pre>\n",
    ">>> if a > 10:\n",
    "...     pass\n",
    "... \n",
    ">>> \n",
    "</pre>"
   ]
  },
  {
   "cell_type": "markdown",
   "metadata": {
    "slideshow": {
     "slide_type": "subslide"
    }
   },
   "source": [
    "## if/for body, single statement\n",
    "\n",
    "If the body of the `if/for` block contains a single statement, this can be written on the same line:\n",
    "\n",
    "<pre>\n",
    ">>> if a > 10: pass\n",
    "... \n",
    ">>>\n",
    "</pre>\n",
    "\n",
    "Nothing changes; better avoid that.\n"
   ]
  },
  {
   "cell_type": "markdown",
   "metadata": {
    "slideshow": {
     "slide_type": "subslide"
    }
   },
   "source": [
    "## test (books.py)\n",
    "\n",
    "Starting from the dictionary “book : author”, write the code for printing, for each author, the number of books in the dictionary.\n"
   ]
  },
  {
   "cell_type": "markdown",
   "metadata": {
    "slideshow": {
     "slide_type": "subslide"
    }
   },
   "source": [
    "## while\n",
    "\n",
    "The while loop is the generic loop with one condition:\n",
    "\n",
    "<pre>\n",
    ">>> i = 0\n",
    ">>> while i < 4:\n",
    "...     print(i)\n",
    "...     i += 1\n",
    "...\n",
    "0\n",
    "1\n",
    "2\n",
    "3\n",
    ">>>\n",
    "</pre>"
   ]
  },
  {
   "cell_type": "markdown",
   "metadata": {
    "slideshow": {
     "slide_type": "subslide"
    }
   },
   "source": [
    "## while\n",
    "\n",
    "However, the previous loop is not a good example of programming, because we emulated a for loop:\n",
    "\n",
    "<pre>\n",
    ">>> for i in range(4):\n",
    "...     print(i)\n",
    "...\n",
    "0\n",
    "1\n",
    "2\n",
    "3\n",
    ">>>\n",
    "</pre>"
   ]
  },
  {
   "cell_type": "markdown",
   "metadata": {
    "slideshow": {
     "slide_type": "subslide"
    }
   },
   "source": [
    "## while\n",
    "\n",
    "The while loop is appropriate when you have an arbitrary condition and no iteration:\n",
    "\n",
    "<pre>\n",
    ">>> while error > tolerance:\n",
    "...     result, error = compute(result)\n",
    "...\n",
    "</pre>"
   ]
  },
  {
   "cell_type": "markdown",
   "metadata": {
    "slideshow": {
     "slide_type": "subslide"
    }
   },
   "source": [
    "## break\n",
    "\n",
    "Break allows you to exit the loop:\n",
    "\n",
    "<pre>\n",
    ">>> for i in range(10000):\n",
    "...     print(i)\n",
    "...     if i%3 == 2:\n",
    "...         break\n",
    "...\n",
    "0\n",
    "1\n",
    "2\n",
    ">>>\n",
    "</pre>"
   ]
  },
  {
   "cell_type": "markdown",
   "metadata": {
    "slideshow": {
     "slide_type": "subslide"
    }
   },
   "source": [
    "## while and break\n",
    "\n",
    "Often it is used while to build seemingly endless loop, from which it actually exits with a break:\n",
    "\n",
    "<pre>\n",
    ">>> while True:\n",
    "...     result, error = compute(result)\n",
    "...     if error &lt; tolerance:\n",
    "...         break\n",
    "...\n",
    ">>>\n",
    "</pre>\n"
   ]
  },
  {
   "cell_type": "markdown",
   "metadata": {
    "slideshow": {
     "slide_type": "subslide"
    }
   },
   "source": [
    "## continue\n",
    "\n",
    "Continue allows you to go to the next iteration:\n",
    "\n",
    "<pre>\n",
    ">>> for i in range(4):\n",
    "...     if i == 1:\n",
    "...         continue\n",
    "...     print(i)\n",
    "...\n",
    "0\n",
    "2\n",
    "3\n",
    ">>>\n",
    "</pre>"
   ]
  },
  {
   "cell_type": "markdown",
   "metadata": {
    "slideshow": {
     "slide_type": "subslide"
    }
   },
   "source": [
    "## loops: else clause\n",
    "The loops (for and while) can have an else clause, which is executed only if the loop completes naturally (for example, if you do not exit the loop with a break):\n",
    "\n",
    "<pre>\n",
    ">>> for i in range(10):\n",
    "...     if i > 3: break\n",
    "...         print(i)\n",
    "...     else:\n",
    "...         print(\"finished!\")\n",
    "...\n",
    "0\n",
    "1\n",
    "2\n",
    "3\n",
    ">>>\n",
    "</pre>"
   ]
  },
  {
   "cell_type": "markdown",
   "metadata": {
    "slideshow": {
     "slide_type": "subslide"
    }
   },
   "source": [
    "<pre>\n",
    ">>> for i in range(2):\n",
    "...     if i > 3: break\n",
    "...         print(i)\n",
    "...     else:\n",
    "...         print(\"finished!\")\n",
    "...\n",
    "0\n",
    "1\n",
    "finished!\n",
    ">>>\n",
    "</pre>"
   ]
  },
  {
   "cell_type": "markdown",
   "metadata": {
    "slideshow": {
     "slide_type": "subslide"
    }
   },
   "source": [
    "## switch\n",
    "Ther is no construct like a C `switch` or a Fortran select, just use a series of blocks if-elif-else.\n",
    "\n",
    "If you have no idea about what the `switch` or select are, you can safely ignore this slide...\n"
   ]
  },
  {
   "cell_type": "markdown",
   "metadata": {
    "slideshow": {
     "slide_type": "slide"
    }
   },
   "source": [
    "## operators\n",
    "There are several operators:\n",
    "* Comparison operators: ==, !=, <, <=, >, >=, is, in\n",
    "* Logical operators: and, or, not\n"
   ]
  },
  {
   "cell_type": "markdown",
   "metadata": {
    "slideshow": {
     "slide_type": "subslide"
    }
   },
   "source": [
    "## comparisons\n",
    "\n",
    "<pre>\n",
    ">>> print(1 > 5)\n",
    "False\n",
    ">>> b = 1 &lt;= 5\n",
    ">>> print(b)\n",
    "True\n",
    ">>>\n",
    "</pre>"
   ]
  },
  {
   "cell_type": "markdown",
   "metadata": {
    "slideshow": {
     "slide_type": "subslide"
    }
   },
   "source": [
    "## in\n",
    "\n",
    "The expression `a in obj` returns `True` if the object a is content in the object obj. Not all objects contain something; for example obj may be a list, a tuple, a set or a dictionary:  \n",
    "\n",
    "<pre>\n",
    ">>> lst = [3, 5, 7]\n",
    ">>> print(2 in lst)\n",
    "False\n",
    "</pre>\n"
   ]
  },
  {
   "cell_type": "markdown",
   "metadata": {
    "slideshow": {
     "slide_type": "subslide"
    }
   },
   "source": [
    "## in\n",
    "If the right operand does not allow the operation you receive an error:\n",
    "\n",
    "<pre>\n",
    ">>> a in 10\n",
    "Traceback (most recent call last):\n",
    "  File \"&lt;stdin&gt;\", line 1, in &lt;module&gt;\n",
    "TypeError: argument of type 'int' is not iterable\n",
    "</pre>\n"
   ]
  },
  {
   "cell_type": "markdown",
   "metadata": {
    "slideshow": {
     "slide_type": "subslide"
    }
   },
   "source": [
    "## is\n",
    "\n",
    "The expression `a == b` returns `True` if the value of a is identical to the value of b.\n",
    "\n",
    "The expresson `a is b` returns `True` if a and b refer to the same physical object:\n",
    "\n",
    "<pre>\n",
    ">>> l1 = [1, 3, 8]\n",
    ">>> l2 = [1, 3, 8]\n",
    ">>> l3 = l1\n",
    ">>> print(l1 == l2, l1 is l2)\n",
    "True False\n",
    ">>> print(l1 == l3, l1 is l3)\n",
    "True True\n",
    ">>> print(l2 == l3, l2 is l3)\n",
    "True False\n",
    ">>>\n",
    "</pre>\n"
   ]
  },
  {
   "cell_type": "markdown",
   "metadata": {
    "slideshow": {
     "slide_type": "slide"
    }
   },
   "source": [
    "## object reference\n",
    "It is time to mention the true meaning of an expression like \n",
    "\n",
    "<pre>\n",
    ">>> a = b\n",
    "</pre>\n",
    "\n",
    "Any object is b, this expression does nothing but define a new symbolic name a for the same object.\n",
    "\n",
    "It is similar to a link or an alias; Technically, it is called object reference."
   ]
  },
  {
   "cell_type": "markdown",
   "metadata": {
    "slideshow": {
     "slide_type": "subslide"
    }
   },
   "source": [
    "## object reference\n",
    "\n",
    "So, when we write\n",
    "\n",
    "<pre>\n",
    ">>> a = b\n",
    "</pre>\n",
    "\n",
    "nothing is copied. It follows that a and b are the same object:\n",
    "\n",
    "<pre>\n",
    ">>> a is b\n",
    "True\n",
    "</pre>"
   ]
  },
  {
   "cell_type": "markdown",
   "metadata": {
    "slideshow": {
     "slide_type": "subslide"
    }
   },
   "source": [
    "## conversion to bool\n",
    "\n",
    "The built-in types are automatically converted to bools, for example they can be directly used in conditional expressions. The rules are:\n",
    "\n",
    "* An `int` equal to 0 is equivalent to False, otherwise `True`\n",
    "* A `float` equal to 0.0 is equivalent to False, otherwise `True`\n",
    "* An empty string \"\" is equivalent to False, otherwise `True`\n",
    "* An empty container (`[]`, `()`, `set()`, `{}`, ...) is equivalent to False, otherwise `True`\n",
    "* `None` is equivalent to `False`\n"
   ]
  },
  {
   "cell_type": "markdown",
   "metadata": {
    "slideshow": {
     "slide_type": "subslide"
    }
   },
   "source": [
    "## test (divisors.py)\n",
    "\n",
    "Write a code to print all prime divisors of the number 2009\n"
   ]
  }
 ],
 "metadata": {
  "celltoolbar": "Slideshow",
  "kernelspec": {
   "display_name": "Python 3",
   "language": "python",
   "name": "python3"
  },
  "language_info": {
   "codemirror_mode": {
    "name": "ipython",
    "version": 3
   },
   "file_extension": ".py",
   "mimetype": "text/x-python",
   "name": "python",
   "nbconvert_exporter": "python",
   "pygments_lexer": "ipython3",
   "version": "3.5.1"
  }
 },
 "nbformat": 4,
 "nbformat_minor": 0
}
