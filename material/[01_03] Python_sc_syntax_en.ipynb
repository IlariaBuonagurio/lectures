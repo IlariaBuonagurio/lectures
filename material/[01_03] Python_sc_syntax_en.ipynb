{
 "cells": [
  {
   "cell_type": "markdown",
   "metadata": {
    "slideshow": {
     "slide_type": "slide"
    }
   },
   "source": [
    "## iterables  \n",
    "\n",
    "We have seen various containers; all these are iterables, namely, it is possible to iterate through the elements of these objects (for example, with a loop).\n",
    "\n",
    "There are other objects on which it is possible to iterate, although strictly speaking not contain anything.\n",
    "\n",
    "We have seen some examples of iterables that have no content: `range, filter, map`..."
   ]
  },
  {
   "cell_type": "markdown",
   "metadata": {
    "slideshow": {
     "slide_type": "subslide"
    }
   },
   "source": [
    "## iterables\n",
    "We define a function similar to the range, but that creates and returns a list (unlike range, it starts from 1 and stop is included):"
   ]
  },
  {
   "cell_type": "code",
   "execution_count": null,
   "metadata": {
    "collapsed": true,
    "slideshow": {
     "slide_type": "fragment"
    }
   },
   "outputs": [],
   "source": [
    "def up_to(N):\n",
    "    \"\"\"Returns the list of integers 1...N\n",
    "       >>> up_to(3)\n",
    "       [1, 2, 3]\"\"\"\n",
    "    l = []\n",
    "    i = 1\n",
    "    while i < N + 1:\n",
    "        l.append(i)\n",
    "        i += 1\n",
    "    return l"
   ]
  },
  {
   "cell_type": "markdown",
   "metadata": {
    "slideshow": {
     "slide_type": "subslide"
    }
   },
   "source": [
    "## iterables\n",
    "Now consider the function sumn that sum the first N integers, using our function `up_to`:"
   ]
  },
  {
   "cell_type": "code",
   "execution_count": null,
   "metadata": {
    "collapsed": true,
    "slideshow": {
     "slide_type": "fragment"
    }
   },
   "outputs": [],
   "source": [
    "def sumn(N):\n",
    "    \"\"\"Returns the sum of the first N integers. N is included.\"\"\"\n",
    "    s = 0\n",
    "    for i in up_to(N):\n",
    "        s += i\n",
    "    return s"
   ]
  },
  {
   "cell_type": "code",
   "execution_count": null,
   "metadata": {
    "collapsed": false,
    "slideshow": {
     "slide_type": "fragment"
    }
   },
   "outputs": [],
   "source": [
    "print(sumn(10))\n",
    "print(sumn(10000))"
   ]
  },
  {
   "cell_type": "markdown",
   "metadata": {
    "slideshow": {
     "slide_type": "subslide"
    }
   },
   "source": [
    "## iterables\n",
    "This is inefficient, because it creates a list of N elements, although it is always used one at a time. \n",
    "\n",
    "To add all the elements 1 to N is enough for me \"generate\" one after the other: there is no need to have them all at the same time in memory!"
   ]
  },
  {
   "cell_type": "markdown",
   "metadata": {
    "slideshow": {
     "slide_type": "subslide"
    }
   },
   "source": [
    "## iterables"
   ]
  },
  {
   "cell_type": "code",
   "execution_count": null,
   "metadata": {
    "collapsed": true,
    "slideshow": {
     "slide_type": "fragment"
    }
   },
   "outputs": [],
   "source": [
    "def up_to_iter(N):\n",
    "    \"\"\"Generates all the integers 1...N\n",
    "       >>> list(up_to_iter(3))\n",
    "       [1, 2, 3]\"\"\"\n",
    "    i = 1\n",
    "    while i < N + 1:\n",
    "        yield i\n",
    "    i += 1"
   ]
  },
  {
   "cell_type": "markdown",
   "metadata": {
    "slideshow": {
     "slide_type": "subslide"
    }
   },
   "source": [
    "## iterables\n",
    "Let's use `up_to_iter()` function just created"
   ]
  },
  {
   "cell_type": "code",
   "execution_count": null,
   "metadata": {
    "collapsed": true,
    "slideshow": {
     "slide_type": "fragment"
    }
   },
   "outputs": [],
   "source": [
    "def sumn2(N):\n",
    "    \"\"\"sumn(N) -> sum of the integers 1...N\"\"\"\n",
    "    s = 0\n",
    "    for i in up_to_iter(N):\n",
    "        s += i\n",
    "    return s"
   ]
  },
  {
   "cell_type": "code",
   "execution_count": null,
   "metadata": {
    "collapsed": false,
    "slideshow": {
     "slide_type": "fragment"
    }
   },
   "outputs": [],
   "source": [
    "print(sumn2(10))"
   ]
  },
  {
   "cell_type": "markdown",
   "metadata": {
    "slideshow": {
     "slide_type": "subslide"
    }
   },
   "source": [
    "## generators and iterators\n",
    "The function up_to_iter is a generator. It produces an iterable. The trick is to replace `return` with `yield`; both \"return\" to the caller expression at the right.\n",
    "\n",
    "The difference is that when yield is called, the function \"remains on the stack\", and its execution can be resumed from where it left off.\n",
    "\n",
    "The constructs for flow control (for, list comprehension, ...) do it automatically.\n"
   ]
  },
  {
   "cell_type": "markdown",
   "metadata": {
    "slideshow": {
     "slide_type": "subslide"
    }
   },
   "source": [
    "## generators ed iterators\n",
    "\n",
    "To be more accurate, the iteration involves two types of objects, usually separated:\n",
    "\n",
    "* __the iterable object__: is the sequence, the object that can be used for example directly in a for;\n",
    "* __the iterator__ is the object that enables the iteration on a particular iterable object.\n"
   ]
  },
  {
   "cell_type": "markdown",
   "metadata": {
    "slideshow": {
     "slide_type": "subslide"
    }
   },
   "source": [
    "## iterable object\n",
    "An iterable object is any object that implements the method `__iter__()`; when called, this method returns an iterator for the object."
   ]
  },
  {
   "cell_type": "markdown",
   "metadata": {
    "slideshow": {
     "slide_type": "subslide"
    }
   },
   "source": [
    "## iterator\n",
    "An iterator is any object that implements the method `__next__()`; when called, this method returns the next iteration element.\n"
   ]
  },
  {
   "cell_type": "code",
   "execution_count": null,
   "metadata": {
    "collapsed": true,
    "slideshow": {
     "slide_type": "fragment"
    }
   },
   "outputs": [],
   "source": [
    "lst = [1, 2, 3]\n",
    "for i in lst:\n",
    "    print(i)\n"
   ]
  },
  {
   "cell_type": "code",
   "execution_count": null,
   "metadata": {
    "collapsed": false,
    "slideshow": {
     "slide_type": "fragment"
    }
   },
   "outputs": [],
   "source": [
    "lst = [1, 2, 3]\n",
    "iterator = iter(lst)   # -> lst.__iter__()\n",
    "while True:\n",
    "    i = next(iterator)  # -> iterator.__next__()\n",
    "    print(i)"
   ]
  },
  {
   "cell_type": "markdown",
   "metadata": {
    "slideshow": {
     "slide_type": "subslide"
    }
   },
   "source": [
    "## iterators\n",
    "If you know a bit of __object-oriented__ programming, it is not difficult to build an iterator in python; in general, it is an object that should simply keep some state between a call and the other of the method `__next__()` (must \"remember\" the last value product, and generate the next).\n"
   ]
  },
  {
   "cell_type": "markdown",
   "metadata": {
    "slideshow": {
     "slide_type": "subslide"
    }
   },
   "source": [
    "## why two classes and not one?\n",
    "Why an iterable object delegate the iteration to a second object? Why it does not implement the method `__next__()` itself? After all, it has all the information to do so.\n",
    "<pre>\n",
    ">>> lst = [1, 2, 3]\n",
    ">>> hasattr(lst, '__iter__')\n",
    "True\n",
    ">>> hasattr(lst, '__next__')\n",
    "False\n",
    ">>> hasattr(iter(lst), '__next__')\n",
    "True\n",
    "</pre>"
   ]
  },
  {
   "cell_type": "markdown",
   "metadata": {
    "slideshow": {
     "slide_type": "subslide"
    }
   },
   "source": [
    "## why two classes and not one?\n",
    "The reason is that the iterator must maintain a state (must remember at what point is \n",
    "the process of iteration):\n"
   ]
  },
  {
   "cell_type": "markdown",
   "metadata": {
    "collapsed": true,
    "slideshow": {
     "slide_type": "fragment"
    }
   },
   "source": [
    "Suppose we define a MyList class which implements directly **`__next__()`**\n",
    "\n",
    "<pre>\n",
    "class MyList(object):\n",
    "    ...\n",
    "    def __iter__(self):\n",
    "        return self\n",
    "    def __next__(self):\n",
    "        value = self._values[self._index]\n",
    "        self._index += 1\n",
    "        return value\n",
    "</pre>"
   ]
  },
  {
   "cell_type": "markdown",
   "metadata": {
    "collapsed": true,
    "slideshow": {
     "slide_type": "subslide"
    }
   },
   "source": [
    "<pre>\n",
    ">>> mylst = MyList([1, 2, 3])\n",
    ">>> for i in mylst:\n",
    "...    print(i)\n",
    "...\n",
    "1\n",
    "2\n",
    "3\n",
    ">>>\n",
    "</pre>"
   ]
  },
  {
   "cell_type": "markdown",
   "metadata": {
    "collapsed": true,
    "slideshow": {
     "slide_type": "fragment"
    }
   },
   "source": [
    "<pre>\n",
    ">>> for i in mylst:\n",
    "...    print(i)\n",
    "...\n",
    ">>>\n",
    "</pre>"
   ]
  },
  {
   "cell_type": "markdown",
   "metadata": {
    "slideshow": {
     "slide_type": "subslide"
    }
   },
   "source": [
    "## why two classes and not one?\n",
    "Even Worse, it would not be possible the nested iteration:\n",
    "\n",
    "<pre>\n",
    ">>> lst = [1, 2, 3]\n",
    ">>> for i in lst:\n",
    "...     for j in lst:\n",
    "...         print(i, j)\n",
    "...\n",
    "1 1\n",
    "1 2\n",
    "1 3\n",
    "2 1\n",
    "2 2\n",
    "2 3\n",
    ">>>\n",
    "</pre>"
   ]
  },
  {
   "cell_type": "markdown",
   "metadata": {
    "slideshow": {
     "slide_type": "subslide"
    }
   },
   "source": [
    "<pre>\n",
    ">>> mylst = MyList([1, 2, 3])\n",
    ">>> for i in mylst:\n",
    "...     for j in mylst:\n",
    "...         print(i, j)\n",
    "...\n",
    "1 2\n",
    "1 3\n",
    ">>>\n",
    "</pre>"
   ]
  },
  {
   "cell_type": "markdown",
   "metadata": {
    "slideshow": {
     "slide_type": "subslide"
    }
   },
   "source": [
    "## generators\n",
    "A generator is therefore a \"trick\" to avoid manually construct two classes: one for the iterable object, \n",
    "and one for the `iterator`.\n",
    "\n",
    "Defining a simple function that uses the `yield` instead of `return` and you get the purpose.\n"
   ]
  },
  {
   "cell_type": "markdown",
   "metadata": {
    "slideshow": {
     "slide_type": "subslide"
    }
   },
   "source": [
    "## infinite sequences\n",
    "The benefit of iterators is that deliver even infinite sequences, with an insignificant memory allocation:\n",
    "<pre>\n",
    ">>> def even_numbers():\n",
    "...     i=2\n",
    "...     while True:\n",
    "...         yield i\n",
    "...         i += 2\n",
    "...    \n",
    ">>> for n in even_numbers():\n",
    "...     if not is_sum_of_two_primes(n):\n",
    "...         print(\"Goldbach was wrong!\")\n",
    "...         break\n",
    "...\n",
    ">>>\n",
    "</pre>"
   ]
  },
  {
   "cell_type": "markdown",
   "metadata": {
    "slideshow": {
     "slide_type": "subslide"
    }
   },
   "source": [
    "## iteration\n",
    "\n",
    "<pre>\n",
    ">>> l = [1, 2, 3]\n",
    ">>> il = iter(l)\n",
    ">>> next(il) # => l.__next__()\n",
    "1\n",
    ">>> next(il) # => l.__next__()\n",
    "2\n",
    ">>> next(il) # => l.__next__()\n",
    "3\n",
    ">>> next(il) # => l.__next__()\n",
    "Traceback (most recent call last):\n",
    "  File \"&lt;stdin&gt;\", line 1, in &lt;module&gt;\n",
    "StopIteration\n",
    ">>> \n",
    "</pre>\n"
   ]
  },
  {
   "cell_type": "markdown",
   "metadata": {
    "slideshow": {
     "slide_type": "subslide"
    }
   },
   "source": [
    "## python2\n",
    "In python2 many functions or methods return lists and not iterators. For example, the methods `keys`, `values`, `items` of the dictionaries return `lists`. \n",
    "\n",
    "However, there are the methods `iterkeys`, `itervalues`, `iteritems` that return `iterators`.\n"
   ]
  },
  {
   "cell_type": "markdown",
   "metadata": {
    "slideshow": {
     "slide_type": "subslide"
    }
   },
   "source": [
    "## iterator\n",
    "The concept of iterator is a typical example of design pattern, that is an efficient and diffused solution to a general problem.\n",
    "\n",
    "In python the concept is pervasive: everything that scrolls over an object from left to right does it through iterators.\n"
   ]
  },
  {
   "cell_type": "markdown",
   "metadata": {
    "slideshow": {
     "slide_type": "subslide"
    }
   },
   "source": [
    "## built-in functions that operate on iterators\n",
    "There are many built-in functions that operate on iterables, for example container constructors:\n",
    "* __list (iterable)__: builds a list\n",
    "* __tuple (iterable)__: builds a tuple\n",
    "* __dict (iterable)__: builds a dictionary (warning: the elements in `iterable` should be key/value pairs, that is tuples of two elements)\n"
   ]
  },
  {
   "cell_type": "markdown",
   "metadata": {
    "slideshow": {
     "slide_type": "subslide"
    }
   },
   "source": [
    "## built-in generators\n",
    "\n",
    "There are many useful built-in generators:\n",
    "* `range([start,] stop[, incr])`: generates a sequence\n",
    "* `zip(it1, it2)`: generates a sequence of pairs whoselements are taken from it1 and it2\n",
    "* `enumerate(it)`: generates a sequence of pairs (i, e) where e is an element of it, and i its index.\n"
   ]
  },
  {
   "cell_type": "markdown",
   "metadata": {
    "slideshow": {
     "slide_type": "subslide"
    }
   },
   "source": [
    "## built-in generators\n",
    "\n",
    "<pre>\n",
    ">>> l1 = ['a', 'b', 'c']\n",
    ">>> l2 = [1, 2, 3]\n",
    ">>> for a, b in zip(l1, l2):\n",
    "...     print(\"{}={}\".format(a, b))\n",
    "...\n",
    "a=1\n",
    "b=2\n",
    "c=3\n",
    ">>> list(zip(l1, l2))\n",
    "[('a', 1), ('b', 2), ('c', 3)]\n",
    "</pre>"
   ]
  },
  {
   "cell_type": "markdown",
   "metadata": {
    "slideshow": {
     "slide_type": "subslide"
    }
   },
   "source": [
    "## built-in generators\n",
    "<pre>\n",
    ">>> l1 = ['a', 'b', 'c']\n",
    ">>> l2 = [1, 2, 3]\n",
    ">>> for k, v in zip(l1, l2):\n",
    "...     print(\"{}=={}\".format(k, v))\n",
    "...\n",
    "a==1\n",
    "b==2\n",
    "c==3\n",
    ">>> dict(zip(l1, l2))\n",
    "{'a': 1, 'c': 3, 'b': 2}\n",
    ">>>\n",
    "</pre>"
   ]
  },
  {
   "cell_type": "markdown",
   "metadata": {
    "slideshow": {
     "slide_type": "subslide"
    }
   },
   "source": [
    "## built-in generators\n",
    "\n",
    "<pre>\n",
    ">>> l1 = ['a', 'b', 'c']\n",
    ">>> for i, e in enumerate(l1):\n",
    "...     print(i, e)\n",
    "...\n",
    "0 a\n",
    "1 b\n",
    "2 c\n",
    ">>>\n",
    "</pre>"
   ]
  },
  {
   "cell_type": "markdown",
   "metadata": {
    "slideshow": {
     "slide_type": "subslide"
    }
   },
   "source": [
    "## generator expressions\n",
    "If you use round brackets instead of square brackets, the same syntax \n",
    "as the list comprehension allows you to define generators on­the­fly:\n",
    "\n",
    "<pre>\n",
    ">>> [i**3 for i in range(4)]\n",
    "[0, 1, 8, 27]\n",
    ">>> (i**3 for i in range(4))\n",
    "&lt;generator object &lt;genexpr&gt; at 0x7f30e99d3fa0&gt;\n",
    ">>> sum((i**3 for i in range(4)))\n",
    "36\n",
    ">>> sum(i**3 for i in range(4))\n",
    "36\n",
    ">>>\n",
    "</pre>"
   ]
  },
  {
   "cell_type": "markdown",
   "metadata": {
    "slideshow": {
     "slide_type": "subslide"
    }
   },
   "source": [
    "## generator expressions\n",
    "\n",
    "<pre>\n",
    ">>> g = range(1000000)  \n",
    ">>> sum([e**2 for e in g])  # list of 1000000 elements!\n",
    "333332833333500000\n",
    ">>> sum(e**2 for e in g)  # generator\n",
    "333332833333500000\n",
    "</pre>"
   ]
  },
  {
   "cell_type": "markdown",
   "metadata": {
    "slideshow": {
     "slide_type": "subslide"
    }
   },
   "source": [
    "## test (primes.py)\n",
    "* Write a generator \"primes\" that produces the sequence of prime numbers (all!). The efficiency is not important.\n",
    "* Using the generator \"primes\", create a list of thefirst 250 prime numbers.\n",
    "* Using the generator \"primes\", define a function \"`pi(N)`\" that returns the number of prime  numbers less than `N`.\n"
   ]
  },
  {
   "cell_type": "markdown",
   "metadata": {
    "slideshow": {
     "slide_type": "slide"
    }
   },
   "source": [
    "## introspection\n",
    "The introspection is the ability of a language to provide various information run-time about the objects.\n",
    "\n",
    "Python has an excellent support for introspection, unlike languages such as Fortran or C that have none, or C++, which has a very limited support.\n",
    "\n",
    "It is useful for:\n",
    "* Debugging\n",
    "* Learn more easily how to use libraries\n",
    "* Develop certain algorithms\n"
   ]
  },
  {
   "cell_type": "markdown",
   "metadata": {
    "slideshow": {
     "slide_type": "subslide"
    }
   },
   "source": [
    "## introspection\n",
    "\n",
    "Determine the type of an object is very easy: just use the `type` command:\n",
    "\n",
    "<pre>\n",
    ">>> l = [1, \"alfa\", 0.9, (1, 2, 3)]\n",
    ">>> print([type(i) for i in l])\n",
    "[&lt;class 'int'&gt;, &lt;class 'str'&gt;, &lt;class 'float'&gt;, &lt;class 'tuple'&gt;]\n",
    ">>>\n",
    "</pre>\n"
   ]
  },
  {
   "cell_type": "markdown",
   "metadata": {
    "slideshow": {
     "slide_type": "subslide"
    }
   },
   "source": [
    "## introspection\n",
    "Sometimes it is useful in functions, because the type of arguments of a function is not fixed, but it depends on how the function is called. \n",
    "\n",
    "The command `isinstance(obj, t)` tells us if the object obj is of type t:\n",
    "\n",
    "<pre>\n",
    ">>> def dupl(a):\n",
    "...     if isinstance(a, list):\n",
    "...         return [dupl(i) for i in a]\n",
    "...     else:\n",
    "...         return 2*a\n",
    "...\n",
    ">>> dupl(10)\n",
    "20\n",
    ">>> dupl(['a', 3, [1, 2, 3]])\n",
    "['aa', 6, [2, 4, 6]]\n",
    ">>>\n",
    "</pre>\n"
   ]
  },
  {
   "cell_type": "markdown",
   "metadata": {
    "slideshow": {
     "slide_type": "subslide"
    }
   },
   "source": [
    "## introspection\n",
    "The function `dir()` returns a list containing the symbolic names of members of an object (attributes or \n",
    "methods):"
   ]
  },
  {
   "cell_type": "code",
   "execution_count": null,
   "metadata": {
    "collapsed": false,
    "slideshow": {
     "slide_type": "fragment"
    }
   },
   "outputs": [],
   "source": [
    "l = [3, 4, 1]\n",
    "print(type(l))\n",
    "print(dir(l))"
   ]
  },
  {
   "cell_type": "code",
   "execution_count": null,
   "metadata": {
    "collapsed": false,
    "slideshow": {
     "slide_type": "subslide"
    }
   },
   "outputs": [],
   "source": [
    "print(l.sort.__doc__)"
   ]
  },
  {
   "cell_type": "code",
   "execution_count": null,
   "metadata": {
    "collapsed": false,
    "slideshow": {
     "slide_type": "fragment"
    }
   },
   "outputs": [],
   "source": [
    "l.sort(key=lambda x: -x)\n",
    "print(l)"
   ]
  },
  {
   "cell_type": "markdown",
   "metadata": {
    "slideshow": {
     "slide_type": "subslide"
    }
   },
   "source": [
    "## introspection\n",
    "Often items have “special” attributes that contain useful information for introspection:\n",
    "\n",
    "<pre>\n",
    ">>> print(l.__class__)\n",
    "&lt;class 'list'&gt;\n",
    ">>> print(l.__class__.__name__)\n",
    "list\n",
    ">>> f = l.sort\n",
    ">>> print(f.__name__)\n",
    "sort\n",
    ">>>\n",
    "</pre>"
   ]
  },
  {
   "cell_type": "markdown",
   "metadata": {
    "slideshow": {
     "slide_type": "subslide"
    }
   },
   "source": [
    "## introspection\n",
    "Sometimes you want to know if an instance has a certain attribute:\n",
    "\n",
    "<pre>\n",
    ">>> if hasattr(a, 'x'):\n",
    "...     print(a.x)\n",
    "...\n",
    "3\n",
    ">>>\n",
    "</pre>"
   ]
  },
  {
   "cell_type": "markdown",
   "metadata": {
    "slideshow": {
     "slide_type": "subslide"
    }
   },
   "source": [
    "## object structure\n",
    "To understand how introspection works, it is useful to know how objects are structured."
   ]
  },
  {
   "cell_type": "code",
   "execution_count": null,
   "metadata": {
    "collapsed": false,
    "slideshow": {
     "slide_type": "fragment"
    }
   },
   "outputs": [],
   "source": [
    "class ALFA(object):\n",
    "    A = 10\n",
    "    def __init__(self):\n",
    "        self.x = 3\n",
    "        \n",
    "a = ALFA()\n",
    "print(a.x, a.A)"
   ]
  },
  {
   "cell_type": "code",
   "execution_count": null,
   "metadata": {
    "collapsed": false,
    "slideshow": {
     "slide_type": "subslide"
    }
   },
   "outputs": [],
   "source": [
    "# class attributes\n",
    "print(ALFA.__dict__)"
   ]
  },
  {
   "cell_type": "code",
   "execution_count": null,
   "metadata": {
    "collapsed": false,
    "slideshow": {
     "slide_type": "fragment"
    }
   },
   "outputs": [],
   "source": [
    "# instance attributes\n",
    "print(a.__dict__)"
   ]
  },
  {
   "cell_type": "markdown",
   "metadata": {
    "slideshow": {
     "slide_type": "subslide"
    }
   },
   "source": [
    "## object structure\n",
    "Each object has an attribute `__dict__` containing a dictionary; `__dict__` contains all the attributes of the object, indexed by its name:\n",
    "\n",
    "<pre>\n",
    ">>> print(a.__dict__[\"x\"])\n",
    "3\n",
    ">>>\n",
    "</pre>"
   ]
  },
  {
   "cell_type": "markdown",
   "metadata": {
    "slideshow": {
     "slide_type": "subslide"
    }
   },
   "source": [
    "## object structure\n",
    "When you access an attribute of an object, first it searches in the dictionary of the object, then in the dictionary of his class (and possibly in the dictionary of the base classes):\n",
    "\n",
    "<pre>\n",
    ">>> print(a.A)\n",
    "10\n",
    ">>> print(a.__dict__['A'])\n",
    "Traceback (most recent call last):\n",
    "  File \"&lt;stdin&gt;\", line 1, in &lt;module&gt;\n",
    "KeyError: 'A'\n",
    ">>> print(a.__class__.__dict__['A'])\n",
    "10\n",
    ">>>\n",
    "</pre>"
   ]
  },
  {
   "cell_type": "markdown",
   "metadata": {
    "slideshow": {
     "slide_type": "subslide"
    }
   },
   "source": [
    "## test (interactive)\n",
    "Using interpreter in interactive mode, determine how to use the following functions: `ord`, `chr`, `callable`.\n"
   ]
  },
  {
   "cell_type": "markdown",
   "metadata": {
    "slideshow": {
     "slide_type": "slide"
    }
   },
   "source": [
    "## modules\n",
    "A file with extension .py is a python module. A module can contain any type of python code.\n",
    "\n",
    "The module can have its own doc string.\n",
    "\n",
    "The modules can also have extension .so, if they are produced from source C through python C-API.\n"
   ]
  },
  {
   "cell_type": "markdown",
   "metadata": {
    "slideshow": {
     "slide_type": "subslide"
    }
   },
   "source": [
    "## modules\n",
    "For example:\n",
    "\n",
    "<pre>\n",
    "$ cat my.py\n",
    "def hello_world():\n",
    "    print(“Hello, world!”)\n",
    "$ python3\n",
    "</pre>\n"
   ]
  },
  {
   "cell_type": "markdown",
   "metadata": {
    "slideshow": {
     "slide_type": "-"
    }
   },
   "source": [
    "<pre>\n",
    ">>> import my\n",
    ">>> dir(my)\n",
    "['__builtins__', '__doc__', '__file__', '__name__', '__package__', 'hello_world']\n",
    ">>> print(my.__file__)\n",
    "my.py\n",
    ">>> my.hello_world()\n",
    "Hello, world!\n",
    ">>>\n",
    "</pre>"
   ]
  },
  {
   "cell_type": "markdown",
   "metadata": {
    "slideshow": {
     "slide_type": "subslide"
    }
   },
   "source": [
    "## modules\n",
    "The module has an attribute `__name__` which coincides with the name of the module itself.\n",
    "\n",
    "But the module is basically a normal python source (the only element needed is the extension .py), so it can also be run as a program.\n",
    "\n",
    "In this case, the value of `__name__` is the string `\"__main__\"`"
   ]
  },
  {
   "cell_type": "markdown",
   "metadata": {
    "slideshow": {
     "slide_type": "subslide"
    }
   },
   "source": [
    "## modules\n",
    "You can use this attribute to write modules that contain a \"main\" test; just add the code test, conditioned to the value of `__name__`.\n"
   ]
  },
  {
   "cell_type": "markdown",
   "metadata": {
    "slideshow": {
     "slide_type": "subslide"
    }
   },
   "source": [
    "## modules\n",
    "<pre>\n",
    "$ cat my.py \n",
    "#!/usr/bin/env python3\n",
    "\n",
    "print(__name__)\n",
    "\n",
    "def hello_world():\n",
    "    print(\"Hello, world!\")\n",
    "    \n",
    "if __name__ == \"__main__\":\n",
    "    hello_world()\n",
    "    hello_world()\n",
    "    hello_world()\n",
    "</pre>"
   ]
  },
  {
   "cell_type": "markdown",
   "metadata": {
    "slideshow": {
     "slide_type": "subslide"
    }
   },
   "source": [
    "## modules\n",
    "<pre>\n",
    "$ ./my.py \n",
    "__main__\n",
    "Hello, world!\n",
    "Hello, world!\n",
    "Hello, world!\n",
    "\n",
    "$ python3\n",
    "Python 3.2.3 (default, Oct 19 2012, 20:10:41) \n",
    "[GCC 4.6.3] on linux2\n",
    "Type \"help\", \"copyright\", \"credits\" or \"license\" for more information.\n",
    ">>> import my\n",
    "my \n",
    ">>> \n",
    "</pre>"
   ]
  },
  {
   "cell_type": "markdown",
   "metadata": {
    "slideshow": {
     "slide_type": "subslide"
    }
   },
   "source": [
    "## modules\n",
    "A module can be imported in several ways:\n",
    "\n",
    "<pre>\n",
    ">>> import mymodule\n",
    ">>> mymodule.myf1()\n",
    ">>> from mymodule import myf1, myf2\n",
    ">>> myf1()\n",
    ">>> from mymodule import myf1 as yourf1\n",
    ">>> yourf1()\n",
    ">>> from mymodule import *\n",
    ">>> myf10()\n",
    "</pre>"
   ]
  },
  {
   "cell_type": "markdown",
   "metadata": {
    "slideshow": {
     "slide_type": "subslide"
    }
   },
   "source": [
    "## modules\n",
    "Importing from a module with `'*'`, by default it imports all the symbols of the module whose name does not begin with an underscore.\n",
    "\n",
    "If the module contains a variable `__all__`, this must be a list of the names of the symbols imported when importing with `'*'`.\n",
    "<pre>\n",
    "$ cat my.py\n",
    "__all__ = [ 'hi_folk']\n",
    "...\n",
    "</pre>\n"
   ]
  },
  {
   "cell_type": "markdown",
   "metadata": {
    "slideshow": {
     "slide_type": "subslide"
    }
   },
   "source": [
    "## packages\n",
    "The modules can be grouped into packages, which have a hierarchical structure represented by directories. A directory that contains an `__init__.py` file, possibly empty, is a valid python package. If the directory contains other packages or modules, they are available as package content.\n"
   ]
  },
  {
   "cell_type": "markdown",
   "metadata": {
    "slideshow": {
     "slide_type": "subslide"
    }
   },
   "source": [
    "## packages\n",
    "<pre style=\"font-size:50%;\">\n",
    "sound/                 Top-level package\n",
    "    __init__.py        Initialize the sound package\n",
    "    formats/           Subpackage for file format conversions\n",
    "        __init__.py   \n",
    "        aiffread.py   \n",
    "        aiffwrite.py \n",
    "        auread.py\n",
    "        auwrite.py \n",
    "        ...\n",
    "    effects/           Subpackage for sound effects\n",
    "        __init__.py \n",
    "        echo.py \n",
    "        surround.py\n",
    "        reverse.py \n",
    "        ...\n",
    "    filters/           Subpackage for filters\n",
    "        __init__.py  \n",
    "        equalizer.py \n",
    "        vocoder.py\n",
    "        karaoke.py \n",
    "        ...\n",
    "</pre>"
   ]
  },
  {
   "cell_type": "markdown",
   "metadata": {
    "slideshow": {
     "slide_type": "subslide"
    }
   },
   "source": [
    "## packages\n",
    "\n",
    "<pre>\n",
    ">>> import sound.effects.echo.echofilter\n",
    ">>> sound.effects.echo.echofilter(...)\n",
    ">>> import sound.effects.echo\n",
    ">>> sound.effects.echo.echofilter(...)\n",
    ">>> from sound.effects import echo\n",
    ">>> echo.echofilter(...)\n",
    ">>> from sound.effects.echo import echofilter\n",
    ">>> echofilter(...)\n",
    "</pre>"
   ]
  },
  {
   "cell_type": "markdown",
   "metadata": {
    "slideshow": {
     "slide_type": "subslide"
    }
   },
   "source": [
    "## packages\n",
    "\n",
    "As for the modules, you can import with `'*'` from a package, but only if `__init__.py` defines `__all__=[...]`; In fact, the determination of the module name from the files contained in the directory of the package is not possible in Windows (case insensitive file names).\n"
   ]
  },
  {
   "cell_type": "markdown",
   "metadata": {
    "slideshow": {
     "slide_type": "subslide"
    }
   },
   "source": [
    "## test (interactive mode)\n",
    "\n",
    "* In interactive mode import the module \"primes\", discover the content and try to use the functions of the module.\n",
    "* Try to import the module \"math\" and to discover its content.\n"
   ]
  },
  {
   "cell_type": "markdown",
   "metadata": {
    "slideshow": {
     "slide_type": "slide"
    }
   },
   "source": [
    "## pydoc\n",
    "Pydoc is a tool, obviously written in python, which uses introspection to provide the information stored in a module in a clear and compact solution.\n",
    "\n",
    "Pydoc uses the doc strings `__doc__` and many other standard attributes of the objects (`__name__`, `__file__`, ...).\n",
    "\n",
    "Since we are using python3, probably you have to use pydoc3.\n"
   ]
  },
  {
   "cell_type": "markdown",
   "metadata": {
    "slideshow": {
     "slide_type": "subslide"
    }
   },
   "source": [
    "## pydoc\n",
    "\n",
    "<pre style=\"font-size:70%;\">\n",
    "$ pydoc3 math\n",
    "Help on built-in module math:\n",
    "\n",
    "NAME\n",
    "  math\n",
    "\n",
    "DESCRIPTION\n",
    "  This module is always available. It provides access to the\n",
    "  mathematical functions defined by the C standard.\n",
    "\n",
    "FUNCTIONS\n",
    "  acos(...)\n",
    "    acos(x)\n",
    " \n",
    "    Return the arc cosine (measured in radians) of x. \n",
    "\n",
    "...\n",
    "</pre>"
   ]
  },
  {
   "cell_type": "markdown",
   "metadata": {
    "slideshow": {
     "slide_type": "subslide"
    }
   },
   "source": [
    "## help()\n",
    "In interactive mode, the `help` function does the same thing pydoc does.\n"
   ]
  },
  {
   "cell_type": "markdown",
   "metadata": {
    "slideshow": {
     "slide_type": "subslide"
    }
   },
   "source": [
    "## test (interactive mode)\n",
    "* Use pydoc or help() to find out the content of primes\n"
   ]
  },
  {
   "cell_type": "markdown",
   "metadata": {
    "slideshow": {
     "slide_type": "subslide"
    }
   },
   "source": [
    "## program arguments\n",
    "To access the arguments with the program was called which, you have to import the sys module and access the variable `sys.argv`. This is a list of strings; `sys.argv[0]` is the name of the program, the remaining elements are the arguments passed to the command line.\n"
   ]
  },
  {
   "cell_type": "markdown",
   "metadata": {
    "slideshow": {
     "slide_type": "subslide"
    }
   },
   "source": [
    "## program arguments\n",
    "\n",
    "<pre>\n",
    "#!/usr/bin/env python3\n",
    "import sys\n",
    "for arg in sys.argv:\n",
    "    print(arg)\n",
    "</pre>"
   ]
  },
  {
   "cell_type": "markdown",
   "metadata": {
    "slideshow": {
     "slide_type": "subslide"
    }
   },
   "source": [
    "## program arguments\n",
    "It is not convenient to do a manual parsing of the arguments: it is better to use the library `argparse`."
   ]
  },
  {
   "cell_type": "markdown",
   "metadata": {
    "slideshow": {
     "slide_type": "subslide"
    }
   },
   "source": [
    "## file I/O\n",
    "Let's see how you write a text file:\n",
    "\n",
    "<pre>\n",
    ">>> with open(\"a.txt\", \"w\") as f:\n",
    "...     f.write(\"Hello, \")\n",
    "...     f.write(\"world!\\n\")                            \n",
    "7   # These are simply the return values of the two write \n",
    "7   # (the number of characters written) \n",
    ">>>\n",
    "</pre>\n"
   ]
  },
  {
   "cell_type": "markdown",
   "metadata": {
    "slideshow": {
     "slide_type": "subslide"
    }
   },
   "source": [
    "## file I/O\n",
    "You can read line by line by iterating on file; warning, the newline `'\\n'` is part of the string read!\n",
    "\n",
    "<pre>\n",
    ">>> with open(\"a.txt\", \"r\") as f:\n",
    "...     for line in f:\n",
    "...         print(line)\n",
    "Hello, world!\n",
    "\n",
    ">>>\n",
    "</pre>\n",
    "\n",
    "Read lines contain the newline, to remove it you can use `str.strip()`"
   ]
  },
  {
   "cell_type": "markdown",
   "metadata": {
    "slideshow": {
     "slide_type": "subslide"
    }
   },
   "source": [
    "## file I/O\n",
    "\n",
    "You can read a single line at a time with readline():\n",
    "\n",
    "<pre>\n",
    ">>> with open(\"a.txt\", \"r\") as f:\n",
    "        print(f.readline()) \n",
    "Hello, world!\n",
    "\n",
    ">>>\n",
    "</pre>"
   ]
  },
  {
   "cell_type": "markdown",
   "metadata": {
    "slideshow": {
     "slide_type": "subslide"
    }
   },
   "source": [
    "## file I/O\n",
    "Or you can read all lines through readlines():\n",
    "\n",
    "<pre>\n",
    ">>> with open(\"a.txt\", \"r\") as f:\n",
    "...     print(f.readlines())\n",
    "...\n",
    "['Hello, world!\\n']\n",
    ">>> \n",
    "</pre>"
   ]
  },
  {
   "cell_type": "markdown",
   "metadata": {
    "slideshow": {
     "slide_type": "subslide"
    }
   },
   "source": [
    "## closing the file\n",
    "\n",
    "If you use the construct `with` (context manager), you not have to worry about closing the file: it will be automatically closed with block exit. \n",
    "\n",
    "Do not use any other way to open files!\n"
   ]
  },
  {
   "cell_type": "markdown",
   "metadata": {
    "slideshow": {
     "slide_type": "subslide"
    }
   },
   "source": [
    "## test (files.py)\n",
    "\n",
    "* Read the list of arguments from the command line, and print (one argument per line) all arguments on a file whose name matches the name of the python program plus the extension '.out' (`files.py.out`, but it must also work renaming the program!).\n",
    "\n",
    "* Reread all the arguments from the file and print them.\n"
   ]
  },
  {
   "cell_type": "markdown",
   "metadata": {
    "slideshow": {
     "slide_type": "slide"
    }
   },
   "source": [
    "## error handling\n",
    "Error handling is a complex problem, which the modern languages face off in a completely different way than the \"old\" ones. \n",
    "\n",
    "First, we must be aware of the fact that the place where an error is detected (for example, a library function such as `sqrt`) is not the same place where the error can be \"treated\" (for example, the main program).\n"
   ]
  },
  {
   "cell_type": "markdown",
   "metadata": {
    "slideshow": {
     "slide_type": "subslide"
    }
   },
   "source": [
    "## error handling\n",
    "\n",
    "The requirements of a modern system for handling errors are:\n",
    "* Low or no impact on performance, when no error are generated\n",
    "* Little invasiveness on code\n",
    "* You should not have to \"pass\" the error by hand\n",
    "* It must be possible to manage the error \"partially\" (sometimes you can not completely solve the error at one point, but you can apply only a part of the correction)\n"
   ]
  },
  {
   "cell_type": "markdown",
   "metadata": {
    "slideshow": {
     "slide_type": "subslide"
    }
   },
   "source": [
    "## error handling\n",
    "Suppose you have a stack of function calls like this:\n",
    "<pre style='font-size:50%;'>\n",
    "main\n",
    "  |__compute_matrix        &lt;- here the error ZeroDivisionError can be handled completely\n",
    "     |__compute_cell       &lt;- here the errot BadStartingPoint can be handled, and the error \n",
    "        |                     ZeroDivisionError can be handled partially\n",
    "        |__compute_radix_of_function \n",
    "           |__ newton             -&gt; here the error BadStartingPoint can be detected\n",
    "               |__function_C      -&gt; here the error ZeroDivisionError can be detected\n",
    "</pre>\n"
   ]
  },
  {
   "cell_type": "markdown",
   "metadata": {
    "slideshow": {
     "slide_type": "subslide"
    }
   },
   "source": [
    "## error handling\n",
    "\n",
    "In Fortran, for example, it is used a variable returned by the function/subroutine to pass any error.\n",
    "\n",
    "In this case, the variable containing the error should be passed manually backwards, for example from `function_C`, to `newton`, to `compute_radix_of_function`, to `compute_cell`, to `compute_matrix`.\n"
   ]
  },
  {
   "cell_type": "markdown",
   "metadata": {
    "slideshow": {
     "slide_type": "subslide"
    }
   },
   "source": [
    "## error handling\n",
    "\n",
    "What are the drawbacks?\n",
    "\n",
    "* It is a tedious and boring activity that normally lead to errors\n",
    "* It makes the code much longer and more complicated\n",
    "* Adds overhead even without error (there will be some __if__ checking the state variables of the function that generates the error, for example).\n"
   ]
  },
  {
   "cell_type": "markdown",
   "metadata": {
    "slideshow": {
     "slide_type": "subslide"
    }
   },
   "source": [
    "## error handling\n",
    "\n",
    "All modern systems use a different approach. \n",
    "\n",
    "Consider the error BadStartingPoint.\n",
    "\n",
    "At the point where the error can be identified (newton), an exception of type `BadStartingPoint` is launched. For now, do not worry about what `BadStartingPoint` is: it could be anything, an `int`, a `string`, a `list` etc...\n",
    "\n",
    "In python, exceptions are launched with the `raise` command. In `fun_B` it will appear something like:\n",
    "```python\n",
    "if ...:\n",
    "    raise BadStartingPoint()\n",
    "```"
   ]
  },
  {
   "cell_type": "markdown",
   "metadata": {
    "slideshow": {
     "slide_type": "subslide"
    }
   },
   "source": [
    "## error handling\n",
    "When an exception is launched, the program flow is interrupted, and the stack is automatically \"rolled back”, back to the function that called the one who launched the exception, and back again if necessary, up to a point where the error can be \"treated\". The computation resumes from this point.\n"
   ]
  },
  {
   "cell_type": "markdown",
   "metadata": {
    "slideshow": {
     "slide_type": "subslide"
    }
   },
   "source": [
    "## error handling\n",
    "\n",
    "How do you determine who can treat a certain error?\n",
    "\n",
    "It's simple: the code block that could handle a `BadStartingPoint` exception is enclosed in a special section; when that exception occurs, it will be executed the associated handling section. The syntax is based on the python `try/except` statement.\n"
   ]
  },
  {
   "cell_type": "markdown",
   "metadata": {
    "slideshow": {
     "slide_type": "subslide"
    }
   },
   "source": [
    "## error handling\n",
    "Therefore, in the function where we determined that the error can be treated (compute_cell) it is inserted a `try/except` block:\n",
    "\n",
    "<pre>\n",
    "def compute_cell(matrix, i, j):\n",
    "    # ...\n",
    "    try:\n",
    "        matrix[i][j] += compute_radix_of_function(f, cell, x_0)\n",
    "    except BadStartingPoint as e:\n",
    "        print(\"ERR: {0}: {0}\".format(e.__class__.__name__, e))\n",
    "        X_0 += 0.4\n",
    "    # ...\n",
    "</pre>"
   ]
  },
  {
   "cell_type": "markdown",
   "metadata": {
    "slideshow": {
     "slide_type": "subslide"
    }
   },
   "source": [
    "## error handling\n",
    "In the intermediate functions nothing changes: they are not involved from the exception.\n"
   ]
  },
  {
   "cell_type": "markdown",
   "metadata": {
    "slideshow": {
     "slide_type": "subslide"
    }
   },
   "source": [
    "## error handling\n",
    "\n",
    "In the case of `ZeroDivisionError`, however, the handling is more complex: `compute_cell` can partially repair the error, but not completely. \n",
    "\n",
    "The rest of the work is done by `compute_matrix`.\n",
    "\n",
    "In this case, the exception is collected, partially managed and relaunched, with the `raise` command:\n",
    "\n",
    "<pre>\n",
    "# ...\n",
    "except ZeroDivisionError as e:\n",
    "    print(\"ERR: ZeroDivisionError: resetting cell\")\n",
    "    matrix[i][j] = 0.0\n",
    "    raise\n",
    "# ...\n",
    "</pre>"
   ]
  },
  {
   "cell_type": "markdown",
   "metadata": {
    "slideshow": {
     "slide_type": "subslide"
    }
   },
   "source": [
    "## error handling\n",
    "At this point the stack is again rolled back to `compute_matrix`, which completes the error handling.\n"
   ]
  },
  {
   "cell_type": "markdown",
   "metadata": {
    "slideshow": {
     "slide_type": "subslide"
    }
   },
   "source": [
    "## error handling\n",
    "\n",
    "Generally, exceptions are defined hierarchically. In our example, there are three types of BadStartingPoint errors:\n",
    "\n",
    "* `StationaryStartingPoint`\n",
    "* `CyclingStartingPoint`\n",
    "* `SlowlyConvergingStartingPoint`\n",
    "\n",
    "`newton` launches all these three errors."
   ]
  },
  {
   "cell_type": "markdown",
   "metadata": {
    "slideshow": {
     "slide_type": "subslide"
    }
   },
   "source": [
    "## error handling\n",
    "\n",
    "These three types of error are handled the same way by compute_cell, but it is possible that other functions that call `newton` must treat them differently.\n",
    "\n",
    "This is accomplished by creating a class `BadStartingPoint`, and the three classes `StationaryStartingPoint`, `CyclingStartingPoint`, `SlowlyConvergingStartingPoint` that inherit from `BadStartingPoint`.\n"
   ]
  },
  {
   "cell_type": "markdown",
   "metadata": {
    "slideshow": {
     "slide_type": "subslide"
    }
   },
   "source": [
    "## error handling\n",
    "\n",
    "What `BadStartingPoint`, `StationaryStartingPoint`, ... are? They are \"types\" of exceptions, or, more generally, \"types\": like `int`, `str`, ...\n",
    "\n",
    "However, they are user-defined types, or `classes`.\n"
   ]
  },
  {
   "cell_type": "markdown",
   "metadata": {
    "slideshow": {
     "slide_type": "subslide"
    }
   },
   "source": [
    "## try/except\n",
    "\n",
    "<pre style=\"font-size:70%;\">\n",
    "try:\n",
    "    ...\n",
    "    ...\n",
    "except Exc0:\n",
    "    ... # catches exceptions type Exc0\n",
    "except Exc1 as excInstance:\n",
    "    ... # catches exceptions type Exc1, \n",
    "        # and its instance is excInstance\n",
    "except (Exc2, Exc3):\n",
    "    ... # catches exceptions type Exc2 o Exc3\n",
    "except (Exc4, Exc5) as excInstance:\n",
    "    ... # catches exceptions type Exc2 o Exc3, \n",
    "        # and their instance is excInstance\n",
    "except:\n",
    "    ... # catches any exception\n",
    "else:\n",
    "    ... # executed only if no exceptions were captured\n",
    "finally:\n",
    "    ... # executed always and anyway\n",
    "</pre>"
   ]
  },
  {
   "cell_type": "markdown",
   "metadata": {
    "slideshow": {
     "slide_type": "subslide"
    }
   },
   "source": [
    "## else/finally example\n",
    "\n",
    "<pre>\n",
    "try:\n",
    "    f = open(\"a.txt\", \"r\") # NEVER DO THIS! USE: with open(...)\n",
    "    do_some_action_on_file(f)\n",
    "except:\n",
    "    print(\"ERROR\")\n",
    "else:\n",
    "    print(\"OK\")\n",
    "finally:\n",
    "    f.close()\n",
    "</pre>"
   ]
  },
  {
   "cell_type": "markdown",
   "metadata": {
    "slideshow": {
     "slide_type": "subslide"
    }
   },
   "source": [
    "## standard exceptions\n",
    "Now we can better understand what happens when there is an error in a program:\n",
    "\n",
    "<pre>\n",
    ">>> a = 4/0\n",
    "Traceback (most recent call last):\n",
    "  File \"&lt;stdin&gt;\", line 1, in &lt;module&gt;\n",
    "ZeroDivisionError: integer division or modulo by zero\n",
    ">>>\n",
    "</pre>"
   ]
  },
  {
   "cell_type": "markdown",
   "metadata": {
    "slideshow": {
     "slide_type": "subslide"
    }
   },
   "source": [
    "## standard exceptions\n",
    "\n",
    "<pre>\n",
    ">>> l = [1, 2, 3]\n",
    "\n",
    ">>> print(l[10])\n",
    "Traceback (most recent call last):\n",
    "  File \"&lt;stdin&gt;\", line 1, in &lt;module&gt;\n",
    "IndexError: list index out of range\n",
    "</pre>\n"
   ]
  },
  {
   "cell_type": "markdown",
   "metadata": {
    "slideshow": {
     "slide_type": "subslide"
    }
   },
   "source": [
    "## standard exceptions\n",
    "\n",
    "<pre>\n",
    ">>> l.remove(444)\n",
    "Traceback (most recent call last):\n",
    "  File \"&lt;stdin&gt;\", line 1, in &lt;module&gt;\n",
    "ValueError: list.remove(x): x not in list\n",
    "\n",
    ">>> d = {}\n",
    ">>> print(d['alfa'])\n",
    "Traceback (most recent call last):\n",
    "  File \"&lt;stdin&gt;\", line 1, in &lt;module&gt;\n",
    "KeyError: 'alfa'\n",
    ">>>\n",
    "</pre>"
   ]
  },
  {
   "cell_type": "markdown",
   "metadata": {
    "slideshow": {
     "slide_type": "subslide"
    }
   },
   "source": [
    "## standard exceptions\n",
    "\n",
    "<pre>\n",
    ">>> l = [1, 2]\n",
    ">>> il = iter(l)\n",
    ">>> next(il)\n",
    "1\n",
    ">>> next(il)\n",
    "2\n",
    ">>> next(il)\n",
    "Traceback (most recent call last):\n",
    "  File \"&lt;stdin&gt;\", line 1, in &lt;module&gt;\n",
    "StopIteration\n",
    ">>>\n",
    "</pre>\n"
   ]
  },
  {
   "cell_type": "markdown",
   "metadata": {
    "slideshow": {
     "slide_type": "subslide"
    }
   },
   "source": [
    "## standard exceptions\n",
    "We now know that a for loop ends when the iterator on which it operates launches an exception StopIterator!\n",
    "\n",
    "<pre>\n",
    ">>> def rangeIter(n):\n",
    "...     i = 0\n",
    "...     while True:\n",
    "...         if i >= n: raise StopIteration\n",
    "...         yield i\n",
    "...         i += 1\n",
    "...\n",
    ">>> for i in rangeIter(3):\n",
    "...     print(i)\n",
    "...\n",
    "0\n",
    "1\n",
    "2\n",
    ">>>\n",
    "</pre>"
   ]
  },
  {
   "cell_type": "markdown",
   "metadata": {
    "slideshow": {
     "slide_type": "subslide"
    }
   },
   "source": [
    "## test (primes.py)\n",
    "* Change the function `is_prime` to generate an error if the argument is not an integer, or if it is a negative integer.\n",
    "* Write a test program with error handling.\n"
   ]
  }
 ],
 "metadata": {
  "celltoolbar": "Slideshow",
  "kernelspec": {
   "display_name": "Python 3",
   "language": "python",
   "name": "python3"
  },
  "language_info": {
   "codemirror_mode": {
    "name": "ipython",
    "version": 3
   },
   "file_extension": ".py",
   "mimetype": "text/x-python",
   "name": "python",
   "nbconvert_exporter": "python",
   "pygments_lexer": "ipython3",
   "version": "3.5.1"
  }
 },
 "nbformat": 4,
 "nbformat_minor": 0
}
