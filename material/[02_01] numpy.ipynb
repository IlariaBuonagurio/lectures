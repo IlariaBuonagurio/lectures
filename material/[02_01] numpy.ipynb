{
 "cells": [
  {
   "cell_type": "markdown",
   "metadata": {
    "slideshow": {
     "slide_type": "slide"
    }
   },
   "source": [
    "![](files/images/cover_numpy.png)"
   ]
  },
  {
   "cell_type": "code",
   "execution_count": null,
   "metadata": {
    "collapsed": true
   },
   "outputs": [],
   "source": []
  },
  {
   "cell_type": "markdown",
   "metadata": {
    "slideshow": {
     "slide_type": "subslide"
    }
   },
   "source": [
    " ![](files/images/rubber_duck.png)\n",
    " \n",
    " https://en.wikipedia.org/wiki/Rubber_duck_debugging"
   ]
  },
  {
   "cell_type": "markdown",
   "metadata": {
    "slideshow": {
     "slide_type": "subslide"
    }
   },
   "source": [
    "## Goal of the lecture\n",
    "\n",
    "Learn \n",
    "* how to use of the objects provided by numpy\n",
    "* how to read data from files and manipulate it\n",
    "* how to integrate python with plotting\n",
    "* and of course ...\n"
   ]
  },
  {
   "cell_type": "markdown",
   "metadata": {
    "slideshow": {
     "slide_type": "subslide"
    }
   },
   "source": [
    "* ... how to have fun with it ...\n",
    "\n",
    "![](files/images/xkcd.png)"
   ]
  },
  {
   "cell_type": "code",
   "execution_count": 37,
   "metadata": {
    "collapsed": true
   },
   "outputs": [],
   "source": [
    "import antigravity"
   ]
  },
  {
   "cell_type": "markdown",
   "metadata": {
    "slideshow": {
     "slide_type": "subslide"
    }
   },
   "source": [
    "but don't get overly exicted\n",
    "\n",
    "![](files/images/coding_drunk.png)"
   ]
  },
  {
   "cell_type": "markdown",
   "metadata": {
    "slideshow": {
     "slide_type": "subslide"
    }
   },
   "source": [
    "## Introduction (1): history\n",
    "* Numerical Python: evolution\n",
    " * In origin, 2 different libraries Numeric and Numarray\n",
    " * They became NumPy (2006). All the features of the two original libraries (plus more..) converging in one library\n"
   ]
  },
  {
   "cell_type": "markdown",
   "metadata": {
    "slideshow": {
     "slide_type": "subslide"
    }
   },
   "source": [
    "## Introduction (2): why bother?\n",
    "* NumPy offers efficient array storing and computation\n",
    "* Python scientific libraries (i.e. scipy, matplotlib, pandas) make use of NumPy objects\n",
    "* NumPy is the __de facto__ standard"
   ]
  },
  {
   "cell_type": "markdown",
   "metadata": {
    "slideshow": {
     "slide_type": "subslide"
    }
   },
   "source": [
    "### Introduction (3): what's inside the box\n",
    "\n",
    "![](files/images/numpy_pkgs.png)"
   ]
  },
  {
   "cell_type": "markdown",
   "metadata": {
    "slideshow": {
     "slide_type": "subslide"
    }
   },
   "source": [
    "## Introduction (4)\n",
    "\n",
    "* Default for this presentation (and for the standard documentation)"
   ]
  },
  {
   "cell_type": "code",
   "execution_count": 38,
   "metadata": {
    "collapsed": false,
    "slideshow": {
     "slide_type": "fragment"
    }
   },
   "outputs": [],
   "source": [
    "import numpy as np"
   ]
  },
  {
   "cell_type": "markdown",
   "metadata": {
    "slideshow": {
     "slide_type": "subslide"
    }
   },
   "source": [
    "## NumPy (main) objects\n",
    "\n",
    "* NumPy provides two main objects:\n",
    " * __ndarray__;\n",
    " * __ufunc__;\n"
   ]
  },
  {
   "cell_type": "markdown",
   "metadata": {
    "slideshow": {
     "slide_type": "subslide"
    }
   },
   "source": [
    "## ndarray\n",
    "\n",
    "* Like lists, tuples and sets, ndarrays are collection of items\n",
    "```python\n",
    ">>> my_array, type(my_array)\n",
    "(array([0, 1, 2, 3, 4, 5, 6, 7, 8, 9]), numpy.ndarray)\n",
    "```"
   ]
  },
  {
   "cell_type": "markdown",
   "metadata": {
    "slideshow": {
     "slide_type": "subslide"
    }
   },
   "source": [
    "## ndarray/2\n",
    "\n",
    "Examples:"
   ]
  },
  {
   "cell_type": "code",
   "execution_count": 39,
   "metadata": {
    "collapsed": false,
    "slideshow": {
     "slide_type": "fragment"
    }
   },
   "outputs": [
    {
     "data": {
      "text/plain": [
       "array([1, 2, 3])"
      ]
     },
     "execution_count": 39,
     "metadata": {},
     "output_type": "execute_result"
    }
   ],
   "source": [
    "a = np.array([1, 2, 3])  # try also: \n",
    "                         # b = np.array([[1.5, 2.2, 34.4], [2.3, 4, 6.5]])\n",
    "                         # c = np.array(['lof', 'l', 'ga']) \n",
    "a"
   ]
  },
  {
   "cell_type": "code",
   "execution_count": 40,
   "metadata": {
    "collapsed": false,
    "slideshow": {
     "slide_type": "fragment"
    }
   },
   "outputs": [
    {
     "name": "stdout",
     "output_type": "stream",
     "text": [
      "['2' '3' 'lof']\n"
     ]
    }
   ],
   "source": [
    "c = np.array([2, 3, 'lof'])  # doesn't work asexpected\n",
    "print(c)"
   ]
  },
  {
   "cell_type": "markdown",
   "metadata": {
    "slideshow": {
     "slide_type": "subslide"
    }
   },
   "source": [
    "## ndarray/3\n",
    "\n",
    "* ndarray is a collection of __homogeneous__ items\n",
    " * Each item occupies the same number of bytes\n",
    "* Items typically are numerical type...\n",
    "* ... but an arbitrary __record__ of (non) numerical types can be used\n"
   ]
  },
  {
   "cell_type": "markdown",
   "metadata": {
    "slideshow": {
     "slide_type": "subslide"
    }
   },
   "source": [
    "## ndarray/4\n",
    "\n",
    "\n",
    "`numpy/core/include/numpy/ndarrayobject.h`\n",
    "\n",
    "<pre style=\"font-size:60%;\"> \n",
    "typedef struct PyArrayObject {\n",
    "char *data;            /* pointer to raw data buffer */ \n",
    "PyArray_Descr *descr;  /* Pointer to type structure */ \n",
    "int nd;                /* number of dimensions, also called ndim */\n",
    "npy_intp *dimensions;  /* size in each dimension (shape) */\n",
    "npy_intp *strides;     /* bytes to jump to get to the next element in each dimension */\n",
    "PyObject *base;        /* This object should be decref'd upon deletion of array */ \n",
    "                       /* For views it points to the original array */ \n",
    "int flags;             /* Flags describing array */\n",
    "} PyArrayObject;\n",
    "</pre>"
   ]
  },
  {
   "cell_type": "markdown",
   "metadata": {
    "slideshow": {
     "slide_type": "subslide"
    }
   },
   "source": [
    "## ndarray: data\n",
    "\n",
    "```C\n",
    "char *data;  /* pointer to raw data buffer */ \n",
    "PyArray_Descr *descr;  /* pointer to type structure */\n",
    "```\n",
    "\n",
    "* `data` is just a pointer to bytes in memory\n",
    "* `data` needs some sort of descriptor (dtype) to be interpreted\n"
   ]
  },
  {
   "cell_type": "code",
   "execution_count": 41,
   "metadata": {
    "collapsed": false,
    "slideshow": {
     "slide_type": "fragment"
    }
   },
   "outputs": [
    {
     "data": {
      "text/plain": [
       "dtype('int32')"
      ]
     },
     "execution_count": 41,
     "metadata": {},
     "output_type": "execute_result"
    }
   ],
   "source": [
    "a = np.array([1, 2, 3])  # buffer of 12 bytes intepreted as 3 ints\n",
    "a.dtype                  # int32 -> 32bits -> 4 bytes"
   ]
  },
  {
   "cell_type": "code",
   "execution_count": 42,
   "metadata": {
    "collapsed": true,
    "slideshow": {
     "slide_type": "fragment"
    }
   },
   "outputs": [],
   "source": [
    "b = a.astype(np.float)  # dtype('float64') "
   ]
  },
  {
   "cell_type": "markdown",
   "metadata": {
    "slideshow": {
     "slide_type": "subslide"
    }
   },
   "source": [
    "## ndarray: some dtype types\n",
    "\n",
    "![](files/images/dtypes.png)"
   ]
  },
  {
   "cell_type": "markdown",
   "metadata": {
    "slideshow": {
     "slide_type": "subslide"
    }
   },
   "source": [
    "## ndarray: dtype cont'ed\n",
    "\n",
    "* the elements of `ndarrays` can be specified with a dtype object:\n"
   ]
  },
  {
   "cell_type": "markdown",
   "metadata": {
    "slideshow": {
     "slide_type": "subslide"
    }
   },
   "source": [
    "__numerical__\n",
    "```python\n",
    ">>> np.dtype(np.int32) # 32 are the bits used to \n",
    "dtype('np.int32')      # represent the integer  \n",
    "                       # (4 bytes int) \n",
    "```\n",
    "__strings__\n",
    "```python\n",
    ">>> np.dtype('S3') # mind the capital case here\n",
    "                   # 3 means 3 bytes \n",
    "```\n",
    "__both__\n",
    "```python\n",
    ">>> np.dtype([('f1', np.uint), ('f2', 'S3')])\n",
    "dtype([('f1', '<u4'), ('f2', '|S3')])   # list of tuples\n",
    "```"
   ]
  },
  {
   "cell_type": "markdown",
   "metadata": {
    "slideshow": {
     "slide_type": "subslide"
    }
   },
   "source": [
    "## Enough theory...\n",
    "\n",
    "* Let's get our (dirty) hands on this new toy\n",
    "* During this course, most of the things we learn will be used to solve an exercise\n",
    "* It's about ...\n"
   ]
  },
  {
   "cell_type": "markdown",
   "metadata": {
    "slideshow": {
     "slide_type": "subslide"
    }
   },
   "source": [
    "![](files/images/break_bad.png)"
   ]
  },
  {
   "cell_type": "markdown",
   "metadata": {
    "slideshow": {
     "slide_type": "subslide"
    }
   },
   "source": [
    "## Exercise\n",
    "* Rotate a molecule along the axes that diagonalize the moment of inertia tensor\n",
    "* step by step guided solution through this course\n",
    "\n",
    "![](files/images/mol.png)"
   ]
  },
  {
   "cell_type": "markdown",
   "metadata": {
    "slideshow": {
     "slide_type": "subslide"
    }
   },
   "source": [
    "## Exercise 1: dtype\n",
    "Try to construct a dtype object to represent an atom in a 3d space. It should contain:\n",
    " * a string ('S3') to represent the symbol (i.e. Na, Cl, H, O)\n",
    " * an integer (np.int) for the atomic weight (i.e. 11, 17, 1)\n",
    " * 3 floats 64 bits (np.float64) for the cartesian coordinates\n",
    "\n",
    "* Help needed? Try (after having imported numpy):\n",
    "```\n",
    ">>> help(np.dtype) (python)\n",
    ">>> np.dtype? (ipython)\n",
    "```"
   ]
  },
  {
   "cell_type": "markdown",
   "metadata": {
    "slideshow": {
     "slide_type": "subslide"
    }
   },
   "source": [
    "## Exercise 1: dtype\n",
    "* Solution"
   ]
  },
  {
   "cell_type": "code",
   "execution_count": 43,
   "metadata": {
    "collapsed": false,
    "slideshow": {
     "slide_type": "fragment"
    }
   },
   "outputs": [
    {
     "name": "stdout",
     "output_type": "stream",
     "text": [
      "[('symb', 'S3'), ('PA', '<i4'), ('x', '<f8'), ('y', '<f8'), ('z', '<f8')]\n"
     ]
    }
   ],
   "source": [
    "dt = np.dtype([('symb','S3'),('PA',np.int), ('x',np.float64),('y',np.float64),('z',np.float64)]) \n",
    "print(dt)"
   ]
  },
  {
   "cell_type": "markdown",
   "metadata": {
    "slideshow": {
     "slide_type": "subslide"
    }
   },
   "source": [
    "## ndarray/5\n",
    "\n",
    "\n",
    "`numpy/core/include/numpy/ndarrayobject.h`\n",
    "\n",
    "<pre style=\"font-size:60%;\">\n",
    "typedef struct PyArrayObject {\n",
    "char *data;            /* pointer to raw data buffer */ \n",
    "PyArray_Descr *descr;  /* Pointer to type structure */ \n",
    "int nd;                /* number of dimensions, also called ndim */\n",
    "npy_intp *dimensions;  /* size in each dimension (shape) */\n",
    "npy_intp *strides;     /* bytes to jump to get to the next element in each dimension */\n",
    "PyObject *base;        /* This object should be decref'd upon deletion of array */ \n",
    "                       /* For views it points to the original array */ \n",
    "int flags;             /* Flags describing array */\n",
    "} PyArrayObject;\n",
    "</pre>"
   ]
  },
  {
   "cell_type": "markdown",
   "metadata": {
    "slideshow": {
     "slide_type": "subslide"
    }
   },
   "source": [
    "## ndarray: dimensions\n",
    "\n",
    "```C\n",
    "int nd;                /* number of dimensions, also called ndim */\n",
    " \n",
    "npy_intp *dimensions;  /* size in each dimension */\n",
    "``` "
   ]
  },
  {
   "cell_type": "code",
   "execution_count": 44,
   "metadata": {
    "collapsed": false,
    "slideshow": {
     "slide_type": "fragment"
    }
   },
   "outputs": [
    {
     "data": {
      "text/plain": [
       "2"
      ]
     },
     "execution_count": 44,
     "metadata": {},
     "output_type": "execute_result"
    }
   ],
   "source": [
    "b = np.array([[1,2], [3,4]])\n",
    "b.ndim"
   ]
  },
  {
   "cell_type": "code",
   "execution_count": 45,
   "metadata": {
    "collapsed": false,
    "slideshow": {
     "slide_type": "fragment"
    }
   },
   "outputs": [
    {
     "data": {
      "text/plain": [
       "(2, 2)"
      ]
     },
     "execution_count": 45,
     "metadata": {},
     "output_type": "execute_result"
    }
   ],
   "source": [
    "b.shape"
   ]
  },
  {
   "cell_type": "code",
   "execution_count": 46,
   "metadata": {
    "collapsed": true,
    "slideshow": {
     "slide_type": "fragment"
    }
   },
   "outputs": [],
   "source": [
    "b.shape = 1,4  # reshaping the array"
   ]
  },
  {
   "cell_type": "markdown",
   "metadata": {
    "slideshow": {
     "slide_type": "slide"
    }
   },
   "source": [
    "## Creating arrays/1\n",
    "\n",
    "__5 general mechanism__ to create arrays:\n",
    "\n",
    "__(1)__ Conversion from other Python structures (e.g. lists, tuples): np.array function"
   ]
  },
  {
   "cell_type": "code",
   "execution_count": 47,
   "metadata": {
    "collapsed": false,
    "slideshow": {
     "slide_type": "subslide"
    }
   },
   "outputs": [
    {
     "name": "stdout",
     "output_type": "stream",
     "text": [
      "[0 2 3 7] <class 'numpy.ndarray'>\n"
     ]
    }
   ],
   "source": [
    "list = [0,2,3,7]\n",
    "a = np.array(list)\n",
    "print(a, type(a))"
   ]
  },
  {
   "cell_type": "code",
   "execution_count": 48,
   "metadata": {
    "collapsed": false,
    "slideshow": {
     "slide_type": "fragment"
    }
   },
   "outputs": [],
   "source": [
    "b = np.array([list,list])  # l, m python lists\n",
    "b = np.asarray(b)    # convert b to an array if b is, \n",
    "                     # i.e. a list; otherwise does nothing "
   ]
  },
  {
   "cell_type": "markdown",
   "metadata": {
    "slideshow": {
     "slide_type": "subslide"
    }
   },
   "source": [
    "## Creating arrays/2\n",
    " \n",
    "__(2)__ Intrinsic `NumPy` array creation functions"
   ]
  },
  {
   "cell_type": "code",
   "execution_count": 49,
   "metadata": {
    "collapsed": false,
    "slideshow": {
     "slide_type": "subslide"
    }
   },
   "outputs": [
    {
     "name": "stdout",
     "output_type": "stream",
     "text": [
      "[ 0.  0.  0.  0.  0.  0.  0.  0.  0.  0.]\n",
      "[[ 1.  1.]\n",
      " [ 1.  1.]\n",
      " [ 1.  1.]]\n"
     ]
    }
   ],
   "source": [
    "a_ = np.zeros(10)\n",
    "print(a_)\n",
    "b_ = np.ones((3,2))\n",
    "print(b_)"
   ]
  },
  {
   "cell_type": "code",
   "execution_count": 50,
   "metadata": {
    "collapsed": false,
    "slideshow": {
     "slide_type": "fragment"
    }
   },
   "outputs": [
    {
     "name": "stdout",
     "output_type": "stream",
     "text": [
      "[  0.   1.   2.   3.   4.   5.   6.   7.   8.   9.  10.]\n"
     ]
    }
   ],
   "source": [
    "c_ = np.linspace(0,10,11)  # start, stop, npoints \n",
    "print(c_)"
   ]
  },
  {
   "cell_type": "code",
   "execution_count": 51,
   "metadata": {
    "collapsed": false,
    "slideshow": {
     "slide_type": "fragment"
    }
   },
   "outputs": [
    {
     "name": "stdout",
     "output_type": "stream",
     "text": [
      "[0 1 2 3 4 5 6 7 8 9]\n"
     ]
    }
   ],
   "source": [
    "d_ = np.arange(10)  # try also np.arange(1,10,2)\n",
    "print(d_)"
   ]
  },
  {
   "cell_type": "markdown",
   "metadata": {
    "slideshow": {
     "slide_type": "subslide"
    }
   },
   "source": [
    "## Creating arrays/3\n",
    " \n",
    "Try the shortcut: __np.r_ __\n",
    "\n"
   ]
  },
  {
   "cell_type": "code",
   "execution_count": 52,
   "metadata": {
    "collapsed": false,
    "slideshow": {
     "slide_type": "subslide"
    }
   },
   "outputs": [
    {
     "name": "stdout",
     "output_type": "stream",
     "text": [
      "[0 1 2]\n",
      "[ 0.   0.1  0.2  0.3  0.4  0.5  0.6  0.7  0.8  0.9]\n",
      "[ 0.          0.10526316  0.21052632  0.31578947  0.42105263  0.52631579\n",
      "  0.63157895  0.73684211  0.84210526  0.94736842  1.05263158  1.15789474\n",
      "  1.26315789  1.36842105  1.47368421  1.57894737  1.68421053  1.78947368\n",
      "  1.89473684  2.        ]\n"
     ]
    }
   ],
   "source": [
    "a = np.r_[0,1,2]  # ~ np.array\n",
    "print(a)\n",
    "a = np.r_[0:1:0.1]  # np.arange\n",
    "print(a)\n",
    "a = np.r_[0:2:20j]  # np.linspace\n",
    "print(a)"
   ]
  },
  {
   "cell_type": "markdown",
   "metadata": {
    "slideshow": {
     "slide_type": "subslide"
    }
   },
   "source": [
    "## Creating arrays/4\n",
    "\n",
    "__(4)__ Reading arrays from disk, either from standard or custom formats (mind the __byte order!!__)\n",
    "\n",
    "```\n",
    "loadtxt, genfromtxt  # custom ASCII formats\n",
    "\n",
    "fromfile()           # custom binary\n",
    "<ndarray>.tofile()      \n",
    "\n",
    "h5py, pytables    # binary standard formats \n",
    "netcdf-python \n",
    "```"
   ]
  },
  {
   "cell_type": "markdown",
   "metadata": {
    "slideshow": {
     "slide_type": "subslide"
    }
   },
   "source": [
    " ## Creating arrays/5\n",
    "\n",
    "Reading from ASCII text files\n",
    "```\n",
    "loadtxt(fname[, dtype=, comments=, ...])\n",
    "```\n",
    "Save an array to ASCII text file (auto recognizes if .gz)  \n",
    "```\n",
    "savetxt(fname, X[, fmt=, delimiter=])\n",
    "```"
   ]
  },
  {
   "cell_type": "markdown",
   "metadata": {
    "slideshow": {
     "slide_type": "subslide"
    }
   },
   "source": [
    "* `loadtxt` is faster but less flexible\n",
    "* `genfromtxt` runs two loops, the first reads all the lines (→strings), the second parses the line and converts each string to a data type\n",
    " * It has the advantage of taking into account missing data\n"
   ]
  },
  {
   "cell_type": "markdown",
   "metadata": {
    "slideshow": {
     "slide_type": "subslide"
    }
   },
   "source": [
    "## Exercise 2: creating array\n",
    "\n",
    "1. Create a ndarray of 6x5 elements, all set to 1\n",
    "```\n",
    ">>> help(np.ones)\n",
    "```\n",
    "\n",
    "2. Reshape the array to 3x10\n",
    "\n",
    "3. Download 'mol.xyz' from here and build a new array of atom dtype\n",
    "```\n",
    ">>> help(np.loadtxt)\n",
    "```"
   ]
  },
  {
   "cell_type": "markdown",
   "metadata": {
    "slideshow": {
     "slide_type": "subslide"
    }
   },
   "source": [
    "## Exercise 2: creating array\n",
    "\n",
    "1.\n",
    "```python\n",
    ">>> a = np.ones((6,5))\n",
    "```\n",
    "2.\n",
    "```python\n",
    ">>> a.shape = 3,10\n",
    "```\n",
    "3.\n",
    "```python\n",
    ">>> dt = np.dtype([('symb','|S3'),('PA',np.int), ('x',np.float64),('y',np.float64),('z',np.float64)]) \n",
    ">>> arr = np.loadtxt('mol.xyz',dtype=dt)\n",
    "```"
   ]
  },
  {
   "cell_type": "code",
   "execution_count": 53,
   "metadata": {
    "collapsed": true,
    "slideshow": {
     "slide_type": "subslide"
    }
   },
   "outputs": [
    {
     "name": "stdout",
     "output_type": "stream",
     "text": [
      "[(b'C', 12, -0.102, -0.301, -0.276) (b'C', 12, -0.024, -0.189, 1.125)\n",
      " (b'C', 12, 1.254, -0.165, 1.713) (b'C', 12, 2.406, -0.245, 0.941)\n",
      " (b'C', 12, 2.311, -0.359, -0.456) (b'C', 12, 1.042, -0.388, -1.058)\n",
      " (b'C', 12, -1.248, -0.099, 1.954) (b'C', 12, -1.288, 0.693, 3.11)\n",
      " (b'C', 12, -2.434, 0.786, 3.899) (b'C', 12, -3.583, 0.07, 3.539)\n",
      " (b'C', 12, -3.563, -0.728, 2.385) (b'C', 12, -2.417, -0.807, 1.61)\n",
      " (b'O', 16, -4.755, 0.081, 4.233) (b'C', 12, -4.849, 0.871, 5.418)\n",
      " (b'C', 12, -6.253, 0.694, 5.978) (b'C', 12, -6.478, 1.501, 7.263)\n",
      " (b'C', 12, -7.892, 1.324, 7.828) (b'C', 12, -8.114, 2.125, 9.104)\n",
      " (b'O', 16, -9.453, 1.885, 9.535) (b'C', 12, -9.9, 2.496, 10.668)\n",
      " (b'C', 12, -11.226, 2.214, 11.032) (b'C', 12, -11.774, 2.784, 12.17)\n",
      " (b'C', 12, -11.027, 3.656, 12.986) (b'C', 12, -9.706, 3.927, 12.605)\n",
      " (b'C', 12, -9.138, 3.36, 11.464) (b'C', 12, -11.617, 4.262, 14.203)\n",
      " (b'C', 12, -12.527, 3.546, 15.001) (b'C', 12, -13.084, 4.108, 16.143)\n",
      " (b'C', 12, -12.737, 5.415, 16.525) (b'C', 12, -11.828, 6.143, 15.739)\n",
      " (b'C', 12, -11.283, 5.572, 14.597) (b'C', 12, -13.305, 5.999, 17.703)\n",
      " (b'N', 14, -13.767, 6.475, 18.66) (b'H', 1, -2.416, -1.453, 0.738)\n",
      " (b'C', 12, 3.495, -0.445, -1.257) (b'H', 1, -13.779, 3.538, 16.751)\n",
      " (b'H', 1, -12.781, 2.525, 14.737) (b'H', 1, -10.607, 6.158, 13.984)\n",
      " (b'H', 1, -11.566, 7.156, 16.025) (b'H', 1, -12.809, 2.572, 12.418)\n",
      " (b'H', 1, -11.807, 1.552, 10.399) (b'H', 1, -8.109, 3.587, 11.215)\n",
      " (b'H', 1, -9.091, 4.572, 13.225) (b'H', 1, -7.406, 1.815, 9.886)\n",
      " (b'H', 1, -7.966, 3.199, 8.921) (b'H', 1, -8.637, 1.634, 7.085)\n",
      " (b'H', 1, -8.083, 0.265, 8.041) (b'H', 1, -6.293, 2.566, 7.066)\n",
      " (b'H', 1, -5.74, 1.197, 8.019) (b'H', 1, -6.977, 0.996, 5.212)\n",
      " (b'H', 1, -6.422, -0.372, 6.169) (b'H', 1, -4.094, 0.543, 6.148)\n",
      " (b'H', 1, -4.653, 1.927, 5.183) (b'H', 1, -2.423, 1.421, 4.777)\n",
      " (b'H', 1, -0.416, 1.277, 3.389) (b'H', 1, -4.457, -1.285, 2.126)\n",
      " (b'H', 1, -1.074, -0.294, -0.759) (b'H', 1, 0.963, -0.467, -2.138)\n",
      " (b'H', 1, 3.384, -0.232, 1.412) (b'H', 1, 1.344, -0.109, 2.793)\n",
      " (b'N', 14, 4.457, -0.515, -1.908)]\n"
     ]
    }
   ],
   "source": [
    "arr = np.loadtxt('data/mol.xyz', dtype=dt)\n",
    "print(arr)"
   ]
  },
  {
   "cell_type": "markdown",
   "metadata": {
    "slideshow": {
     "slide_type": "subslide"
    }
   },
   "source": [
    "## Creating arrays/6\n",
    "* From the ndarray just built we can save a binary file with the ndarray data\n",
    "\n",
    "* It can be read with np.fromfile\n",
    "\n",
    "* Be careful when using np.fromfile w/ fortran binary files, you may need to deal with __field separators__...\n"
   ]
  },
  {
   "cell_type": "code",
   "execution_count": 54,
   "metadata": {
    "collapsed": false,
    "slideshow": {
     "slide_type": "subslide"
    }
   },
   "outputs": [],
   "source": [
    "arr.tofile('mol_bin') \n",
    "arr2 = np.fromfile('mol_bin', dtype=dt) "
   ]
  },
  {
   "cell_type": "code",
   "execution_count": 55,
   "metadata": {
    "collapsed": false,
    "slideshow": {
     "slide_type": "subslide"
    }
   },
   "outputs": [
    {
     "name": "stdout",
     "output_type": "stream",
     "text": [
      "total 1452\n",
      "-rw-r--r-- 1 mirko mirko    2745 May  5 12:26 mol.xyz\n",
      "-rw-rw-r-- 1 mirko mirko 1478002 May  5 12:27 data.zip\n",
      "drwxrwxr-x 2 mirko mirko    4096 May  5 12:28 stats\n"
     ]
    }
   ],
   "source": [
    "%%bash\n",
    "ls -lrt data"
   ]
  },
  {
   "cell_type": "markdown",
   "metadata": {
    "collapsed": true,
    "slideshow": {
     "slide_type": "subslide"
    }
   },
   "source": [
    "## Creating arrays/7\n",
    "\n",
    "__(5)__ Special library functions (e.g. random, ...) or _ad hoc_ defined function"
   ]
  },
  {
   "cell_type": "code",
   "execution_count": 56,
   "metadata": {
    "collapsed": false,
    "slideshow": {
     "slide_type": "fragment"
    }
   },
   "outputs": [
    {
     "data": {
      "text/plain": [
       "array([[ 1.,  1.,  1.,  1.],\n",
       "       [ 1.,  2.,  3.,  4.],\n",
       "       [ 1.,  3.,  5.,  7.]])"
      ]
     },
     "execution_count": 56,
     "metadata": {},
     "output_type": "execute_result"
    }
   ],
   "source": [
    "def func(i, j):\n",
    "    return i*j+1\n",
    "\n",
    "np.fromfunction(func, (3,4))   # meshgrid"
   ]
  },
  {
   "cell_type": "code",
   "execution_count": 57,
   "metadata": {
    "collapsed": false,
    "slideshow": {
     "slide_type": "fragment"
    }
   },
   "outputs": [
    {
     "data": {
      "text/plain": [
       "array([ 0.93054712,  0.6468215 ,  0.37944125,  0.39483142])"
      ]
     },
     "execution_count": 57,
     "metadata": {},
     "output_type": "execute_result"
    }
   ],
   "source": [
    "np.random.rand(4)"
   ]
  },
  {
   "cell_type": "markdown",
   "metadata": {
    "slideshow": {
     "slide_type": "slide"
    }
   },
   "source": [
    "## ndarray attributes\n",
    "\n",
    "Some useful ndarray attributes are: (let arr be the array)\n",
    "* __`arr.dtype`__ &emsp; data-type object for this array\n",
    "```python\n",
    "a = np.ones(10); a.dtype\n",
    "dtype('float64')\n",
    "```\n",
    "* __`arr.shape`__ &emsp; returns a tuple with the size of the array. Changing the tuple re-shapes the array\n",
    "* __`arr.ndim`__ &emsp; number of dimension in array\n",
    "* __`arr.size`__ &emsp; total number of elements\n"
   ]
  },
  {
   "cell_type": "markdown",
   "metadata": {
    "slideshow": {
     "slide_type": "subslide"
    }
   },
   "source": [
    "## (some) ndarray functions\n",
    "Some useful ndarray functions are:\n",
    "* __`arr.copy()`__ &emsp; returns a copy of the array\n",
    "* __`arr.view()`__ &emsp; returns a new view of the array using the same data of arr (save memory space)\n",
    "* __`arr.reshape()`__ &emsp; returns an array with a new shape\n",
    "* __`arr.transpose()`__ &emsp; returns an array view with the shape transposed\n"
   ]
  },
  {
   "cell_type": "markdown",
   "metadata": {
    "slideshow": {
     "slide_type": "subslide"
    }
   },
   "source": [
    "## (some) ndarray functions/2\n",
    "* __`arr.sum()`__\n"
   ]
  },
  {
   "cell_type": "code",
   "execution_count": 58,
   "metadata": {
    "collapsed": false,
    "slideshow": {
     "slide_type": "fragment"
    }
   },
   "outputs": [
    {
     "data": {
      "text/plain": [
       "array([ 4,  5, 10])"
      ]
     },
     "execution_count": 58,
     "metadata": {},
     "output_type": "execute_result"
    }
   ],
   "source": [
    "a = np.array([[1,4,2],[3,1,8]])\n",
    "a.sum(axis=0)  # try also axis=None"
   ]
  },
  {
   "cell_type": "markdown",
   "metadata": {
    "slideshow": {
     "slide_type": "subslide"
    }
   },
   "source": [
    "## (some) ndarray functions/3\n",
    "```\n",
    ">>> a = np.array([[1,1],[2,2]])\n",
    ">>> a.sum(axis=0)\n",
    ">>> array([ 3, 3])\n",
    "```\n",
    "![](files/images/sum.png)"
   ]
  },
  {
   "cell_type": "markdown",
   "metadata": {
    "slideshow": {
     "slide_type": "subslide"
    }
   },
   "source": [
    "## (some) ndarray functions/4\n",
    "* __`arr.min|max()`__ &emsp; return min (or max) value\n",
    "* __`arr.argmin|argmax()`__ &emsp; return the index of min (max) value\n",
    "* __`arr.var|mean|std|prod()`__ &emsp; take the usual meaning\n"
   ]
  },
  {
   "cell_type": "markdown",
   "metadata": {
    "slideshow": {
     "slide_type": "subslide"
    }
   },
   "source": [
    "## (some) ndarray functions/5\n",
    "__`sort`__ &emsp; array sorting\n",
    "```python\n",
    ">>> a = np.array([[1,4],[3,1]])\n",
    ">>> np.sort(a)  # sort along the last axis\n",
    "array([[1, 4],\n",
    "[1, 3]])\n",
    ">>> np.sort(a, axis=0)  # sort along x axis\n",
    "array([[1, 1],\n",
    "[3, 4]])\n",
    ">>> np.sort(a, axis=None)  # sort the flattened# array\n",
    "array([1, 1, 3, 4])\n",
    ">>> np.sort(a, order=field)  # 'field' of a structured array \n",
    "```"
   ]
  },
  {
   "cell_type": "markdown",
   "metadata": {
    "slideshow": {
     "slide_type": "subslide"
    }
   },
   "source": [
    "## Basic routines overview\n",
    "* Creating arrays routines (mentioned earlier in this presentation)\n",
    "* Operation on two or more arrays (`dot, ...`)\n",
    "* Shape functions (`split, resize, concatenate, stack`)\n",
    "* Basic functions (`average, cov, vectorize,...`)\n",
    "* Two-dimensional array functions (`eye, diag, ...`)  \n"
   ]
  },
  {
   "cell_type": "markdown",
   "metadata": {
    "slideshow": {
     "slide_type": "slide"
    }
   },
   "source": [
    "## Indexing\n",
    "* Indexing means selecting some of the array's values\n",
    "* ndarrays can be indexed using the following syntax:\n",
    "<center>`X[obj]`</center>"
   ]
  },
  {
   "cell_type": "markdown",
   "metadata": {
    "slideshow": {
     "slide_type": "subslide"
    }
   },
   "source": [
    "<center>`X[obj]`</center>\n",
    "* Depending on __obj__, a different indexing is triggered:\n",
    " * __Basic slicing__ when __obj__ is an integer, or a tuple (or list) ofintegers, and slice objects.\n",
    "   * always returns a __view__ of the array\n",
    " * __Record access__ when __obj__ is the string of a field of structured array\n",
    " * __Advanced selection__ when __obj__ contains a ndarray of data type integer or bool.\n",
    "   * always returns a copy of the array"
   ]
  },
  {
   "cell_type": "markdown",
   "metadata": {
    "slideshow": {
     "slide_type": "subslide"
    }
   },
   "source": [
    "## Basic slicing/1\n",
    "* A slice object is represented by X[__<span style=\"color:blue\">I</span>:<span style=\"color:green\">J</span>:<span style=\"color:red\">K</span>__]\n",
    " * __I__ = __<span style=\"color:blue\">first element</span>__ (included, default is 0)\n",
    " * __J__ = __<span style=\"color:green\">last element</span>__ (excluded, default is length of the array)\n",
    " * __K__ = __<span style=\"color:red\">step or stride </span>__ (default is 1)\n",
    " \n",
    "* Slicing for ndarray works similarly to standard Python sequences but can be done over __multiple dimensions__\n"
   ]
  },
  {
   "cell_type": "markdown",
   "metadata": {
    "slideshow": {
     "slide_type": "subslide"
    }
   },
   "source": [
    "## Basic slicing/2\n",
    "Examples: given a two dimensional __5x10__ ndarray “A”\n",
    "* `A[3] = A[3,:] = A[3,::]` &emsp; represents the __4th__ row of the array (10 elements)\n",
    "* `A[:,1] = A[::,1]` &emsp; represents the __2nd__ column of the array (5 elements)\n"
   ]
  },
  {
   "cell_type": "markdown",
   "metadata": {
    "slideshow": {
     "slide_type": "subslide"
    }
   },
   "source": [
    "## Basic slicing/3\n",
    "\n",
    "![](files/images/slice.png)"
   ]
  },
  {
   "cell_type": "markdown",
   "metadata": {
    "slideshow": {
     "slide_type": "subslide"
    }
   },
   "source": [
    "## Basic slicing/4\n",
    "* Ellipses (...) can be used to replace zero or more “:” terms so that the total number of dimensions in the slicing tuple matches the shape of the ndarray"
   ]
  },
  {
   "cell_type": "code",
   "execution_count": 59,
   "metadata": {
    "collapsed": false,
    "slideshow": {
     "slide_type": "subslide"
    }
   },
   "outputs": [
    {
     "name": "stdout",
     "output_type": "stream",
     "text": [
      "[[ 3  8 13 18]\n",
      " [23 28 33 38]\n",
      " [43 48 53 58]]\n",
      "==============================\n",
      "[23 28 33 38]\n"
     ]
    }
   ],
   "source": [
    "a = np.arange(60) \n",
    "a.shape=(3,4,5) \n",
    "print(a[...,3])  # print a[:,:,3] → (3,4)\n",
    "print('='*30)\n",
    "print(a[1,...,3])  # print a[1,:,3] → (4)"
   ]
  },
  {
   "cell_type": "markdown",
   "metadata": {
    "slideshow": {
     "slide_type": "subslide"
    }
   },
   "source": [
    "## Exercise 3: Basic slicing\n",
    "* Build a 2-dim array, then calculate all the average values along the rows for its odd and even columns.\n",
    "\n",
    "![](files/images/slice_ex.png)\n",
    "\n",
    "`hint: np.mean() or arr.mean()`"
   ]
  },
  {
   "cell_type": "markdown",
   "metadata": {
    "slideshow": {
     "slide_type": "subslide"
    }
   },
   "source": [
    "## Record access\n",
    "* The fields of structured arrays can be accessed by indexing the array with string\n",
    "```python\n",
    ">>> ra\n",
    "array([(b'H', 1), (b'C', 6)], \n",
    "      dtype=[('at', 'S3'), ('Z', '<i4')])\n",
    "ra['at']   # array(['H', 'C'], dtype='|S3')\n",
    "```"
   ]
  },
  {
   "cell_type": "markdown",
   "metadata": {
    "slideshow": {
     "slide_type": "subslide"
    }
   },
   "source": [
    "## Advanced selection\n",
    "* Indexing arrays with other arrays\n",
    "* This means `X[obj]` → `obj` is a `ndarray`\n",
    "* There are two different ways:\n",
    " * __Boolean index arrays__. Involve giving a boolean array of the proper shape to indicate the values to be selected\n",
    " * __Integer index arrays__. Use one or more arrays of index values.\n"
   ]
  },
  {
   "cell_type": "markdown",
   "metadata": {
    "slideshow": {
     "slide_type": "subslide"
    }
   },
   "source": [
    "## Adv. selection: boolean index arrays\n",
    "* ```python\n",
    "  a = np.array([True, False, True])  # bool\n",
    "  ```\n",
    "* Boolean arrays must be of the (or _broadcastable_ to the) same shape of the array being indexed"
   ]
  },
  {
   "cell_type": "code",
   "execution_count": 60,
   "metadata": {
    "collapsed": false,
    "slideshow": {
     "slide_type": "fragment"
    }
   },
   "outputs": [
    {
     "data": {
      "text/plain": [
       "array([11, 12, 13, 14, 15, 16, 17])"
      ]
     },
     "execution_count": 60,
     "metadata": {},
     "output_type": "execute_result"
    }
   ],
   "source": [
    "y = np.arange(18).reshape(3,6)\n",
    "b = y > 10\n",
    "y[b]  # 1-d array"
   ]
  },
  {
   "cell_type": "markdown",
   "metadata": {
    "slideshow": {
     "slide_type": "subslide"
    }
   },
   "source": [
    "## Exercise 4 ndarray selection\n",
    "* From the atoms array calculate the contribution to the molecular weight for each of the different kind of atoms (C, N, H, O) making use of the Numpy selection\n",
    "\n",
    "$$PM_c = \\sum PA_c $$\n",
    "\n",
    "Hint: use the advanced boolean section"
   ]
  },
  {
   "cell_type": "markdown",
   "metadata": {
    "slideshow": {
     "slide_type": "subslide"
    }
   },
   "source": [
    "## Exercise 4 ndarray selection\n",
    "* Solution\n",
    "```python\n",
    ">>> arr[arr['symb']=='C']['PA'].sum()  # 372\n",
    ">>> arr[arr['symb']=='H']['PA'].sum()  # 26\n",
    ">>> arr[arr['symb']=='N']['PA'].sum()  # 28\n",
    ">>> arr[arr['symb']=='O']['PA'].sum()  # 32\n",
    "```"
   ]
  },
  {
   "cell_type": "markdown",
   "metadata": {
    "slideshow": {
     "slide_type": "subslide"
    }
   },
   "source": [
    "## ndarray selection\n",
    "To summarize, selection:\n",
    "* can save you __time__ (and code lines)\n",
    "* enhances the code __performances__\n",
    " * avoid traversing array through python loops (internal (C) loops are still performed... more on that later)\n",
    "* can save __memory__ (in place selection)\n",
    " \n"
   ]
  },
  {
   "cell_type": "markdown",
   "metadata": {
    "slideshow": {
     "slide_type": "subslide"
    }
   },
   "source": [
    "## NumPy (main) objects\n",
    "NumPy provides two fundamental objects:\n",
    "* __ndarray__;\n",
    "* __ufunc__; functions that operate on one or more `ndarrays` __element-by-element__\n"
   ]
  },
  {
   "cell_type": "markdown",
   "metadata": {
    "slideshow": {
     "slide_type": "slide"
    }
   },
   "source": [
    "## ufunc"
   ]
  },
  {
   "cell_type": "markdown",
   "metadata": {
    "slideshow": {
     "slide_type": "subslide"
    }
   },
   "source": [
    "## Universal functions/1\n",
    "* Universal functions, ufuncs are functions that __operate__ on the `ndarray` objects \n",
    "* all `ufuncs` are instances of a general class, thus they behave the same. All `ufuncs` perform __element-by-element__ operations on the entire `ndarray(s)`\n",
    "* These functions are __wrapper__ of some core functions, typically implemented in compiled (C or Fortran) code"
   ]
  },
  {
   "cell_type": "markdown",
   "metadata": {
    "slideshow": {
     "slide_type": "subslide"
    }
   },
   "source": [
    "## Universal functions/2\n",
    "\n",
    "![](files/images/ufunc.png)"
   ]
  },
  {
   "cell_type": "markdown",
   "metadata": {
    "slideshow": {
     "slide_type": "subslide"
    }
   },
   "source": [
    "## Universal functions/3\n",
    "* Ufunc loop may look something like\n",
    "<pre style=\"font-size:50%;\">\n",
    "void ufunc_loop(void **args, int *dimensions, int *steps, void *data)\n",
    "{\n",
    "    /* int8 output = elementwise_function(int8 input_1, int8  \n",
    "    * input_2)\n",
    "    *\n",
    "    * This function must compute the ufunc for many values at \n",
    "    * once, in the way shown below.\n",
    "    */\n",
    "    char *input_1 = (char*)args[0];\n",
    "    char *input_2 = (char*)args[1];\n",
    "    char *output = (char*)args[2];\n",
    "    int i;\n",
    "    for (i = 0; i < dimensions[0]; ++i) {\n",
    "        *output = elementwise_function(*input_1, *input_2);\n",
    "        input_1 += steps[0];\n",
    "        input_2 += steps[1];\n",
    "        output += steps[2];\n",
    "    }\n",
    "}\n",
    "</pre>"
   ]
  },
  {
   "cell_type": "markdown",
   "metadata": {
    "slideshow": {
     "slide_type": "subslide"
    }
   },
   "source": [
    "## Universal functions/4\n",
    "\n",
    "Examples:\n",
    "```python\n",
    ">>> a = np.array([a1,a2,...,an]) \n",
    "```\n",
    "```python\n",
    ">>> b = 1.5*a + 2   # * + / - all ufuncs \n",
    "```\n",
    "* all the elements of “a” are multiplied by 1.5; result stored in a __temporary array__\n",
    "* All the elements of the temp array are increased by 2; result stored in another __temporary array__\n",
    "* b becomes a reference to the $2^{nd}$ temp array\n"
   ]
  },
  {
   "cell_type": "markdown",
   "metadata": {
    "slideshow": {
     "slide_type": "subslide"
    }
   },
   "source": [
    "## Universal functions (3)\n",
    "* What happens when ufunc has to operate on two arrays of __different dimensions__?\n",
    "* To be efficient, element-wise operations are required\n",
    "* To operate element-by-element broadcasting is needed.\n"
   ]
  },
  {
   "cell_type": "markdown",
   "metadata": {
    "slideshow": {
     "slide_type": "subslide"
    }
   },
   "source": [
    "![](files/images/broadcasting1.png)"
   ]
  },
  {
   "cell_type": "markdown",
   "metadata": {
    "slideshow": {
     "slide_type": "subslide"
    }
   },
   "source": [
    "![](files/images/broadcasting2.png)"
   ]
  },
  {
   "cell_type": "markdown",
   "metadata": {
    "slideshow": {
     "slide_type": "subslide"
    }
   },
   "source": [
    "## Broadcasting/1\n",
    "* Broadcasting allows to deal in a meaningful way with inputs that do not have the same shape.\n",
    "* After having applied the broadcasting rules the shape of all arrays must match\n"
   ]
  },
  {
   "cell_type": "markdown",
   "metadata": {
    "slideshow": {
     "slide_type": "subslide"
    }
   },
   "source": [
    "## Broadcasting/2\n",
    "\n",
    "Broadcasting follows these rules:\n",
    "\n",
    "__1.__ Prepend 1 until all the arrays dimension matches\n",
    "\n",
    "```\n",
    "a.shape (2,2,3,6)  # a.ndim = 4  \n",
    "b.shape (3,6)  # b.ndim = 2 \n",
    "\n",
    "1 → b.ndim = 4\n",
    "1 → b.shape (1,1,3,6)\n",
    "```\n",
    " \n"
   ]
  },
  {
   "cell_type": "markdown",
   "metadata": {
    "slideshow": {
     "slide_type": "subslide"
    }
   },
   "source": [
    "__2.__  Arrays with a size of 1 along a particular dimension act like the array with the __largest size__ along that dimension.\n",
    " * The values of the array are assumed to be __the same along the broadcasted dimension__"
   ]
  },
  {
   "cell_type": "markdown",
   "metadata": {
    "slideshow": {
     "slide_type": "subslide"
    }
   },
   "source": [
    "## Broadcasting/3\n",
    "* 1d-ndarrays are always broadcastable\n",
    "\n",
    "```python\n",
    "a.shape → (3)    b.shape -> (4,3);  \n",
    "a.shape → (1,3)  # first rule, n. of dim matches\n",
    "a.shape → (4,3)  # second rule\n",
    "c = a*b \n",
    "c.shape → (4,3) # as expected  \n",
    "```\n"
   ]
  },
  {
   "cell_type": "markdown",
   "metadata": {
    "collapsed": true,
    "slideshow": {
     "slide_type": "subslide"
    }
   },
   "source": [
    "```python\n",
    "# another example\n",
    "a.shape → (2,1,3)   \n",
    "b.shape → (2,4,1);  \n",
    "c = a*b c.shape → (2,4,3) # second rule\n",
    "\n",
    "# Arrays not broadcastable\n",
    "a.shape → (2,5,3)\n",
    "b.shape → (2,4,1); \n",
    "c = a*b    # shape mismatch\n",
    "```\n",
    " \n"
   ]
  },
  {
   "cell_type": "markdown",
   "metadata": {
    "slideshow": {
     "slide_type": "subslide"
    }
   },
   "source": [
    "## Broadcasting/4\n",
    "* If needed it is possible to add a trailing dimension to the shape of a `ndarray`. This is a convenient way of taking the outer product (or any other outer operation) of two arrays\n",
    "```python\n",
    "a.shape → (3) b.shape → (4);  \n",
    "c = a[:,np.newaxis]   # c.shape → (3,1)\n",
    "c * b \n",
    "c.shape → (3,4)  \n",
    "```"
   ]
  },
  {
   "cell_type": "markdown",
   "metadata": {
    "slideshow": {
     "slide_type": "slide"
    }
   },
   "source": [
    "## Universal functions: performance\n",
    "* Iterations over array should be avoided because they are not efficient. Performance using array arithmetics is better than using python loops.\n",
    " \n",
    "* ~ 18x speedup (standard across NumPy)\n"
   ]
  },
  {
   "cell_type": "code",
   "execution_count": 61,
   "metadata": {
    "collapsed": false,
    "slideshow": {
     "slide_type": "subslide"
    }
   },
   "outputs": [
    {
     "name": "stdout",
     "output_type": "stream",
     "text": [
      "The slowest run took 4.15 times longer than the fastest. This could mean that an intermediate result is being cached.\n",
      "10 loops, best of 3: 18.3 ms per loop\n"
     ]
    }
   ],
   "source": [
    "# Using ufunc\n",
    "x = np.arange(10**7)\n",
    "%timeit y = x*3"
   ]
  },
  {
   "cell_type": "code",
   "execution_count": 62,
   "metadata": {
    "collapsed": false,
    "slideshow": {
     "slide_type": "fragment"
    }
   },
   "outputs": [
    {
     "name": "stdout",
     "output_type": "stream",
     "text": [
      "1 loop, best of 3: 1.01 s per loop\n"
     ]
    }
   ],
   "source": [
    "# Using for loop\n",
    "%timeit y = [x*3 for x in range(10**7)]"
   ]
  },
  {
   "cell_type": "markdown",
   "metadata": {
    "slideshow": {
     "slide_type": "subslide"
    }
   },
   "source": [
    "## Efficiency note\n",
    "The operation\n",
    "```python\n",
    ">>> b = 2*a + 2\n",
    "```\n",
    "can be done with in-place operations\n",
    "```python\n",
    ">>> b = a  # b is a reference to a\n",
    ">>> b *= 2\n",
    ">>> b += 2\n",
    "```\n",
    "More efficient and doesn't require storing temp array"
   ]
  },
  {
   "cell_type": "markdown",
   "metadata": {
    "slideshow": {
     "slide_type": "subslide"
    }
   },
   "source": [
    "These operations affect array “a” as well; we can avoid this with\n",
    "```python\n",
    ">>> b = a.copy()\n",
    "```"
   ]
  },
  {
   "cell_type": "markdown",
   "metadata": {
    "slideshow": {
     "slide_type": "fragment"
    }
   },
   "source": [
    "Other in-place operations\n",
    "```python\n",
    ">>> b += a >>> b *= a >>> b **= a\n",
    ">>> b -= a\n",
    ">>> b /= a\n",
    "```"
   ]
  },
  {
   "cell_type": "markdown",
   "metadata": {
    "slideshow": {
     "slide_type": "subslide"
    }
   },
   "source": [
    "## Efficiency note/2:\n",
    "* Let's consider the function\n",
    "```python\n",
    ">>> def myfunc(x): #  if x is an array\n",
    "        if x<0:  #  x<0 becomes a bool array\n",
    "            return 0\n",
    "        else:  \n",
    "            return sin(x)\n",
    "```\n",
    "\n",
    "* “if x<0” results in a boolean array and __cannot__ be evaluated by the if statement"
   ]
  },
  {
   "cell_type": "markdown",
   "metadata": {
    "slideshow": {
     "slide_type": "subslide"
    }
   },
   "source": [
    "## Efficiency note (3): Vectorization\n",
    "We can vectorize our function using the function where\n",
    "```python\n",
    ">>> def vec_myfunc(x):\n",
    "        y = np.where(x<0, 0, np.sin(x))\n",
    "        return y  # now returns an array\n",
    "```\n",
    "`np.where`\n",
    "```python\n",
    "np.where(condition, x, y)  # condition → bool array  \n",
    "                           # condition is true → x  \n",
    "                           # condition is false → y \n",
    "```"
   ]
  },
  {
   "cell_type": "markdown",
   "metadata": {
    "slideshow": {
     "slide_type": "subslide"
    }
   },
   "source": [
    "## NumPy universal functions/1\n",
    "* There are more than 60 ufuncs\n",
    "* Some `ufuncs` are called automatically: i.e. np.multiply(x,y) is called internally when a*b is typed\n",
    "* NumPy offers trigonometric functions, their inverse counterparts, and hyperbolic versions as well as the exponential and logarithmic functions. Here, a few examples:"
   ]
  },
  {
   "cell_type": "markdown",
   "metadata": {
    "slideshow": {
     "slide_type": "subslide"
    }
   },
   "source": [
    "```python\n",
    ">>> b = np.sin(a)\n",
    ">>> b = np.arcsin(a)\n",
    ">>> b = np.sinh(a)\n",
    ">>> b = a**2.5   # exponential\n",
    ">>> b = np.log(a)\n",
    ">>> b = np.exp(a)\n",
    ">>> b = np.sqrt(a)\n",
    "```"
   ]
  },
  {
   "cell_type": "markdown",
   "metadata": {
    "slideshow": {
     "slide_type": "subslide"
    }
   },
   "source": [
    "## NumPy universal functions/2\n",
    "* Comparison functions: __greater, less, equal, logical_and/_or/_xor/_nor, maximum, minimum, ...__\n",
    "```python\n",
    ">>> a = np.array([2,0,3,5])\n",
    ">>> b = np.array([1,1,1,6])\n",
    ">>> np.maximum(a,b)\n",
    "array([2, 1, 3, 6])\n",
    "```\n",
    "* Floating point functions:  __floor, ceil, isreal, iscomplex,...__\n"
   ]
  },
  {
   "cell_type": "markdown",
   "metadata": {
    "slideshow": {
     "slide_type": "subslide"
    }
   },
   "source": [
    "## Exercise 5 \n",
    "![](files/images/inertia_t.png)"
   ]
  },
  {
   "cell_type": "markdown",
   "metadata": {
    "slideshow": {
     "slide_type": "skip"
    }
   },
   "source": [
    "## Exercise 5: universal functions\n",
    "* Calculate the molecular center of mass\n",
    "$$\n",
    "xcm=\\frac{1}{MW}\\sum_ix_i m_i \\;\\;\\;\\;\\;\\;\\;  \n",
    "ycm=\\frac{1}{MW}\\sum_iy_i m_i \\;\\;\\;\\:\\;\\;\\; \n",
    "zcm=\\frac{1}{MW}\\sum_iz_i m_i\n",
    "$$  \n",
    "  "
   ]
  },
  {
   "cell_type": "markdown",
   "metadata": {
    "slideshow": {
     "slide_type": "skip"
    }
   },
   "source": [
    "Calculate the moment of inertia tensor\n",
    "$$ \n",
    "\\left[ \\begin{array}{ccc}\n",
    "I_{11} & I_{12} & I_{13} \\\\\n",
    "I_{21} & I_{22} & I_{23} \\\\\n",
    "I_{31} & I_{32} & I_{33} \\end{array} \\right] \n",
    "$$\n",
    "whose elemets can be calculated as:\n",
    "$$\n",
    "I_{11} = I_{xx} = \\sum_i m_i(y_i^2+z_i^2) \\;\\;\\;\\;\\;\\;\\;\n",
    "I_{11} = I_{xx} = \\sum_i m_i(y_i^2+z_i^2) \\;\\;\\;\\;\\;\\;\\;\n",
    "I_{11} = I_{xx} = \\sum_i m_i(y_i^2+z_i^2) \n",
    "$$\n",
    "$$\n",
    "I_{12} = I_{xy} = -\\sum_i m_ix_iy_i \\;\\;\\;\\;\\;\\;\\;\n",
    "I_{12} = I_{xy} = -\\sum_i m_ix_iz_i \\;\\;\\;\\;\\;\\;\\;\n",
    "I_{12} = I_{xy} = -\\sum_i m_iy_iz_i\n",
    "$$"
   ]
  },
  {
   "cell_type": "code",
   "execution_count": 63,
   "metadata": {
    "collapsed": false,
    "slideshow": {
     "slide_type": "subslide"
    }
   },
   "outputs": [
    {
     "name": "stdout",
     "output_type": "stream",
     "text": [
      "-6.03111572052 1.86249781659 7.53604803493\n"
     ]
    }
   ],
   "source": [
    "# molecular center of mass\n",
    "MW = arr['PA'].sum() \n",
    "xcm = 1./MW * (arr['PA']*arr['x']).sum()\n",
    "ycm = 1./MW * (arr['PA']*arr['y']).sum()\n",
    "zcm = 1./MW * (arr['PA']*arr['z']).sum()\n",
    "print(xcm,ycm,zcm)"
   ]
  },
  {
   "cell_type": "code",
   "execution_count": 64,
   "metadata": {
    "collapsed": false,
    "slideshow": {
     "slide_type": "subslide"
    }
   },
   "outputs": [
    {
     "name": "stdout",
     "output_type": "stream",
     "text": [
      "[[ 47408.39735   10068.852991  35951.289303]\n",
      " [ 10068.852991  74181.085975 -12473.020517]\n",
      " [ 35951.289303 -12473.020517  34525.947869]]\n"
     ]
    }
   ],
   "source": [
    "# moment of inertia tensor\n",
    "Ixx = (arr['PA']*(arr['y']**2 + arr['z']**2)).sum()\n",
    "Iyy = (arr['PA']*(arr['x']**2 + arr['z']**2)).sum()\n",
    "Izz = (arr['PA']*(arr['x']**2 + arr['y']**2)).sum()\n",
    "Ixy = -(arr['PA']*arr['x']*arr['y']).sum()\n",
    "Ixz = -(arr['PA']*arr['x']*arr['z']).sum()\n",
    "Iyz = -(arr['PA']*arr['y']*arr['z']).sum()\n",
    "\n",
    "TI = np.array([[Ixx, Ixy, Ixz],[Ixy, Iyy, Iyz], [Ixz, Iyz, Izz]])\n",
    "print(TI)"
   ]
  },
  {
   "cell_type": "markdown",
   "metadata": {
    "slideshow": {
     "slide_type": "slide"
    }
   },
   "source": [
    "##  Standard classes inheriting from ndarray\n"
   ]
  },
  {
   "cell_type": "markdown",
   "metadata": {
    "slideshow": {
     "slide_type": "subslide"
    }
   },
   "source": [
    "## Matrix objects/1\n",
    "`Matrix` objects inherit from ndarray classes\n",
    "* Matrix can be created using a Matlab-style notation\n",
    "```python\n",
    ">>> a = np.matrix('1 2; 3 4')\n",
    ">>> print a\n",
    "[[1 2]\n",
    " [3 4]]\n",
    "```"
   ]
  },
  {
   "cell_type": "markdown",
   "metadata": {
    "slideshow": {
     "slide_type": "subslide"
    }
   },
   "source": [
    "* Matrix are always __two-dimensional__ objects\n",
    "* Matrix objects over-ride multiplication to be __matrix-multiplication__, and over-ride power to be __matrix raised to a power__\n",
    "* Matrix objects have higher __priority__ than ndarrays. Mixed operations result therefore in a matrix object  "
   ]
  },
  {
   "cell_type": "markdown",
   "metadata": {
    "slideshow": {
     "slide_type": "subslide"
    }
   },
   "source": [
    "## Matrix objects/2\n",
    "\n",
    "* Matrix objects have special attributes:\n",
    " * `.T` &emsp; returns the transpose of the matrix\n",
    " * `.H` &emsp; returns the conjugate transpose of the matrix\n",
    " * `.I` &emsp; returns the inverse of the matrix\n",
    " * `.A` &emsp; returns a view of the data of the matrix as a 2-d array \n"
   ]
  },
  {
   "cell_type": "markdown",
   "metadata": {
    "slideshow": {
     "slide_type": "slide"
    }
   },
   "source": [
    "## Basic modules"
   ]
  },
  {
   "cell_type": "markdown",
   "metadata": {
    "slideshow": {
     "slide_type": "subslide"
    }
   },
   "source": [
    "## Basic modules: linear algebra/1\n",
    "\n",
    "Contain functions to solve __linear systems__, finding the __inverse__, the __determinant__ of a matrix, and computing __eigenvalues__ and __eigenvectors__\n"
   ]
  },
  {
   "cell_type": "code",
   "execution_count": 65,
   "metadata": {
    "collapsed": false,
    "slideshow": {
     "slide_type": "subslide"
    }
   },
   "outputs": [
    {
     "name": "stdout",
     "output_type": "stream",
     "text": [
      "[ 0.   0.5  1.   1.5  2.   2.5  3.   3.5  4.   4.5]\n",
      "[  6.55458967e-09   4.99999617e-01   1.00000817e+00   1.49992553e+00\n",
      "   2.00035593e+00   2.49901981e+00   3.00161072e+00   3.49844127e+00\n",
      "   4.00081933e+00   4.49981962e+00]\n"
     ]
    },
    {
     "data": {
      "text/plain": [
       "True"
      ]
     },
     "execution_count": 65,
     "metadata": {},
     "output_type": "execute_result"
    }
   ],
   "source": [
    "# example\n",
    "\n",
    "A = np.zeros((10,10)) # arrays initialization\n",
    "x = np.arange(10)/2.0\n",
    "for i in range(10):\n",
    "    for j in range(10):\n",
    "        A[i,j] = 2.0 + float(i+1)/float(j+i+1)\n",
    "b = np.dot(A, x)\n",
    "y = np.linalg.solve(A, b)  # A*y=b → y=x \n",
    "print(x)\n",
    "print(y)\n",
    "np.allclose(y,x, 10**-3)  # True, mind the tolerance! "
   ]
  },
  {
   "cell_type": "markdown",
   "metadata": {
    "slideshow": {
     "slide_type": "subslide"
    }
   },
   "source": [
    "## Basic modules: linear algebra/2\n",
    "* Eigenvalues can also be computed:\n",
    "\n",
    "```python\n",
    "# eigenvalues only:\n",
    ">>> A_eigenvalues = np.linalg.eigvals(A)\n",
    "\n",
    "# eigenvalues and eigenvectors:\n",
    ">>> A_eigenvalues, A_eigenvectors = np.linalg.eig(A)\n",
    "```"
   ]
  },
  {
   "cell_type": "markdown",
   "metadata": {
    "slideshow": {
     "slide_type": "subslide"
    }
   },
   "source": [
    "## Exercise 6: matrices and linalg\n",
    "\n",
    "1.  From the array TI of the last exercise build a matrix (__mTI__), calculate eigenvalues (__e__) and eigenvectors (__Ev__) and prove that: \n",
    "$$\n",
    "Ev^T mTI \\; Ev = \n",
    "\\left[ \\begin{array}{ccc}\n",
    "e_1 & 0 & 0 \\\\\n",
    "0 & e_2 & 0 \\\\\n",
    "0 & 0 & e_3 \\end{array} \\right] \n",
    "$$\n",
    "\n",
    "2. Now, for example, you can rotate all the atoms coordinates by multiplying them by the __Ev__ matrix"
   ]
  },
  {
   "cell_type": "code",
   "execution_count": 66,
   "metadata": {
    "collapsed": false,
    "slideshow": {
     "slide_type": "subslide"
    }
   },
   "outputs": [
    {
     "name": "stdout",
     "output_type": "stream",
     "text": [
      "[   936.24999268  77296.74540821  77882.43579311]\n"
     ]
    },
    {
     "data": {
      "text/plain": [
       "matrix([[  9.36249993e+02,  -9.59732294e-13,   4.97554775e-12],\n",
       "        [ -2.82440737e-12,   7.72967454e+04,  -2.59691646e-09],\n",
       "        [  4.59721150e-12,  -2.60149946e-09,   7.78824358e+04]])"
      ]
     },
     "execution_count": 66,
     "metadata": {},
     "output_type": "execute_result"
    }
   ],
   "source": [
    "mTI = np.matrix(TI)\n",
    "ev, Ev = np.linalg.eig(mTI)\n",
    "print(ev)\n",
    "Ev.T * mTI * Ev"
   ]
  },
  {
   "cell_type": "markdown",
   "metadata": {
    "slideshow": {
     "slide_type": "subslide"
    }
   },
   "source": [
    "## Basic modules: random numbers\n",
    "* Calling the standard random module of Python in a loop to generate a sequence of random number is inefficient. Instead:\n",
    "\n",
    "```python\n",
    ">>> np.random.seed(100)\n",
    ">>> x = np.random.random(4)\n",
    "array([ 0.89132195, 0.20920212, 0.18532822,  \n",
    "0.10837689])\n",
    ">>> y = np.random.uniform(-1, 1, n)  # n uniform numbers in interval (-1,1)\n",
    "``` "
   ]
  },
  {
   "cell_type": "markdown",
   "metadata": {
    "slideshow": {
     "slide_type": "subslide"
    }
   },
   "source": [
    "* This module provides more general distributions like the normal distribution\n",
    "\n",
    "```python\n",
    ">>> mean = 0.0; stdev = 1.0\n",
    ">>> u = np.random.normal(mean, stdev, n)\n",
    "```"
   ]
  },
  {
   "cell_type": "markdown",
   "metadata": {
    "slideshow": {
     "slide_type": "subslide"
    }
   },
   "source": [
    "##  Exercise 7: random numbers\n",
    "* Given a game in which you win back 10 times your bet if the sum of 4 dice is less than 10, determine (brute force, i.e. 1000000 trows) whether it is convenient to play the game or not\n",
    "\n",
    "* hint: use `np.random.randint`"
   ]
  },
  {
   "cell_type": "markdown",
   "metadata": {
    "slideshow": {
     "slide_type": "slide"
    }
   },
   "source": [
    "## Numpy: good to know"
   ]
  },
  {
   "cell_type": "markdown",
   "metadata": {
    "slideshow": {
     "slide_type": "subslide"
    }
   },
   "source": [
    "## Masked arrays (1)\n",
    "\n",
    "```python\n",
    ">>> x = np.arange(20).reshape(4,5)  # 2d array \n",
    ">>> x[2:,2:] = 2   # assignment\n",
    "array([[ 0, 1, 2, 3, 4],\n",
    "      [ 5, 6, 7, 8, 9],\n",
    "      [10, 11, 2, 2, 2],\n",
    "      [15, 16, 2, 2, 2]])\n",
    ">>> x[x<5]  # x<5 bool array  \n",
    "array([0, 1, 2, 3, 2, 2, 2, 2, 2, 2])  # 1d array\n",
    "```"
   ]
  },
  {
   "cell_type": "markdown",
   "metadata": {
    "slideshow": {
     "slide_type": "fragment"
    }
   },
   "source": [
    "* What if we want to maintain the original shape of the array\n",
    "* We can use masked arrays: the __shape of the array is kept__\n",
    "* Invalid data can be flagged and ignored in math computations\n"
   ]
  },
  {
   "cell_type": "code",
   "execution_count": 67,
   "metadata": {
    "collapsed": false,
    "slideshow": {
     "slide_type": "subslide"
    }
   },
   "outputs": [
    {
     "data": {
      "text/plain": [
       "masked_array(data =\n",
       " [[0 1 2 3 4]\n",
       " [-- -- -- -- --]\n",
       " [-- -- 2 2 2]\n",
       " [-- -- 2 2 2]],\n",
       "             mask =\n",
       " [[False False False False False]\n",
       " [ True  True  True  True  True]\n",
       " [ True  True False False False]\n",
       " [ True  True False False False]],\n",
       "       fill_value = 999999)"
      ]
     },
     "execution_count": 67,
     "metadata": {},
     "output_type": "execute_result"
    }
   ],
   "source": [
    "x = np.arange(20).reshape(4,5)\n",
    "x[2:,2:] = 2\n",
    "import numpy.ma as ma\n",
    "y = ma.masked_greater(x, 4)\n",
    "y"
   ]
  },
  {
   "cell_type": "markdown",
   "metadata": {
    "slideshow": {
     "slide_type": "subslide"
    }
   },
   "source": [
    "## Meshgrids/1\n",
    "* Given a two-dimensional grid of points, namely $a_{i,j}=(x i , y j)$ we want to calculate for each point of the grid the values of a function $f(a_{ij})=f(x_i,y_j)$\n",
    "\n",
    "* Suppose $f = \\frac{x}{2} + y$\n",
    "\n",
    "* $f$ is a `ufunc` (implicitly uses ufuncs: `add`, `divide`) so it operates element-by-element)\n",
    "\n",
    "![](files/images/mesh.png)"
   ]
  },
  {
   "cell_type": "code",
   "execution_count": 68,
   "metadata": {
    "collapsed": false,
    "slideshow": {
     "slide_type": "subslide"
    }
   },
   "outputs": [
    {
     "data": {
      "text/plain": [
       "array([ 0. ,  1.5,  3. ,  4.5,  6. ])"
      ]
     },
     "execution_count": 68,
     "metadata": {},
     "output_type": "execute_result"
    }
   ],
   "source": [
    "# wrong\n",
    "def f(x,y): \n",
    "    return x/2 + y\n",
    "\n",
    "x = np.linspace(0,4,5)\n",
    "y = x.copy()\n",
    "\n",
    "values = f(x,y)\n",
    "values"
   ]
  },
  {
   "cell_type": "markdown",
   "metadata": {
    "slideshow": {
     "slide_type": "subslide"
    }
   },
   "source": [
    "## Meshgrids/2\n"
   ]
  },
  {
   "cell_type": "code",
   "execution_count": 69,
   "metadata": {
    "collapsed": false,
    "slideshow": {
     "slide_type": "fragment"
    }
   },
   "outputs": [
    {
     "name": "stdout",
     "output_type": "stream",
     "text": [
      "[[ 0.  1.  2.  3.  4.]\n",
      " [ 0.  1.  2.  3.  4.]\n",
      " [ 0.  1.  2.  3.  4.]\n",
      " [ 0.  1.  2.  3.  4.]\n",
      " [ 0.  1.  2.  3.  4.]]\n",
      "[[ 0.  0.  0.  0.  0.]\n",
      " [ 1.  1.  1.  1.  1.]\n",
      " [ 2.  2.  2.  2.  2.]\n",
      " [ 3.  3.  3.  3.  3.]\n",
      " [ 4.  4.  4.  4.  4.]]\n"
     ]
    }
   ],
   "source": [
    "x = np.linspace(0,4,5)\n",
    "y = x.copy()\n",
    "xv,yv = np.meshgrid(x,y)\n",
    "print(xv)\n",
    "print(yv)"
   ]
  },
  {
   "cell_type": "markdown",
   "metadata": {
    "slideshow": {
     "slide_type": "subslide"
    }
   },
   "source": [
    "![](files/images/mesh2.png)"
   ]
  },
  {
   "cell_type": "code",
   "execution_count": 70,
   "metadata": {
    "collapsed": false,
    "slideshow": {
     "slide_type": "fragment"
    }
   },
   "outputs": [
    {
     "data": {
      "text/plain": [
       "array([[ 0. ,  0.5,  1. ,  1.5,  2. ],\n",
       "       [ 1. ,  1.5,  2. ,  2.5,  3. ],\n",
       "       [ 2. ,  2.5,  3. ,  3.5,  4. ],\n",
       "       [ 3. ,  3.5,  4. ,  4.5,  5. ],\n",
       "       [ 4. ,  4.5,  5. ,  5.5,  6. ]])"
      ]
     },
     "execution_count": 70,
     "metadata": {},
     "output_type": "execute_result"
    }
   ],
   "source": [
    "values=f(xv,yv)\n",
    "values"
   ]
  },
  {
   "cell_type": "markdown",
   "metadata": {
    "slideshow": {
     "slide_type": "subslide"
    }
   },
   "source": [
    "## Bibliography\n",
    "* http://docs.scipy.org/doc/\n",
    "* Guide to NumPy (Travis E. Oliphant)\n",
    "* NumPy User Guide\n",
    "* Numpy Reference Guide\n",
    "* Python Scripting for Computational Science (HansPetter Langtangen)\n"
   ]
  }
 ],
 "metadata": {
  "celltoolbar": "Slideshow",
  "kernelspec": {
   "display_name": "Python 3",
   "language": "python",
   "name": "python3"
  },
  "language_info": {
   "codemirror_mode": {
    "name": "ipython",
    "version": 3
   },
   "file_extension": ".py",
   "mimetype": "text/x-python",
   "name": "python",
   "nbconvert_exporter": "python",
   "pygments_lexer": "ipython3",
   "version": "3.5.1"
  }
 },
 "nbformat": 4,
 "nbformat_minor": 0
}
