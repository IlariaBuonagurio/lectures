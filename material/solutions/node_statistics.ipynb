{
 "cells": [
  {
   "cell_type": "markdown",
   "metadata": {},
   "source": [
    "# Node outage statistics"
   ]
  },
  {
   "cell_type": "markdown",
   "metadata": {},
   "source": [
    "1. read all files and store data on a ndarray\n",
    "2. calculate total availability\n",
    " * number of nodes\n",
    " * number of days \n",
    " * total availability (%) \n",
    "3. perform single node statistics plot \n",
    "\n",
    "Check #TODO lines and make the necessary changes "
   ]
  },
  {
   "cell_type": "markdown",
   "metadata": {},
   "source": [
    "## 1. read files"
   ]
  },
  {
   "cell_type": "code",
   "execution_count": 1,
   "metadata": {
    "collapsed": false
   },
   "outputs": [
    {
     "data": {
      "text/plain": [
       "'/home/mirko/lavoro/formazione/attiva/corso_python/OGS/lectures/material'"
      ]
     },
     "execution_count": 1,
     "metadata": {},
     "output_type": "execute_result"
    }
   ],
   "source": [
    "%pwd"
   ]
  },
  {
   "cell_type": "code",
   "execution_count": 7,
   "metadata": {
    "collapsed": true
   },
   "outputs": [],
   "source": [
    "# user defined variables\n",
    "# DATA_DIR points to data directory \n",
    "DATA_DIR = './data/stats'    # e.g.  ./data"
   ]
  },
  {
   "cell_type": "code",
   "execution_count": 9,
   "metadata": {
    "collapsed": false
   },
   "outputs": [
    {
     "data": {
      "text/plain": [
       "['./data/stats/20150901.pbsnodes',\n",
       " './data/stats/20150902.pbsnodes',\n",
       " './data/stats/20150903.pbsnodes',\n",
       " './data/stats/20150904.pbsnodes',\n",
       " './data/stats/20150905.pbsnodes',\n",
       " './data/stats/20150906.pbsnodes',\n",
       " './data/stats/20150907.pbsnodes',\n",
       " './data/stats/20150908.pbsnodes',\n",
       " './data/stats/20150909.pbsnodes',\n",
       " './data/stats/20150910.pbsnodes',\n",
       " './data/stats/20150911.pbsnodes',\n",
       " './data/stats/20150912.pbsnodes',\n",
       " './data/stats/20150913.pbsnodes',\n",
       " './data/stats/20150914.pbsnodes',\n",
       " './data/stats/20150915.pbsnodes',\n",
       " './data/stats/20150916.pbsnodes']"
      ]
     },
     "execution_count": 9,
     "metadata": {},
     "output_type": "execute_result"
    }
   ],
   "source": [
    "# read file names using glob function \n",
    "from glob import glob\n",
    "file_names = glob(DATA_DIR+'/*') \n",
    "\n",
    "file_names.sort()\n",
    "file_names\n",
    "# in case file_names is void, please adjust DATA_DIR"
   ]
  },
  {
   "cell_type": "code",
   "execution_count": 3,
   "metadata": {
    "collapsed": true
   },
   "outputs": [],
   "source": [
    "# import numpy in the current namespace\n",
    "import numpy as np"
   ]
  },
  {
   "cell_type": "code",
   "execution_count": 30,
   "metadata": {
    "collapsed": false
   },
   "outputs": [],
   "source": [
    "# define data type to read these lines\n",
    "# 2015-09-01 00:00:01;node027;1;free;xagi scalar;16\n",
    "# we are only interested in the first 4 fields\n",
    "dt = np.dtype([('date', 'S19'), ('node', 'S7'), ('status', np.int), ('occupancy', 'S20')])"
   ]
  },
  {
   "cell_type": "code",
   "execution_count": 31,
   "metadata": {
    "collapsed": false
   },
   "outputs": [
    {
     "data": {
      "text/plain": [
       "array([(b'2015-09-01 00:00:01', b'node001', 1, b'free'),\n",
       "       (b'2015-09-01 00:00:01', b'node002', 1, b'job-busy'),\n",
       "       (b'2015-09-01 00:00:01', b'node003', 1, b'free'), ...,\n",
       "       (b'2015-09-01 23:30:01', b'node170', 1, b'free'),\n",
       "       (b'2015-09-01 23:30:01', b'node165', 1, b'free'),\n",
       "       (b'2015-09-01 23:30:01', b'node166', 1, b'free')], \n",
       "      dtype=[('date', 'S19'), ('node', 'S7'), ('status', '<i4'), ('occupancy', 'S20')])"
      ]
     },
     "execution_count": 31,
     "metadata": {},
     "output_type": "execute_result"
    }
   ],
   "source": [
    "# read first file \n",
    "data_array = np.loadtxt(file_names[0], dtype=dt, delimiter=';')\n",
    "# check it\n",
    "data_array"
   ]
  },
  {
   "cell_type": "code",
   "execution_count": 32,
   "metadata": {
    "collapsed": true
   },
   "outputs": [],
   "source": [
    "# now append all the other files data\n",
    "for file_name in file_names[1:]:\n",
    "    arr = np.loadtxt(file_names[0], dtype=dt, delimiter=';')\n",
    "    data_array = np.append(data_array, arr)"
   ]
  },
  {
   "cell_type": "code",
   "execution_count": 33,
   "metadata": {
    "collapsed": false
   },
   "outputs": [
    {
     "data": {
      "text/plain": [
       "array([(b'2015-09-01 00:00:01', b'node001', 1, b'free'),\n",
       "       (b'2015-09-01 00:00:01', b'node002', 1, b'job-busy'),\n",
       "       (b'2015-09-01 00:00:01', b'node003', 1, b'free'),\n",
       "       (b'2015-09-01 00:00:01', b'node004', 1, b'free'),\n",
       "       (b'2015-09-01 00:00:01', b'node005', 1, b'job-busy'),\n",
       "       (b'2015-09-01 00:00:01', b'node006', 1, b'job-busy')], \n",
       "      dtype=[('date', 'S19'), ('node', 'S7'), ('status', '<i4'), ('occupancy', 'S20')])"
      ]
     },
     "execution_count": 33,
     "metadata": {},
     "output_type": "execute_result"
    }
   ],
   "source": [
    "# check first elements of data_array\n",
    "data_array[:6]"
   ]
  },
  {
   "cell_type": "code",
   "execution_count": 34,
   "metadata": {
    "collapsed": true
   },
   "outputs": [],
   "source": [
    "# check size of array\n",
    "assert data_array.size == 400896"
   ]
  },
  {
   "cell_type": "markdown",
   "metadata": {},
   "source": [
    "## 2. Calculate overall node availability"
   ]
  },
  {
   "cell_type": "code",
   "execution_count": 35,
   "metadata": {
    "collapsed": false
   },
   "outputs": [
    {
     "data": {
      "text/plain": [
       "array([b'node001', b'node002', b'node003', b'node004', b'node005'], \n",
       "      dtype='|S7')"
      ]
     },
     "execution_count": 35,
     "metadata": {},
     "output_type": "execute_result"
    }
   ],
   "source": [
    "# get node names\n",
    "# TODO nodes = np.unique(...)\n",
    "nodes = np.unique(data_array['node'])\n",
    "nodes[:5]"
   ]
  },
  {
   "cell_type": "code",
   "execution_count": 39,
   "metadata": {
    "collapsed": false
   },
   "outputs": [
    {
     "name": "stdout",
     "output_type": "stream",
     "text": [
      "******************************\n",
      "Number of nodes: 522\n",
      "Number of days: 16\n",
      "up states:  397664\n",
      "approximate up time (hh):  198832.0\n",
      "total availability: 99.2 % \n",
      "******************************\n"
     ]
    }
   ],
   "source": [
    "# print total availability of the HPC system\n",
    "def total_availability(array):\n",
    "    \"\"\" for each 'up' state we consider 30 minutes of uptime.\"\"\"\n",
    "    # remember each up state is 1, down state 0\n",
    "    return array['status'].sum()\n",
    "\n",
    "up_states = total_availability(data_array)\n",
    "up_time = up_states/2.0\n",
    "number_of_nodes = nodes.size\n",
    "number_of_days = len(file_names)\n",
    "\n",
    "# availability % is:\n",
    "#   up_time (hh) / (number_of_nodes * number_of_days * 24) * 100 \n",
    "total_availability_percentage = up_time  / (number_of_nodes * number_of_days * 24) * 100\n",
    "\n",
    "print('*'*30)\n",
    "print('Number of nodes: %d' % number_of_nodes)\n",
    "print('Number of days: %d' % number_of_days)\n",
    "print('up states: %7d' % up_states )\n",
    "print('approximate up time (hh):  %7.1f' % up_time)\n",
    "print('total availability: %3.1f %% ' % total_availability_percentage)\n",
    "print('*'*30)"
   ]
  },
  {
   "cell_type": "markdown",
   "metadata": {},
   "source": [
    "## 3. Single node availability plot"
   ]
  },
  {
   "cell_type": "code",
   "execution_count": 49,
   "metadata": {
    "collapsed": false
   },
   "outputs": [
    {
     "data": {
      "text/plain": [
       "768"
      ]
     },
     "execution_count": 49,
     "metadata": {},
     "output_type": "execute_result"
    }
   ],
   "source": [
    "def availability(node):\n",
    "    \"\"\" return node availability (status) array.\"\"\"\n",
    "    # first select only 'node' elements of the array \n",
    "    arr = data_array['node'] == node\n",
    "    #  now return only array of status\n",
    "    return data_array[arr]['status'] \n",
    "\n",
    "availability(b'node001').size"
   ]
  },
  {
   "cell_type": "code",
   "execution_count": 50,
   "metadata": {
    "collapsed": true
   },
   "outputs": [],
   "source": [
    "import matplotlib.pyplot as plt"
   ]
  },
  {
   "cell_type": "code",
   "execution_count": 51,
   "metadata": {
    "collapsed": true
   },
   "outputs": [],
   "source": [
    "# show the plots inline\n",
    "%matplotlib inline"
   ]
  },
  {
   "cell_type": "code",
   "execution_count": 52,
   "metadata": {
    "collapsed": true
   },
   "outputs": [],
   "source": [
    "# total hours\n",
    "total_hours = number_of_days*24"
   ]
  },
  {
   "cell_type": "code",
   "execution_count": 53,
   "metadata": {
    "collapsed": true
   },
   "outputs": [],
   "source": [
    "# build an array to be the time (x) axis\n",
    "time = np.linspace(0, total_hours, 768)"
   ]
  },
  {
   "cell_type": "code",
   "execution_count": 56,
   "metadata": {
    "collapsed": true
   },
   "outputs": [],
   "source": [
    "def plot_node_availability(x, plots):\n",
    "    \"\"\" multiplot of node availability  \n",
    "        plots is a list of 4 ndarrays corresponding to 4 different y axis \n",
    "    \"\"\"\n",
    "    fig = plt.figure()\n",
    "    # we need to add one or more subplot\n",
    "    ax1 = fig.add_subplot(221)\n",
    "    ax2 = fig.add_subplot(222)\n",
    "    ax3 = fig.add_subplot(223)\n",
    "    ax4 = fig.add_subplot(224)\n",
    "    \n",
    "    # let's fill the subplot\n",
    "    ax1.plot(x, plots[0])\n",
    "    ax2.plot(x, plots[1])\n",
    "    ax3.plot(x, plots[2])\n",
    "    ax4.plot(x, plots[3])\n",
    "    \n",
    "    # set y range for a better view of the data\n",
    "    ax1.set_ylim(-0.5, 1.5)\n",
    "    ax2.set_ylim(-0.5, 1.5)\n",
    "    ax3.set_ylim(-0.5, 1.5)\n",
    "    ax4.set_ylim(-0.5, 1.5)\n",
    "    \n",
    "    plt.show()"
   ]
  },
  {
   "cell_type": "code",
   "execution_count": 57,
   "metadata": {
    "collapsed": false
   },
   "outputs": [
    {
     "name": "stdout",
     "output_type": "stream",
     "text": [
      "b'node101'\n",
      "b'node102'\n",
      "b'node103'\n",
      "b'node104'\n"
     ]
    },
    {
     "data": {
      "image/png": "[encoded data removed]",
      "text/plain": [
       "<matplotlib.figure.Figure at 0xb091652c>"
      ]
     },
     "metadata": {},
     "output_type": "display_data"
    },
    {
     "name": "stdout",
     "output_type": "stream",
     "text": [
      "b'node105'\n",
      "b'node106'\n",
      "b'node107'\n",
      "b'node108'\n"
     ]
    },
    {
     "data": {
      "image/png": "[encoded data removed]",
      "text/plain": [
       "<matplotlib.figure.Figure at 0xb07943ac>"
      ]
     },
     "metadata": {},
     "output_type": "display_data"
    },
    {
     "name": "stdout",
     "output_type": "stream",
     "text": [
      "b'node109'\n",
      "b'node110'\n",
      "b'node111'\n",
      "b'node112'\n"
     ]
    },
    {
     "data": {
      "image/png": "[encoded data removed]",
      "text/plain": [
       "<matplotlib.figure.Figure at 0xb07568ac>"
      ]
     },
     "metadata": {},
     "output_type": "display_data"
    },
    {
     "name": "stdout",
     "output_type": "stream",
     "text": [
      "b'node113'\n",
      "b'node114'\n",
      "b'node115'\n",
      "b'node116'\n"
     ]
    },
    {
     "data": {
      "image/png": "[encoded data removed]",
      "text/plain": [
       "<matplotlib.figure.Figure at 0xb06cbc0c>"
      ]
     },
     "metadata": {},
     "output_type": "display_data"
    },
    {
     "name": "stdout",
     "output_type": "stream",
     "text": [
      "b'node117'\n",
      "b'node118'\n",
      "b'node119'\n",
      "b'node120'\n"
     ]
    },
    {
     "data": {
      "image/png": "[encoded data removed]",
      "text/plain": [
       "<matplotlib.figure.Figure at 0xb065738c>"
      ]
     },
     "metadata": {},
     "output_type": "display_data"
    },
    {
     "name": "stdout",
     "output_type": "stream",
     "text": [
      "b'node121'\n",
      "b'node122'\n",
      "b'node123'\n",
      "b'node124'\n"
     ]
    },
    {
     "data": {
      "image/png": "[encoded data removed]",
      "text/plain": [
       "<matplotlib.figure.Figure at 0xb08c0aec>"
      ]
     },
     "metadata": {},
     "output_type": "display_data"
    },
    {
     "name": "stdout",
     "output_type": "stream",
     "text": [
      "b'node125'\n",
      "b'node126'\n",
      "b'node127'\n",
      "b'node128'\n"
     ]
    },
    {
     "data": {
      "image/png": "[encoded data removed]",
      "text/plain": [
       "<matplotlib.figure.Figure at 0xb088340c>"
      ]
     },
     "metadata": {},
     "output_type": "display_data"
    },
    {
     "name": "stdout",
     "output_type": "stream",
     "text": [
      "b'node129'\n",
      "b'node130'\n",
      "b'node131'\n",
      "b'node132'\n"
     ]
    },
    {
     "data": {
      "image/png": "[encoded data removed]",
      "text/plain": [
       "<matplotlib.figure.Figure at 0xb05b7d2c>"
      ]
     },
     "metadata": {},
     "output_type": "display_data"
    },
    {
     "name": "stdout",
     "output_type": "stream",
     "text": [
      "b'node133'\n",
      "b'node134'\n",
      "b'node135'\n",
      "b'node136'\n"
     ]
    },
    {
     "data": {
      "image/png": "[encoded data removed]",
      "text/plain": [
       "<matplotlib.figure.Figure at 0xb0730c0c>"
      ]
     },
     "metadata": {},
     "output_type": "display_data"
    },
    {
     "name": "stdout",
     "output_type": "stream",
     "text": [
      "b'node137'\n",
      "b'node138'\n",
      "b'node139'\n",
      "b'node140'\n"
     ]
    },
    {
     "data": {
      "image/png": "[encoded data removed]",
      "text/plain": [
       "<matplotlib.figure.Figure at 0xb0775f8c>"
      ]
     },
     "metadata": {},
     "output_type": "display_data"
    },
    {
     "name": "stdout",
     "output_type": "stream",
     "text": [
      "b'node141'\n",
      "b'node142'\n",
      "b'node143'\n",
      "b'node144'\n"
     ]
    },
    {
     "data": {
      "image/png": "[encoded data removed]",
      "text/plain": [
       "<matplotlib.figure.Figure at 0xb0649c6c>"
      ]
     },
     "metadata": {},
     "output_type": "display_data"
    },
    {
     "name": "stdout",
     "output_type": "stream",
     "text": [
      "b'node145'\n",
      "b'node146'\n",
      "b'node147'\n",
      "b'node148'\n"
     ]
    },
    {
     "data": {
      "image/png": "[encoded data removed]",
      "text/plain": [
       "<matplotlib.figure.Figure at 0xb08c512c>"
      ]
     },
     "metadata": {},
     "output_type": "display_data"
    },
    {
     "name": "stdout",
     "output_type": "stream",
     "text": [
      "b'node149'\n",
      "b'node150'\n",
      "b'node151'\n",
      "b'node152'\n"
     ]
    },
    {
     "data": {
      "image/png": "[encoded data removed]",
      "text/plain": [
       "<matplotlib.figure.Figure at 0xb06d230c>"
      ]
     },
     "metadata": {},
     "output_type": "display_data"
    }
   ],
   "source": [
    "for i in range(100, 150, 4): \n",
    "    node_plots = [availability(node) for node in nodes[i:i+4]]\n",
    "    for node_name in nodes[i:i+4]:\n",
    "        print(node_name,) \n",
    "    plot_node_availability(time, node_plots)"
   ]
  },
  {
   "cell_type": "code",
   "execution_count": null,
   "metadata": {
    "collapsed": true
   },
   "outputs": [],
   "source": []
  }
 ],
 "metadata": {
  "kernelspec": {
   "display_name": "Python 3",
   "language": "python",
   "name": "python3"
  },
  "language_info": {
   "codemirror_mode": {
    "name": "ipython",
    "version": 3
   },
   "file_extension": ".py",
   "mimetype": "text/x-python",
   "name": "python",
   "nbconvert_exporter": "python",
   "pygments_lexer": "ipython3",
   "version": "3.5.1"
  }
 },
 "nbformat": 4,
 "nbformat_minor": 0
}
