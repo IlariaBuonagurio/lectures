{
 "cells": [
  {
   "cell_type": "markdown",
   "metadata": {
    "slideshow": {
     "slide_type": "slide"
    }
   },
   "source": [
    "![](files/images/cover_matplotlib.png)"
   ]
  },
  {
   "cell_type": "markdown",
   "metadata": {
    "slideshow": {
     "slide_type": "subslide"
    }
   },
   "source": [
    "## Introduction\n",
    "* plotting the data gives us __visual feedback__\n",
    "* Typical workflow:\n",
    " * write a python program to parse data\n",
    " * pass the data to a plot tool to show the results\n",
    "* with __Matplotlib__ we can achieve the same result in a single script and with more flexibility\n"
   ]
  },
  {
   "cell_type": "markdown",
   "metadata": {
    "slideshow": {
     "slide_type": "subslide"
    }
   },
   "source": [
    "## Premises/1\n",
    "\n",
    "* During this course we have extensively used __Jupyter__\n",
    "\n",
    "* So why we are still talking about __ipython__?\n",
    "\n",
    "* jupyter provides a common user interface for different _language specific kernels_"
   ]
  },
  {
   "cell_type": "markdown",
   "metadata": {
    "slideshow": {
     "slide_type": "subslide"
    }
   },
   "source": [
    "## Premises/2: widely used kernels\n",
    " * __python__\n",
    "   * IPython \n",
    " * __R__\n",
    "   * IRkernel \n",
    "   * IRdisplay \n",
    "   * repr \n",
    "\n",
    " * __Julia__\n",
    "   * IJulia Kernel \n",
    "   * Interactive Widgets \n",
    " * __Bash__ "
   ]
  },
  {
   "cell_type": "markdown",
   "metadata": {
    "slideshow": {
     "slide_type": "subslide"
    }
   },
   "source": [
    "## Premises/3: widely used kernels\n",
    "\n",
    "more kernels here: \n",
    " *  https://github.com/ipython/ipython/wiki/IPython-kernels-for-other-languages"
   ]
  },
  {
   "cell_type": "markdown",
   "metadata": {
    "slideshow": {
     "slide_type": "subslide"
    }
   },
   "source": [
    "## Ipython/1\n",
    " \n",
    "* improves the interactive mode usage\n",
    " * tab completion for functions, modules, variables, files\n",
    " * Introspection, accessibile with “?”, of objects and function\n",
    " * %run, to execute a python script\n",
    " * filesystem navigation (cd, ls, pwd) and bash like behaviour (cat) \n",
    "  * `!cmd` execute command in the shell\n",
    " * Debugging and profiling\n"
   ]
  },
  {
   "cell_type": "markdown",
   "metadata": {
    "slideshow": {
     "slide_type": "subslide"
    }
   },
   "source": [
    "## Ipython/2\n",
    " \n",
    "improves the interactive mode usage\n",
    "\n",
    " * Search commands Ctrl-n, Ctrl-p, Ctrl-r (don't work with notebook) \n",
    " \n",
    " * magic commands:\n",
    "   * `%magic` (list them all)\n",
    "   * `%whos`\n",
    "   * `%timeit`\n",
    "   * `%logstart`\n"
   ]
  },
  {
   "cell_type": "markdown",
   "metadata": {
    "slideshow": {
     "slide_type": "subslide"
    }
   },
   "source": [
    "## Ipython/3\n",
    "\n",
    "__Ipython__ is recommended over python for interactive\n",
    "usage:\n",
    "* Has a matplotlib support mode\n",
    "```\n",
    " $ ipython --pylab\n",
    "``` \n",
    "\n",
    "* no need to import any modules; merges __`matplotlib.pyplot`__ (for plotting) and __`numpy`__ (for mathematical functions)\n",
    "* spawn a thread to handle the GUI and another one to handle the user inputs\n",
    " * every plot command triggers a plot update\n"
   ]
  },
  {
   "cell_type": "markdown",
   "metadata": {
    "slideshow": {
     "slide_type": "subslide"
    }
   },
   "source": [
    "## Ipython/4\n",
    " \n",
    "* notebook\n",
    " ```    \n",
    " $ jupyter/ipython notebook\n",
    " ```\n",
    " * documents that contain live code, equations, visualizations and explanatory text. \n",
    "\n",
    " * You can share notebooks (.ipynb files)\n",
    "\n",
    " * can be converted to static formats such as HTML, Markdown, LaTeX/PDF, and reStrucuredText\n"
   ]
  },
  {
   "cell_type": "code",
   "execution_count": null,
   "metadata": {
    "collapsed": true,
    "slideshow": {
     "slide_type": "subslide"
    }
   },
   "outputs": [],
   "source": [
    "# Well integrates with matplotlib\n",
    "%matplotlib inline"
   ]
  },
  {
   "cell_type": "markdown",
   "metadata": {
    "slideshow": {
     "slide_type": "subslide"
    }
   },
   "source": [
    "## Ipython/5\n",
    "* QT GUI console \n",
    "```\n",
    "$ jupyter/ipython qtconsole\n",
    "``` "
   ]
  },
  {
   "cell_type": "markdown",
   "metadata": {
    "slideshow": {
     "slide_type": "slide"
    }
   },
   "source": [
    "## Matplotlib:\n",
    "* makes use of Numpy to provide __good performance__ with __large__ data arrays\n",
    "* allows __publication quality__ plots\n",
    "* since it's a Python module can be easily __integrated__ in a Python program"
   ]
  },
  {
   "cell_type": "markdown",
   "metadata": {
    "slideshow": {
     "slide_type": "subslide"
    }
   },
   "source": [
    "## Module import\n",
    "\n",
    "Let us be consistent with the official documentation\n",
    "\n",
    "```\n",
    "$ (i)python\n",
    ">>> import matplotlib.pyplot as plt\n",
    "```"
   ]
  },
  {
   "cell_type": "markdown",
   "metadata": {
    "slideshow": {
     "slide_type": "subslide"
    }
   },
   "source": [
    "## Matplotlib first example\n"
   ]
  },
  {
   "cell_type": "code",
   "execution_count": 19,
   "metadata": {
    "collapsed": false,
    "slideshow": {
     "slide_type": "fragment"
    }
   },
   "outputs": [
    {
     "data": {
      "image/png": "[encoded data removed]",
      "text/plain": [
       "<matplotlib.figure.Figure at 0xb0b889cc>"
      ]
     },
     "metadata": {},
     "output_type": "display_data"
    }
   ],
   "source": [
    "# following imports are not necessary if --pylab\n",
    "import matplotlib.pyplot as plt\n",
    "import numpy as np\n",
    "x = np.arange(0,7,0.00001)\n",
    "plt.plot(x,x**3) # x,y values of the plot\n",
    "plt.show()  # unnecessary with %matplotlb inline or --pylab"
   ]
  },
  {
   "cell_type": "markdown",
   "metadata": {
    "collapsed": true,
    "slideshow": {
     "slide_type": "subslide"
    }
   },
   "source": [
    "## Matplotlib: multiple line plot"
   ]
  },
  {
   "cell_type": "code",
   "execution_count": null,
   "metadata": {
    "collapsed": false,
    "slideshow": {
     "slide_type": "fragment"
    }
   },
   "outputs": [],
   "source": [
    "x = np.arange(0,7,0.00001)\n",
    "plt.plot(x,x**3)\n",
    "plt.plot(x,x**2)\n",
    "plt.show()"
   ]
  },
  {
   "cell_type": "markdown",
   "metadata": {
    "slideshow": {
     "slide_type": "subslide"
    }
   },
   "source": [
    "Or by passing multiple (x,y) arguments to the plot function "
   ]
  },
  {
   "cell_type": "code",
   "execution_count": 20,
   "metadata": {
    "collapsed": false,
    "slideshow": {
     "slide_type": "fragment"
    }
   },
   "outputs": [
    {
     "data": {
      "image/png": "[encoded data removed]",
      "text/plain": [
       "<matplotlib.figure.Figure at 0xb0c3772c>"
      ]
     },
     "metadata": {},
     "output_type": "display_data"
    }
   ],
   "source": [
    "x = np.arange(0,7,0.00001)\n",
    "plt.plot(x,x**3, x,x**2)\n",
    "plt.show()"
   ]
  },
  {
   "cell_type": "markdown",
   "metadata": {
    "slideshow": {
     "slide_type": "subslide"
    }
   },
   "source": [
    "## Plot control commands\n",
    "Classic plot interaction is available"
   ]
  },
  {
   "cell_type": "code",
   "execution_count": null,
   "metadata": {
    "collapsed": false,
    "slideshow": {
     "slide_type": "subslide"
    }
   },
   "outputs": [],
   "source": [
    "plt.plot(x,x**2, x, x**3)\n",
    "plt.grid()\n",
    "plt.axis()  # shows the current axis limits values\n",
    "plt.axis([0,5,0,10])  #[xmin,xmax,ymin,ymax]\n",
    "plt.xlabel('This is the X axis')\n",
    "plt.title('Outstanding title here') \n",
    "plt.legend(['Fast', 'SuperFast'],loc=2) \n",
    "plt.savefig('plot123.png', dpi=250)"
   ]
  },
  {
   "cell_type": "markdown",
   "metadata": {
    "slideshow": {
     "slide_type": "subslide"
    }
   },
   "source": [
    "![](files/images/plot_window.png)"
   ]
  },
  {
   "cell_type": "markdown",
   "metadata": {
    "slideshow": {
     "slide_type": "slide"
    }
   },
   "source": [
    "## Object-oriented interface/1\n",
    "A figure is composed by a hierarchical series of Matplotlib objects:\n",
    "* __Figure__: Container for one or more Axes instances\n",
    "* __Subplot (Axes)__: The rectangular areas that holds the basic elements, such as lines, text, and so on\n",
    "* __Lines__: real plotting objects (lines, histograms, ...)\n"
   ]
  },
  {
   "cell_type": "markdown",
   "metadata": {
    "slideshow": {
     "slide_type": "subslide"
    }
   },
   "source": [
    "## Object-oriented interface/2"
   ]
  },
  {
   "cell_type": "markdown",
   "metadata": {
    "slideshow": {
     "slide_type": "fragment"
    }
   },
   "source": [
    "![](files/images/sub_plot.png)"
   ]
  },
  {
   "cell_type": "markdown",
   "metadata": {
    "slideshow": {
     "slide_type": "subslide"
    }
   },
   "source": [
    "## Object-oriented interface/3\n",
    "* OO use of matplotlib makes the code more explicit and allows a lot more customizations\n",
    "* it is also consistent with all the examples found here \n",
    "http://matplotlib.sourceforge.net/gallery.html\n"
   ]
  },
  {
   "cell_type": "code",
   "execution_count": null,
   "metadata": {
    "collapsed": false,
    "slideshow": {
     "slide_type": "subslide"
    }
   },
   "outputs": [],
   "source": [
    "x = np.arange(0, 10, 0.1)\n",
    "y = np.random.randn(len(x))\n",
    "fig = plt.figure()  # instance of the fig obj  \n",
    "ax = fig.add_subplot(111)  # instance of the axes  obj\n",
    "l, m = ax.plot(x, y, x, y**2)  # returns a tuple of obj \n",
    "l.set_color('blue')  \n",
    "m.set_color('red')\n",
    "t = ax.set_title('random numbers')\n",
    "ax.grid()\n",
    "plt.show()"
   ]
  },
  {
   "cell_type": "markdown",
   "metadata": {
    "slideshow": {
     "slide_type": "subslide"
    }
   },
   "source": [
    "## Object-oriented interface: multiple plot"
   ]
  },
  {
   "cell_type": "code",
   "execution_count": null,
   "metadata": {
    "collapsed": false,
    "slideshow": {
     "slide_type": "subslide"
    }
   },
   "outputs": [],
   "source": [
    "x = np.arange(0, 10, 0.001)\n",
    "y = np.random.randn(len(x))\n",
    "fig = plt.figure()  # instance of the fig obj  \n",
    "ax = fig.add_subplot(211)  # two axes instances in \n",
    "ax2 = fig.add_subplot(212)  # the same column \n",
    "l, = ax.plot(x, y)  # returns a tuple of obj \n",
    "m, = ax2.plot(x, y**2)  # returns a tuple of obj \n",
    "l.set_color('blue')  \n",
    "m.set_color('red')\n",
    "t = ax.set_title('random numbers')\n",
    "ax.grid()\n",
    "plt.show()"
   ]
  },
  {
   "cell_type": "markdown",
   "metadata": {
    "slideshow": {
     "slide_type": "subslide"
    }
   },
   "source": [
    "  \n",
    "  ## Object-oriented interface\n",
    "* Multiple figures are allowed\n"
   ]
  },
  {
   "cell_type": "code",
   "execution_count": null,
   "metadata": {
    "collapsed": false,
    "slideshow": {
     "slide_type": "subslide"
    }
   },
   "outputs": [],
   "source": [
    "fig1 = plt.figure()\n",
    "ax1 = fig1.add_subplot(111)\n",
    "ax1.plot([1, 2, 3], [1, 2, 3]);\n",
    "fig2 = plt.figure()\n",
    "ax2 = fig2.add_subplot(111)\n",
    "ax2.plot([1, 2, 3], [3, 2, 1]);\n",
    "plt.show()\n"
   ]
  },
  {
   "cell_type": "markdown",
   "metadata": {
    "slideshow": {
     "slide_type": "subslide"
    }
   },
   "source": [
    "## To summarize\n",
    "* This was a very brief introduction to Matplotlib.\n",
    "* We don't need to cover everything; just go with your needs\n",
    "* It can be used interactively, a la Matlab, or Object-oriented\n",
    "* It can be fully integrated in a Python program;\n",
    " * your analysis code can be integrated with a plot tool, tailored to the application needs\n"
   ]
  },
  {
   "cell_type": "markdown",
   "metadata": {
    "slideshow": {
     "slide_type": "subslide"
    }
   },
   "source": [
    "## Bibliography\n",
    "\n",
    "http://matplotlib.sourceforge.net/contents.html\n",
    "    \n",
    "Matplotlib for Python developers (Sandro Tosi, Packt Publishing Ltd., 2009)\n"
   ]
  }
 ],
 "metadata": {
  "celltoolbar": "Slideshow",
  "kernelspec": {
   "display_name": "Python 3",
   "language": "python",
   "name": "python3"
  },
  "language_info": {
   "codemirror_mode": {
    "name": "ipython",
    "version": 3
   },
   "file_extension": ".py",
   "mimetype": "text/x-python",
   "name": "python",
   "nbconvert_exporter": "python",
   "pygments_lexer": "ipython3",
   "version": "3.5.1"
  }
 },
 "nbformat": 4,
 "nbformat_minor": 0
}
