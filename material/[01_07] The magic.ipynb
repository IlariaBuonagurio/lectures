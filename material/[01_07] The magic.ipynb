{
 "cells": [
  {
   "cell_type": "markdown",
   "metadata": {
    "slideshow": {
     "slide_type": "slide"
    }
   },
   "source": [
    "# Hahahaha, It's *magic*!\n",
    "(cit: [Queen: It's a kind of magic](https://www.youtube.com/watch?v=0p_1QSUsbsM))"
   ]
  },
  {
   "cell_type": "markdown",
   "metadata": {
    "slideshow": {
     "slide_type": "subslide"
    }
   },
   "source": [
    "<img src='http://ecx.images-amazon.com/images/I/81Z%2BqXVVWQL.png' width=600>\n",
    "\n",
    "The ol'good game: **Simon the sorcerer**."
   ]
  },
  {
   "cell_type": "markdown",
   "metadata": {
    "slideshow": {
     "slide_type": "slide"
    }
   },
   "source": [
    "## Ipython magic\n",
    "\n",
    "Commands that start with **'`%`'**"
   ]
  },
  {
   "cell_type": "code",
   "execution_count": 1,
   "metadata": {
    "collapsed": false,
    "slideshow": {
     "slide_type": "subslide"
    }
   },
   "outputs": [
    {
     "data": {
      "text/plain": [
       "['[01_01] A new interactive world.ipynb',\n",
       " '[01_02] Learning Python.ipynb',\n",
       " '[01_03] into the Python Zen.ipynb',\n",
       " '[01_04] Data structures.ipynb',\n",
       " '[01_05] Algorithms and data flow.ipynb',\n",
       " '[01_06] Functions and modules.ipynb',\n",
       " '[01_07] The magic.ipynb']"
      ]
     },
     "execution_count": 1,
     "metadata": {},
     "output_type": "execute_result"
    }
   ],
   "source": [
    "%system ls *01_0*ipynb"
   ]
  },
  {
   "cell_type": "code",
   "execution_count": 2,
   "metadata": {
    "collapsed": false,
    "slideshow": {
     "slide_type": "fragment"
    }
   },
   "outputs": [
    {
     "data": {
      "text/plain": [
       "'[01_03] into the Python Zen.ipynb'"
      ]
     },
     "execution_count": 2,
     "metadata": {},
     "output_type": "execute_result"
    }
   ],
   "source": [
    "out = _\n",
    "out[2]"
   ]
  },
  {
   "cell_type": "markdown",
   "metadata": {
    "slideshow": {
     "slide_type": "fragment"
    }
   },
   "source": [
    "Note: i could have used directly `_[2]`"
   ]
  },
  {
   "cell_type": "markdown",
   "metadata": {
    "slideshow": {
     "slide_type": "subslide"
    }
   },
   "source": [
    "There are many magics ready from the start"
   ]
  },
  {
   "cell_type": "code",
   "execution_count": 3,
   "metadata": {
    "collapsed": false,
    "slideshow": {
     "slide_type": "fragment"
    }
   },
   "outputs": [
    {
     "data": {
      "application/json": {
       "cell": {
        "!": "OSMagics",
        "HTML": "Other",
        "SVG": "Other",
        "bash": "Other",
        "capture": "ExecutionMagics",
        "debug": "ExecutionMagics",
        "file": "Other",
        "html": "DisplayMagics",
        "javascript": "DisplayMagics",
        "latex": "DisplayMagics",
        "perl": "Other",
        "prun": "ExecutionMagics",
        "pypy": "Other",
        "python": "Other",
        "python2": "Other",
        "python3": "Other",
        "ruby": "Other",
        "script": "ScriptMagics",
        "sh": "Other",
        "svg": "DisplayMagics",
        "sx": "OSMagics",
        "system": "OSMagics",
        "time": "ExecutionMagics",
        "timeit": "ExecutionMagics",
        "writefile": "OSMagics"
       },
       "line": {
        "alias": "OSMagics",
        "alias_magic": "BasicMagics",
        "autocall": "AutoMagics",
        "automagic": "AutoMagics",
        "autosave": "KernelMagics",
        "bookmark": "OSMagics",
        "cat": "Other",
        "cd": "OSMagics",
        "clear": "KernelMagics",
        "colors": "BasicMagics",
        "config": "ConfigMagics",
        "connect_info": "KernelMagics",
        "cp": "Other",
        "debug": "ExecutionMagics",
        "dhist": "OSMagics",
        "dirs": "OSMagics",
        "doctest_mode": "BasicMagics",
        "ed": "Other",
        "edit": "KernelMagics",
        "env": "OSMagics",
        "gui": "BasicMagics",
        "hist": "Other",
        "history": "HistoryMagics",
        "install_default_config": "DeprecatedMagics",
        "install_ext": "ExtensionMagics",
        "install_profiles": "DeprecatedMagics",
        "killbgscripts": "ScriptMagics",
        "ldir": "Other",
        "less": "KernelMagics",
        "lf": "Other",
        "lk": "Other",
        "ll": "Other",
        "load": "CodeMagics",
        "load_ext": "ExtensionMagics",
        "loadpy": "CodeMagics",
        "logoff": "LoggingMagics",
        "logon": "LoggingMagics",
        "logstart": "LoggingMagics",
        "logstate": "LoggingMagics",
        "logstop": "LoggingMagics",
        "ls": "Other",
        "lsmagic": "BasicMagics",
        "lx": "Other",
        "macro": "ExecutionMagics",
        "magic": "BasicMagics",
        "man": "KernelMagics",
        "matplotlib": "PylabMagics",
        "mkdir": "Other",
        "more": "KernelMagics",
        "mv": "Other",
        "notebook": "BasicMagics",
        "page": "BasicMagics",
        "pastebin": "CodeMagics",
        "pdb": "ExecutionMagics",
        "pdef": "NamespaceMagics",
        "pdoc": "NamespaceMagics",
        "pfile": "NamespaceMagics",
        "pinfo": "NamespaceMagics",
        "pinfo2": "NamespaceMagics",
        "popd": "OSMagics",
        "pprint": "BasicMagics",
        "precision": "BasicMagics",
        "profile": "BasicMagics",
        "prun": "ExecutionMagics",
        "psearch": "NamespaceMagics",
        "psource": "NamespaceMagics",
        "pushd": "OSMagics",
        "pwd": "OSMagics",
        "pycat": "OSMagics",
        "pylab": "PylabMagics",
        "qtconsole": "KernelMagics",
        "quickref": "BasicMagics",
        "recall": "HistoryMagics",
        "rehashx": "OSMagics",
        "reload_ext": "ExtensionMagics",
        "rep": "Other",
        "rerun": "HistoryMagics",
        "reset": "NamespaceMagics",
        "reset_selective": "NamespaceMagics",
        "rm": "Other",
        "rmdir": "Other",
        "run": "ExecutionMagics",
        "save": "CodeMagics",
        "sc": "OSMagics",
        "set_env": "OSMagics",
        "store": "StoreMagics",
        "sx": "OSMagics",
        "system": "OSMagics",
        "tb": "ExecutionMagics",
        "time": "ExecutionMagics",
        "timeit": "ExecutionMagics",
        "unalias": "OSMagics",
        "unload_ext": "ExtensionMagics",
        "who": "NamespaceMagics",
        "who_ls": "NamespaceMagics",
        "whos": "NamespaceMagics",
        "xdel": "NamespaceMagics",
        "xmode": "BasicMagics"
       }
      },
      "text/plain": [
       "Available line magics:\n",
       "%alias  %alias_magic  %autocall  %automagic  %autosave  %bookmark  %cat  %cd  %clear  %colors  %config  %connect_info  %cp  %debug  %dhist  %dirs  %doctest_mode  %ed  %edit  %env  %gui  %hist  %history  %install_default_config  %install_ext  %install_profiles  %killbgscripts  %ldir  %less  %lf  %lk  %ll  %load  %load_ext  %loadpy  %logoff  %logon  %logstart  %logstate  %logstop  %ls  %lsmagic  %lx  %macro  %magic  %man  %matplotlib  %mkdir  %more  %mv  %notebook  %page  %pastebin  %pdb  %pdef  %pdoc  %pfile  %pinfo  %pinfo2  %popd  %pprint  %precision  %profile  %prun  %psearch  %psource  %pushd  %pwd  %pycat  %pylab  %qtconsole  %quickref  %recall  %rehashx  %reload_ext  %rep  %rerun  %reset  %reset_selective  %rm  %rmdir  %run  %save  %sc  %set_env  %store  %sx  %system  %tb  %time  %timeit  %unalias  %unload_ext  %who  %who_ls  %whos  %xdel  %xmode\n",
       "\n",
       "Available cell magics:\n",
       "%%!  %%HTML  %%SVG  %%bash  %%capture  %%debug  %%file  %%html  %%javascript  %%latex  %%perl  %%prun  %%pypy  %%python  %%python2  %%python3  %%ruby  %%script  %%sh  %%svg  %%sx  %%system  %%time  %%timeit  %%writefile\n",
       "\n",
       "Automagic is ON, % prefix IS NOT needed for line magics."
      ]
     },
     "execution_count": 3,
     "metadata": {},
     "output_type": "execute_result"
    }
   ],
   "source": [
    "%lsmagic"
   ]
  },
  {
   "cell_type": "code",
   "execution_count": 4,
   "metadata": {
    "collapsed": true,
    "slideshow": {
     "slide_type": "subslide"
    }
   },
   "outputs": [],
   "source": [
    "# Ask documentation\n",
    "env?"
   ]
  },
  {
   "cell_type": "markdown",
   "metadata": {
    "slideshow": {
     "slide_type": "subslide"
    }
   },
   "source": [
    "Test automagic:"
   ]
  },
  {
   "cell_type": "code",
   "execution_count": 5,
   "metadata": {
    "collapsed": false,
    "slideshow": {
     "slide_type": "-"
    }
   },
   "outputs": [
    {
     "data": {
      "text/plain": [
       "'/bin/bash'"
      ]
     },
     "execution_count": 5,
     "metadata": {},
     "output_type": "execute_result"
    }
   ],
   "source": [
    "env SHELL"
   ]
  },
  {
   "cell_type": "code",
   "execution_count": 6,
   "metadata": {
    "collapsed": false,
    "slideshow": {
     "slide_type": "fragment"
    }
   },
   "outputs": [
    {
     "name": "stdout",
     "output_type": "stream",
     "text": [
      "\n",
      "Automagic is OFF, % prefix IS needed for line magics.\n"
     ]
    }
   ],
   "source": [
    "%automagic off"
   ]
  },
  {
   "cell_type": "code",
   "execution_count": 7,
   "metadata": {
    "collapsed": false
   },
   "outputs": [
    {
     "ename": "SyntaxError",
     "evalue": "invalid syntax (<ipython-input-7-32e5ee08a7af>, line 1)",
     "output_type": "error",
     "traceback": [
      "\u001b[1;36m  File \u001b[1;32m\"<ipython-input-7-32e5ee08a7af>\"\u001b[1;36m, line \u001b[1;32m1\u001b[0m\n\u001b[1;33m    env SHELL\u001b[0m\n\u001b[1;37m            ^\u001b[0m\n\u001b[1;31mSyntaxError\u001b[0m\u001b[1;31m:\u001b[0m invalid syntax\n"
     ]
    }
   ],
   "source": [
    "env SHELL"
   ]
  },
  {
   "cell_type": "code",
   "execution_count": 8,
   "metadata": {
    "collapsed": false,
    "slideshow": {
     "slide_type": "subslide"
    }
   },
   "outputs": [
    {
     "name": "stdout",
     "output_type": "stream",
     "text": [
      "\n",
      "Automagic is ON, % prefix IS NOT needed for line magics.\n"
     ]
    }
   ],
   "source": [
    "# Get it back :)\n",
    "%automagic on"
   ]
  },
  {
   "cell_type": "code",
   "execution_count": 9,
   "metadata": {
    "collapsed": true,
    "slideshow": {
     "slide_type": "fragment"
    }
   },
   "outputs": [],
   "source": [
    "# To follow the ipython built-in quickstart on ipython magics:\n",
    "%quickref"
   ]
  },
  {
   "cell_type": "markdown",
   "metadata": {
    "slideshow": {
     "slide_type": "slide"
    }
   },
   "source": [
    "## Exercise\n",
    "\n",
    "Choose one **line** magic command from the list and try to use it."
   ]
  },
  {
   "cell_type": "markdown",
   "metadata": {
    "slideshow": {
     "slide_type": "slide"
    }
   },
   "source": [
    "# Understanding the role of Ipython\n",
    "\n",
    "The magic is not in the notebook (directly)"
   ]
  },
  {
   "cell_type": "markdown",
   "metadata": {
    "slideshow": {
     "slide_type": "subslide"
    }
   },
   "source": [
    "## Autocompletion"
   ]
  },
  {
   "cell_type": "code",
   "execution_count": 10,
   "metadata": {
    "collapsed": true,
    "slideshow": {
     "slide_type": "fragment"
    }
   },
   "outputs": [],
   "source": [
    "abracadabra = (1,2,3)"
   ]
  },
  {
   "cell_type": "markdown",
   "metadata": {
    "collapsed": true,
    "slideshow": {
     "slide_type": "fragment"
    }
   },
   "source": [
    "```python\n",
    "abr [TAB]\n",
    "abracadabra\n",
    "```"
   ]
  },
  {
   "cell_type": "markdown",
   "metadata": {
    "collapsed": true,
    "slideshow": {
     "slide_type": "subslide"
    }
   },
   "source": [
    "```python\n",
    "import math\n",
    "math.l [TAB]\n",
    "    math.ldexp\n",
    "    math.lgamma\n",
    "    math.log\n",
    "    math.log10\n",
    "    [...]\n",
    "```"
   ]
  },
  {
   "cell_type": "markdown",
   "metadata": {
    "slideshow": {
     "slide_type": "subslide"
    }
   },
   "source": [
    "## Make it silent"
   ]
  },
  {
   "cell_type": "code",
   "execution_count": 11,
   "metadata": {
    "collapsed": true,
    "slideshow": {
     "slide_type": "fragment"
    }
   },
   "outputs": [],
   "source": [
    "abracadabra = (1,2,3)"
   ]
  },
  {
   "cell_type": "code",
   "execution_count": 12,
   "metadata": {
    "collapsed": false
   },
   "outputs": [
    {
     "data": {
      "text/plain": [
       "(1, 2, 3)"
      ]
     },
     "execution_count": 12,
     "metadata": {},
     "output_type": "execute_result"
    }
   ],
   "source": [
    "abracadabra"
   ]
  },
  {
   "cell_type": "code",
   "execution_count": 13,
   "metadata": {
    "collapsed": false,
    "slideshow": {
     "slide_type": "fragment"
    }
   },
   "outputs": [],
   "source": [
    "abracadabra;"
   ]
  },
  {
   "cell_type": "markdown",
   "metadata": {
    "slideshow": {
     "slide_type": "subslide"
    }
   },
   "source": [
    "## Easier introspection"
   ]
  },
  {
   "cell_type": "code",
   "execution_count": 14,
   "metadata": {
    "collapsed": false,
    "slideshow": {
     "slide_type": "fragment"
    }
   },
   "outputs": [
    {
     "name": "stdout",
     "output_type": "stream",
     "text": [
      "Variable      Type     Data/Info\n",
      "--------------------------------\n",
      "abracadabra   tuple    n=3\n",
      "out           SList    ['[01_01] A new interacti<...>[01_07] The magic.ipynb']\n"
     ]
    }
   ],
   "source": [
    "whos"
   ]
  },
  {
   "cell_type": "code",
   "execution_count": 15,
   "metadata": {
    "collapsed": true
   },
   "outputs": [],
   "source": [
    "# note to self: execute it now\n",
    "abracadabra = (1,2,3)"
   ]
  },
  {
   "cell_type": "code",
   "execution_count": 16,
   "metadata": {
    "collapsed": false,
    "slideshow": {
     "slide_type": "subslide"
    }
   },
   "outputs": [],
   "source": [
    "pinfo abracadabra"
   ]
  },
  {
   "cell_type": "markdown",
   "metadata": {
    "slideshow": {
     "slide_type": "subslide"
    }
   },
   "source": [
    "## Bash shell commands"
   ]
  },
  {
   "cell_type": "code",
   "execution_count": 17,
   "metadata": {
    "collapsed": false,
    "slideshow": {
     "slide_type": "fragment"
    }
   },
   "outputs": [
    {
     "name": "stdout",
     "output_type": "stream",
     "text": [
      "README.md                               [02_02] Numerical operations.ipynb\r\n",
      "[01_01] A new interactive world.ipynb   [03_01] Scientific computations.ipynb\r\n",
      "[01_02] Learning Python.ipynb           [03_02] Dataframes.ipynb\r\n",
      "[01_03] into the Python Zen.ipynb       \u001b[0m\u001b[01;34m__pycache__\u001b[0m/\r\n",
      "[01_04] Data structures.ipynb           \u001b[01;34mdata\u001b[0m/\r\n",
      "[01_05] Algorithms and data flow.ipynb  \u001b[01;34mimages\u001b[0m/\r\n",
      "[01_06] Functions and modules.ipynb     \u001b[01;34moff-topic\u001b[0m/\r\n",
      "[01_07] The magic.ipynb                 \u001b[01;34msolutions\u001b[0m/\r\n",
      "[02_01] Array object.ipynb\r\n"
     ]
    }
   ],
   "source": [
    "ls"
   ]
  },
  {
   "cell_type": "code",
   "execution_count": 18,
   "metadata": {
    "collapsed": false,
    "slideshow": {
     "slide_type": "fragment"
    }
   },
   "outputs": [
    {
     "data": {
      "text/plain": [
       "'/data/lectures/pyscience'"
      ]
     },
     "execution_count": 18,
     "metadata": {},
     "output_type": "execute_result"
    }
   ],
   "source": [
    "pwd"
   ]
  },
  {
   "cell_type": "code",
   "execution_count": 19,
   "metadata": {
    "collapsed": false,
    "slideshow": {
     "slide_type": "subslide"
    }
   },
   "outputs": [
    {
     "ename": "NameError",
     "evalue": "name 'pwd' is not defined",
     "output_type": "error",
     "traceback": [
      "\u001b[1;31m---------------------------------------------------------------------------\u001b[0m",
      "\u001b[1;31mNameError\u001b[0m                                 Traceback (most recent call last)",
      "\u001b[1;32m<ipython-input-19-ded2f68d69eb>\u001b[0m in \u001b[0;36m<module>\u001b[1;34m()\u001b[0m\n\u001b[0;32m      1\u001b[0m \u001b[1;31m# Ooops\u001b[0m\u001b[1;33m\u001b[0m\u001b[1;33m\u001b[0m\u001b[0m\n\u001b[1;32m----> 2\u001b[1;33m \u001b[0mcurrent_dir\u001b[0m \u001b[1;33m=\u001b[0m \u001b[0mpwd\u001b[0m\u001b[1;33m\u001b[0m\u001b[0m\n\u001b[0m",
      "\u001b[1;31mNameError\u001b[0m: name 'pwd' is not defined"
     ]
    }
   ],
   "source": [
    "# Ooops\n",
    "current_dir = pwd"
   ]
  },
  {
   "cell_type": "code",
   "execution_count": 20,
   "metadata": {
    "collapsed": false,
    "slideshow": {
     "slide_type": "subslide"
    }
   },
   "outputs": [
    {
     "name": "stdout",
     "output_type": "stream",
     "text": [
      "/data/lectures/pyscience\r\n"
     ]
    }
   ],
   "source": [
    "# this is the real command\n",
    "! pwd"
   ]
  },
  {
   "cell_type": "code",
   "execution_count": 21,
   "metadata": {
    "collapsed": false,
    "slideshow": {
     "slide_type": "fragment"
    }
   },
   "outputs": [
    {
     "data": {
      "text/plain": [
       "['/data/lectures/pyscience']"
      ]
     },
     "execution_count": 21,
     "metadata": {},
     "output_type": "execute_result"
    }
   ],
   "source": [
    "# Get the output\n",
    "out = ! pwd\n",
    "out"
   ]
  },
  {
   "cell_type": "code",
   "execution_count": 22,
   "metadata": {
    "collapsed": false
   },
   "outputs": [
    {
     "name": "stdout",
     "output_type": "stream",
     "text": [
      "     18     183    1203\r\n"
     ]
    }
   ],
   "source": [
    "! ls -l | wc"
   ]
  },
  {
   "cell_type": "markdown",
   "metadata": {
    "slideshow": {
     "slide_type": "subslide"
    }
   },
   "source": [
    "## Your python commands history\n",
    "\n",
    "*inside the running kernel (!)*"
   ]
  },
  {
   "cell_type": "code",
   "execution_count": 23,
   "metadata": {
    "collapsed": false,
    "scrolled": true
   },
   "outputs": [
    {
     "name": "stdout",
     "output_type": "stream",
     "text": [
      "%system ls *01_0*ipynb\n",
      "out = _\n",
      "out[2]\n",
      "%lsmagic\n",
      "# Ask documentation\n",
      "env?\n",
      "env SHELL\n",
      "%automagic off\n",
      "env SHELL\n",
      "# Get it back :)\n",
      "%automagic on\n",
      "# To follow the ipython built-in quickstart on ipython magics:\n",
      "%quickref\n",
      "abracadabra = (1,2,3)\n",
      "abracadabra = (1,2,3)\n",
      "abracadabra\n",
      "abracadabra;\n",
      "whos\n",
      "# note to self: execute it now\n",
      "abracadabra = (1,2,3)\n",
      "pinfo abracadabra\n",
      "ls\n",
      "pwd\n",
      "# Ooops\n",
      "current_dir = pwd\n",
      "# this is the real command\n",
      "! pwd\n",
      "# Get the output\n",
      "out = ! pwd\n",
      "out\n",
      "! ls -l | wc\n",
      "%hist\n"
     ]
    }
   ],
   "source": [
    "%hist"
   ]
  },
  {
   "cell_type": "markdown",
   "metadata": {
    "slideshow": {
     "slide_type": "subslide"
    }
   },
   "source": [
    "## Record your session\n",
    "\n",
    "*logging!*"
   ]
  },
  {
   "cell_type": "code",
   "execution_count": 24,
   "metadata": {
    "collapsed": false,
    "slideshow": {
     "slide_type": "fragment"
    }
   },
   "outputs": [
    {
     "name": "stdout",
     "output_type": "stream",
     "text": [
      "Activating auto-logging. Current session state plus future input saved.\n",
      "Filename       : ipython_log.py\n",
      "Mode           : rotate\n",
      "Output logging : False\n",
      "Raw input log  : False\n",
      "Timestamping   : False\n",
      "State          : active\n"
     ]
    }
   ],
   "source": [
    "%logstart"
   ]
  },
  {
   "cell_type": "code",
   "execution_count": 25,
   "metadata": {
    "collapsed": false,
    "slideshow": {
     "slide_type": "subslide"
    }
   },
   "outputs": [
    {
     "name": "stdout",
     "output_type": "stream",
     "text": [
      "# IPython log file\r\n",
      "\r\n",
      "get_ipython().magic('system ls *01_0*ipynb')\r\n",
      "out = _\r\n",
      "out[2]\r\n"
     ]
    }
   ],
   "source": [
    "! head -5 ipython_log.py"
   ]
  },
  {
   "cell_type": "markdown",
   "metadata": {
    "slideshow": {
     "slide_type": "fragment"
    }
   },
   "source": [
    "You may disable loggin writing `%logoff` and reenable it with `%logon`"
   ]
  },
  {
   "cell_type": "code",
   "execution_count": 26,
   "metadata": {
    "collapsed": false
   },
   "outputs": [
    {
     "name": "stdout",
     "output_type": "stream",
     "text": [
      "Switching logging OFF\n"
     ]
    }
   ],
   "source": [
    "%logoff"
   ]
  },
  {
   "cell_type": "code",
   "execution_count": 27,
   "metadata": {
    "collapsed": false,
    "slideshow": {
     "slide_type": "fragment"
    }
   },
   "outputs": [
    {
     "name": "stdout",
     "output_type": "stream",
     "text": [
      "Filename       : ipython_log.py\n",
      "Mode           : rotate\n",
      "Output logging : False\n",
      "Raw input log  : False\n",
      "Timestamping   : False\n",
      "State          : temporarily suspended\n"
     ]
    }
   ],
   "source": [
    "%logstate"
   ]
  },
  {
   "cell_type": "markdown",
   "metadata": {
    "slideshow": {
     "slide_type": "slide"
    }
   },
   "source": [
    "# The power of magic"
   ]
  },
  {
   "cell_type": "code",
   "execution_count": 28,
   "metadata": {
    "collapsed": false,
    "slideshow": {
     "slide_type": "subslide"
    }
   },
   "outputs": [
    {
     "data": {
      "text/html": [
       "\n",
       "<table>\n",
       "    <tr>\n",
       "        <td> Cell one </td>\n",
       "        <td> Cell <i>two</i> </td>\n",
       "    </tr>\n",
       "    <tr>\n",
       "        <td> Cell <b>three</b> </td>\n",
       "        <td> <a href='www.cineca.it'>link</a> </td>\n",
       "    </tr>\n",
       "</table>"
      ],
      "text/plain": [
       "<IPython.core.display.HTML object>"
      ]
     },
     "metadata": {},
     "output_type": "display_data"
    }
   ],
   "source": [
    "%%HTML\n",
    "\n",
    "<table>\n",
    "    <tr>\n",
    "        <td> Cell one </td>\n",
    "        <td> Cell <i>two</i> </td>\n",
    "    </tr>\n",
    "    <tr>\n",
    "        <td> Cell <b>three</b> </td>\n",
    "        <td> <a href='www.cineca.it'>link</a> </td>\n",
    "    </tr>\n",
    "</table>\n"
   ]
  },
  {
   "cell_type": "markdown",
   "metadata": {
    "slideshow": {
     "slide_type": "slide"
    }
   },
   "source": [
    "Did you notice?\n",
    "    \n",
    "* One % is referring to a **line** magic command:\n",
    "```\n",
    "%cd /opt\n",
    "```\n",
    "*In this case you have to write all the requested options in the same line of the command*\n",
    "\n",
    "\n",
    "* Two % is referring to a **cell** magic command:\n",
    "```\n",
    "%%bash\n",
    "var='test'\n",
    "echo \"$var\"\n",
    "```\n",
    "*Here there might be options on the same line, but the whole cell is captured by the magic*"
   ]
  },
  {
   "cell_type": "code",
   "execution_count": 29,
   "metadata": {
    "collapsed": false,
    "slideshow": {
     "slide_type": "subslide"
    }
   },
   "outputs": [
    {
     "name": "stdout",
     "output_type": "stream",
     "text": [
      "System out: ['test']\n"
     ]
    }
   ],
   "source": [
    "# Line magic does not bother the rest of the cell\n",
    "out = %system echo 'test'\n",
    "print(\"System out:\", out)"
   ]
  },
  {
   "cell_type": "code",
   "execution_count": 30,
   "metadata": {
    "collapsed": false,
    "slideshow": {
     "slide_type": "fragment"
    }
   },
   "outputs": [
    {
     "ename": "SyntaxError",
     "evalue": "invalid syntax (<ipython-input-30-f99db69f8c8f>, line 3)",
     "output_type": "error",
     "traceback": [
      "\u001b[1;36m  File \u001b[1;32m\"<ipython-input-30-f99db69f8c8f>\"\u001b[1;36m, line \u001b[1;32m3\u001b[0m\n\u001b[1;33m    %%bash\u001b[0m\n\u001b[1;37m    ^\u001b[0m\n\u001b[1;31mSyntaxError\u001b[0m\u001b[1;31m:\u001b[0m invalid syntax\n"
     ]
    }
   ],
   "source": [
    "# Cell magic cannot contain another command inside\n",
    "print(\"test\")\n",
    "%%bash\n",
    "ls"
   ]
  },
  {
   "cell_type": "markdown",
   "metadata": {
    "slideshow": {
     "slide_type": "slide"
    }
   },
   "source": [
    "## File management"
   ]
  },
  {
   "cell_type": "markdown",
   "metadata": {
    "slideshow": {
     "slide_type": "subslide"
    }
   },
   "source": [
    "Playing with directories and files"
   ]
  },
  {
   "cell_type": "code",
   "execution_count": 31,
   "metadata": {
    "collapsed": false
   },
   "outputs": [
    {
     "data": {
      "text/plain": [
       "'/data/lectures/pyscience/tmp/lorem.txt'"
      ]
     },
     "execution_count": 31,
     "metadata": {},
     "output_type": "execute_result"
    }
   ],
   "source": [
    "import os\n",
    "current_dir = %system pwd\n",
    "mydir = 'tmp'\n",
    "myfile = 'lorem.txt'\n",
    "os.path.join(current_dir[0], mydir, myfile)"
   ]
  },
  {
   "cell_type": "markdown",
   "metadata": {
    "slideshow": {
     "slide_type": "subslide"
    }
   },
   "source": [
    "Save last output"
   ]
  },
  {
   "cell_type": "code",
   "execution_count": 32,
   "metadata": {
    "collapsed": false
   },
   "outputs": [
    {
     "data": {
      "text/plain": [
       "'/data/lectures/pyscience/tmp/lorem.txt'"
      ]
     },
     "execution_count": 32,
     "metadata": {},
     "output_type": "execute_result"
    }
   ],
   "source": [
    "filename=_\n",
    "filename"
   ]
  },
  {
   "cell_type": "code",
   "execution_count": 33,
   "metadata": {
    "collapsed": true,
    "slideshow": {
     "slide_type": "subslide"
    }
   },
   "outputs": [],
   "source": [
    "# Create directory if not exists\n",
    "%mkdir -p $mydir\n",
    "# Write a file with magic:"
   ]
  },
  {
   "cell_type": "code",
   "execution_count": 34,
   "metadata": {
    "collapsed": false,
    "slideshow": {
     "slide_type": "fragment"
    }
   },
   "outputs": [
    {
     "name": "stdout",
     "output_type": "stream",
     "text": [
      "Writing /data/lectures/pyscience/tmp/lorem.txt\n"
     ]
    }
   ],
   "source": [
    "%%writefile $filename\n",
    "Lorem ipsum dolor sit amet, consectetur adipisicing elit, sed do eiusmod\n",
    "tempor incididunt ut labore et dolore magna aliqua. Ut enim ad minim veniam,\n",
    "quis nostrud exercitation ullamco laboris nisi ut aliquip ex ea commodo\n",
    "consequat. Duis aute irure dolor in reprehenderit in voluptate velit esse\n",
    "cillum dolore eu fugiat nulla pariatur. Excepteur sint occaecat cupidatat non\n",
    "proident, sunt in culpa qui officia deserunt mollit anim id est laborum."
   ]
  },
  {
   "cell_type": "code",
   "execution_count": 35,
   "metadata": {
    "collapsed": false,
    "slideshow": {
     "slide_type": "subslide"
    }
   },
   "outputs": [
    {
     "name": "stdout",
     "output_type": "stream",
     "text": [
      "Lorem ipsum dolor sit amet, consectetur adipisicing elit, sed do eiusmod\r\n",
      "tempor incididunt ut labore et dolore magna aliqua. Ut enim ad minim veniam,\r\n",
      "quis nostrud exercitation ullamco laboris nisi ut aliquip ex ea commodo\r\n",
      "consequat. Duis aute irure dolor in reprehenderit in voluptate velit esse\r\n",
      "cillum dolore eu fugiat nulla pariatur. Excepteur sint occaecat cupidatat non\r\n",
      "proident, sunt in culpa qui officia deserunt mollit anim id est laborum."
     ]
    }
   ],
   "source": [
    "%cat $filename"
   ]
  },
  {
   "cell_type": "markdown",
   "metadata": {
    "slideshow": {
     "slide_type": "slide"
    }
   },
   "source": [
    "## Exercise\n",
    "Write a bash file and execute it from within the ipython kernel"
   ]
  },
  {
   "cell_type": "markdown",
   "metadata": {
    "slideshow": {
     "slide_type": "slide"
    }
   },
   "source": [
    "## Writing a magic command"
   ]
  },
  {
   "cell_type": "markdown",
   "metadata": {
    "slideshow": {
     "slide_type": "subslide"
    }
   },
   "source": [
    "A magic is a *piece of cake*"
   ]
  },
  {
   "cell_type": "code",
   "execution_count": 36,
   "metadata": {
    "collapsed": true,
    "slideshow": {
     "slide_type": "subslide"
    }
   },
   "outputs": [],
   "source": [
    "# Line magic\n",
    "from IPython.core.magic import register_line_magic\n",
    "\n",
    "@register_line_magic\n",
    "def custom_magic_line(line):\n",
    "    print(\"Hello\", line)"
   ]
  },
  {
   "cell_type": "code",
   "execution_count": 37,
   "metadata": {
    "collapsed": false,
    "slideshow": {
     "slide_type": "fragment"
    }
   },
   "outputs": [
    {
     "name": "stdout",
     "output_type": "stream",
     "text": [
      "Hello \n",
      "Hello test\n"
     ]
    }
   ],
   "source": [
    "# test it\n",
    "%custom_magic_line\n",
    "%custom_magic_line test"
   ]
  },
  {
   "cell_type": "code",
   "execution_count": 38,
   "metadata": {
    "collapsed": false,
    "slideshow": {
     "slide_type": "subslide"
    }
   },
   "outputs": [
    {
     "name": "stderr",
     "output_type": "stream",
     "text": [
      "ERROR: Cell magic `%%custom_magic_line` not found (But line magic `%custom_magic_line` exists, did you mean that instead?).\n"
     ]
    }
   ],
   "source": [
    "%%custom_magic_line"
   ]
  },
  {
   "cell_type": "code",
   "execution_count": 39,
   "metadata": {
    "collapsed": true,
    "slideshow": {
     "slide_type": "subslide"
    }
   },
   "outputs": [],
   "source": [
    "# Cell magic\n",
    "from IPython.core.magic import register_cell_magic\n",
    "\n",
    "@register_cell_magic\n",
    "def custom_cell_magic(line, cell):\n",
    "    print(\"Hello *%s*\\n*%s*\" % (line,cell))"
   ]
  },
  {
   "cell_type": "code",
   "execution_count": 40,
   "metadata": {
    "collapsed": false,
    "slideshow": {
     "slide_type": "fragment"
    }
   },
   "outputs": [
    {
     "name": "stdout",
     "output_type": "stream",
     "text": [
      "Hello *line*\n",
      "*cell line 1\n",
      "cell line 2*\n"
     ]
    }
   ],
   "source": [
    "%%custom_cell_magic line\n",
    "cell line 1\n",
    "cell line 2"
   ]
  },
  {
   "cell_type": "code",
   "execution_count": 41,
   "metadata": {
    "collapsed": false,
    "slideshow": {
     "slide_type": "subslide"
    }
   },
   "outputs": [
    {
     "name": "stderr",
     "output_type": "stream",
     "text": [
      "ERROR: Line magic function `%custom_cell_magic` not found (But cell magic `%%custom_cell_magic` exists, did you mean that instead?).\n"
     ]
    }
   ],
   "source": [
    "%custom_cell_magic line"
   ]
  },
  {
   "cell_type": "code",
   "execution_count": 42,
   "metadata": {
    "collapsed": true,
    "slideshow": {
     "slide_type": "subslide"
    }
   },
   "outputs": [],
   "source": [
    "# Both magics\n",
    "from IPython.core.magic import register_line_cell_magic\n",
    "\n",
    "@register_line_cell_magic\n",
    "def custom_magic(line, cell=\"\"):\n",
    "    print(\"Hello *%s*\\n*%s*\" % (line,cell))"
   ]
  },
  {
   "cell_type": "code",
   "execution_count": 43,
   "metadata": {
    "collapsed": false,
    "slideshow": {
     "slide_type": "fragment"
    }
   },
   "outputs": [
    {
     "name": "stdout",
     "output_type": "stream",
     "text": [
      "Hello *line*\n",
      "**\n"
     ]
    }
   ],
   "source": [
    "%custom_magic line"
   ]
  },
  {
   "cell_type": "code",
   "execution_count": 44,
   "metadata": {
    "collapsed": false,
    "slideshow": {
     "slide_type": "fragment"
    }
   },
   "outputs": [
    {
     "name": "stdout",
     "output_type": "stream",
     "text": [
      "Hello *line*\n",
      "*cell*\n"
     ]
    }
   ],
   "source": [
    "%%custom_magic line\n",
    "cell"
   ]
  },
  {
   "cell_type": "code",
   "execution_count": 45,
   "metadata": {
    "collapsed": false
   },
   "outputs": [
    {
     "name": "stdout",
     "output_type": "stream",
     "text": [
      "/data\n"
     ]
    }
   ],
   "source": [
    "%cd /data"
   ]
  },
  {
   "cell_type": "code",
   "execution_count": 46,
   "metadata": {
    "collapsed": true,
    "slideshow": {
     "slide_type": "subslide"
    }
   },
   "outputs": [],
   "source": [
    "# Using ipython magic inside the magic\n",
    "\n",
    "@register_line_magic\n",
    "def search_file_extension(extension):\n",
    "    \"\"\" Find files with given extension inside the current directory and sub-directories \"\"\"\n",
    "    if extension is '':\n",
    "        extension = 'txt'\n",
    "    cmd = \"find ./ -iname *.\" + extension\n",
    "    out = %system $cmd\n",
    "    print(\"Found\", out)"
   ]
  },
  {
   "cell_type": "code",
   "execution_count": 47,
   "metadata": {
    "collapsed": false,
    "slideshow": {
     "slide_type": "subslide"
    }
   },
   "outputs": [
    {
     "name": "stdout",
     "output_type": "stream",
     "text": [
      "Found ['./lectures/pyscience/data/populations.txt', './lectures/pyscience/tmp/lorem.txt']\n"
     ]
    }
   ],
   "source": [
    "%search_file_extension"
   ]
  },
  {
   "cell_type": "code",
   "execution_count": 48,
   "metadata": {
    "collapsed": false,
    "slideshow": {
     "slide_type": "fragment"
    }
   },
   "outputs": [
    {
     "name": "stdout",
     "output_type": "stream",
     "text": [
      "Found ['./lectures/ipython_extensions/mrjobmagic.py', './lectures/ipython_extensions/version_information.py', './lectures/pyscience/ipython_log.py']\n"
     ]
    }
   ],
   "source": [
    "%search_file_extension py"
   ]
  },
  {
   "cell_type": "code",
   "execution_count": 49,
   "metadata": {
    "collapsed": false,
    "slideshow": {
     "slide_type": "fragment"
    }
   },
   "outputs": [],
   "source": [
    "%search_file_extension?"
   ]
  },
  {
   "cell_type": "markdown",
   "metadata": {
    "slideshow": {
     "slide_type": "slide"
    }
   },
   "source": [
    "## Exercise\n",
    "Write your own magic to take a file and count the words inside"
   ]
  },
  {
   "cell_type": "markdown",
   "metadata": {
    "slideshow": {
     "slide_type": "slide"
    }
   },
   "source": [
    "## Writing an extension"
   ]
  },
  {
   "cell_type": "code",
   "execution_count": 50,
   "metadata": {
    "collapsed": false,
    "slideshow": {
     "slide_type": "subslide"
    }
   },
   "outputs": [
    {
     "name": "stdout",
     "output_type": "stream",
     "text": [
      "Writing extension.py\n"
     ]
    }
   ],
   "source": [
    "%%writefile extension.py\n",
    "\n",
    "# -*- coding: utf-8 -*-\n",
    "\"\"\" A custom magic command \"\"\"\n",
    "from IPython.core.magic import register_line_magic\n",
    "import subprocess\n",
    "MAIN_DIR = '/data'\n",
    "\n",
    "@register_line_magic\n",
    "def mysearch(extension):\n",
    "    \"\"\" Find files with given extension inside the current directory and sub-directories \"\"\"\n",
    "    if extension is '':\n",
    "        extension = 'txt'\n",
    "    cmd = \"find \" + MAIN_DIR + \" -iname *.\" + extension\n",
    "    process = subprocess.Popen(cmd.split(\" \"), stdout=subprocess.PIPE)\n",
    "    out, err = process.communicate()\n",
    "    return out\n",
    "\n",
    "def load_ipython_extension(ipython):\n",
    "    ipython.register_magic_function(mysearch, 'line')"
   ]
  },
  {
   "cell_type": "markdown",
   "metadata": {
    "slideshow": {
     "slide_type": "subslide"
    }
   },
   "source": [
    "Note: you cannot use ipython syntax and `%magic` commands inside the extension\n",
    "\n",
    "as it is written with standard python, like a normal module."
   ]
  },
  {
   "cell_type": "code",
   "execution_count": 51,
   "metadata": {
    "collapsed": false,
    "slideshow": {
     "slide_type": "subslide"
    }
   },
   "outputs": [
    {
     "data": {
      "text/plain": [
       "b'/data/lectures/pyscience/data/populations.txt\\n/data/lectures/pyscience/tmp/lorem.txt\\n'"
      ]
     },
     "execution_count": 51,
     "metadata": {},
     "output_type": "execute_result"
    }
   ],
   "source": [
    "# Load extension\n",
    "%reload_ext extension\n",
    "# Test it\n",
    "%mysearch txt"
   ]
  },
  {
   "cell_type": "markdown",
   "metadata": {
    "slideshow": {
     "slide_type": "subslide"
    }
   },
   "source": [
    "Note: original place for extensions is\n",
    "`$HOME/.ipython/extensions/`\n",
    "\n",
    "That path is `read-only` for the running container.\n",
    "\n",
    "It is corresponding to main `ipython_extensions` directory of the lectures repo."
   ]
  },
  {
   "cell_type": "code",
   "execution_count": 52,
   "metadata": {
    "collapsed": false,
    "slideshow": {
     "slide_type": "fragment"
    }
   },
   "outputs": [
    {
     "name": "stdout",
     "output_type": "stream",
     "text": [
      "/home/jovyan/.ipython/extensions/version_information.py\r\n"
     ]
    }
   ],
   "source": [
    "! ls $HOME/.ipython/extensions/*.py"
   ]
  },
  {
   "cell_type": "markdown",
   "metadata": {
    "slideshow": {
     "slide_type": "slide"
    }
   },
   "source": [
    "## Exercise\n",
    "Take the magic you wrote in the previous exercise and create the extension.\n",
    "\n",
    "<small>Note: The notebook server works as a decent file editor for extensions differents from `ipynb`.</small>"
   ]
  },
  {
   "cell_type": "markdown",
   "metadata": {
    "slideshow": {
     "slide_type": "slide"
    }
   },
   "source": [
    "## Extensions list\n",
    "\n",
    "There are many cool magicians in the community,\n",
    "and they share their magic:\n",
    "\n",
    "https://github.com/ipython/ipython/wiki/Extensions-Index"
   ]
  },
  {
   "cell_type": "markdown",
   "metadata": {
    "slideshow": {
     "slide_type": "subslide"
    }
   },
   "source": [
    "A short example:\n",
    "\n",
    "Become the **master of databases** from within the notebook"
   ]
  },
  {
   "cell_type": "code",
   "execution_count": null,
   "metadata": {
    "collapsed": false,
    "slideshow": {
     "slide_type": "subslide"
    }
   },
   "outputs": [],
   "source": [
    "! pip install ipython-sql"
   ]
  },
  {
   "cell_type": "code",
   "execution_count": null,
   "metadata": {
    "collapsed": true,
    "slideshow": {
     "slide_type": "subslide"
    }
   },
   "outputs": [],
   "source": [
    "# Load new installed extension\n",
    "%reload_ext sql\n",
    "# Create a file database with sqllite\n",
    "import sqlite3\n",
    "dbfile = './mydata.sql'\n",
    "conn = sqlite3.connect(dbfile)"
   ]
  },
  {
   "cell_type": "markdown",
   "metadata": {
    "slideshow": {
     "slide_type": "subslide"
    }
   },
   "source": [
    "Query your database from a notebook cell"
   ]
  },
  {
   "cell_type": "code",
   "execution_count": null,
   "metadata": {
    "collapsed": false,
    "slideshow": {
     "slide_type": "fragment"
    }
   },
   "outputs": [],
   "source": [
    "%%sql sqlite:///$dbfile\n",
    "CREATE TABLE IF NOT EXISTS t(x INTEGER, y, z, PRIMARY KEY(x ASC));\n",
    "INSERT INTO t VALUES (1,2,3),(9,8,7);\n",
    "SELECT * FROM t;"
   ]
  },
  {
   "cell_type": "markdown",
   "metadata": {
    "slideshow": {
     "slide_type": "fragment"
    }
   },
   "source": [
    "Note: it works with **sqllite**, **mysql**, **postgres**"
   ]
  },
  {
   "cell_type": "markdown",
   "metadata": {
    "slideshow": {
     "slide_type": "slide"
    }
   },
   "source": [
    "# Make presentations"
   ]
  },
  {
   "cell_type": "markdown",
   "metadata": {
    "slideshow": {
     "slide_type": "subslide"
    }
   },
   "source": [
    "* Slideshows are not standard part of the jupyter project.\n",
    "* There is a GitHub repository for extending it with the '`reveal.js`' plugin called **RISE**.\n",
    "* We forked the repo to add custom keybindings.\n",
    "* This is the reason why you have the Live Slideshow button inside your notebooks today.\n",
    "* All of this has been made inside our custom docker image."
   ]
  },
  {
   "cell_type": "markdown",
   "metadata": {
    "slideshow": {
     "slide_type": "subslide"
    }
   },
   "source": [
    "To make a presentation you just have to:\n",
    "\n",
    "1. Change Cell Toolbar from None to Slideshow\n",
    "2. Change slide type for each cell to emulate slides like powerpoint\n",
    "3. Launch Live Slideshow (with the button or pressing Alt+R)"
   ]
  },
  {
   "cell_type": "markdown",
   "metadata": {
    "slideshow": {
     "slide_type": "slide"
    }
   },
   "source": [
    "## Markdown\n",
    "Notebooks comments and notes are written using the **Markdown syntax**"
   ]
  },
  {
   "cell_type": "markdown",
   "metadata": {
    "slideshow": {
     "slide_type": "subslide"
    }
   },
   "source": [
    "(Double click to reveal the syntax)\n",
    "\n",
    "Emphasis, aka italics, with *asterisks* or _underscores_.\n",
    "\n",
    "Strong emphasis, aka bold, with **asterisks** or __underscores__.\n",
    "\n",
    "Combined emphasis with **asterisks and _underscores_**.\n",
    "\n",
    "Strikethrough uses two tildes. ~~Scratch this.~~\n",
    "\n",
    "Links are very easy to create: [google](http://www.google.com)"
   ]
  },
  {
   "cell_type": "markdown",
   "metadata": {
    "slideshow": {
     "slide_type": "subslide"
    }
   },
   "source": [
    "1. First ordered list item\n",
    "2. Another item\n",
    "    * Unordered sub-list. \n",
    "1. Actual numbers don't matter, just that it's a number\n",
    "    1. Ordered sub-list\n",
    "4. And another item."
   ]
  },
  {
   "cell_type": "markdown",
   "metadata": {
    "slideshow": {
     "slide_type": "subslide"
    }
   },
   "source": [
    "You should learn markdown language!\n",
    "\n",
    "For example here: http://markdowntutorial.com/\n",
    "\n",
    "You can easily find a [cheatsheet](https://github.com/adam-p/markdown-here/wiki/Markdown-Cheatsheet) when you get lost."
   ]
  },
  {
   "cell_type": "markdown",
   "metadata": {
    "slideshow": {
     "slide_type": "subslide"
    }
   },
   "source": [
    "*MD Advantages*\n",
    "\n",
    "* Markdown files can be easily converted to PDF\n",
    "    - e.g. www.markdowntopdf.com\n",
    "* GitHub Readmes and readable files are written in Markdown\n",
    "    - Since notebooks are a mix of JSON cells with Markdowns syntax, also notebooks file are previewed into repositories\n",
    "* You may write your project documentation in Markdown\n",
    "    - e.g. http://www.mkdocs.org/\n",
    "    - it can be compiled and used on free services like https://readthedocs.org/\n",
    "    - Even if the standard the facto is ReST language (similar to Markdown)"
   ]
  },
  {
   "cell_type": "markdown",
   "metadata": {
    "slideshow": {
     "slide_type": "slide"
    }
   },
   "source": [
    "## Exercise\n",
    "\n",
    "Write a web page with notebooks. \n",
    "\n",
    "The layout should be: \n",
    "* header \n",
    "* a big image\n",
    "* a **lorem** text \n",
    "* and a piece of python code\n",
    "\n",
    "<small>Note - this is a *lorem*:\n",
    "\n",
    "Lorem ipsum dolor sit amet, consectetur adipisicing elit, sed do eiusmod\n",
    "tempor incididunt ut labore et dolore magna aliqua. Ut enim ad minim veniam,\n",
    "quis nostrud exercitation ullamco laboris nisi ut aliquip ex ea commodo\n",
    "consequat. Duis aute irure dolor in reprehenderit in voluptate velit esse\n",
    "cillum dolore eu fugiat nulla pariatur. Excepteur sint occaecat cupidatat non\n",
    "proident, sunt in culpa qui officia deserunt mollit anim id est laborum.\n",
    "</small>"
   ]
  },
  {
   "cell_type": "markdown",
   "metadata": {},
   "source": [
    "## Use R inside this notebook\n",
    "\n",
    "http://rpy.sourceforge.net/"
   ]
  },
  {
   "cell_type": "code",
   "execution_count": 53,
   "metadata": {
    "collapsed": false
   },
   "outputs": [],
   "source": [
    "%load_ext rpy2.ipython"
   ]
  },
  {
   "cell_type": "code",
   "execution_count": 54,
   "metadata": {
    "collapsed": false
   },
   "outputs": [
    {
     "data": {
      "text/plain": [
       "[1] 3.141593\n"
      ]
     },
     "metadata": {},
     "output_type": "display_data"
    }
   ],
   "source": [
    "%%R\n",
    "pi"
   ]
  },
  {
   "cell_type": "code",
   "execution_count": 55,
   "metadata": {
    "collapsed": false
   },
   "outputs": [
    {
     "data": {
      "text/plain": [
       " [1]  1  2  3  4  5  6  7  8  9 10\n"
      ]
     },
     "metadata": {},
     "output_type": "display_data"
    }
   ],
   "source": [
    "%%R\n",
    "c = (1:10)\n",
    "c"
   ]
  },
  {
   "cell_type": "code",
   "execution_count": 56,
   "metadata": {
    "collapsed": false,
    "slideshow": {
     "slide_type": "slide"
    }
   },
   "outputs": [
    {
     "name": "stdout",
     "output_type": "stream",
     "text": [
      "%system ls *01_0*ipynb\n",
      "out = _\n",
      "out[2]\n",
      "%lsmagic\n",
      "# Ask documentation\n",
      "env?\n",
      "env SHELL\n",
      "%automagic off\n",
      "env SHELL\n",
      "# Get it back :)\n",
      "%automagic on\n",
      "# To follow the ipython built-in quickstart on ipython magics:\n",
      "%quickref\n",
      "abracadabra = (1,2,3)\n",
      "abracadabra = (1,2,3)\n",
      "abracadabra\n",
      "abracadabra;\n",
      "whos\n",
      "# note to self: execute it now\n",
      "abracadabra = (1,2,3)\n",
      "pinfo abracadabra\n",
      "ls\n",
      "pwd\n",
      "# Ooops\n",
      "current_dir = pwd\n",
      "# this is the real command\n",
      "! pwd\n",
      "# Get the output\n",
      "out = ! pwd\n",
      "out\n",
      "! ls -l | wc\n",
      "%hist\n",
      "%logstart\n",
      "! head -5 ipython_log.py\n",
      "%logoff\n",
      "%logstate\n",
      "%%HTML\n",
      "\n",
      "<table>\n",
      "    <tr>\n",
      "        <td> Cell one </td>\n",
      "        <td> Cell <i>two</i> </td>\n",
      "    </tr>\n",
      "    <tr>\n",
      "        <td> Cell <b>three</b> </td>\n",
      "        <td> <a href='www.cineca.it'>link</a> </td>\n",
      "    </tr>\n",
      "</table>\n",
      "# Line magic does not bother the rest of the cell\n",
      "out = %system echo 'test'\n",
      "print(\"System out:\", out)\n",
      "# Cell magic cannot contain another command inside\n",
      "print(\"test\")\n",
      "%%bash\n",
      "ls\n",
      "import os\n",
      "current_dir = %system pwd\n",
      "mydir = 'tmp'\n",
      "myfile = 'lorem.txt'\n",
      "os.path.join(current_dir[0], mydir, myfile)\n",
      "filename=_\n",
      "filename\n",
      "# Create directory if not exists\n",
      "%mkdir -p $mydir\n",
      "# Write a file with magic:\n",
      "%%writefile $filename\n",
      "Lorem ipsum dolor sit amet, consectetur adipisicing elit, sed do eiusmod\n",
      "tempor incididunt ut labore et dolore magna aliqua. Ut enim ad minim veniam,\n",
      "quis nostrud exercitation ullamco laboris nisi ut aliquip ex ea commodo\n",
      "consequat. Duis aute irure dolor in reprehenderit in voluptate velit esse\n",
      "cillum dolore eu fugiat nulla pariatur. Excepteur sint occaecat cupidatat non\n",
      "proident, sunt in culpa qui officia deserunt mollit anim id est laborum.\n",
      "%cat $filename\n",
      "# Line magic\n",
      "from IPython.core.magic import register_line_magic\n",
      "\n",
      "@register_line_magic\n",
      "def custom_magic_line(line):\n",
      "    print(\"Hello\", line)\n",
      "# test it\n",
      "%custom_magic_line\n",
      "%custom_magic_line test\n",
      "%%custom_magic_line\n",
      "# Cell magic\n",
      "from IPython.core.magic import register_cell_magic\n",
      "\n",
      "@register_cell_magic\n",
      "def custom_cell_magic(line, cell):\n",
      "    print(\"Hello *%s*\\n*%s*\" % (line,cell))\n",
      "%%custom_cell_magic line\n",
      "cell line 1\n",
      "cell line 2\n",
      "%custom_cell_magic line\n",
      "# Both magics\n",
      "from IPython.core.magic import register_line_cell_magic\n",
      "\n",
      "@register_line_cell_magic\n",
      "def custom_magic(line, cell=\"\"):\n",
      "    print(\"Hello *%s*\\n*%s*\" % (line,cell))\n",
      "%custom_magic line\n",
      "%%custom_magic line\n",
      "cell\n",
      "%cd /data\n",
      "# Using ipython magic inside the magic\n",
      "\n",
      "@register_line_magic\n",
      "def search_file_extension(extension):\n",
      "    \"\"\" Find files with given extension inside the current directory and sub-directories \"\"\"\n",
      "    if extension is '':\n",
      "        extension = 'txt'\n",
      "    cmd = \"find ./ -iname *.\" + extension\n",
      "    out = %system $cmd\n",
      "    print(\"Found\", out)\n",
      "%search_file_extension\n",
      "%search_file_extension py\n",
      "%search_file_extension?\n",
      "%%writefile extension.py\n",
      "\n",
      "# -*- coding: utf-8 -*-\n",
      "\"\"\" A custom magic command \"\"\"\n",
      "from IPython.core.magic import register_line_magic\n",
      "import subprocess\n",
      "MAIN_DIR = '/data'\n",
      "\n",
      "@register_line_magic\n",
      "def mysearch(extension):\n",
      "    \"\"\" Find files with given extension inside the current directory and sub-directories \"\"\"\n",
      "    if extension is '':\n",
      "        extension = 'txt'\n",
      "    cmd = \"find \" + MAIN_DIR + \" -iname *.\" + extension\n",
      "    process = subprocess.Popen(cmd.split(\" \"), stdout=subprocess.PIPE)\n",
      "    out, err = process.communicate()\n",
      "    return out\n",
      "\n",
      "def load_ipython_extension(ipython):\n",
      "    ipython.register_magic_function(mysearch, 'line')\n",
      "# Load extension\n",
      "%reload_ext extension\n",
      "# Test it\n",
      "%mysearch txt\n",
      "! ls $HOME/.ipython/extensions/*.py\n",
      "%load_ext rpy2.ipython\n",
      "%%R\n",
      "pi\n",
      "%%R\n",
      "c = (1:10)\n",
      "c\n",
      "# List all the commands written inside this notebook\n",
      "%hist\n"
     ]
    }
   ],
   "source": [
    "# List all the commands written inside this notebook\n",
    "%hist "
   ]
  },
  {
   "cell_type": "markdown",
   "metadata": {
    "slideshow": {
     "slide_type": "slide"
    }
   },
   "source": [
    "# End of chapter"
   ]
  },
  {
   "cell_type": "code",
   "execution_count": 57,
   "metadata": {
    "collapsed": false
   },
   "outputs": [
    {
     "data": {
      "application/json": {
       "Software versions": [
        {
         "module": "Python",
         "version": "3.5.0 64bit [GCC 4.4.7 20120313 (Red Hat 4.4.7-1)]"
        },
        {
         "module": "IPython",
         "version": "4.0.0"
        },
        {
         "module": "OS",
         "version": "Linux 4.1.12 boot2docker x86_64 with debian jessie sid"
        },
        {
         "module": "ipython",
         "version": "4.0.0"
        }
       ]
      },
      "text/html": [
       "<table><tr><th>Software</th><th>Version</th></tr><tr><td>Python</td><td>3.5.0 64bit [GCC 4.4.7 20120313 (Red Hat 4.4.7-1)]</td></tr><tr><td>IPython</td><td>4.0.0</td></tr><tr><td>OS</td><td>Linux 4.1.12 boot2docker x86_64 with debian jessie sid</td></tr><tr><td>ipython</td><td>4.0.0</td></tr><tr><td colspan='2'>Mon Nov 30 21:02:31 2015 UTC</td></tr></table>"
      ],
      "text/latex": [
       "\\begin{tabular}{|l|l|}\\hline\n",
       "{\\bf Software} & {\\bf Version} \\\\ \\hline\\hline\n",
       "Python & 3.5.0 64bit [GCC 4.4.7 20120313 (Red Hat 4.4.7-1)] \\\\ \\hline\n",
       "IPython & 4.0.0 \\\\ \\hline\n",
       "OS & Linux 4.1.12 boot2docker x86\\_64 with debian jessie sid \\\\ \\hline\n",
       "ipython & 4.0.0 \\\\ \\hline\n",
       "\\hline \\multicolumn{2}{|l|}{Mon Nov 30 21:02:31 2015 UTC} \\\\ \\hline\n",
       "\\end{tabular}\n"
      ],
      "text/plain": [
       "Software versions\n",
       "Python 3.5.0 64bit [GCC 4.4.7 20120313 (Red Hat 4.4.7-1)]\n",
       "IPython 4.0.0\n",
       "OS Linux 4.1.12 boot2docker x86_64 with debian jessie sid\n",
       "ipython 4.0.0\n",
       "Mon Nov 30 21:02:31 2015 UTC"
      ]
     },
     "execution_count": 57,
     "metadata": {},
     "output_type": "execute_result"
    }
   ],
   "source": [
    "%reload_ext version_information\n",
    "%version_information ipython"
   ]
  }
 ],
 "metadata": {
  "celltoolbar": "Slideshow",
  "kernelspec": {
   "display_name": "Python 3",
   "language": "python",
   "name": "python3"
  },
  "language_info": {
   "codemirror_mode": {
    "name": "ipython",
    "version": 3
   },
   "file_extension": ".py",
   "mimetype": "text/x-python",
   "name": "python",
   "nbconvert_exporter": "python",
   "pygments_lexer": "ipython3",
   "version": "3.5.0"
  }
 },
 "nbformat": 4,
 "nbformat_minor": 0
}
