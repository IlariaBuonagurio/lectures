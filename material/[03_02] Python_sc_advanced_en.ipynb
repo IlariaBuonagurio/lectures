{
 "cells": [
  {
   "cell_type": "markdown",
   "metadata": {
    "slideshow": {
     "slide_type": "slide"
    }
   },
   "source": [
    "# decorators\n",
    "\n",
    "A decorator is a special function that \"transforms\" generic functions in other functions, adding the code at the beginning and/or at the end.\n",
    "For example, the timing can be made with a decorator."
   ]
  },
  {
   "cell_type": "markdown",
   "metadata": {
    "slideshow": {
     "slide_type": "subslide"
    }
   },
   "source": [
    "## decorator example\n",
    "\n",
    "<pre>\n",
    ">>> def traced(f):\n",
    "...     def traced_f(*p_args, **n_args):\n",
    "...         print(\"BEGIN {0}\".format(f.__name__))\n",
    "...         r = f(*p_args, **n_args)\n",
    "...         print (\"END {0}\".format(f.__name__))\n",
    "...         return r\n",
    "...     return traced_f\n",
    "... \n",
    ">>> import math\n",
    ">>> mysqrt = traced(math.sqrt)\n",
    ">>> mysqrt(25.0)\n",
    "BEGIN sqrt\n",
    "END sqrt\n",
    "5.0\n",
    ">>> \n",
    "</pre>"
   ]
  },
  {
   "cell_type": "markdown",
   "metadata": {
    "slideshow": {
     "slide_type": "subslide"
    }
   },
   "source": [
    "## decorator example\n",
    "\n",
    "<pre>\n",
    ">>> @traced\n",
    "... def fun(a, b, alfa=1000):\n",
    "...   print(a+b+alfa)\n",
    "... \n",
    ">>> fun(1, 2)\n",
    "BEGIN fun\n",
    "1003\n",
    "END fun\n",
    ">>> \n",
    "</pre>"
   ]
  },
  {
   "cell_type": "markdown",
   "metadata": {
    "slideshow": {
     "slide_type": "slide"
    }
   },
   "source": [
    "# pickle\n",
    "\n",
    "Often you want to save entire objects (persistence). The pickle module does this.\n",
    "\n",
    "<pre>\n",
    ">>> from alfa import Alfa\n",
    ">>> a = Alfa(10, 3)\n",
    ">>> b = Alfa(4, 7)\n",
    ">>> a.value()\n",
    "30\n",
    ">>> b.value()\n",
    "28\n",
    ">>> \n",
    "</pre>"
   ]
  },
  {
   "cell_type": "markdown",
   "metadata": {
    "slideshow": {
     "slide_type": "subslide"
    }
   },
   "source": [
    "## pickle\n",
    "\n",
    "<pre>\n",
    ">>> import pickle\n",
    ">>> with open(\"alfa.dump\", \"wb\") as f:\n",
    "...     pickle.dump(a, f)\n",
    "...     pickle.dump(b, f)\n",
    "...\n",
    ">>> sys.exit()\n",
    "$\n",
    "</pre>"
   ]
  },
  {
   "cell_type": "markdown",
   "metadata": {
    "slideshow": {
     "slide_type": "subslide"
    }
   },
   "source": [
    "## pickle\n",
    "\n",
    "<pre>\n",
    "$ python3\n",
    "Python 3.2.3 (default, Oct 19 2012, 20:10:41) \n",
    "[GCC 4.6.3] on linux2\n",
    "Type \"help\", \"copyright\", \"credits\" or \"license\" for more information.\n",
    ">>> from alfa import Alfa\n",
    ">>> import pickle\n",
    ">>> with open(\"alfa.dump\", \"rb\") as f:\n",
    "...     x = pickle.load(f)\n",
    "...     y = pickle.load(f)\n",
    "... \n",
    ">>> x.value()\n",
    "30\n",
    ">>> y.value()\n",
    "28\n",
    ">>>\n",
    "</pre>"
   ]
  },
  {
   "cell_type": "markdown",
   "metadata": {
    "slideshow": {
     "slide_type": "slide"
    }
   },
   "source": [
    "# more on classes\n",
    "\n",
    "By default, the classes are derived from object. Obviously it is allowed multiple inheritance."
   ]
  },
  {
   "cell_type": "markdown",
   "metadata": {
    "slideshow": {
     "slide_type": "subslide"
    }
   },
   "source": [
    "## methods\n",
    "\n",
    "<pre>\n",
    ">>> class MyClass(object):\n",
    "...     def set(self, a, b):\n",
    "...         self.s = a+b\n",
    "...     def get(self):\n",
    "...         return self.s\n",
    "...\n",
    ">>> m = MyClass()\n",
    ">>> m.set(10,12)\n",
    ">>> print(m.get())\n",
    "22\n",
    "</pre>"
   ]
  },
  {
   "cell_type": "markdown",
   "metadata": {
    "slideshow": {
     "slide_type": "subslide"
    }
   },
   "source": [
    "## methods\n",
    "\n",
    "All methods have as first attribute the class instance on which they apply:\n",
    "\n",
    "<pre>\n",
    ">>> m = MyClass()\n",
    ">>> m.set(10,12)\n",
    "</pre>\n",
    "\n",
    "is equivalent to:\n",
    "\n",
    "<pre>\n",
    ">>> MyClass.set(m,10,12)\n",
    "</pre>\n",
    "\n",
    "There is however a difference between the functions m.set and MyClass.set:\n",
    "\n",
    "<pre>\n",
    ">>> m.set\n",
    "&lt;bound method MyClass.set of &lt;__main__.MyClass object at 0x7fee012667d0&gt;\n",
    ">>> MyClass.set\n",
    "&lt;unbound method MyClass.set&gt;\n",
    "</pre>"
   ]
  },
  {
   "cell_type": "markdown",
   "metadata": {
    "slideshow": {
     "slide_type": "subslide"
    }
   },
   "source": [
    "## bound/unbound methods\n",
    "\n",
    "The methods not tied to one instance are \"unbound methods\": the first argument is free and can be associated with any object of that class.\n",
    "When a method is associated with an instance, it becomes a \"bound method\": a new function obtained by ''unbound method\" setting the first parameter; something like that\n",
    "\n",
    "<pre>\n",
    "m.set\n",
    "lambda i,j : MyClass.set(m,i,j)\n",
    "</pre>"
   ]
  },
  {
   "cell_type": "markdown",
   "metadata": {
    "slideshow": {
     "slide_type": "fragment"
    }
   },
   "source": [
    "Therefore, while MyClass.set is a function with three free arguments, m.set has only two free arguments, because the first is fixed (m)."
   ]
  },
  {
   "cell_type": "markdown",
   "metadata": {
    "slideshow": {
     "slide_type": "subslide"
    }
   },
   "source": [
    "## objects\n",
    "\n",
    "Any object (instance of a class) has many attributes; among these:\n",
    "\n",
    "* **`__class__`**<br />\n",
    "  the class of which the object is an instance\n",
    "* **`__dict__`**<br />\n",
    "  the dictionary instance members\n",
    "\n",
    "Since even the same classes are instances of other classes, even classes have these attributes!"
   ]
  },
  {
   "cell_type": "markdown",
   "metadata": {
    "slideshow": {
     "slide_type": "subslide"
    }
   },
   "source": [
    "## objects\n",
    "\n",
    "<pre>\n",
    ">>> print(m.__class__)\n",
    "&lt;class '__main__.MyClass'&gt;\n",
    ">>> print(MyClass.__class__)\n",
    "&lt;type 'type'&gt;\n",
    ">>> print(m.__dict__)\n",
    "{}\n",
    ">>> m.set(100,20)\n",
    ">>> print(m.__dict__)\n",
    "{'s': 120}\n",
    ">>> print(MyClass.__dict__)\n",
    "{'__module__': '__main__', 'set': &lt;function set at 0x7fbdfc669488&gt;, 'get': &lt;function get at 0x7fbdfc669500&gt;, '__dict__': &lt;attribute '__dict__' of 'MyClass' objects&gt;, '__weakref__': &lt;attribute '__weakref__' of 'MyClass' objects&gt;, '__doc__':None}\n",
    "</pre>"
   ]
  },
  {
   "cell_type": "markdown",
   "metadata": {
    "slideshow": {
     "slide_type": "subslide"
    }
   },
   "source": [
    "## how is the attribute search\n",
    "\n",
    "* When you access an attribute of an object (`x.attr`), first trying to see if the attribute is in `x.__ dict__`\n",
    "* If there is not, looking for the attribute in the dictionary of the class: `x.__class__.__dict__`\n",
    "* Actually for classes the issue is more complex, because inheritance imposes any search attribute in superclasses according to the MRO (Method Resolution Order)"
   ]
  },
  {
   "cell_type": "markdown",
   "metadata": {
    "slideshow": {
     "slide_type": "subslide"
    }
   },
   "source": [
    "## instance and class members\n",
    "\n",
    "Any instance members are created and managed through the argument \"self\" by any method.\n",
    "Both classes and instances are \"open\", you can insert attributes or methods at any time:\n",
    "\n",
    "<pre>\n",
    ">>> m.xx = 10\n",
    ">>> MyClass.GAMMA = 101\n",
    "</pre>"
   ]
  },
  {
   "cell_type": "markdown",
   "metadata": {
    "slideshow": {
     "slide_type": "subslide"
    }
   },
   "source": [
    "## instance members\n",
    "\n",
    "Unlike in C++, then, it is not at all certain that all instances of the same class have exactly the same attributes!"
   ]
  },
  {
   "cell_type": "markdown",
   "metadata": {
    "slideshow": {
     "slide_type": "subslide"
    }
   },
   "source": [
    "## istance members\n",
    "\n",
    "<pre>\n",
    ">>> class MyClass(object):\n",
    "...     pass\n",
    "...\n",
    ">>> m = MyClass()\n",
    ">>> n = MyClass()\n",
    ">>> print(m.__dict__, n.__dict__)\n",
    "{} {}\n",
    ">>> m.x = 0\n",
    ">>> print(m.__dict__, n.__dict__)\n",
    "{'x': 0} {}\n",
    "</pre>"
   ]
  },
  {
   "cell_type": "markdown",
   "metadata": {
    "slideshow": {
     "slide_type": "subslide"
    }
   },
   "source": [
    "## constructor\n",
    "\n",
    "The class constructor is the method **`__init__`**:\n",
    "\n",
    "\n",
    "<pre>\n",
    ">>> class ModInt(object):\n",
    "...   def __init__(self,mod,val=0):\n",
    "...     self.mod = mod\n",
    "...     self.val = val\n",
    "...\n",
    "</pre>\n",
    "\n",
    "There is only one constructor: there is no overloading in python."
   ]
  },
  {
   "cell_type": "markdown",
   "metadata": {
    "slideshow": {
     "slide_type": "subslide"
    }
   },
   "source": [
    "## destructor\n",
    "\n",
    "The destructor is not as important as in C++, partly because of the efficient garbage collector. You don't need to define it almost never...\n",
    "\n",
    "<pre>\n",
    ">>> class ModInt(object):\n",
    "... ....\n",
    "...     def __del__(self):\n",
    "...         print(\"banzai!\")\n",
    "...\n",
    "</pre>"
   ]
  },
  {
   "cell_type": "markdown",
   "metadata": {
    "slideshow": {
     "slide_type": "subslide"
    }
   },
   "source": [
    "## other special methods\n",
    "\n",
    "<pre>\n",
    ">>> class ModInt(object):\n",
    "... ....\n",
    "...   def __repr__(self):\n",
    "...     return \"ModInt({0}, {1})\".format(self.mod, self.val)\n",
    "...\n",
    "...   def __str__(self):\n",
    "...     return \"{0} mod {1}\".format(self.val, self.mod)\n",
    "...\n",
    ">>> m = ModInt(10,2)\n",
    ">>> print(m)\n",
    "2 mod 10\n",
    ">>> m\n",
    "ModInt(2, 10)\n",
    ">>>\n",
    "</pre>"
   ]
  },
  {
   "cell_type": "markdown",
   "metadata": {
    "slideshow": {
     "slide_type": "subslide"
    }
   },
   "source": [
    "## special method names\n",
    "\n",
    "<pre>\n",
    "__new__, __init__, __del__\n",
    "__repr__, __str__\n",
    "__le__, __lt__, __ge__, __gt__, __ne__, __eq__\n",
    "__hash__\n",
    "__bool__\n",
    "__call__\n",
    "</pre>"
   ]
  },
  {
   "cell_type": "markdown",
   "metadata": {
    "slideshow": {
     "slide_type": "subslide"
    }
   },
   "source": [
    "## special methods for attribute access\n",
    "\n",
    "<pre>\n",
    "__getattr__, __setattr__, __delattr__\n",
    "__getattribute__\n",
    "</pre>"
   ]
  },
  {
   "cell_type": "markdown",
   "metadata": {
    "slideshow": {
     "slide_type": "subslide"
    }
   },
   "source": [
    "## special methods for containers\n",
    "\n",
    "\n",
    "<pre>\n",
    "__len__\n",
    "__getitem__, __setitem__, __delitem__\n",
    "__iter__\n",
    "__reversed__\n",
    "__contains__\n",
    "</pre>"
   ]
  },
  {
   "cell_type": "markdown",
   "metadata": {
    "slideshow": {
     "slide_type": "subslide"
    }
   },
   "source": [
    "## descriptors\n",
    "\n",
    "\n",
    "<pre>\n",
    "__get__, __set__, __del__\n",
    "</pre>"
   ]
  },
  {
   "cell_type": "markdown",
   "metadata": {
    "slideshow": {
     "slide_type": "subslide"
    }
   },
   "source": [
    "## mathematical operators\n",
    "\n",
    "<pre>\n",
    "__add__,  __sub__, __mul__, __div__, __truediv__, __floordiv__, __mod__, __divmod__, __pow__, __lshift__, __rshift__, __and__, __xor__, __or__\n",
    "__iadd__, __isub__, ...\n",
    "__radd__, __rsub__, ...\n",
    "__neg__, __pos__, __abs__, __invert__\n",
    "__complex__, __float__, __int__, __long__\n",
    "__oct__, __hex__\n",
    "__index__\n",
    "</pre>"
   ]
  },
  {
   "cell_type": "markdown",
   "metadata": {
    "slideshow": {
     "slide_type": "subslide"
    }
   },
   "source": [
    "## descriptors\n",
    "\n",
    "* The methods **`__get__`**, **`__set__`** e **`__del__`** allow you to define access mode.\n",
    "* If a class owner has in its **`__dict__`** a descriptor, or an instance of a class that defines at least one of **`__get__`**, **`__set__`** and **`__del__`**, then the ways to access the attribute owner is through the functions of the descriptor."
   ]
  },
  {
   "cell_type": "markdown",
   "metadata": {
    "slideshow": {
     "slide_type": "subslide"
    }
   },
   "source": [
    "## properties\n",
    "\n",
    "In the simplest terms, is provided a property, that is to say an attribute with binding behavior: an attribute that we can establish access rules (get, set e del).\n",
    "\n",
    "The function property creates a descriptor with the methods **`__get__`**, **`__set__`** and **`__del__`** associated with functions passed as argument."
   ]
  },
  {
   "cell_type": "markdown",
   "metadata": {
    "slideshow": {
     "slide_type": "subslide"
    }
   },
   "source": [
    "## properties\n",
    "\n",
    "<pre>\n",
    ">>> class ModInt(object):\n",
    "...   def __init__(self, mod, val=0):\n",
    "...     self.__mod, self.__val = mod,val\n",
    "...\n",
    "...   def __get_val(self):\n",
    "...     return self.__val\n",
    "...\n",
    "...   def __set_val(self, val):\n",
    "...     self.__val = val % self.__mod\n",
    "...\n",
    "...   val = property(__get_val,__set_val)\n",
    "...\n",
    ">>> m = ModInt(10,2)\n",
    ">>> m.val = 99\n",
    "</pre>"
   ]
  },
  {
   "cell_type": "markdown",
   "metadata": {
    "slideshow": {
     "slide_type": "subslide"
    }
   },
   "source": [
    "## instance, static, and class methods\n",
    "\n",
    "We saw the instance methods. There are also static methods, which do not have the attribute self, and those of class, which are associated to the class and not to the instance."
   ]
  },
  {
   "cell_type": "markdown",
   "metadata": {
    "slideshow": {
     "slide_type": "subslide"
    }
   },
   "source": [
    "## static and class methods\n",
    "\n",
    "<pre>\n",
    ">>> class My(object):\n",
    "...   def fs():\n",
    "...     print(\"fs\")\n",
    "...   fs = staticmethod(fs)\n",
    "...   \n",
    "...   def fc(cls):\n",
    "...     print(\"fc\", cls)\n",
    "...   fc = classmethod(fc)\n",
    "...\n",
    ">>> m = My()\n",
    ">>> m.fs()\n",
    "fs\n",
    ">>> m.fc()\n",
    "fc &lt;class '__main__.My'&gt;\n",
    "</pre>"
   ]
  },
  {
   "cell_type": "markdown",
   "metadata": {
    "slideshow": {
     "slide_type": "subslide"
    }
   },
   "source": [
    "## method decorators\n",
    "\n",
    "The decorators *staticmethod* e *classmethod* are used to define static and class methods.\n",
    "\n",
    "The decorator *property* is used to define a property characterized by the get function alone."
   ]
  },
  {
   "cell_type": "markdown",
   "metadata": {
    "slideshow": {
     "slide_type": "subslide"
    }
   },
   "source": [
    "## static and class methods\n",
    "\n",
    "<pre>\n",
    ">>> class My(object):\n",
    "...   @staticmethod\n",
    "...   def fs():\n",
    "...     print(\"fs\")\n",
    "...   \n",
    "...   @classmethod\n",
    "...   def fc(clss):\n",
    "...     print(\"fc\", clss.__name__)\n",
    "...\n",
    ">>> m = My()\n",
    ">>> m.fs()\n",
    "fs\n",
    ">>> m.fc()\n",
    "fc &lt;class '__main__.My'&gt;\n",
    "</pre>"
   ]
  },
  {
   "cell_type": "markdown",
   "metadata": {
    "slideshow": {
     "slide_type": "subslide"
    }
   },
   "source": [
    "## private variables\n",
    "\n",
    "Python has a weak tool for restricting access to class members. If in the class **`ALFA`** is defined an identifier **`__xyz`**, the identifier is replaced with **`_ALFA_xyz`**. However, the variable, with a different name, remains accessible:\n",
    "\n",
    "<pre>\n",
    ">>> class ALFA(object):\n",
    "...     def __init__(self):\n",
    "...         self.__xyz = 10\n",
    "...\n",
    ">>> a.__xyz\n",
    "Traceback (most recent call last):\n",
    "  File \"&lt;stdin&gt;\", line 1, in &lt;module&gt;\n",
    "AttributeError: 'ALFA' object has no attribute '__xyz'\n",
    ">>> a._ALFA__xyz\n",
    "10\n",
    ">>>\n",
    "</pre>"
   ]
  },
  {
   "cell_type": "markdown",
   "metadata": {
    "slideshow": {
     "slide_type": "subslide"
    }
   },
   "source": [
    "## metaclass\n",
    "\n",
    "<pre>\n",
    ">>> class Readonly(type):\n",
    "...   def __new__(clss, classname, bases, dict):\n",
    "...     def make_getmethod(attr_name):\n",
    "...       def getmethod(self):\n",
    "...         return self.__readonly__[attr_name]\n",
    "...       return getmethod\n",
    "...     for attr_name, attr_default in dict.get('__readonly__',{}).items():\n",
    "...       dict[attr_name] = property(make_getmethod(attr_name))\n",
    "...     return type.__new__(clss, classname, bases, dict)\n",
    "... \n",
    ">>> class My(object, metaclass=Readonly):\n",
    "...   __readonly__ = { 'alfa': 1, 'beta': 100 }\n",
    "...   pass\n",
    "... \n",
    "</pre>"
   ]
  },
  {
   "cell_type": "markdown",
   "metadata": {
    "slideshow": {
     "slide_type": "subslide"
    }
   },
   "source": [
    "## metaclass\n",
    "\n",
    "<pre>\n",
    ">>> m = My()\n",
    ">>> m.x=20\n",
    ">>> print(m.x, m.alfa, m.beta)\n",
    "20, 1, 100 \n",
    ">>> m.alfa=33\n",
    "Traceback (most recent call last):\n",
    "  File \"&lt;stdin&gt;\", ...\n",
    "    m.alfa=100\n",
    "AttributeError: can't set attribute\n",
    "</pre>\n"
   ]
  },
  {
   "cell_type": "markdown",
   "metadata": {
    "slideshow": {
     "slide_type": "subslide"
    }
   },
   "source": [
    "## inheritance\n",
    "\n",
    "The inheritance is done by entering the names of the base classes in parentheses following the name of the class that you are defining:\n",
    "\n",
    "<pre>\n",
    ">>> class Car(Vehicle):\n",
    "...     pass\n",
    "...\n",
    ">>> class D(B1, B2, B3):\n",
    "...     pass\n",
    "...\n",
    "</pre>"
   ]
  },
  {
   "cell_type": "markdown",
   "metadata": {
    "slideshow": {
     "slide_type": "subslide"
    }
   },
   "source": [
    "## polymorphism\n",
    "\n",
    "Polymorphism is the default: all methods are automatically virtual. Even the basic classes are virtual.\n",
    "\n",
    "It is a natural consequence of duck typing, and, strictly speaking, it does not even require the inheritance!"
   ]
  },
  {
   "cell_type": "markdown",
   "metadata": {
    "slideshow": {
     "slide_type": "subslide"
    }
   },
   "source": [
    "## super\n",
    "\n",
    "**`super()`** is a function that provides a proxy object that can delegate the method to a base class, according to MRO (Method Resolution Order):\n",
    "\n",
    "<pre>\n",
    ">>> class D(B0, B1):\n",
    "...     def __init__(self):\n",
    "...         super().__init__()\n",
    "...\n",
    "</pre>"
   ]
  },
  {
   "cell_type": "markdown",
   "metadata": {
    "slideshow": {
     "slide_type": "subslide"
    }
   },
   "source": [
    "## complex hierarchies\n",
    "\n",
    "In python it is very easy to make class hierarchies even of considerable complexity.\n",
    "\n",
    "But remember:\n",
    "* Simple is better than complex.\n",
    "* Complex is better than complicated.\n"
   ]
  }
 ],
 "metadata": {
  "celltoolbar": "Slideshow",
  "kernelspec": {
   "display_name": "Python 3",
   "language": "python",
   "name": "python3"
  },
  "language_info": {
   "codemirror_mode": {
    "name": "ipython",
    "version": 3
   },
   "file_extension": ".py",
   "mimetype": "text/x-python",
   "name": "python",
   "nbconvert_exporter": "python",
   "pygments_lexer": "ipython3",
   "version": "3.5.1"
  }
 },
 "nbformat": 4,
 "nbformat_minor": 0
}
