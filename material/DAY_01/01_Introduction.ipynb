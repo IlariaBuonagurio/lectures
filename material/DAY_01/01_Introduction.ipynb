{
 "cells": [
  {
   "cell_type": "markdown",
   "metadata": {
    "slideshow": {
     "slide_type": "slide"
    }
   },
   "source": [
    "#  A new interactive world\n",
    "*with Python Notebooks*\n",
    "\n",
    "<!-- logos -->\n",
    "<table>\n",
    "<tr><td colspan=3> <img src='http://www.hpc.cineca.it/sites/all/themes/scai/logo.png' width=600> </td>\n",
    "</tr><tr>\n",
    "<td> <img src='http://upload.wikimedia.org/wikipedia/commons/thumb/f/f8/Python_logo_and_wordmark.svg/2000px-Python_logo_and_wordmark.svg.png' width=300> </td>\n",
    "<td> <img src='https://raw.githubusercontent.com/jupyter/nature-demo/master/images/jupyter-logo.png' width=300> </td>\n",
    "</tr>\n",
    "</table>"
   ]
  },
  {
   "cell_type": "markdown",
   "metadata": {
    "slideshow": {
     "slide_type": "slide"
    }
   },
   "source": [
    "# Show off a little bit"
   ]
  },
  {
   "cell_type": "code",
   "execution_count": 1,
   "metadata": {
    "collapsed": false
   },
   "outputs": [
    {
     "name": "stdout",
     "output_type": "stream",
     "text": [
      "--2016-04-08 21:10:45--  http://j.mp/pdonorio_py\n",
      "Resolving j.mp (j.mp)... 69.58.188.46, 69.58.188.45\n",
      "Connecting to j.mp (j.mp)|69.58.188.46|:80... connected.\n",
      "HTTP request sent, awaiting response... 301 Moved Permanently\n",
      "Location: https://raw.githubusercontent.com/pdonorio/pdonorio.github.io/master/scripts/whoami.py [following]\n",
      "--2016-04-08 21:10:45--  https://raw.githubusercontent.com/pdonorio/pdonorio.github.io/master/scripts/whoami.py\n",
      "Resolving raw.githubusercontent.com (raw.githubusercontent.com)... 185.31.18.133\n",
      "Connecting to raw.githubusercontent.com (raw.githubusercontent.com)|185.31.18.133|:443... connected.\n",
      "HTTP request sent, awaiting response... 200 OK\n",
      "Length: 1427 (1.4K) [text/plain]\n",
      "Saving to: ‘whois_pdonorio.py’\n",
      "\n",
      "whois_pdonorio.py   100%[=====================>]   1.39K  --.-KB/s   in 0s     \n",
      "\n",
      "2016-04-08 21:10:46 (279 KB/s) - ‘whois_pdonorio.py’ saved [1427/1427]\n",
      "\n"
     ]
    }
   ],
   "source": [
    "# Install an extension from my repo\n",
    "! wget \"http://j.mp/pdonorio_py\" -O whois_pdonorio.py"
   ]
  },
  {
   "cell_type": "code",
   "execution_count": 2,
   "metadata": {
    "collapsed": true
   },
   "outputs": [],
   "source": [
    "# Load the installed extension\n",
    "%load_ext whois_pdonorio"
   ]
  },
  {
   "cell_type": "code",
   "execution_count": 7,
   "metadata": {
    "collapsed": true
   },
   "outputs": [],
   "source": [
    "%helloworld??"
   ]
  },
  {
   "cell_type": "code",
   "execution_count": 3,
   "metadata": {
    "collapsed": false
   },
   "outputs": [
    {
     "name": "stdout",
     "output_type": "stream",
     "text": [
      "Hello World!\n",
      "\tWho am i?\n",
      "\n",
      "email: p.donoriodemeo@cineca.it\n",
      "github: @pdonorio\n",
      "twitter: @paolo.donorio\n"
     ]
    },
    {
     "data": {
      "text/plain": [
       "42"
      ]
     },
     "execution_count": 3,
     "metadata": {},
     "output_type": "execute_result"
    }
   ],
   "source": [
    "# This is a new command added from the extension 'whois_pdonorio'\n",
    "%helloworld"
   ]
  },
  {
   "cell_type": "code",
   "execution_count": 8,
   "metadata": {
    "collapsed": true
   },
   "outputs": [],
   "source": [
    "%pycat whois_pdonorio.py"
   ]
  },
  {
   "cell_type": "markdown",
   "metadata": {},
   "source": [
    "```python\n",
    "@magics_class\n",
    "class HelloWorldMagics(Magics):\n",
    "    \"\"\" An extension about my (ego) self \"\"\"\n",
    "    DEFAULT = 42\n",
    "\n",
    "    @line_magic\n",
    "    @cell_magic\n",
    "    def helloworld(self, line='', cell=None):\n",
    "        print(\"Hello World!\\n\\tWho am i?\\n\")\n",
    "        for account, value in six.iteritems(mydata):\n",
    "            print(account + ': ' + value)\n",
    "        return self.DEFAULT\n",
    "```"
   ]
  },
  {
   "cell_type": "markdown",
   "metadata": {},
   "source": [
    "# About Cineca"
   ]
  },
  {
   "cell_type": "markdown",
   "metadata": {},
   "source": [
    "<img src='images/cineca.png'></img>"
   ]
  },
  {
   "cell_type": "markdown",
   "metadata": {},
   "source": [
    "CINECA \n",
    "is a non profit Consortium, made up of 70 Italian Universities, 4 research Institutions and MIUR."
   ]
  },
  {
   "cell_type": "markdown",
   "metadata": {},
   "source": [
    "CINECA is now the largest Italian computing centre, one of the most important worldwide. .\n",
    "The High Performance Systems department (SCAI: SuperComputing Applications and Innovation) offers support to scientific and technological research through supercomputing and its applications."
   ]
  },
  {
   "cell_type": "markdown",
   "metadata": {},
   "source": [
    "High-end system, only for extremely scalable applications\n",
    "\n",
    "Name: Fermi\n",
    "Architecture: BlueGene/Q (10 racks)\n",
    "Processor type: IBM PowerA2 @1.6 GHz\n",
    "Computing Nodes:  10.240 \n",
    "Each node: 16 cores and 16 GB of RAM\n",
    "Computing Cores:  163.840 \n",
    "RAM: 1 GByte / core (163 TByte total)\n",
    "Internal Network: 5D Torus\n",
    "Disk Space:  2 PByte of scratch space \n",
    "Peak Performance: 2 PFlop/s\n",
    "Power Consumption: 820 kWatts\n",
    "\n",
    "N. 12 in Top 500 rank (June 2013)\n",
    "\n",
    "National and PRACE Tier-0 calls\n"
   ]
  },
  {
   "cell_type": "markdown",
   "metadata": {},
   "source": [
    "X86 based system for production of medium scalability applications\n",
    "\n",
    "Name: Galileo\n",
    "Model: IBM NeXtScale\n",
    "Architecture: IBM NeXtScale\n",
    "Processor type: Intel Xeon Haswell@ 2.4 GHz\n",
    "Computing Nodes:  516\n",
    "Each node: 16 cores, 128 GB of RAM\n",
    "Computing Cores:  8.256 \n",
    "RAM: 66 TByte\n",
    "Peak Performance: 1.2 PFlops  \n",
    "Internal Network: Infiniband 4xQDR switches (40 Gb/s) \n",
    "Accelerators: 768 Intel Phi 7120p (2 per node on 384 nodes)\n",
    "\t+ 80 Nvidia K80 (2 per node on 40 nodes)\n",
    "\n",
    "National and PRACE Tier-1  calls\n",
    "\n",
    "\t\t"
   ]
  },
  {
   "cell_type": "markdown",
   "metadata": {},
   "source": [
    "Storage and processing of large volumes of data\n",
    "\n",
    "Name: Pico\n",
    "Model:  IBM NeXtScale ",
    "Processor type:  Intel Xeon Ivy Bridge@2,5Ghz\n",
    "Computing Nodes: 66+ ",
    "Each node: 20 cores, 128 GB of RAM\n",
    "Computing Cores:  1.320+\n",
    "RAM:  6,4 GB/core\n",
    "\t\n",
    "\tplus\n",
    "\n",
    "2 Visualization nodes (with 2 GPU NVIDIA K40)\n",
    "2 Big Mem nodes (512 GB RAM)\n",
    "4 BigInsight nodes (32 TB of local disk)\n",
    "2 Very Large Mem nodes (1TB RAM)\n",
    "\t\t"
   ]
  },
  {
   "cell_type": "markdown",
   "metadata": {},
   "source": [
    "Services take advance from PICO peculiarities:\n",
    "Low parallelism (less nodes, more cores/node)\n",
    "Memory intensive (more memory/core and /node)\n",
    "I/O intensive (SSD disk available)\n",
    "DB based (a lot of storage space)\n",
    "Application environments:\n",
    "Bioinformatics\n",
    "Data anaysis\n",
    "Engineerings\n",
    "Quantum Chemistry\n",
    "General services\n",
    "Remote visualisation\n",
    "Web access to HPC\n",
    "…."
   ]
  },
  {
   "cell_type": "markdown",
   "metadata": {},
   "source": [
    "Fermi, at present our tier0 system, reaches the normal end\n",
    "It will be substituted with another system of higher performance to fullfil the commitments at Italian and European level \n",
    "BG/Q architecture is no more in the development plans of IBM\n"
   ]
  },
  {
   "cell_type": "markdown",
   "metadata": {},
   "source": [
    "Lenovo won the race!\n",
    "\n",
    "3 phases:\n",
    "A1: June\n",
    "A2: November\n",
    "A3: Next summer\n"
   ]
  },
  {
   "cell_type": "markdown",
   "metadata": {},
   "source": [
    "\n",
    "Complessivamente: \n",
    "16,5 PFs peak performance, \n",
    "10 PB storage\n",
    "3 MW di potenza assorbita\n",
    "\n",
    "Caratteristiche tecniche:\n",
    "Rete interna: Intel OmniPath\n",
    "Architettura: Lenovo NeXtScale\n",
    "A1: Broadwell 2x18 core, 2.3 GHz; 1500 nodi, 2 PFlops\n",
    "A2: KnightsLanding 68 core, 1.4 GHz; 3600 nodi, 11 PFlops\n",
    "A3: SkyLake 2x20 core, 2.3 GHz; 1500 nodi, 4,5 PFlops"
   ]
  },
  {
   "cell_type": "markdown",
   "metadata": {},
   "source": [
    "Peer reviewed projects: \n",
    "you can submit a project that will be reviewed. \n",
    "\n",
    "If you win you will get the needed resources for free\n",
    "\n",
    "National\t ISCRA\n",
    "Europe\t PRACE "
   ]
  },
  {
   "cell_type": "markdown",
   "metadata": {},
   "source": [
    "How to submit?\n",
    "\n",
    "On race with other researchers\n",
    "Define required resources and expected results\n",
    "Write final report and possibly justify unattained objectives\n"
   ]
  },
  {
   "cell_type": "markdown",
   "metadata": {},
   "source": [
    "# Q&A\n",
    "\n",
    "- Can you tell the difference from a compiler and an interpreter?\n",
    "\n",
    "- Have you ever written Python code before these lessons?\n",
    "\n",
    "- Have you ever heard/used the Ipython/Jupyter Notebook in the past?\n",
    "\n",
    "- Do you use (daily) Linux/bash commands?\n",
    "\n",
    "- Have you exploited the Python Batch mode in different ways?\n",
    "\n",
    "- Have you ever written a MapReduce task (in any language)?\n",
    "\n",
    "- Did you already undestood what Python is?\n",
    "\n",
    "- Do you use introspection?\n",
    "\n",
    "- Can you cite the Zen of Python?"
   ]
  },
  {
   "cell_type": "markdown",
   "metadata": {},
   "source": [
    "\n",
    "# The evolution\n",
    "\n",
    "`Scripting` -> *Python* Interpreter -> *Ipython* Shell -> *Jupyter* Notebooks -> **Awesome!**\n"
   ]
  },
  {
   "cell_type": "markdown",
   "metadata": {},
   "source": [
    "\n",
    "## About '*scripting*'\n",
    "\n",
    "## Compilers\n",
    "\n",
    "* **Computer programs** are \"*binaries*\" (alphabet of only 0 and 1) instructions, which is the only language the machine understand.\n",
    "\n",
    "\n",
    "* A **programming language** (e.g. `C` or `Fortran`) is a way in the middle between human language (e.g. English) and machine language (0s and 1s).\n",
    "\n",
    "\n",
    "* A person learns `C` language which is translated into machine language by ***compilers***. The **code** is translated into **binaries** or **executables**.\n",
    "\n",
    "## Interpreters\n",
    "\n",
    "* **Scripting languages** are programming languages that *don't require an explicit compilation step*. For example: PHP, Javascript, Perl, Python, R.\n",
    "\n",
    "\n",
    "* You have to compile a C program before you can run it. You don't have to compile a JavaScript program before using it.\n",
    "\n",
    "\n",
    "* Scripting languages use **interpreters** (instead of compilers) to translate source-code to machine executable code at run-time.\n"
   ]
  },
  {
   "cell_type": "markdown",
   "metadata": {},
   "source": [
    "## WHAT IS PYTHON?\n",
    "\n",
    "- Python is a \n",
    "`general-purpose interpreted, interactive, dynamically typed, white-space-sensitive, object-oriented and high-level` **programming language**.\n",
    "- It was created by Guido van Rossum during 1985- 1990.\n",
    "- Python is open-source, so Python source code is also available under the GNU General Public License (GPL).\n"
   ]
  },
  {
   "cell_type": "markdown",
   "metadata": {},
   "source": [
    "\n",
    "# The evolution\n",
    "\n",
    "`Scripting` -> *Python* Interpreter -> *Ipython* Shell -> *Jupyter* Notebooks -> **Awesome!**\n"
   ]
  },
  {
   "cell_type": "markdown",
   "metadata": {},
   "source": [
    "--"
   ]
  },
  {
   "cell_type": "markdown",
   "metadata": {},
   "source": [
    "Shortcuts"
   ]
  },
  {
   "cell_type": "markdown",
   "metadata": {},
   "source": [
    "Live Slideshow\n",
    "\n",
    "<small> [RISE](https://github.com/damianavila/RISE) javascript plugin </small>"
   ]
  },
  {
   "cell_type": "markdown",
   "metadata": {},
   "source": [
    "Exposé"
   ]
  },
  {
   "cell_type": "markdown",
   "metadata": {},
   "source": [
    "F to find"
   ]
  },
  {
   "cell_type": "markdown",
   "metadata": {},
   "source": [
    "Command palette"
   ]
  },
  {
   "cell_type": "markdown",
   "metadata": {},
   "source": [
    "Watermark for versions?\n",
    "https://github.com/rasbt/watermark"
   ]
  },
  {
   "cell_type": "code",
   "execution_count": 11,
   "metadata": {
    "collapsed": false
   },
   "outputs": [
    {
     "name": "stderr",
     "output_type": "stream",
     "text": [
      "/opt/conda/lib/python3.5/site-packages/IPython/core/magics/extension.py:47: UserWarning: %install_ext` is deprecated, please distribute your extension as a python package.\n",
      "  \"as a python package.\", UserWarning)\n"
     ]
    },
    {
     "name": "stdout",
     "output_type": "stream",
     "text": [
      "Installed watermark.py. To use it, type:\n",
      "  %load_ext watermark\n"
     ]
    }
   ],
   "source": [
    "%install_ext https://raw.githubusercontent.com/rasbt/watermark/master/watermark.py"
   ]
  },
  {
   "cell_type": "code",
   "execution_count": 12,
   "metadata": {
    "collapsed": true
   },
   "outputs": [],
   "source": [
    "%load_ext watermark"
   ]
  },
  {
   "cell_type": "markdown",
   "metadata": {},
   "source": [
    "# End of Chapter"
   ]
  },
  {
   "cell_type": "code",
   "execution_count": 20,
   "metadata": {
    "collapsed": false
   },
   "outputs": [
    {
     "name": "stdout",
     "output_type": "stream",
     "text": [
      "Paolo D. 2016-04-11 \n",
      "\n",
      "CPython 3.5.1\n",
      "IPython 4.1.2\n",
      "\n",
      "mrjob 0.5.0.dev0\n",
      "\n",
      "compiler   : GCC 4.4.7 20120313 (Red Hat 4.4.7-1)\n",
      "system     : Linux\n",
      "release    : 4.3.3-dhyve\n",
      "machine    : x86_64\n",
      "processor  : \n",
      "CPU cores  : 1\n",
      "interpreter: 64bit\n"
     ]
    }
   ],
   "source": [
    "%watermark -a \"Paolo D.\" -d -v -m -p mrjob"
   ]
  }
 ],
 "metadata": {
  "celltoolbar": "Slideshow",
  "kernelspec": {
   "display_name": "Python 3",
   "language": "python",
   "name": "python3"
  },
  "language_info": {
   "codemirror_mode": {
    "name": "ipython",
    "version": 3
   },
   "file_extension": ".py",
   "mimetype": "text/x-python",
   "name": "python",
   "nbconvert_exporter": "python",
   "pygments_lexer": "ipython3",
   "version": "3.5.1"
  }
 },
 "nbformat": 4,
 "nbformat_minor": 0
}
