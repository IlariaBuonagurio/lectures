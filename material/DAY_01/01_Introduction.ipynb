{
 "cells": [
  {
   "cell_type": "markdown",
   "metadata": {
    "slideshow": {
     "slide_type": "slide"
    }
   },
   "source": [
    "#  A new interactive world\n",
    "*with Python Notebooks*\n",
    "\n",
    "<!-- logos -->\n",
    "<table>\n",
    "<tr><td colspan=3> <img src='http://www.hpc.cineca.it/sites/all/themes/scai/logo.png' width=600> </td>\n",
    "</tr><tr>\n",
    "<td> <img src='http://upload.wikimedia.org/wikipedia/commons/thumb/f/f8/Python_logo_and_wordmark.svg/2000px-Python_logo_and_wordmark.svg.png' width=300> </td>\n",
    "<td> <img src='https://raw.githubusercontent.com/jupyter/nature-demo/master/images/jupyter-logo.png' width=300> </td>\n",
    "</tr>\n",
    "</table>"
   ]
  },
  {
   "cell_type": "markdown",
   "metadata": {
    "slideshow": {
     "slide_type": "slide"
    }
   },
   "source": [
    "# Show off a little bit"
   ]
  },
  {
   "cell_type": "code",
   "execution_count": 1,
   "metadata": {
    "collapsed": false
   },
   "outputs": [
    {
     "name": "stdout",
     "output_type": "stream",
     "text": [
      "--2016-04-08 21:10:45--  http://j.mp/pdonorio_py\n",
      "Resolving j.mp (j.mp)... 69.58.188.46, 69.58.188.45\n",
      "Connecting to j.mp (j.mp)|69.58.188.46|:80... connected.\n",
      "HTTP request sent, awaiting response... 301 Moved Permanently\n",
      "Location: https://raw.githubusercontent.com/pdonorio/pdonorio.github.io/master/scripts/whoami.py [following]\n",
      "--2016-04-08 21:10:45--  https://raw.githubusercontent.com/pdonorio/pdonorio.github.io/master/scripts/whoami.py\n",
      "Resolving raw.githubusercontent.com (raw.githubusercontent.com)... 185.31.18.133\n",
      "Connecting to raw.githubusercontent.com (raw.githubusercontent.com)|185.31.18.133|:443... connected.\n",
      "HTTP request sent, awaiting response... 200 OK\n",
      "Length: 1427 (1.4K) [text/plain]\n",
      "Saving to: ‘whois_pdonorio.py’\n",
      "\n",
      "whois_pdonorio.py   100%[=====================>]   1.39K  --.-KB/s   in 0s     \n",
      "\n",
      "2016-04-08 21:10:46 (279 KB/s) - ‘whois_pdonorio.py’ saved [1427/1427]\n",
      "\n"
     ]
    }
   ],
   "source": [
    "# Install an extension from my repo\n",
    "! wget \"http://j.mp/pdonorio_py\" -O whois_pdonorio.py"
   ]
  },
  {
   "cell_type": "code",
   "execution_count": 2,
   "metadata": {
    "collapsed": true
   },
   "outputs": [],
   "source": [
    "# Load the installed extension\n",
    "%load_ext whois_pdonorio"
   ]
  },
  {
   "cell_type": "code",
   "execution_count": 7,
   "metadata": {
    "collapsed": true
   },
   "outputs": [],
   "source": [
    "%helloworld??"
   ]
  },
  {
   "cell_type": "code",
   "execution_count": 3,
   "metadata": {
    "collapsed": false
   },
   "outputs": [
    {
     "name": "stdout",
     "output_type": "stream",
     "text": [
      "Hello World!\n",
      "\tWho am i?\n",
      "\n",
      "email: p.donoriodemeo@cineca.it\n",
      "github: @pdonorio\n",
      "twitter: @paolo.donorio\n"
     ]
    },
    {
     "data": {
      "text/plain": [
       "42"
      ]
     },
     "execution_count": 3,
     "metadata": {},
     "output_type": "execute_result"
    }
   ],
   "source": [
    "# This is a new command added from the extension 'whois_pdonorio'\n",
    "%helloworld"
   ]
  },
  {
   "cell_type": "code",
   "execution_count": 8,
   "metadata": {
    "collapsed": true
   },
   "outputs": [],
   "source": [
    "%pycat whois_pdonorio.py"
   ]
  },
  {
   "cell_type": "markdown",
   "metadata": {},
   "source": [
    "```python\n",
    "@magics_class\n",
    "class HelloWorldMagics(Magics):\n",
    "    \"\"\" An extension about my (ego) self \"\"\"\n",
    "    DEFAULT = 42\n",
    "\n",
    "    @line_magic\n",
    "    @cell_magic\n",
    "    def helloworld(self, line='', cell=None):\n",
    "        print(\"Hello World!\\n\\tWho am i?\\n\")\n",
    "        for account, value in six.iteritems(mydata):\n",
    "            print(account + ': ' + value)\n",
    "        return self.DEFAULT\n",
    "```"
   ]
  },
  {
   "cell_type": "markdown",
   "metadata": {},
   "source": [
    "# Q&A\n",
    "\n",
    "- Can you tell the difference from a compiler and an interpreter?\n",
    "\n",
    "- Have you ever written Python code before these lessons?\n",
    "\n",
    "- Have you ever heard/used the Ipython/Jupyter Notebook in the past?\n",
    "\n",
    "- Do you use (daily) Linux/bash commands?\n",
    "\n",
    "- Have you exploited the Python Batch mode in different ways?\n",
    "\n",
    "- Have you ever written a MapReduce task (in any language)?\n",
    "\n",
    "- Did you already undestood what Python is?\n",
    "\n",
    "- Do you use introspection?\n",
    "\n",
    "- Can you cite the Zen of Python?"
   ]
  },
  {
   "cell_type": "markdown",
   "metadata": {},
   "source": [
    "\n",
    "# The evolution\n",
    "\n",
    "`Scripting` -> *Python* Interpreter -> *Ipython* Shell -> *Jupyter* Notebooks -> **Awesome!**\n"
   ]
  },
  {
   "cell_type": "markdown",
   "metadata": {},
   "source": [
    "\n",
    "## About '*scripting*'\n",
    "\n",
    "## Compilers\n",
    "\n",
    "* **Computer programs** are \"*binaries*\" (alphabet of only 0 and 1) instructions, which is the only language the machine understand.\n",
    "\n",
    "\n",
    "* A **programming language** (e.g. `C` or `Fortran`) is a way in the middle between human language (e.g. English) and machine language (0s and 1s).\n",
    "\n",
    "\n",
    "* A person learns `C` language which is translated into machine language by ***compilers***. The **code** is translated into **binaries** or **executables**.\n",
    "\n",
    "## Interpreters\n",
    "\n",
    "* **Scripting languages** are programming languages that *don't require an explicit compilation step*. For example: PHP, Javascript, Perl, Python, R.\n",
    "\n",
    "\n",
    "* You have to compile a C program before you can run it. You don't have to compile a JavaScript program before using it.\n",
    "\n",
    "\n",
    "* Scripting languages use **interpreters** (instead of compilers) to translate source-code to machine executable code at run-time.\n"
   ]
  },
  {
   "cell_type": "markdown",
   "metadata": {},
   "source": [
    "\n",
    "# The evolution\n",
    "\n",
    "`Scripting` -> *Python* Interpreter -> *Ipython* Shell -> *Jupyter* Notebooks -> **Awesome!**\n"
   ]
  }
 ],
 "metadata": {
  "celltoolbar": "Slideshow",
  "kernelspec": {
   "display_name": "Python 3",
   "language": "python",
   "name": "python3"
  },
  "language_info": {
   "codemirror_mode": {
    "name": "ipython",
    "version": 3
   },
   "file_extension": ".py",
   "mimetype": "text/x-python",
   "name": "python",
   "nbconvert_exporter": "python",
   "pygments_lexer": "ipython3",
   "version": "3.5.1"
  }
 },
 "nbformat": 4,
 "nbformat_minor": 0
}
