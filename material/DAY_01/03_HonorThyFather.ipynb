{
 "cells": [
  {
   "cell_type": "markdown",
   "metadata": {},
   "source": [
    "from the book (5) \n",
    "\n",
    "## When to Use Object-oriented Programming\n",
    "\n",
    "• The Don't Repeat Yourself principle\n",
    "• Recognizing code that is the same"
   ]
  },
  {
   "cell_type": "markdown",
   "metadata": {},
   "source": [
    "# Composition"
   ]
  },
  {
   "cell_type": "markdown",
   "metadata": {},
   "source": [
    "Composition is the act of collecting together several objects to compose a new one. \n",
    "\n",
    "Composition is usually a good choice when one object is part of another object."
   ]
  },
  {
   "cell_type": "code",
   "execution_count": 21,
   "metadata": {
    "collapsed": true
   },
   "outputs": [],
   "source": [
    "class ChessPiece:\n",
    "    name = \"King\"  # queen, pawn, etc.\n",
    "    color = \"Black\"\n",
    "    \n",
    "    def __init__(self, name, color):\n",
    "        self.name = name\n",
    "        self.color = color"
   ]
  },
  {
   "cell_type": "code",
   "execution_count": 22,
   "metadata": {
    "collapsed": true
   },
   "outputs": [],
   "source": [
    "class ChessBoard:\n",
    "    pieces = []\n",
    "    \n",
    "    def prepare(self, *pieces):\n",
    "        for piece in pieces:\n",
    "            self.pieces.append(piece)\n",
    "        \n",
    "    def eat(self, piece):\n",
    "        self.pieces.pop(self.pieces.index(piece))"
   ]
  },
  {
   "cell_type": "code",
   "execution_count": 23,
   "metadata": {
    "collapsed": false
   },
   "outputs": [
    {
     "name": "stdout",
     "output_type": "stream",
     "text": [
      "[<__main__.ChessPiece object at 0x7fe662728c18>, <__main__.ChessPiece object at 0x7fe662728c50>]\n"
     ]
    }
   ],
   "source": [
    "whiteking = ChessPiece(\"King\", \"White\")\n",
    "whitequeen = ChessPiece(\"Queen\", \"White\")\n",
    "\n",
    "chessgame = ChessBoard()\n",
    "chessgame.prepare(whiteking, whitequeen)\n",
    "print(chessgame.pieces)\n",
    "chessgame.eat(whitequeen)"
   ]
  },
  {
   "cell_type": "markdown",
   "metadata": {},
   "source": [
    "# Inheritance"
   ]
  },
  {
   "cell_type": "markdown",
   "metadata": {},
   "source": [
    " Inheritance is the most famous, well-known, and over-used relationship in object-oriented programming. Inheritance is sort of like a family tree. My grandfather's last name was Phillips and my father inherited that name. I inherited it from him (along with blue eyes and a penchant for writing). In object-oriented programming, instead of inheriting features and behaviors from a person, one class can inherit attributes and methods from another class."
   ]
  },
  {
   "cell_type": "code",
   "execution_count": null,
   "metadata": {
    "collapsed": true
   },
   "outputs": [],
   "source": [
    "class ChessPiece:\n",
    "    name = \"pawn\"\n",
    "    \n",
    "    def __init__(self, color):\n",
    "        self.color = color\n",
    "        \n",
    "    def move(self):\n",
    "        pass"
   ]
  },
  {
   "cell_type": "code",
   "execution_count": null,
   "metadata": {
    "collapsed": true
   },
   "outputs": [],
   "source": [
    "class King(ChessPiece):\n",
    "    name = \"King\"\n",
    "        \n",
    "    def move(self, position):\n",
    "        pass"
   ]
  },
  {
   "cell_type": "markdown",
   "metadata": {},
   "source": [
    "Inheritance provides abstraction\n",
    "\n",
    "**Polymorphism** is the ability to treat a class differently depending on which subclass is implemented. We've already seen it in action with the pieces system we've described. If we to"
   ]
  },
  {
   "cell_type": "markdown",
   "metadata": {},
   "source": [
    "Object-oriented design can also feature such multiple inheritance, which allows a subclass to inherit functionality from multiple parent classes. In practice, multiple inheritance can be tricky business, and some programming languages, (most notably, Java) strictly prohibit it. But multiple inheritance can have its uses. Most often, it\n",
    "can be used to create objects that have two distinct sets of behaviors. For example, an object designed to connect to a scanner and send a fax of the scanned document might be created by inheriting from two separate scanner and faxer objects.\n",
    "As long as two classes have distinct interfaces, it is not normally harmful for a subclass to inherit from both of them."
   ]
  }
 ],
 "metadata": {
  "celltoolbar": "Slideshow",
  "kernelspec": {
   "display_name": "Python 3",
   "language": "python",
   "name": "python3"
  },
  "language_info": {
   "codemirror_mode": {
    "name": "ipython",
    "version": 3
   },
   "file_extension": ".py",
   "mimetype": "text/x-python",
   "name": "python",
   "nbconvert_exporter": "python",
   "pygments_lexer": "ipython3",
   "version": "3.5.1"
  }
 },
 "nbformat": 4,
 "nbformat_minor": 0
}
