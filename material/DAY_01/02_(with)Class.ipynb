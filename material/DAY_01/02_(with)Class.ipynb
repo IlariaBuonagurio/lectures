{
 "cells": [
  {
   "cell_type": "markdown",
   "metadata": {
    "slideshow": {
     "slide_type": "slide"
    }
   },
   "source": [
    "# Object oriented programming in Python"
   ]
  },
  {
   "cell_type": "markdown",
   "metadata": {
    "slideshow": {
     "slide_type": "slide"
    }
   },
   "source": [
    "## Programming paradigms"
   ]
  },
  {
   "cell_type": "markdown",
   "metadata": {
    "slideshow": {
     "slide_type": "subslide"
    }
   },
   "source": [
    "### Procedural programming"
   ]
  },
  {
   "cell_type": "markdown",
   "metadata": {},
   "source": [
    "*statements* that change a program's **state**"
   ]
  },
  {
   "cell_type": "code",
   "execution_count": 32,
   "metadata": {
    "collapsed": true
   },
   "outputs": [],
   "source": [
    "def my_procedure(par1, par2=42):\n",
    "    print(\"%s and %s\" % (par1, par2))\n",
    "    return par1 + par2"
   ]
  },
  {
   "cell_type": "code",
   "execution_count": 33,
   "metadata": {
    "collapsed": false
   },
   "outputs": [
    {
     "name": "stdout",
     "output_type": "stream",
     "text": [
      "2 and 42\n"
     ]
    },
    {
     "data": {
      "text/plain": [
       "44"
      ]
     },
     "execution_count": 33,
     "metadata": {},
     "output_type": "execute_result"
    }
   ],
   "source": [
    "my_procedure(2)"
   ]
  },
  {
   "cell_type": "code",
   "execution_count": 34,
   "metadata": {
    "collapsed": false
   },
   "outputs": [
    {
     "name": "stdout",
     "output_type": "stream",
     "text": [
      "101 and 7\n"
     ]
    },
    {
     "data": {
      "text/plain": [
       "108"
      ]
     },
     "execution_count": 34,
     "metadata": {},
     "output_type": "execute_result"
    }
   ],
   "source": [
    "my_procedure(101, 7)"
   ]
  },
  {
   "cell_type": "markdown",
   "metadata": {
    "slideshow": {
     "slide_type": "subslide"
    }
   },
   "source": [
    "### Functional programming \n",
    "    (a.k.a. lambda functions)"
   ]
  },
  {
   "cell_type": "markdown",
   "metadata": {},
   "source": [
    "You can pass functions to other functions to do stuff"
   ]
  },
  {
   "cell_type": "code",
   "execution_count": 22,
   "metadata": {
    "collapsed": true
   },
   "outputs": [],
   "source": [
    "numbers = range(1,10)\n",
    "doubled_odds = map(lambda n: n * 2, filter(lambda n: n % 2 == 1, numbers))"
   ]
  },
  {
   "cell_type": "code",
   "execution_count": 23,
   "metadata": {
    "collapsed": false
   },
   "outputs": [
    {
     "data": {
      "text/plain": [
       "<map at 0x7f0b385a5e10>"
      ]
     },
     "execution_count": 23,
     "metadata": {},
     "output_type": "execute_result"
    }
   ],
   "source": [
    "doubled_odds"
   ]
  },
  {
   "cell_type": "code",
   "execution_count": 24,
   "metadata": {
    "collapsed": false
   },
   "outputs": [
    {
     "data": {
      "text/plain": [
       "[2, 6, 10, 14, 18]"
      ]
     },
     "execution_count": 24,
     "metadata": {},
     "output_type": "execute_result"
    }
   ],
   "source": [
    "list(doubled_odds)"
   ]
  },
  {
   "cell_type": "markdown",
   "metadata": {
    "slideshow": {
     "slide_type": "subslide"
    }
   },
   "source": [
    "### Even stranger paradigms\n",
    "\n",
    "Shift your mind. (e.g. with *Comprehensions*)"
   ]
  },
  {
   "cell_type": "code",
   "execution_count": 26,
   "metadata": {
    "collapsed": false
   },
   "outputs": [
    {
     "data": {
      "text/plain": [
       "[2, 6, 10, 14, 18]"
      ]
     },
     "execution_count": 26,
     "metadata": {},
     "output_type": "execute_result"
    }
   ],
   "source": [
    "# List comprehensions\n",
    "doubled_odds = [n * 2 for n in numbers if n % 2 == 1]\n",
    "doubled_odds"
   ]
  },
  {
   "cell_type": "code",
   "execution_count": null,
   "metadata": {
    "collapsed": true
   },
   "outputs": [],
   "source": [
    "new_things = []\n",
    "for ITEM in old_things:\n",
    "    if condition_based_on(ITEM):\n",
    "        new_things.append(\"something with \" + ITEM)\n"
   ]
  },
  {
   "cell_type": "code",
   "execution_count": null,
   "metadata": {
    "collapsed": true
   },
   "outputs": [],
   "source": [
    "new_things = [\"something with \" + ITEM for ITEM in old_things if condition_based_on(ITEM)]"
   ]
  },
  {
   "cell_type": "markdown",
   "metadata": {
    "collapsed": false
   },
   "source": [
    "more about this here:\n",
    "http://treyhunner.com/2015/12/python-list-comprehensions-now-in-color/"
   ]
  },
  {
   "cell_type": "markdown",
   "metadata": {
    "slideshow": {
     "slide_type": "subslide"
    }
   },
   "source": [
    "### OOP"
   ]
  },
  {
   "cell_type": "markdown",
   "metadata": {},
   "source": [
    "break down a programming task into objects (that expose behavior and data using interfaces)\n",
    "\n",
    "instead of of variables, data structures, and subroutines, "
   ]
  },
  {
   "cell_type": "code",
   "execution_count": null,
   "metadata": {
    "collapsed": true
   },
   "outputs": [],
   "source": []
  },
  {
   "cell_type": "markdown",
   "metadata": {
    "slideshow": {
     "slide_type": "slide"
    }
   },
   "source": [
    "## Objects"
   ]
  },
  {
   "cell_type": "markdown",
   "metadata": {},
   "source": [
    "> Everything is an object"
   ]
  },
  {
   "cell_type": "markdown",
   "metadata": {},
   "source": [
    "In OOP, computer programs are designed by making them out of objects that interact with one another"
   ]
  },
  {
   "cell_type": "markdown",
   "metadata": {
    "slideshow": {
     "slide_type": "slide"
    }
   },
   "source": [
    "## Packages"
   ]
  },
  {
   "cell_type": "markdown",
   "metadata": {},
   "source": [
    "Differences with package?"
   ]
  },
  {
   "cell_type": "markdown",
   "metadata": {
    "slideshow": {
     "slide_type": "slide"
    }
   },
   "source": [
    "## Object oriented programming"
   ]
  },
  {
   "cell_type": "markdown",
   "metadata": {},
   "source": [
    "Everyone knows what an object is: a tangible \"something\" that we can sense, feel, and manipulate. The earliest objects we interact with are typically baby toys. Wooden blocks, plastic shapes, and over-sized puzzle pieces are common  rst objects. Babies learn quickly that certain objects do certain things. Triangles  t in triangle-shaped holes. Bells ring, buttons press, and levers pull.\n",
    "\n",
    "The de nition of an object in software development is not so very different. Objects are not typically tangible somethings that you can pick up, sense, or feel, but they are models of somethings that can do certain things and have certain things done to them. Formally, an object is a collection of data and associated behaviors.\n",
    "\n",
    "So knowing what an object is, what does it mean to be object-oriented? Oriented simply means directed toward. So object-oriented simply means, \"functionally directed toward modeling objects\". It is one of many techniques used for modeling complex systems by describing a collection of interacting objects via their data\n",
    "and behavior."
   ]
  },
  {
   "cell_type": "markdown",
   "metadata": {},
   "source": [
    "source: **Python 3 Object Oriented Programming**\n",
    "\n",
    "`Packt Publishing`"
   ]
  },
  {
   "cell_type": "markdown",
   "metadata": {
    "slideshow": {
     "slide_type": "slide"
    }
   },
   "source": [
    "## Shaping objects: Classes and instances"
   ]
  },
  {
   "cell_type": "code",
   "execution_count": 12,
   "metadata": {
    "collapsed": true
   },
   "outputs": [],
   "source": [
    "# OOP basics: the simplest class in Python 3\n",
    "class MyFirstClass:\n",
    "    pass"
   ]
  },
  {
   "cell_type": "code",
   "execution_count": 10,
   "metadata": {
    "collapsed": false
   },
   "outputs": [],
   "source": [
    "a = MyFirstClass()\n",
    "b = MyFirstClass()"
   ]
  },
  {
   "cell_type": "markdown",
   "metadata": {},
   "source": [
    "This code instantiates two objects from the new class, named a and b. "
   ]
  },
  {
   "cell_type": "code",
   "execution_count": 11,
   "metadata": {
    "collapsed": false
   },
   "outputs": [
    {
     "name": "stdout",
     "output_type": "stream",
     "text": [
      "<__main__.MyFirstClass object at 0x7f0b385a54a8>\n",
      "<__main__.MyFirstClass object at 0x7f0b385a5390>\n"
     ]
    }
   ],
   "source": [
    "print(a)\n",
    "print(b)"
   ]
  },
  {
   "cell_type": "markdown",
   "metadata": {
    "slideshow": {
     "slide_type": "subslide"
    }
   },
   "source": [
    "attributes and methods\n",
    "\n",
    "*Cit. wikipedia*:\n",
    "\n",
    "> \"objects\" may contain **data**, in the form of fields, often known as *attributes*; and **code**, in the form of procedures, often known as *methods*."
   ]
  },
  {
   "cell_type": "code",
   "execution_count": 40,
   "metadata": {
    "collapsed": true
   },
   "outputs": [],
   "source": [
    "class Point:\n",
    "    pass"
   ]
  },
  {
   "cell_type": "code",
   "execution_count": 41,
   "metadata": {
    "collapsed": false
   },
   "outputs": [
    {
     "name": "stdout",
     "output_type": "stream",
     "text": [
      "5 4\n",
      "3 6\n"
     ]
    }
   ],
   "source": [
    "p1 = Point()\n",
    "p2 = Point()\n",
    "\n",
    "p1.x = 5\n",
    "p1.y = 4\n",
    "\n",
    "p2.x = 3\n",
    "p2.y = 6\n",
    "\n",
    "print(p1.x, p1.y)\n",
    "print(p2.x, p2.y)\n"
   ]
  },
  {
   "cell_type": "code",
   "execution_count": 42,
   "metadata": {
    "collapsed": true
   },
   "outputs": [],
   "source": [
    "class Point:\n",
    "    x = 1\n",
    "    y = 2"
   ]
  },
  {
   "cell_type": "code",
   "execution_count": 43,
   "metadata": {
    "collapsed": false
   },
   "outputs": [
    {
     "name": "stdout",
     "output_type": "stream",
     "text": [
      "5 2\n",
      "1 2\n"
     ]
    }
   ],
   "source": [
    "p1 = Point()\n",
    "p2 = Point()\n",
    "\n",
    "p1.x = 5\n",
    "\n",
    "print(p1.x, p1.y)\n",
    "print(p2.x, p2.y)\n"
   ]
  },
  {
   "cell_type": "markdown",
   "metadata": {},
   "source": [
    "## Making it do something"
   ]
  },
  {
   "cell_type": "code",
   "execution_count": 48,
   "metadata": {
    "collapsed": true
   },
   "outputs": [],
   "source": [
    "from random import randint\n",
    "\n",
    "class PingPong:\n",
    "    _possibilities = [\"ping\", \"pong\"]\n",
    "    \n",
    "    def hit(self):\n",
    "        print(self._possibilities[randint(0,1)])"
   ]
  },
  {
   "cell_type": "code",
   "execution_count": 52,
   "metadata": {
    "collapsed": false
   },
   "outputs": [
    {
     "name": "stdout",
     "output_type": "stream",
     "text": [
      "ping\n",
      "ping\n",
      "pong\n"
     ]
    }
   ],
   "source": [
    "pp_player = PingPong()\n",
    "pp_player.hit()\n",
    "pp_player.hit()\n",
    "pp_player.hit()"
   ]
  },
  {
   "cell_type": "markdown",
   "metadata": {},
   "source": [
    "properties and validation e.g. http://stackoverflow.com/a/2825580/2114395"
   ]
  },
  {
   "cell_type": "code",
   "execution_count": 3,
   "metadata": {
    "collapsed": false
   },
   "outputs": [],
   "source": [
    "from datetime import datetime\n",
    "\n",
    "class SomeObject(object):    # new-style classes must be subclassed from object\n",
    "    _timestamp = None\n",
    "\n",
    "    @property\n",
    "    def timestamp(self):\n",
    "        return self._timestamp\n",
    "\n",
    "    @timestamp.setter    # the prefix must match the read-only getter func name\n",
    "    def timestamp(self,value):    # the func name must match the read-only getter func name\n",
    "        if not isinstance(value, datetime):\n",
    "            raise ValueError(\"Timestamp can only be an instance of Datetime\")\n",
    "        self._timestamp = value"
   ]
  },
  {
   "cell_type": "markdown",
   "metadata": {},
   "source": [
    "## Constructor and Deconstructor"
   ]
  },
  {
   "cell_type": "markdown",
   "metadata": {},
   "source": [
    "## Special methods"
   ]
  },
  {
   "cell_type": "code",
   "execution_count": 58,
   "metadata": {
    "collapsed": true
   },
   "outputs": [],
   "source": [
    "class Person:\n",
    "    \n",
    "    def __init__(self, name=\"Unknown\", surname=\"\"):\n",
    "        self.name = name\n",
    "        self.surname = surname\n"
   ]
  },
  {
   "cell_type": "code",
   "execution_count": 59,
   "metadata": {
    "collapsed": false
   },
   "outputs": [
    {
     "name": "stdout",
     "output_type": "stream",
     "text": [
      "<__main__.Person object at 0x7f0b38547748>\n",
      "<__main__.Person object at 0x7f0b38547518>\n"
     ]
    }
   ],
   "source": [
    "print(Person())\n",
    "print(Person(\"Paolo\", \"D\"))"
   ]
  },
  {
   "cell_type": "code",
   "execution_count": 56,
   "metadata": {
    "collapsed": true
   },
   "outputs": [],
   "source": [
    "class Person:\n",
    "    \n",
    "    def __init__(self, name=\"Unknown\", surname=\"\"):\n",
    "        self.name = name\n",
    "        self.surname = surname\n",
    "    \n",
    "    def __str__(self):\n",
    "        return \"I am %s %s\" % (self.name, self.surname)"
   ]
  },
  {
   "cell_type": "code",
   "execution_count": 57,
   "metadata": {
    "collapsed": false
   },
   "outputs": [
    {
     "name": "stdout",
     "output_type": "stream",
     "text": [
      "I am Unknown \n",
      "I am Paolo D\n"
     ]
    }
   ],
   "source": [
    "print(Person())\n",
    "print(Person(\"Paolo\", \"D\"))"
   ]
  },
  {
   "cell_type": "code",
   "execution_count": 55,
   "metadata": {
    "collapsed": false
   },
   "outputs": [
    {
     "name": "stdout",
     "output_type": "stream",
     "text": [
      "I am Paolo D\n"
     ]
    }
   ],
   "source": [
    "print(Person(\"Paolo\", \"D\"))"
   ]
  },
  {
   "cell_type": "markdown",
   "metadata": {},
   "source": [
    "## Methods Chaining"
   ]
  },
  {
   "cell_type": "markdown",
   "metadata": {},
   "source": [
    "DNA is a good example"
   ]
  },
  {
   "cell_type": "markdown",
   "metadata": {
    "slideshow": {
     "slide_type": "slide"
    }
   },
   "source": [
    "---"
   ]
  },
  {
   "cell_type": "markdown",
   "metadata": {},
   "source": [
    "write a class that makes sense"
   ]
  },
  {
   "cell_type": "markdown",
   "metadata": {},
   "source": [
    "A class about `DNA`"
   ]
  },
  {
   "cell_type": "markdown",
   "metadata": {},
   "source": [
    "From the book:\n",
    "\n",
    "BEWARE: Do not Treat objects as something else"
   ]
  },
  {
   "cell_type": "markdown",
   "metadata": {},
   "source": [
    "## Definining your data structure with a class"
   ]
  },
  {
   "cell_type": "code",
   "execution_count": null,
   "metadata": {
    "collapsed": true
   },
   "outputs": [],
   "source": [
    "class WarningFilter:\n",
    "       def __init__(self, insequence):\n",
    "           self.insequence = insequence\n",
    "       def __iter__(self):\n",
    "           return self\n",
    "       def __next__(self):\n",
    "           l = self.insequence.readline()\n",
    "           while l and 'WARNING' not in l:\n",
    "               l = self.insequence.readline()\n",
    "           if not l:\n",
    "               raise StopIteration\n",
    "           return l.replace('\\tWARNING', '')"
   ]
  },
  {
   "cell_type": "markdown",
   "metadata": {},
   "source": [
    "## DNA"
   ]
  },
  {
   "cell_type": "code",
   "execution_count": null,
   "metadata": {
    "collapsed": true
   },
   "outputs": [],
   "source": [
    "class DNA:\n",
    "    \"\"\"Class representing DNA as a string sequence.\"\"\"\n",
    "    \n",
    "    seq = \"\"\n",
    "    basecomplement = {'A': 'T', 'C': 'G', 'T': 'A', 'G': 'C'}\n",
    "              \n",
    "    def __init__(self, s):\n",
    "        \"\"\"Create DNA instance initialized to string s.\"\"\"\n",
    "        self.seq = s\n",
    "        \n",
    "    def transcribe(self):\n",
    "        \"\"\"Return as rna string.\"\"\"\n",
    "        return self.seq.replace('T', 'U')\n",
    "        \n",
    "    def reverse(self):\n",
    "        \"\"\"Return dna string in reverse order.\"\"\"\n",
    "        letters = list(self.seq)\n",
    "        letters.reverse()\n",
    "        return ''.join(letters)\n",
    "        \n",
    "    def complement(self):\n",
    "        \"\"\"Return the complementary dna string.\"\"\"\n",
    "        letters = list(self.seq)\n",
    "        letters = [self.basecomplement[base] for base in letters]\n",
    "        return ''.join(letters)\n",
    "        \n",
    "    def reversecomplement(self):\n",
    "        \"\"\"Return the reverse of complement of the dna string.\"\"\"\n",
    "        letters = list(self.seq)\n",
    "        letters.reverse()\n",
    "        letters = [self.basecomplement[base] for base in letters]\n",
    "        return ''.join(letters)\n",
    "        \n",
    "    def gc(self):\n",
    "        \"\"\"Return the % of dna composed of G+C.\"\"\"\n",
    "        s = self.seq\n",
    "        gc = s.count('G') + s.count('C')\n",
    "        return gc * 100.0 / len(s)\n",
    "        \n",
    "    def codons(self):\n",
    "        \"\"\"Return list of codons for the dna string,\"\"\"\n",
    "        s = self.seq\n",
    "        end = len(s) - (len(s) % 3) - 1\n",
    "        codons = [s[i:i+3] for i in range(0, end, 3)]\n",
    "        return codons\n",
    "        \n",
    "    def translate(self):\n",
    "        \"\"\"Return amino acid sequence translating dna seq.\"\"\"\n",
    "        s = self.seq\n",
    "        codons = self.codons()\n",
    "        aa = [self.codon2aa[aa] for aa in codons]\n",
    "        return ''.join(aa)"
   ]
  }
 ],
 "metadata": {
  "celltoolbar": "Slideshow",
  "kernelspec": {
   "display_name": "Python 3",
   "language": "python",
   "name": "python3"
  },
  "language_info": {
   "codemirror_mode": {
    "name": "ipython",
    "version": 3
   },
   "file_extension": ".py",
   "mimetype": "text/x-python",
   "name": "python",
   "nbconvert_exporter": "python",
   "pygments_lexer": "ipython3",
   "version": "3.5.1"
  }
 },
 "nbformat": 4,
 "nbformat_minor": 0
}
