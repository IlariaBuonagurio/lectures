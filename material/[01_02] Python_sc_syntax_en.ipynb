{
 "cells": [
  {
   "cell_type": "markdown",
   "metadata": {
    "slideshow": {
     "slide_type": "subslide"
    }
   },
   "source": [
    "## functions\n",
    "\n",
    "* A function is declared with `def`, followed by the function name and the parameter list; the body of the function is indented.\n",
    "\n",
    "* You do not have to declare the type of arguments and of the return value."
   ]
  },
  {
   "cell_type": "code",
   "execution_count": null,
   "metadata": {
    "collapsed": true,
    "slideshow": {
     "slide_type": "fragment"
    }
   },
   "outputs": [],
   "source": [
    "def summa(a, b):\n",
    "    return a + b  # function body"
   ]
  },
  {
   "cell_type": "markdown",
   "metadata": {
    "slideshow": {
     "slide_type": "subslide"
    }
   },
   "source": [
    "## functions"
   ]
  },
  {
   "cell_type": "code",
   "execution_count": null,
   "metadata": {
    "collapsed": false,
    "slideshow": {
     "slide_type": "-"
    }
   },
   "outputs": [],
   "source": [
    "summa(3.2, 4)  # works with int and float, \n",
    "               # try also summa(3.2, 9.1)"
   ]
  },
  {
   "cell_type": "code",
   "execution_count": null,
   "metadata": {
    "collapsed": false,
    "slideshow": {
     "slide_type": "fragment"
    }
   },
   "outputs": [],
   "source": [
    "summa(\"Hello, \", \"world!\")  # works with strings "
   ]
  },
  {
   "cell_type": "code",
   "execution_count": null,
   "metadata": {
    "collapsed": false,
    "slideshow": {
     "slide_type": "fragment"
    }
   },
   "outputs": [],
   "source": [
    "summa([1, 2], [3, 4, 5])  # lists"
   ]
  },
  {
   "cell_type": "markdown",
   "metadata": {
    "slideshow": {
     "slide_type": "subslide"
    }
   },
   "source": [
    "## functions\n",
    "\n",
    "If the function receives parameters of incorrect type, you will have a run-time error:"
   ]
  },
  {
   "cell_type": "code",
   "execution_count": null,
   "metadata": {
    "collapsed": false,
    "slideshow": {
     "slide_type": "fragment"
    }
   },
   "outputs": [],
   "source": [
    "summa(6, 'ccc')"
   ]
  },
  {
   "cell_type": "markdown",
   "metadata": {
    "slideshow": {
     "slide_type": "subslide"
    }
   },
   "source": [
    "## functions\n",
    "\n",
    "Functions can be recursive:"
   ]
  },
  {
   "cell_type": "code",
   "execution_count": null,
   "metadata": {
    "collapsed": false,
    "slideshow": {
     "slide_type": "subslide"
    }
   },
   "outputs": [],
   "source": [
    "def factorial(n):\n",
    "    if n < 2:\n",
    "        return 1\n",
    "    else:\n",
    "        return n * factorial(n - 1)"
   ]
  },
  {
   "cell_type": "code",
   "execution_count": null,
   "metadata": {
    "collapsed": false,
    "slideshow": {
     "slide_type": "fragment"
    }
   },
   "outputs": [],
   "source": [
    "for i in (0, 1, 5, 10, 200):\n",
    "    print(factorial(i))"
   ]
  },
  {
   "cell_type": "markdown",
   "metadata": {
    "slideshow": {
     "slide_type": "subslide"
    }
   },
   "source": [
    "## functions\n",
    "\n",
    "Any function has a return value. By default, this value is `None`. If you want to give a specific return value, for example 4, just add the statement `return` 4.\n",
    "\n",
    "A `return` statement without expression to the right is equivalent to return None.\n",
    "\n",
    "If a function ends without having encountered any `return`, implicitly it executes a `return None`."
   ]
  },
  {
   "cell_type": "markdown",
   "metadata": {
    "slideshow": {
     "slide_type": "subslide"
    }
   },
   "source": [
    "## test (divisors.py)\n",
    "* Write a function that determines all the divisors of an arbitrary integer\n"
   ]
  },
  {
   "cell_type": "markdown",
   "metadata": {
    "slideshow": {
     "slide_type": "fragment"
    }
   },
   "source": [
    "## test (divisors.py -> primes.py)\n",
    "* Write a function that checks whether a number is prime (no matters if not efficient!)\n"
   ]
  },
  {
   "cell_type": "markdown",
   "metadata": {
    "slideshow": {
     "slide_type": "subslide"
    }
   },
   "source": [
    "## arguments passing\n",
    "The arguments of a function can be passed by __position__ or by __name__:"
   ]
  },
  {
   "cell_type": "code",
   "execution_count": null,
   "metadata": {
    "collapsed": false,
    "slideshow": {
     "slide_type": "subslide"
    }
   },
   "outputs": [],
   "source": [
    "def count(lst, val):\n",
    "    c = 0\n",
    "    for el in lst:\n",
    "        if el == val: \n",
    "            c += 1\n",
    "    return c"
   ]
  },
  {
   "cell_type": "code",
   "execution_count": null,
   "metadata": {
    "collapsed": false,
    "slideshow": {
     "slide_type": "fragment"
    }
   },
   "outputs": [],
   "source": [
    "count([1,2,1,3,2,4], 2)  # passing args by position"
   ]
  },
  {
   "cell_type": "code",
   "execution_count": null,
   "metadata": {
    "collapsed": false,
    "slideshow": {
     "slide_type": "fragment"
    }
   },
   "outputs": [],
   "source": [
    "count(val=2, lst=[1,2,1,3,2,4])  # passing args by name"
   ]
  },
  {
   "cell_type": "markdown",
   "metadata": {
    "slideshow": {
     "slide_type": "subslide"
    }
   },
   "source": [
    "## arguments passing\n",
    "After passing at least an argument by name, you can not to pass the nexts by position:"
   ]
  },
  {
   "cell_type": "code",
   "execution_count": null,
   "metadata": {
    "collapsed": false,
    "slideshow": {
     "slide_type": "fragment"
    }
   },
   "outputs": [],
   "source": [
    "count(val=2, [1,2,1,3,2,4,1])"
   ]
  },
  {
   "cell_type": "markdown",
   "metadata": {
    "slideshow": {
     "slide_type": "subslide"
    }
   },
   "source": [
    "## default arguments\n",
    "The arguments of a function can have default values; in this case, in the function call they can be omitted:"
   ]
  },
  {
   "cell_type": "code",
   "execution_count": null,
   "metadata": {
    "collapsed": true,
    "slideshow": {
     "slide_type": "skip"
    }
   },
   "outputs": [],
   "source": [
    "# argument \"val\" now has a default value\n",
    "def count(lst, val=1):\n",
    "    c = 0\n",
    "    for el in lst:\n",
    "        if el == val: \n",
    "            c += 1\n",
    "    return c"
   ]
  },
  {
   "cell_type": "code",
   "execution_count": null,
   "metadata": {
    "collapsed": false,
    "slideshow": {
     "slide_type": "fragment"
    }
   },
   "outputs": [],
   "source": [
    " count([1,2,1,3,2,4,1])   # -> count([1,2,1,3,2,4,1], 1)"
   ]
  },
  {
   "cell_type": "markdown",
   "metadata": {
    "slideshow": {
     "slide_type": "subslide"
    }
   },
   "source": [
    "## default arguments\n",
    "If an argument accepts a default value, also all next arguments must have a default value:\n",
    "\n",
    "<pre>\n",
    ">>> def f(a, b=0, c):\n",
    "...     print(a+b)\n",
    "...\n",
    "  File \"&lt;stdin&gt;\", line 1\n",
    "SyntaxError: non-default argument follows default argument\n",
    "</pre>"
   ]
  },
  {
   "cell_type": "markdown",
   "metadata": {
    "slideshow": {
     "slide_type": "subslide"
    }
   },
   "source": [
    "## arbitrary argument list\n",
    "A function can have arbitrary positional arguments; these arguments are placed in a tuple:"
   ]
  },
  {
   "cell_type": "code",
   "execution_count": null,
   "metadata": {
    "collapsed": true,
    "slideshow": {
     "slide_type": "fragment"
    }
   },
   "outputs": [],
   "source": [
    "def f(a, *args):\n",
    "    print(a)\n",
    "    print(args)"
   ]
  },
  {
   "cell_type": "code",
   "execution_count": null,
   "metadata": {
    "collapsed": false,
    "slideshow": {
     "slide_type": "fragment"
    }
   },
   "outputs": [],
   "source": [
    "f(\"a\")"
   ]
  },
  {
   "cell_type": "code",
   "execution_count": null,
   "metadata": {
    "collapsed": false,
    "slideshow": {
     "slide_type": "fragment"
    }
   },
   "outputs": [],
   "source": [
    "f(\"a\", 2, 5, 'y')\n"
   ]
  },
  {
   "cell_type": "markdown",
   "metadata": {
    "slideshow": {
     "slide_type": "subslide"
    }
   },
   "source": [
    "## arbitrary argument list\n"
   ]
  },
  {
   "cell_type": "code",
   "execution_count": null,
   "metadata": {
    "collapsed": true,
    "slideshow": {
     "slide_type": "fragment"
    }
   },
   "outputs": [],
   "source": [
    "def summa(a, *args):\n",
    "    for i in args: \n",
    "        a += i\n",
    "    return a"
   ]
  },
  {
   "cell_type": "code",
   "execution_count": null,
   "metadata": {
    "collapsed": false,
    "slideshow": {
     "slide_type": "fragment"
    }
   },
   "outputs": [],
   "source": [
    "summa(10)"
   ]
  },
  {
   "cell_type": "code",
   "execution_count": null,
   "metadata": {
    "collapsed": false,
    "slideshow": {
     "slide_type": "fragment"
    }
   },
   "outputs": [],
   "source": [
    "print(summa(10, 1, 100))\n",
    "print(summa(\"a\", \"bc\", \"d\"))\n",
    "print(summa([1], [], [2, 3], [4, 5, 6]))"
   ]
  },
  {
   "cell_type": "markdown",
   "metadata": {
    "slideshow": {
     "slide_type": "subslide"
    }
   },
   "source": [
    "## arbitrary keyword arguments\n",
    "Arbitrary arguments can be passed even by name; in such case, they are maintained in a dictionary:"
   ]
  },
  {
   "cell_type": "code",
   "execution_count": null,
   "metadata": {
    "collapsed": true,
    "slideshow": {
     "slide_type": "fragment"
    }
   },
   "outputs": [],
   "source": [
    "def g(a, **kwargs):\n",
    "    print(a)\n",
    "    print(kwargs)"
   ]
  },
  {
   "cell_type": "code",
   "execution_count": null,
   "metadata": {
    "collapsed": false,
    "slideshow": {
     "slide_type": "fragment"
    }
   },
   "outputs": [],
   "source": [
    "g(5, y=9, z=5, x=1)  # kwargs are put on a dictionary"
   ]
  },
  {
   "cell_type": "markdown",
   "metadata": {
    "slideshow": {
     "slide_type": "subslide"
    }
   },
   "source": [
    "## keyword-only arguments\n",
    "\n",
    "A function can have keyword-only arguments that can not be passed positionally, but must always be passed by name.\n",
    "\n",
    "They are positioned between `*args` and `**kwargs`; They can have a default. \n",
    "\n",
    "If the function does not need to args, you can leave an `*` (???)."
   ]
  },
  {
   "cell_type": "markdown",
   "metadata": {
    "slideshow": {
     "slide_type": "subslide"
    }
   },
   "source": [
    "## keyword-only arguments"
   ]
  },
  {
   "cell_type": "code",
   "execution_count": null,
   "metadata": {
    "collapsed": true,
    "slideshow": {
     "slide_type": "fragment"
    }
   },
   "outputs": [],
   "source": [
    "def foo(a, *, kwonly):\n",
    "    pass"
   ]
  },
  {
   "cell_type": "code",
   "execution_count": null,
   "metadata": {
    "collapsed": false,
    "slideshow": {
     "slide_type": "fragment"
    }
   },
   "outputs": [],
   "source": [
    "foo(10,5)  # try also foo(10, 5)"
   ]
  },
  {
   "cell_type": "code",
   "execution_count": null,
   "metadata": {
    "collapsed": true,
    "slideshow": {
     "slide_type": "fragment"
    }
   },
   "outputs": [],
   "source": [
    "foo(10, kwonly=5)\n",
    "foo(kwonly=5, a=10)"
   ]
  },
  {
   "cell_type": "markdown",
   "metadata": {
    "slideshow": {
     "slide_type": "subslide"
    }
   },
   "source": [
    "## python2\n",
    "Keyword­only arguments are not supported in python2."
   ]
  },
  {
   "cell_type": "markdown",
   "metadata": {
    "slideshow": {
     "slide_type": "subslide"
    }
   },
   "source": [
    "## general form of a function\n",
    "To summarize, the general form of a function is:"
   ]
  },
  {
   "cell_type": "code",
   "execution_count": null,
   "metadata": {
    "collapsed": true,
    "slideshow": {
     "slide_type": "fragment"
    }
   },
   "outputs": [],
   "source": [
    "def foo(a, b=0, *args, kwonly0, kwonly1=10, **kwargs):\n",
    "    print(a, b, args, kwonly0, kwonly1, kwargs)"
   ]
  },
  {
   "cell_type": "code",
   "execution_count": null,
   "metadata": {
    "collapsed": false,
    "slideshow": {
     "slide_type": "fragment"
    }
   },
   "outputs": [],
   "source": [
    "foo(2, kwonly0=999)"
   ]
  },
  {
   "cell_type": "code",
   "execution_count": null,
   "metadata": {
    "collapsed": false,
    "slideshow": {
     "slide_type": "fragment"
    }
   },
   "outputs": [],
   "source": [
    "foo(2, 3, 4, 5, 6, 7, x=10.0, y=20.0, z=30.0, kwonly0=999)"
   ]
  },
  {
   "cell_type": "markdown",
   "metadata": {
    "slideshow": {
     "slide_type": "subslide"
    }
   },
   "source": [
    "## unpacking argument list\n",
    "Sometimes it may happen to have, in a list or a tuple, the values of the arguments that we want to pass positionally to a function:"
   ]
  },
  {
   "cell_type": "code",
   "execution_count": null,
   "metadata": {
    "collapsed": true,
    "slideshow": {
     "slide_type": "fragment"
    }
   },
   "outputs": [],
   "source": [
    "def f(a, b, c):\n",
    "    return a*b-c"
   ]
  },
  {
   "cell_type": "code",
   "execution_count": null,
   "metadata": {
    "collapsed": false,
    "slideshow": {
     "slide_type": "fragment"
    }
   },
   "outputs": [],
   "source": [
    "args = [3, 5, -2]\n",
    "print(f(*args))    ### => f(3, 5, -2)"
   ]
  },
  {
   "cell_type": "markdown",
   "metadata": {
    "slideshow": {
     "slide_type": "subslide"
    }
   },
   "source": [
    "## unpacking keyword arguments\n",
    "Sometimes it may happen to have, in a dictionary, the arguments to be passed to a function by name:"
   ]
  },
  {
   "cell_type": "code",
   "execution_count": null,
   "metadata": {
    "collapsed": true,
    "slideshow": {
     "slide_type": "fragment"
    }
   },
   "outputs": [],
   "source": [
    "def f(x, y, z):\n",
    "    return x**2 + y**2 - z"
   ]
  },
  {
   "cell_type": "code",
   "execution_count": null,
   "metadata": {
    "collapsed": false,
    "slideshow": {
     "slide_type": "fragment"
    }
   },
   "outputs": [],
   "source": [
    "kwargs = {'x': 3, 'z': 5, 'y': 4}\n",
    "print(f(**kwargs))      ### => f(x=3, y=4, z=5)"
   ]
  },
  {
   "cell_type": "markdown",
   "metadata": {
    "slideshow": {
     "slide_type": "subslide"
    }
   },
   "source": [
    "## doc string\n",
    "You can attach a `doc string` to a function. A `doc string` is an arbitrary string of documentation for the function. The string becomes part of the function; if the name of the function is __foo__, `foo.__doc__` is its `doc string`.\n",
    "\n",
    "The `doc string` is a python string placed directly after the `def` line.\n",
    "\n",
    "By default, the `doc string` value is `None`."
   ]
  },
  {
   "cell_type": "markdown",
   "metadata": {
    "slideshow": {
     "slide_type": "subslide"
    }
   },
   "source": [
    "## doc string"
   ]
  },
  {
   "cell_type": "code",
   "execution_count": null,
   "metadata": {
    "collapsed": false,
    "slideshow": {
     "slide_type": "fragment"
    }
   },
   "outputs": [],
   "source": [
    "def summa(a, b, *args):\n",
    "    \"\"\"Returns the sum of two or more numbers:\n",
    "    >>> print(summa(2, 4, 10, 20, 30))\n",
    "    66\n",
    "    >>>\"\"\"\n",
    "    result = a + b\n",
    "    for i in args:\n",
    "        result += i\n",
    "    return result"
   ]
  },
  {
   "cell_type": "code",
   "execution_count": null,
   "metadata": {
    "collapsed": false,
    "slideshow": {
     "slide_type": "fragment"
    }
   },
   "outputs": [],
   "source": [
    "print(summa.__doc__)"
   ]
  },
  {
   "cell_type": "markdown",
   "metadata": {
    "slideshow": {
     "slide_type": "subslide"
    }
   },
   "source": [
    "## doc string\n",
    "Built-in functions have a doc string, that can help us understand how to use them through the interpreter in interactive:"
   ]
  },
  {
   "cell_type": "code",
   "execution_count": null,
   "metadata": {
    "collapsed": false,
    "slideshow": {
     "slide_type": "fragment"
    }
   },
   "outputs": [],
   "source": [
    "print(range.__doc__) "
   ]
  },
  {
   "cell_type": "markdown",
   "metadata": {
    "slideshow": {
     "slide_type": "slide"
    }
   },
   "source": [
    "## everything is an object\n",
    "In Python everything is an object, even a function. Therefore, we can associate symbolic names even to the functions:\n",
    "\n",
    "<pre>\n",
    ">>> def summa(a, b):\n",
    "... return a + b\n",
    "...\n",
    ">>> somma = summa\n",
    ">>> print(somma(10, 12))\n",
    "22\n",
    ">>> \n",
    "</pre>\n"
   ]
  },
  {
   "cell_type": "markdown",
   "metadata": {
    "slideshow": {
     "slide_type": "subslide"
    }
   },
   "source": [
    "## functions as arguments of functions\n",
    "Since you can assign a symbolic name to a function, you can even pass a function as an argument to another function:"
   ]
  },
  {
   "cell_type": "code",
   "execution_count": null,
   "metadata": {
    "collapsed": true,
    "slideshow": {
     "slide_type": "fragment"
    }
   },
   "outputs": [],
   "source": [
    "def summa(a, b): return a+b\n",
    "def sub(a, b): return a-b\n",
    "def g(x, f): return f(x, x+1)"
   ]
  },
  {
   "cell_type": "code",
   "execution_count": null,
   "metadata": {
    "collapsed": false,
    "slideshow": {
     "slide_type": "fragment"
    }
   },
   "outputs": [],
   "source": [
    "g(1, summa)"
   ]
  },
  {
   "cell_type": "code",
   "execution_count": null,
   "metadata": {
    "collapsed": false,
    "slideshow": {
     "slide_type": "fragment"
    }
   },
   "outputs": [],
   "source": [
    "g(1, sub)"
   ]
  },
  {
   "cell_type": "markdown",
   "metadata": {
    "slideshow": {
     "slide_type": "subslide"
    }
   },
   "source": [
    "## sort\n",
    "A good example of a function that takes a function as an argument is the sorting of lists.\n",
    "\n",
    "The method `sort` of list, that we have seen, can receive an optional parameter keyword-only type function. If this parameter is supplied, it must be a function of one argument that, given a list item, returns the key to sort by."
   ]
  },
  {
   "cell_type": "code",
   "execution_count": null,
   "metadata": {
    "collapsed": true,
    "slideshow": {
     "slide_type": "fragment"
    }
   },
   "outputs": [],
   "source": [
    "lst = [20, 10, 30]\n",
    "def f(x): \n",
    "    return x"
   ]
  },
  {
   "cell_type": "code",
   "execution_count": null,
   "metadata": {
    "collapsed": false,
    "slideshow": {
     "slide_type": "fragment"
    }
   },
   "outputs": [],
   "source": [
    "lst.sort(key=f)  # WARNING: key is a keyword-only argument, \n",
    "                 # it can not be passed by position\n",
    "lst"
   ]
  },
  {
   "cell_type": "code",
   "execution_count": null,
   "metadata": {
    "collapsed": false,
    "slideshow": {
     "slide_type": "fragment"
    }
   },
   "outputs": [],
   "source": [
    "def g(x):\n",
    "    return x % 3\n",
    "\n",
    "lst.sort(key=g)\n",
    "lst"
   ]
  },
  {
   "cell_type": "markdown",
   "metadata": {
    "slideshow": {
     "slide_type": "subslide"
    }
   },
   "source": [
    "## sort\n",
    "\n",
    "Let's see in detail the latest example to understand how it works:\n",
    "\n",
    "<pre>\n",
    ">>> lst = [10, 20, 30]\n",
    ">>> def g(x):\n",
    "... return x % 3           \n",
    "...                        \n",
    ">>> lst.sort(key=g)   # lst:  [10, 20, 30]\n",
    ">>> lst               # keys: [10%3, 20%3, 30%3] == [1, 2, 0] \n",
    "[30, 10, 20]          # tmp: [(10, 1), (20, 2), (30, 0)]\n",
    ">>>                   # stmp:  [(30, 0), (10, 1), (20, 2)] \n",
    "                      # sorted_lst: [30, 20, 10]\n",
    "</pre>"
   ]
  },
  {
   "cell_type": "markdown",
   "metadata": {
    "slideshow": {
     "slide_type": "subslide"
    }
   },
   "source": [
    "## sort"
   ]
  },
  {
   "cell_type": "code",
   "execution_count": null,
   "metadata": {
    "collapsed": false,
    "slideshow": {
     "slide_type": "fragment"
    }
   },
   "outputs": [],
   "source": [
    "l = [(1, 2, 2), (-1, 9, 1), (10, 0, 4), (2, -3, 6)]\n",
    "\n",
    "def getkey1(x): \n",
    "    return x[1]\n",
    "\n",
    "l.sort(key=getkey1)\n",
    "print(l)"
   ]
  },
  {
   "cell_type": "code",
   "execution_count": null,
   "metadata": {
    "collapsed": false,
    "slideshow": {
     "slide_type": "fragment"
    }
   },
   "outputs": [],
   "source": [
    "def getkey2(x):\n",
    "    return x[0]-x[1]\n",
    "\n",
    "l.sort(key=getkey2)\n",
    "print(l)"
   ]
  },
  {
   "cell_type": "markdown",
   "metadata": {
    "slideshow": {
     "slide_type": "subslide"
    }
   },
   "source": [
    "## python2\n",
    "* As seen above it works also in python2.\n",
    "* But in this case we must be careful, because list.sort in python2 accepts positionally a function of a different type, which takes two arguments. So be careful to always use `key=...` also in python2!\n"
   ]
  },
  {
   "cell_type": "markdown",
   "metadata": {
    "slideshow": {
     "slide_type": "subslide"
    }
   },
   "source": [
    "## lambda functions\n",
    "\n",
    "Within the functional programming paradigm, for which python provides a dicent support, it is often necessary to define small functions to be passed as an argument to other functions.\n",
    "\n",
    "Lambda functions are \"anonymous\" funxtions made in a single line, simple and compact.\n",
    "\n",
    "They have some limitations: they can return a result of a single expression, whatever complexity. They can not execute a statement (like a=10).\n"
   ]
  },
  {
   "cell_type": "markdown",
   "metadata": {
    "slideshow": {
     "slide_type": "subslide"
    }
   },
   "source": [
    "## lambda functions\n",
    "\n",
    "<pre>\n",
    ">>> lst = [10, 20, 30]\n",
    ">>> lst.sort(key=lambda x: x % 3)  # \"arguments\" : \"return value\"\n",
    ">>> lst\n",
    "[30, 10, 20]\n",
    "</pre>"
   ]
  },
  {
   "cell_type": "markdown",
   "metadata": {
    "slideshow": {
     "slide_type": "subslide"
    }
   },
   "source": [
    "## lambda functions"
   ]
  },
  {
   "cell_type": "code",
   "execution_count": null,
   "metadata": {
    "collapsed": false,
    "slideshow": {
     "slide_type": "fragment"
    }
   },
   "outputs": [],
   "source": [
    "l = [(1, 2), (-1, 9), (10, 0), (2, -3)]  \n",
    "l.sort(key=lambda x: x[1])   # argument=x, return value = x[1]\n",
    "print(l)"
   ]
  },
  {
   "cell_type": "code",
   "execution_count": null,
   "metadata": {
    "collapsed": false,
    "slideshow": {
     "slide_type": "fragment"
    }
   },
   "outputs": [],
   "source": [
    "l.sort(key=lambda x: x[0]-x[1])   # argument=x, return value = x[0]-x[1]\n",
    "print(l)"
   ]
  },
  {
   "cell_type": "markdown",
   "metadata": {
    "slideshow": {
     "slide_type": "subslide"
    }
   },
   "source": [
    "## lambda functions\n",
    "Lambda may receive arguments in the same way as \"normal\" functions:\n",
    "\n",
    "<pre>\n",
    "lambda a, b=0, *args, kwonly0, kwonly1=None, **kwargs: ...\n",
    "</pre>"
   ]
  },
  {
   "cell_type": "markdown",
   "metadata": {
    "slideshow": {
     "slide_type": "subslide"
    }
   },
   "source": [
    "## lambda functions\n",
    "Lambda functions do not necessarily have a name, but since everything is an object, and since a name can be assigned to any object, you can do his with the lambda:\n",
    "\n",
    "<pre>\n",
    ">>> summa = lambda x, y: x + y\n",
    ">>> summa(3, 4)\n",
    "7\n",
    "</pre>\n"
   ]
  },
  {
   "cell_type": "markdown",
   "metadata": {
    "slideshow": {
     "slide_type": "slide"
    }
   },
   "source": [
    "## sequences\n",
    "A sequence is any iterable object.\n",
    "\n",
    "The containers that we saw are iterable, therefore they are sequences. But the reverse is not true: a sequence is not necessarily a container.\n",
    "\n",
    "For example `range(0, 1000000000)` do not contain1000000000 elemens, but it generates them one after the other, from left (0) to right (1000000000 excluded)."
   ]
  },
  {
   "cell_type": "markdown",
   "metadata": {
    "slideshow": {
     "slide_type": "subslide"
    }
   },
   "source": [
    "## functional programming\n",
    "\n",
    "The functional programming paradigm is based primarily on the application of functions on sequences."
   ]
  },
  {
   "cell_type": "markdown",
   "metadata": {
    "slideshow": {
     "slide_type": "subslide"
    }
   },
   "source": [
    "## functional programming\n",
    "The functional programming paradigm is based mainly on two built-in functions:\n",
    "\n",
    "* `filter`: applies a filter to a sequence\n",
    "* `map`: apply a function to all elements of a sequence\n",
    "\n",
    "Warning: they return iterables, not lists or tuples."
   ]
  },
  {
   "cell_type": "markdown",
   "metadata": {
    "slideshow": {
     "slide_type": "subslide"
    }
   },
   "source": [
    "## filter\n",
    "The function `filter(cond, seq)` returns a sequence of all the elements of `seq` that satisfy the condition `cond`.\n"
   ]
  },
  {
   "cell_type": "markdown",
   "metadata": {
    "slideshow": {
     "slide_type": "subslide"
    }
   },
   "source": [
    "## filter"
   ]
  },
  {
   "cell_type": "code",
   "execution_count": null,
   "metadata": {
    "collapsed": false,
    "slideshow": {
     "slide_type": "fragment"
    }
   },
   "outputs": [],
   "source": [
    "l = list(range(30))\n",
    "print(l)"
   ]
  },
  {
   "cell_type": "code",
   "execution_count": null,
   "metadata": {
    "collapsed": false,
    "slideshow": {
     "slide_type": "fragment"
    }
   },
   "outputs": [],
   "source": [
    "list(filter(lambda x: x%5 == 0, l))"
   ]
  },
  {
   "cell_type": "code",
   "execution_count": null,
   "metadata": {
    "collapsed": false,
    "slideshow": {
     "slide_type": "fragment"
    }
   },
   "outputs": [],
   "source": [
    "list(filter(lambda x: x < 3, l))"
   ]
  },
  {
   "cell_type": "markdown",
   "metadata": {
    "slideshow": {
     "slide_type": "subslide"
    }
   },
   "source": [
    "## map\n",
    "The function `map(function, sequence)` returns a sequence of length equal to `sequence`, whose \n",
    "elements are obtained by applying the `function` to every element of `sequence`."
   ]
  },
  {
   "cell_type": "markdown",
   "metadata": {
    "slideshow": {
     "slide_type": "subslide"
    }
   },
   "source": [
    "## map"
   ]
  },
  {
   "cell_type": "code",
   "execution_count": null,
   "metadata": {
    "collapsed": false,
    "slideshow": {
     "slide_type": "fragment"
    }
   },
   "outputs": [],
   "source": [
    "l = list(range(10))\n",
    "list(map(lambda x: x**2, l))"
   ]
  },
  {
   "cell_type": "code",
   "execution_count": null,
   "metadata": {
    "collapsed": false,
    "slideshow": {
     "slide_type": "fragment"
    }
   },
   "outputs": [],
   "source": [
    "list(map(lambda x: x+100, l))"
   ]
  },
  {
   "cell_type": "markdown",
   "metadata": {
    "slideshow": {
     "slide_type": "subslide"
    }
   },
   "source": [
    "## functools.reduce\n",
    "\n",
    "There is a third type of function `functools.reduce(function, sequence)` (contained in the `functools` module) that performs the reduction operation: `sequence` is associated to a scalar, obtained by repeatedly applying the `function` to the elements of `sequence`.\n"
   ]
  },
  {
   "cell_type": "markdown",
   "metadata": {
    "slideshow": {
     "slide_type": "subslide"
    }
   },
   "source": [
    "## python2\n",
    "\n",
    "In python2 filter and map functions always returnlists, not sequences. \n",
    "\n",
    "Moreover, `reduce` is a built-in function (therefore you do not need to import any module). It was moved into `functools` module because it is rarely used.\n"
   ]
  },
  {
   "cell_type": "markdown",
   "metadata": {
    "slideshow": {
     "slide_type": "subslide"
    }
   },
   "source": [
    "## sum, min, max\n",
    "They are reduction functions to obtain the sum, the minimum and the maximum of a sequence of elements:"
   ]
  },
  {
   "cell_type": "code",
   "execution_count": null,
   "metadata": {
    "collapsed": false,
    "slideshow": {
     "slide_type": "fragment"
    }
   },
   "outputs": [],
   "source": [
    "l = range(10)\n",
    "sum(l)"
   ]
  },
  {
   "cell_type": "code",
   "execution_count": null,
   "metadata": {
    "collapsed": false,
    "slideshow": {
     "slide_type": "fragment"
    }
   },
   "outputs": [],
   "source": [
    "min(l)"
   ]
  },
  {
   "cell_type": "code",
   "execution_count": null,
   "metadata": {
    "collapsed": false,
    "slideshow": {
     "slide_type": "fragment"
    }
   },
   "outputs": [],
   "source": [
    "max(l)"
   ]
  },
  {
   "cell_type": "markdown",
   "metadata": {
    "slideshow": {
     "slide_type": "subslide"
    }
   },
   "source": [
    "## test (books.py)\n",
    "* Starting from the dictionary “book: author”, build a list of all the books whose title does not contain the character \"a\".\n",
    "\n",
    "* Starting from the dictionary “book: author”, build a list of all the books, sorted by author name"
   ]
  },
  {
   "cell_type": "markdown",
   "metadata": {
    "slideshow": {
     "slide_type": "slide"
    }
   },
   "source": [
    "## list comprehension\n",
    "Is called `list comprehension` the ability to perform complex operations in a single expression on the lists."
   ]
  },
  {
   "cell_type": "code",
   "execution_count": null,
   "metadata": {
    "collapsed": false,
    "slideshow": {
     "slide_type": "fragment"
    }
   },
   "outputs": [],
   "source": [
    "l = range(10)\n",
    "[i+1 for i in l]"
   ]
  },
  {
   "cell_type": "code",
   "execution_count": null,
   "metadata": {
    "collapsed": false,
    "slideshow": {
     "slide_type": "fragment"
    }
   },
   "outputs": [],
   "source": [
    "[i**2 for i in l if i%3==0]"
   ]
  },
  {
   "cell_type": "markdown",
   "metadata": {
    "slideshow": {
     "slide_type": "subslide"
    }
   },
   "source": [
    "## list comprehension\n",
    "\n",
    "Creating a \"matrix\" 7x10:"
   ]
  },
  {
   "cell_type": "code",
   "execution_count": null,
   "metadata": {
    "collapsed": false,
    "slideshow": {
     "slide_type": "fragment"
    }
   },
   "outputs": [],
   "source": [
    "[[0 for i in range(10)] for i in range(7)]"
   ]
  },
  {
   "cell_type": "markdown",
   "metadata": {
    "slideshow": {
     "slide_type": "subslide"
    }
   },
   "source": [
    "## list comprehension\n",
    "Cartesian product or combinations:"
   ]
  },
  {
   "cell_type": "code",
   "execution_count": null,
   "metadata": {
    "collapsed": false,
    "slideshow": {
     "slide_type": "fragment"
    }
   },
   "outputs": [],
   "source": [
    "l1 = [1, 2, 4]\n",
    "l2 = ['a', 'b']\n",
    "l3 = [9, 8, 7]\n",
    "[(e1,e2,e3) for e1 in l1 for e2 in l2 for e3 in l3]"
   ]
  },
  {
   "cell_type": "markdown",
   "metadata": {
    "slideshow": {
     "slide_type": "subslide"
    }
   },
   "source": [
    "## test (books.py)\n",
    "Starting from the dictionary “book: author”, build a list of all the books whose title does not contain the character \"a\" using the list comprehension.\n"
   ]
  },
  {
   "cell_type": "markdown",
   "metadata": {
    "slideshow": {
     "slide_type": "slide"
    }
   },
   "source": [
    "## str and repr\n",
    "\n",
    "There are two functions to convert an object to a string: `str` e `repr`.\n",
    "\n",
    "The call to `str(x)` is equivalent to `x.__str__()` if the object `x` has a metod `__str__`, otherwise `x.__repr__()` is called. All objects have automatically a metod `__repr__`.\n"
   ]
  },
  {
   "cell_type": "markdown",
   "metadata": {
    "slideshow": {
     "slide_type": "subslide"
    }
   },
   "source": [
    "## str and repr\n",
    "\n",
    "When an object is printed, for example,\n",
    "\n",
    "<pre>\n",
    ">>> print(x)\n",
    "</pre>\n",
    "\n",
    "the object will be converted to a string; this occurs through `str`, therefore is equivalent to this:\n",
    "\n",
    "<pre>\n",
    ">>> print(str(x))\n",
    "</pre>\n",
    "\n",
    "i.e. will be printed the result of `x.__str__` if `x` has a metod `__str__`, `x.__repr__` otherwise."
   ]
  },
  {
   "cell_type": "markdown",
   "metadata": {
    "slideshow": {
     "slide_type": "subslide"
    }
   },
   "source": [
    "## str and repr\n",
    "\n",
    "We can force the use of str or repr; with strings it is possible to see the difference:\n",
    "\n",
    "<pre>\n",
    ">>> a = \"Hello, world!\"\n",
    ">>> print(a)\n",
    "Hello, world!\n",
    ">>> print(str(a))\n",
    "Hello, world!\n",
    ">>> print(repr(a))\n",
    "'Hello, world!'\n",
    ">>>\n",
    "</pre>\n"
   ]
  },
  {
   "cell_type": "markdown",
   "metadata": {
    "slideshow": {
     "slide_type": "subslide"
    }
   },
   "source": [
    "## str and repr\n",
    "\n",
    "Printing a standard container (lists, tuples, dictionaries or sets), the elements are always printed by repr:\n",
    "\n",
    "<pre>\n",
    ">>> print(a)\n",
    "Hello, world!  # str(a)\n",
    ">>> print([a])\n",
    "['Hello, world!']  # repr(a)\n",
    ">>>\n",
    "</pre>\n"
   ]
  },
  {
   "cell_type": "markdown",
   "metadata": {
    "slideshow": {
     "slide_type": "subslide"
    }
   },
   "source": [
    "## str and repr\n",
    "\n",
    "In practice, `repr` should return a representation of the object closest to the one \"internal\". For built-in types, the output of `repr` is equivalent to a literal constant that defines an equivalent object:\n",
    "\n",
    "<pre>\n",
    ">>> a = 'hello'\n",
    ">>> print(str(a))\n",
    "hello\n",
    ">>> print(repr(a))\n",
    "'hello'\n",
    ">>>\n",
    "</pre>"
   ]
  },
  {
   "cell_type": "markdown",
   "metadata": {
    "slideshow": {
     "slide_type": "subslide"
    }
   },
   "source": [
    "## str and repr\n",
    "Now we know what happens when we write an expression in the interactive mode: the result is printed with `repr` and not with `str`:\n",
    "\n",
    "<pre>\n",
    ">>> a = 'hello'\n",
    ">>> a\n",
    "'hello'\n",
    ">>>\n",
    "</pre>\n"
   ]
  },
  {
   "cell_type": "markdown",
   "metadata": {
    "slideshow": {
     "slide_type": "subslide"
    }
   },
   "source": [
    "## str and repr\n",
    "\n",
    "In practice repr is used in contexts where it is good to avoid ambiguity with respect to the representation; for example withstrings:\n",
    "\n",
    "<pre>\n",
    ">>> 11 + 40\n",
    "51\n",
    ">>> '5' + '1'\n",
    "'51'\n",
    "</pre>\n",
    "\n",
    "If it were used `str` in place of `repr`, in both cases the output would be the same!\n"
   ]
  },
  {
   "cell_type": "markdown",
   "metadata": {
    "slideshow": {
     "slide_type": "subslide"
    }
   },
   "source": [
    "## string formatting\n",
    "\n",
    "Python supports two modes of string formatting, one old and one new.\n",
    "\n",
    "Although the new is better and highly recommended, it is necessary to know both, because the old is still widely used.\n",
    "\n",
    "Even python2 (> 2.6) implements the new mode.\n"
   ]
  },
  {
   "cell_type": "markdown",
   "metadata": {
    "slideshow": {
     "slide_type": "subslide"
    }
   },
   "source": [
    "## string formatting\n",
    "String formatting is used to replace portions of a string with the value of the generic type, getting a new string.\n",
    "\n",
    "Normally it is used to format program output by printingtext and numerical information; for example:\n",
    "\n",
    "<pre>\n",
    "$ my_wonderful_program 5 10\n",
    "The result of expression 5 + 10 is 15.\n",
    "$\n",
    "</pre>"
   ]
  },
  {
   "cell_type": "markdown",
   "metadata": {
    "slideshow": {
     "slide_type": "subslide"
    }
   },
   "source": [
    "## “old-style” string formatting\n",
    "The oldest mode is similar to that used for the C `printf` function.\n",
    "\n",
    "<pre>\n",
    ">>> a, b = 5, 10\n",
    ">>> \"The result for %d + %d is %d\" % (a, b, a+b)\n",
    "\"The result for 5 + 10 is 15\"\n",
    ">>>\n",
    ">>> a, b = 0.1, 2\n",
    ">>> \"The result for %.3f + %03d is %+d\" % (a, b, a+b)\n",
    "\"The result for 0.100 + 002 is +2\"\n",
    ">>>\n",
    "</pre>"
   ]
  },
  {
   "cell_type": "markdown",
   "metadata": {
    "slideshow": {
     "slide_type": "subslide"
    }
   },
   "source": [
    "## “old-style” string formatting\n",
    "The association between format specifiers and parameters can also be done by name:\n",
    "\n",
    "<pre>\n",
    ">>> dct = {\n",
    "... 'a': 10,\n",
    "... 'b': 20,\n",
    "... 'c': 30,\n",
    "... }\n",
    ">>>\n",
    ">>> \"%(a)d + %(b)d + %(c)d\" % dct\n",
    "'10 + 20 + 30'\n",
    ">>>\n",
    "</pre>"
   ]
  },
  {
   "cell_type": "markdown",
   "metadata": {
    "slideshow": {
     "slide_type": "subslide"
    }
   },
   "source": [
    "## “old-style” string formatting\n",
    "Unlike the C `printf`, the format specifier `%s` can be used for any value, because it uses the conversion to string through `str()`:\n",
    "\n",
    "<pre>\n",
    ">>> a, b, c = 10, \"ciao\", 5.4\n",
    ">>> print(\"%s, %s, %s\" % (a, b, c))\n",
    "10, ciao, 5.4\n",
    ">>>\n",
    "</pre>\n"
   ]
  },
  {
   "cell_type": "markdown",
   "metadata": {
    "slideshow": {
     "slide_type": "subslide"
    }
   },
   "source": [
    "## “new-style” string formatting\n",
    "It uses string's method `format()`.\n",
    "\n",
    "<pre>\n",
    ">>> \"My name is {0} {1}.\".format(\"James\", \"Bond\")\n",
    "'My name is James Bond.'\n",
    ">>> \"My name is {1} {0}.\".format(\"James\", \"Bond\")\n",
    "'My name is Bond James'\n",
    "</pre>\n",
    "\n",
    "If you want to maintain the order of positional arguments of format, like in the first example, you can omit the index:\n",
    "\n",
    "<pre>\n",
    ">>> \"My name is {} {}.\".format(\"James\", \"Bond\")\n",
    "'My name is James Bond'\n",
    "</pre>"
   ]
  },
  {
   "cell_type": "markdown",
   "metadata": {
    "slideshow": {
     "slide_type": "subslide"
    }
   },
   "source": [
    "## “new-style” string formatting\n",
    "\n",
    "You can refer to the name of the format arguments passing them by name:\n",
    "\n",
    "<pre>\n",
    ">>> \"My Name is {name} {surname}.\".format(surname=\"Bond\", name=\"James\")\n",
    "'My Name is James Bond.'\n",
    ">>>\n",
    "</pre>"
   ]
  },
  {
   "cell_type": "markdown",
   "metadata": {
    "slideshow": {
     "slide_type": "subslide"
    }
   },
   "source": [
    "## “new-style” string formatting\n",
    "\n",
    "Of course you can print twice the same argument:\n",
    "\n",
    "<pre>\n",
    ">>> \"My name is {1}. {0} {1}.\".format(\"James\", \"Bond\")\n",
    "'My name is Bond. James Bond.'\n",
    ">>> \"My name is {s}. {n} {s}.\".format(n=\"James\", s=\"Bond\")\n",
    "'My name is Bond. James Bond.'\n",
    "</pre>"
   ]
  },
  {
   "cell_type": "markdown",
   "metadata": {
    "slideshow": {
     "slide_type": "subslide"
    }
   },
   "source": [
    "## “new-style” string formatting\n",
    "\n",
    "You can access at the elements of a list:\n",
    "\n",
    "<pre>\n",
    ">>> lst = [\"zero\", \"one\", \"two\", \"three\", \"four\", \"five\",\"six\", \"seven\", \"eight\", \"nine\", \"ten\"]\n",
    ">>> \"{a[2]} + {a[1]} + {a[0]} + {a[4]} = {a[7]}\".format(a=lst)\n",
    "'two + one + zero + four = seven'\n",
    ">>>\n",
    "</pre>\n"
   ]
  },
  {
   "cell_type": "markdown",
   "metadata": {
    "slideshow": {
     "slide_type": "subslide"
    }
   },
   "source": [
    "## “new-style” string formatting\n",
    "It is possible to access at the elements in a dictionary:\n",
    "\n",
    "<pre>\n",
    ">>> abc = {'a': 0, 'b':1, 'c':2}\n",
    ">>> \"{d[a]}, {d[c]}\".format(d=abc)\n",
    "'0, 2'\n",
    ">>>\n",
    "</pre>\n"
   ]
  },
  {
   "cell_type": "markdown",
   "metadata": {
    "slideshow": {
     "slide_type": "subslide"
    }
   },
   "source": [
    "## “new-style” string formatting\n",
    "\n",
    "You can specify the format in which to print:\n",
    "\n",
    "<pre>\n",
    ">>> \"{0:d} / {1:d} = {2:.2f}\".format(10, 3, 10 / 3)\n",
    "'10 / 3 = 3.33'\n",
    "</pre>\n",
    "\n",
    "Format specifications are very similar to those of the old-style formatting.\n"
   ]
  },
  {
   "cell_type": "markdown",
   "metadata": {
    "slideshow": {
     "slide_type": "subslide"
    }
   },
   "source": [
    "## “new-style” string formatting\n",
    "It is possible also specify whether an item should be converted to string with `str` or `repr`:\n",
    "\n",
    "<pre>\n",
    ">>> print(\"{0!s} : {0!r}\".format(\"abc\"))\n",
    "abc : 'abc'\n",
    "</pre>"
   ]
  },
  {
   "cell_type": "markdown",
   "metadata": {
    "slideshow": {
     "slide_type": "subslide"
    }
   },
   "source": [
    "## test (books.py)\n",
    "* Print the entire contents of the dictionary “book: author” with a format similar to this:\n",
    "* Umberto Eco wrote the book 'Il nome della rosa'.\n"
   ]
  },
  {
   "cell_type": "markdown",
   "metadata": {
    "slideshow": {
     "slide_type": "slide"
    }
   },
   "source": [
    "## class (short introduction)\n",
    "The classes are the means to define new types. Imagine to not have type complex:"
   ]
  },
  {
   "cell_type": "code",
   "execution_count": null,
   "metadata": {
    "collapsed": false,
    "slideshow": {
     "slide_type": "fragment"
    }
   },
   "outputs": [],
   "source": [
    "class Complex(object):\n",
    "    def __init__(self, r=0.0, i=0.0):\n",
    "        self.re = r\n",
    "        self.im = i\n",
    "    def __mul__(self, other):\n",
    "        return Complex(self.re*other.re-self.im*other.im, \n",
    "                       self.re*other.im+self.im*other.re)\n",
    "    def __imul__(self, other):\n",
    "        self.re = self.re*other.re-self.im*other.im\n",
    "        self.im = self.re*other.im+self.im*other.re\n",
    "        return self\n",
    "    def __rmul__(self, other):\n",
    "        return self.__mul__(other)\n",
    "    def __str__(self):\n",
    "        return \"({0}+{1}j)\".format(self.re, self.im)"
   ]
  },
  {
   "cell_type": "code",
   "execution_count": null,
   "metadata": {
    "collapsed": false,
    "slideshow": {
     "slide_type": "fragment"
    }
   },
   "outputs": [],
   "source": [
    "ci = Complex(r=2, i=3)\n",
    "print(ci)"
   ]
  },
  {
   "cell_type": "markdown",
   "metadata": {
    "slideshow": {
     "slide_type": "subslide"
    }
   },
   "source": [
    "## instances\n",
    "We said that everything is an object. Now we can say that an object is an instance of a class. \n",
    "\n",
    "4 is an instance of the class `int`.\n"
   ]
  },
  {
   "cell_type": "markdown",
   "metadata": {
    "slideshow": {
     "slide_type": "subslide"
    }
   },
   "source": [
    "## methods\n",
    "Classes have methods or functions that can be attached to instances of that class.\n",
    "\n",
    "The first argument to any method is the instance on which it applies; conventionally it is called self."
   ]
  },
  {
   "cell_type": "code",
   "execution_count": null,
   "metadata": {
    "collapsed": false,
    "slideshow": {
     "slide_type": "fragment"
    }
   },
   "outputs": [],
   "source": [
    "class A(object):\n",
    "   def f(self, i):\n",
    "       print(\"A:f\", i)\n",
    "\n",
    "a = A()\n",
    "a.f(10)"
   ]
  },
  {
   "cell_type": "markdown",
   "metadata": {
    "slideshow": {
     "slide_type": "subslide"
    }
   },
   "source": [
    "## attributes\n",
    "Each instance (each object) can have attributes. They can be added at any time:"
   ]
  },
  {
   "cell_type": "code",
   "execution_count": null,
   "metadata": {
    "collapsed": false,
    "slideshow": {
     "slide_type": "fragment"
    }
   },
   "outputs": [],
   "source": [
    "print(a.x)"
   ]
  },
  {
   "cell_type": "code",
   "execution_count": null,
   "metadata": {
    "collapsed": false,
    "slideshow": {
     "slide_type": "subslide"
    }
   },
   "outputs": [],
   "source": [
    "a.x = 10.2\n",
    "print(a.x)"
   ]
  },
  {
   "cell_type": "markdown",
   "metadata": {
    "slideshow": {
     "slide_type": "subslide"
    }
   },
   "source": [
    "## attributes\n",
    "Normally however the attributes should be defined only by the methods of the class. In particular, through the `__init__` method, the class constructor, which is called when an instance of a class is being built.\n",
    "\n",
    "<pre>\n",
    "class Complex(object):  \n",
    "    def __init__(self, r=0.0, i=0.0):\n",
    "        self.re = r  # add attribute 're' to self\n",
    "        self.im = i  # add attribute 'im' to self\n",
    "</pre>"
   ]
  },
  {
   "cell_type": "markdown",
   "metadata": {
    "slideshow": {
     "slide_type": "subslide"
    }
   },
   "source": [
    "## attributes\n",
    "In other words, the attributes of an instance of a certain class should be defined within the class, and in particular in the `__init__` method, and not outside.\n",
    "\n",
    "But this is a style rule, not a syntax rule."
   ]
  },
  {
   "cell_type": "markdown",
   "metadata": {
    "slideshow": {
     "slide_type": "subslide"
    }
   },
   "source": [
    "## special attributes\n",
    "\n",
    "All classes have the attribute `__init__`, because instances must be able to be built. Similarly, there \n",
    "will be a `__del__`, the destructor, called automatically when the object should be destroyed.\n",
    "\n",
    "For various functionality there are methods with special name, for example: `__len__, __str__, __repr__, __sort__, __get__, __setitem__, __delitem__, __add__, __iadd__, __radd__, __contains__, ...`"
   ]
  },
  {
   "cell_type": "markdown",
   "metadata": {
    "slideshow": {
     "slide_type": "subslide"
    }
   },
   "source": [
    "## class attributes\n",
    "\n",
    "Classes themselves may have attributes. The methods are attributes of the class, type function."
   ]
  },
  {
   "cell_type": "code",
   "execution_count": null,
   "metadata": {
    "collapsed": true,
    "slideshow": {
     "slide_type": "fragment"
    }
   },
   "outputs": [],
   "source": [
    "class ALFA(object):\n",
    "    A = 10 # class attribute\n",
    "    def __init__(self):\n",
    "        self.x = 3"
   ]
  },
  {
   "cell_type": "code",
   "execution_count": null,
   "metadata": {
    "collapsed": false,
    "slideshow": {
     "slide_type": "subslide"
    }
   },
   "outputs": [],
   "source": [
    "a = ALFA()\n",
    "print(a.A)\n",
    "print(a.x)"
   ]
  },
  {
   "cell_type": "code",
   "execution_count": null,
   "metadata": {
    "collapsed": false,
    "slideshow": {
     "slide_type": "fragment"
    }
   },
   "outputs": [],
   "source": [
    "print(a.__class__.A)\n",
    "print(ALFA.A)"
   ]
  },
  {
   "cell_type": "markdown",
   "metadata": {
    "slideshow": {
     "slide_type": "subslide"
    }
   },
   "source": [
    "## inheritance\n",
    "A class can inherit from another class; in such case, it inherits all the contents, including methods. The methods can be redefined."
   ]
  },
  {
   "cell_type": "code",
   "execution_count": null,
   "metadata": {
    "collapsed": true,
    "slideshow": {
     "slide_type": "fragment"
    }
   },
   "outputs": [],
   "source": [
    "class BETA(ALFA):\n",
    "    def __init__(self):\n",
    "        ALFA.__init__(self) # call superclass constructor\n",
    "        self.y = 5\n"
   ]
  },
  {
   "cell_type": "code",
   "execution_count": null,
   "metadata": {
    "collapsed": true,
    "slideshow": {
     "slide_type": "subslide"
    }
   },
   "outputs": [],
   "source": [
    "b = BETA()\n",
    "print(b.A)"
   ]
  },
  {
   "cell_type": "code",
   "execution_count": null,
   "metadata": {
    "collapsed": true,
    "slideshow": {
     "slide_type": "fragment"
    }
   },
   "outputs": [],
   "source": [
    "print(b.x)"
   ]
  },
  {
   "cell_type": "code",
   "execution_count": null,
   "metadata": {
    "collapsed": true,
    "slideshow": {
     "slide_type": "fragment"
    }
   },
   "outputs": [],
   "source": [
    "print(b.y)"
   ]
  },
  {
   "cell_type": "markdown",
   "metadata": {
    "slideshow": {
     "slide_type": "subslide"
    }
   },
   "source": [
    "## inheritance\n",
    "super() function lets you delegate to a base classan operation:\n",
    "\n",
    "<pre>\n",
    "class BETA(ALFA):\n",
    "    def __init__(self):\n",
    "        super().__init__()  # => ALFA.__init__(self)\n",
    "        self.y = 5\n",
    "</pre>"
   ]
  }
 ],
 "metadata": {
  "celltoolbar": "Slideshow",
  "kernelspec": {
   "display_name": "Python 3",
   "language": "python",
   "name": "python3"
  },
  "language_info": {
   "codemirror_mode": {
    "name": "ipython",
    "version": 3
   },
   "file_extension": ".py",
   "mimetype": "text/x-python",
   "name": "python",
   "nbconvert_exporter": "python",
   "pygments_lexer": "ipython3",
   "version": "3.5.1"
  }
 },
 "nbformat": 4,
 "nbformat_minor": 0
}
