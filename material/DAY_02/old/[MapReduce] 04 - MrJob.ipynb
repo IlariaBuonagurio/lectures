{
 "cells": [
  {
   "cell_type": "markdown",
   "metadata": {
    "slideshow": {
     "slide_type": "slide"
    }
   },
   "source": [
    "# A more pythonic MapReduce"
   ]
  },
  {
   "cell_type": "markdown",
   "metadata": {
    "slideshow": {
     "slide_type": "subslide"
    }
   },
   "source": [
    "With Hadoop Streaming we switched MapReduce from Java to Python.\n",
    "\n",
    "How could we improve some more? \n",
    "\n",
    "What problems do we deal with?"
   ]
  },
  {
   "cell_type": "markdown",
   "metadata": {
    "slideshow": {
     "slide_type": "subslide"
    }
   },
   "source": [
    "We have to directly deal with HDFS\n",
    "* move input files\n",
    "* recover outputs\n",
    "* human make mistakes"
   ]
  },
  {
   "cell_type": "markdown",
   "metadata": {
    "slideshow": {
     "slide_type": "subslide"
    }
   },
   "source": [
    "Not easy debugging\n",
    "\n",
    "* logs via jobtracker\n",
    "* errors are Java stacktrace, often unrelated with the real problem"
   ]
  },
  {
   "cell_type": "markdown",
   "metadata": {
    "slideshow": {
     "slide_type": "subslide"
    }
   },
   "source": [
    "We have to write two different files\n",
    "* one for the mapper\n",
    "* one for the reducer\n",
    "* not a **module**"
   ]
  },
  {
   "cell_type": "markdown",
   "metadata": {
    "slideshow": {
     "slide_type": "subslide"
    }
   },
   "source": [
    "Is there a Python part of the language that can help representing a MapReduce task?"
   ]
  },
  {
   "cell_type": "code",
   "execution_count": 1,
   "metadata": {
    "collapsed": true,
    "slideshow": {
     "slide_type": "fragment"
    }
   },
   "outputs": [],
   "source": [
    "# A python class\n",
    "\n",
    "class myclass(object):\n",
    "    \n",
    "    a_property = 42\n",
    "    \n",
    "    def a_method(self):\n",
    "        pass\n",
    "    def another_method(self, var):\n",
    "        print(var, self.a_property)\n"
   ]
  },
  {
   "cell_type": "code",
   "execution_count": 2,
   "metadata": {
    "collapsed": false,
    "slideshow": {
     "slide_type": "subslide"
    }
   },
   "outputs": [
    {
     "name": "stdout",
     "output_type": "stream",
     "text": [
      "test 42\n"
     ]
    },
    {
     "data": {
      "text/plain": [
       "42"
      ]
     },
     "execution_count": 2,
     "metadata": {},
     "output_type": "execute_result"
    }
   ],
   "source": [
    "# Create instance of our class\n",
    "instance = myclass()\n",
    "# Use it\n",
    "instance.a_method()\n",
    "instance.another_method(\"test\")\n",
    "instance.a_property"
   ]
  },
  {
   "cell_type": "code",
   "execution_count": 3,
   "metadata": {
    "collapsed": true,
    "slideshow": {
     "slide_type": "subslide"
    }
   },
   "outputs": [],
   "source": [
    "class MapReduce(object):\n",
    "    \"\"\" A MapReduce class prototype \"\"\"\n",
    "    \n",
    "    def mapper(self, line):\n",
    "        pass\n",
    "    def reducer(self, sorted_line):\n",
    "        pass"
   ]
  },
  {
   "cell_type": "markdown",
   "metadata": {
    "slideshow": {
     "slide_type": "slide"
    }
   },
   "source": [
    "# MRJob \n",
    "A more pythonic MapReduce library from Yelp\n",
    "\n",
    "<img src='https://avatars1.githubusercontent.com/u/49071?v=3&s=400' width=300>"
   ]
  },
  {
   "cell_type": "markdown",
   "metadata": {
    "slideshow": {
     "slide_type": "subslide"
    }
   },
   "source": [
    "> “Easiest route to Python programs that run on Hadoop”\n",
    "\n",
    "Install with: \n",
    "```bash\n",
    "pip install mrjob\n",
    "```\n",
    "\n",
    "**Running modes**\n",
    "* Test your code locally without installing Hadoop \n",
    "* or run it on a cluster of your choice!\n",
    "    - Integrates with Amazon **Elastic MapReduce** (EMR)\n",
    "    - same code with local, Hadoop, EMR\n",
    "    - easy to run your job in the cloud as on your laptop"
   ]
  },
  {
   "cell_type": "markdown",
   "metadata": {
    "slideshow": {
     "slide_type": "subslide"
    }
   },
   "source": [
    "### How does MrJob work?\n",
    "\n",
    "* Python module built **on top of Hadoop Streaming**\n",
    "    - HS jar opens a subprocess to your code\n",
    "    - sends it input via stdin\n",
    "    - gathers results via stdout\n",
    "* Wrap HDFS pre and post processing if hadoop exists\n",
    "* a consistent interface across every environment it supports\n",
    "* automatically serializes/deserializes data flow out of each task \n",
    "    - e.g. JSON: json.loads() and json.dumps()"
   ]
  },
  {
   "cell_type": "markdown",
   "metadata": {
    "slideshow": {
     "slide_type": "slide"
    }
   },
   "source": [
    "## Getting hands dirty"
   ]
  },
  {
   "cell_type": "code",
   "execution_count": 4,
   "metadata": {
    "collapsed": false,
    "slideshow": {
     "slide_type": "fragment"
    }
   },
   "outputs": [],
   "source": [
    "from mrjob.job import MRJob"
   ]
  },
  {
   "cell_type": "markdown",
   "metadata": {
    "slideshow": {
     "slide_type": "subslide"
    }
   },
   "source": [
    "A job is defined by a class extended from MRJob package\n",
    "\n",
    "* Contains methods that define the steps of a Hadoop job\n",
    "* A “step” consists of a mapper, a combiner, and a reducer. \n",
    "* All of those  are optional, though you must have at least one.\n"
   ]
  },
  {
   "cell_type": "code",
   "execution_count": 5,
   "metadata": {
    "collapsed": false,
    "slideshow": {
     "slide_type": "subslide"
    }
   },
   "outputs": [],
   "source": [
    "class myjob(MRJob):\n",
    "    def mapper(self, _, line):\n",
    "        pass\n",
    "    def combiner(self, key, values):\n",
    "        pass\n",
    "    def reducer(self, key, values):\n",
    "        pass\n",
    "    def steps(self):\n",
    "        return [ MRStep(mapper=self.mapper, combiner=self.combiner, reducer=self.reducer) ]"
   ]
  },
  {
   "cell_type": "markdown",
   "metadata": {
    "slideshow": {
     "slide_type": "slide"
    }
   },
   "source": [
    "## WordCount"
   ]
  },
  {
   "cell_type": "markdown",
   "metadata": {
    "slideshow": {
     "slide_type": "subslide"
    }
   },
   "source": [
    "### Mapper\n",
    "\n",
    "The mapper() method takes a key and a value as args\n",
    "\n",
    "```\n",
    "    def mapper(self, _, line):\n",
    "        pass\n",
    "```\n",
    "\n",
    "* E.g. key is ignored and a single line of text input is the value\n",
    "\n",
    "* Yields as many key-value pairs as it likes"
   ]
  },
  {
   "cell_type": "markdown",
   "metadata": {
    "slideshow": {
     "slide_type": "subslide"
    }
   },
   "source": [
    "### Yield?\n",
    "\n",
    "**Warning**: `yield` != `return`\n",
    "\n",
    "> yield return a generator, the one you usually use with  ```print i; for i in generator```\n",
    "    \n",
    "Example\n",
    "```python\n",
    "def mygen():\n",
    "    for i in range(1,10):\n",
    "    # THIS IS WHAT HAPPENS INSIDE THE MAPPER/REDUCER\n",
    "        yield i, “value” \n",
    "\n",
    "for key, value in mygen():\n",
    "    print key, value\n",
    "```"
   ]
  },
  {
   "cell_type": "markdown",
   "metadata": {
    "slideshow": {
     "slide_type": "subslide"
    }
   },
   "source": [
    "### Reducer\n",
    "\n",
    "The reduce() method takes a key and an iterator of values\n",
    "\n",
    "```\n",
    "    def reducer(self, key, values):\n",
    "        pass\n",
    "```\n",
    "\n",
    "* Also yields as many key-value pairs as it likes\n",
    "    * E.g. it sums the values for each key\n",
    "* Represent the  numbers of characters, words, and lines in the initial input\n",
    "\n"
   ]
  },
  {
   "cell_type": "markdown",
   "metadata": {
    "slideshow": {
     "slide_type": "subslide"
    }
   },
   "source": [
    "## Let's write our job"
   ]
  },
  {
   "cell_type": "code",
   "execution_count": 6,
   "metadata": {
    "collapsed": false,
    "slideshow": {
     "slide_type": "subslide"
    }
   },
   "outputs": [
    {
     "name": "stdout",
     "output_type": "stream",
     "text": [
      "env: mydir=mymrjob\n",
      "env: myinput=/data/lectures/data/books/twolines.txt\n",
      "env: myscript=mymrjob/wordcount.py\n",
      "env: myoutput=mymrjob/out.txt\n",
      "env: mylog=mymrjob/out.log\n"
     ]
    }
   ],
   "source": [
    "# Little configuration\n",
    "\n",
    "mydir = \"mymrjob\"\n",
    "%env mydir = $mydir\n",
    "myinput = \"/data/lectures/data/books/twolines.txt\"\n",
    "%env myinput $myinput\n",
    "myscript = mydir + \"/wordcount.py\"\n",
    "%env myscript $myscript\n",
    "\n",
    "%system mkdir -p $mydir\n",
    "%env myoutput $mydir/out.txt\n",
    "%env mylog $mydir/out.log"
   ]
  },
  {
   "cell_type": "markdown",
   "metadata": {
    "slideshow": {
     "slide_type": "subslide"
    }
   },
   "source": [
    "Create the job file"
   ]
  },
  {
   "cell_type": "code",
   "execution_count": 7,
   "metadata": {
    "collapsed": false,
    "slideshow": {
     "slide_type": "fragment"
    }
   },
   "outputs": [
    {
     "name": "stdout",
     "output_type": "stream",
     "text": [
      "Overwriting mymrjob/wordcount.py\n"
     ]
    }
   ],
   "source": [
    "%%writefile $myscript\n",
    "\n",
    "from mrjob.job import MRJob\n",
    "class MRWordCount(MRJob):\n",
    "    \"\"\" Wordcount with MapReduce in a pythonic way\"\"\"\n",
    "\n",
    "    def mapper(self, key, line):\n",
    "        for word in line.split(' '):\n",
    "             yield word.lower(), 1\n",
    "\n",
    "    def reducer(self, word, occurrences):\n",
    "        yield word, sum(occurrences)\n",
    "\n",
    "if __name__ == '__main__':\n",
    "    MRWordCount.run()"
   ]
  },
  {
   "cell_type": "markdown",
   "metadata": {
    "slideshow": {
     "slide_type": "subslide"
    }
   },
   "source": [
    "Note!\n",
    "    \n",
    "Thanks to MrJob and generators we do not care inside the reducer to check when the value is changing."
   ]
  },
  {
   "cell_type": "markdown",
   "metadata": {
    "slideshow": {
     "slide_type": "subslide"
    }
   },
   "source": [
    "## I/O\n",
    "\n",
    "You can pass input via stdin but be aware that mrjob will just dump it to a file first:\n",
    "```bash\n",
    "$ python my_job.py < input.txt\n",
    "```\n",
    "\n",
    "You can pass multiple input files, mixed with stdin (using the – character)\n",
    "```bash\n",
    "$ python my_job.py input1.txt input2.txt - < input3.txt\n",
    "```\n",
    "\n",
    "By default, output will be written to stdout.\n",
    "```bash\n",
    "$ python my_job.py input.txt\n",
    "```\n"
   ]
  },
  {
   "cell_type": "code",
   "execution_count": 8,
   "metadata": {
    "collapsed": false,
    "slideshow": {
     "slide_type": "subslide"
    }
   },
   "outputs": [],
   "source": [
    "# Execute MrJob\n",
    "! python $myscript $myinput 1> $myoutput 2> $mylog"
   ]
  },
  {
   "cell_type": "code",
   "execution_count": 9,
   "metadata": {
    "collapsed": false,
    "slideshow": {
     "slide_type": "subslide"
    }
   },
   "outputs": [
    {
     "name": "stdout",
     "output_type": "stream",
     "text": [
      "\"bye\"\t1\r\n",
      "\"goodbye\"\t1\r\n",
      "\"hadoop\"\t2\r\n",
      "\"hello\"\t2\r\n",
      "\"world\"\t2\r\n"
     ]
    }
   ],
   "source": [
    "%cat $myoutput"
   ]
  },
  {
   "cell_type": "code",
   "execution_count": 10,
   "metadata": {
    "collapsed": false,
    "scrolled": true,
    "slideshow": {
     "slide_type": "subslide"
    }
   },
   "outputs": [
    {
     "name": "stdout",
     "output_type": "stream",
     "text": [
      "Using configs in /etc/mrjob.conf\r\n",
      "Creating temp directory /tmp/wordcount.jovyan.20160315.231000.353160\r\n",
      "Running step 1 of 1...\r\n",
      "Streaming final output from /tmp/wordcount.jovyan.20160315.231000.353160/output...\r\n",
      "Removing temp directory /tmp/wordcount.jovyan.20160315.231000.353160...\r\n"
     ]
    }
   ],
   "source": [
    "%cat $mylog"
   ]
  },
  {
   "cell_type": "markdown",
   "metadata": {
    "slideshow": {
     "slide_type": "subslide"
    }
   },
   "source": [
    "Here's an empty **template** to work with in copy/paste"
   ]
  },
  {
   "cell_type": "markdown",
   "metadata": {
    "collapsed": false,
    "slideshow": {
     "slide_type": "subslide"
    }
   },
   "source": [
    "```python\n",
    "#!/usr/bin/env python\n",
    "# -*- coding: utf-8 -*-\n",
    "\"\"\" MapReduce easily with Python \"\"\"\n",
    "\n",
    "from mrjob.job import MRJob\n",
    "from mrjob.step import MRStep\n",
    "\n",
    "class job(MRJob):\n",
    "    def mapper(self, _, line):\n",
    "        pass\n",
    "    def reducer(self, key, line):\n",
    "        pass\n",
    "    def steps(self):\n",
    "        return [ \n",
    "            MRStep(mapper=self.mapper, reducer=self.reducer)\n",
    "        ]\n",
    "\n",
    "if __name__ == \"__main__\":\n",
    "    job.run()\n",
    "    \n",
    "```"
   ]
  },
  {
   "cell_type": "markdown",
   "metadata": {
    "slideshow": {
     "slide_type": "fragment"
    }
   },
   "source": [
    "With MRStep you define iterations"
   ]
  },
  {
   "cell_type": "markdown",
   "metadata": {
    "slideshow": {
     "slide_type": "slide"
    }
   },
   "source": [
    "## Exercise\n",
    "\n",
    "Convert your exercise for vowels inside the divine comedy into MrJob class"
   ]
  },
  {
   "cell_type": "markdown",
   "metadata": {
    "slideshow": {
     "slide_type": "slide"
    }
   },
   "source": [
    "## Running on Hadoop"
   ]
  },
  {
   "cell_type": "markdown",
   "metadata": {
    "slideshow": {
     "slide_type": "fragment"
    }
   },
   "source": [
    "By default, mrjob will run your job on your local (normal) environment) in a single Python process \n",
    "\n",
    "You change the way the job is run with the `-r/--runner` option:\n",
    "\n",
    "```\n",
    "-r inline, -r local, -r hadoop, or -r emr\n",
    "```\n",
    "\n",
    "Use also `--verbose` option to show all the steps"
   ]
  },
  {
   "cell_type": "markdown",
   "metadata": {
    "slideshow": {
     "slide_type": "subslide"
    }
   },
   "source": [
    "So we just need to add `-r hadoop`.\n",
    "\n",
    "<small>Note: The `capture` *magic* is another way we could handle output.</small>"
   ]
  },
  {
   "cell_type": "code",
   "execution_count": 11,
   "metadata": {
    "collapsed": false,
    "slideshow": {
     "slide_type": "-"
    }
   },
   "outputs": [],
   "source": [
    "%%capture hadoop_out\n",
    "# Execute MrJob on Hadoop and let the magic handle outputs\n",
    "! python $myscript $myinput -r hadoop 2> $mylog"
   ]
  },
  {
   "cell_type": "code",
   "execution_count": 12,
   "metadata": {
    "collapsed": false,
    "slideshow": {
     "slide_type": "fragment"
    }
   },
   "outputs": [
    {
     "name": "stdout",
     "output_type": "stream",
     "text": [
      "\"bye\"\t1\r\n",
      "\"goodbye\"\t1\r\n",
      "\"hadoop\"\t2\r\n",
      "\"hello\"\t2\r\n",
      "\"world\"\t2\r\n"
     ]
    }
   ],
   "source": [
    "hadoop_out.show()"
   ]
  },
  {
   "cell_type": "code",
   "execution_count": 13,
   "metadata": {
    "collapsed": false,
    "scrolled": true,
    "slideshow": {
     "slide_type": "subslide"
    }
   },
   "outputs": [
    {
     "name": "stdout",
     "output_type": "stream",
     "text": [
      "Using configs in /etc/mrjob.conf\r\n",
      "Using Hadoop version 2.6.0\r\n",
      "Copying local files to hdfs:///user/jovyan/tmp/mrjob/wordcount.jovyan.20160315.231008.131608/files/...\r\n",
      "Running step 1 of 1...\r\n",
      "  packageJobJar: [/tmp/hadoop-unjar8386463698946503097/] [] /tmp/streamjob581799815579415374.jar tmpDir=null\r\n",
      "  Connecting to ResourceManager at /0.0.0.0:8032\r\n",
      "  Connecting to ResourceManager at /0.0.0.0:8032\r\n",
      "  Total input paths to process : 1\r\n",
      "  number of splits:2\r\n",
      "  Submitting tokens for job: job_1458083121911_0001\r\n",
      "  Submitted application application_1458083121911_0001\r\n",
      "  The url to track the job: http://76752dc90450:8088/proxy/application_1458083121911_0001/\r\n",
      "  Running job: job_1458083121911_0001\r\n",
      "  Job job_1458083121911_0001 running in uber mode : false\r\n",
      "   map 0% reduce 0%\r\n",
      "   map 100% reduce 0%\r\n",
      "   map 100% reduce 100%\r\n",
      "  Job job_1458083121911_0001 completed successfully\r\n",
      "  Output directory: hdfs:///user/jovyan/tmp/mrjob/wordcount.jovyan.20160315.231008.131608/output\r\n",
      "Counters: 49\r\n",
      "\tFile Input Format Counters \r\n",
      "\t\tBytes Read=74\r\n",
      "\tFile Output Format Counters \r\n",
      "\t\tBytes Written=51\r\n",
      "\tFile System Counters\r\n",
      "\t\tFILE: Number of bytes read=104\r\n",
      "\t\tFILE: Number of bytes written=329064\r\n",
      "\t\tFILE: Number of large read operations=0\r\n",
      "\t\tFILE: Number of read operations=0\r\n",
      "\t\tFILE: Number of write operations=0\r\n",
      "\t\tHDFS: Number of bytes read=388\r\n",
      "\t\tHDFS: Number of bytes written=51\r\n",
      "\t\tHDFS: Number of large read operations=0\r\n",
      "\t\tHDFS: Number of read operations=9\r\n",
      "\t\tHDFS: Number of write operations=2\r\n",
      "\tJob Counters \r\n",
      "\t\tData-local map tasks=2\r\n",
      "\t\tLaunched map tasks=2\r\n",
      "\t\tLaunched reduce tasks=1\r\n",
      "\t\tTotal megabyte-seconds taken by all map tasks=12473344\r\n",
      "\t\tTotal megabyte-seconds taken by all reduce tasks=4098048\r\n",
      "\t\tTotal time spent by all map tasks (ms)=12181\r\n",
      "\t\tTotal time spent by all maps in occupied slots (ms)=12181\r\n",
      "\t\tTotal time spent by all reduce tasks (ms)=4002\r\n",
      "\t\tTotal time spent by all reduces in occupied slots (ms)=4002\r\n",
      "\t\tTotal vcore-seconds taken by all map tasks=12181\r\n",
      "\t\tTotal vcore-seconds taken by all reduce tasks=4002\r\n",
      "\tMap-Reduce Framework\r\n",
      "\t\tCPU time spent (ms)=2130\r\n",
      "\t\tCombine input records=0\r\n",
      "\t\tCombine output records=0\r\n",
      "\t\tFailed Shuffles=0\r\n",
      "\t\tGC time elapsed (ms)=166\r\n",
      "\t\tInput split bytes=314\r\n",
      "\t\tMap input records=2\r\n",
      "\t\tMap output bytes=82\r\n",
      "\t\tMap output materialized bytes=110\r\n",
      "\t\tMap output records=8\r\n",
      "\t\tMerged Map outputs=2\r\n",
      "\t\tPhysical memory (bytes) snapshot=889561088\r\n",
      "\t\tReduce input groups=5\r\n",
      "\t\tReduce input records=8\r\n",
      "\t\tReduce output records=5\r\n",
      "\t\tReduce shuffle bytes=110\r\n",
      "\t\tShuffled Maps =2\r\n",
      "\t\tSpilled Records=16\r\n",
      "\t\tTotal committed heap usage (bytes)=530579456\r\n",
      "\t\tVirtual memory (bytes) snapshot=2645000192\r\n",
      "\tShuffle Errors\r\n",
      "\t\tBAD_ID=0\r\n",
      "\t\tCONNECTION=0\r\n",
      "\t\tIO_ERROR=0\r\n",
      "\t\tWRONG_LENGTH=0\r\n",
      "\t\tWRONG_MAP=0\r\n",
      "\t\tWRONG_REDUCE=0\r\n",
      "Streaming final output from hdfs:///user/jovyan/tmp/mrjob/wordcount.jovyan.20160315.231008.131608/output...\r\n",
      "Removing HDFS temp directory hdfs:///user/jovyan/tmp/mrjob/wordcount.jovyan.20160315.231008.131608...\r\n"
     ]
    }
   ],
   "source": [
    "%cat $mylog"
   ]
  },
  {
   "cell_type": "markdown",
   "metadata": {
    "slideshow": {
     "slide_type": "slide"
    }
   },
   "source": [
    "### Protocols\n",
    "\n",
    "http://mrjob.readthedocs.org/en/latest/guides/writing-mrjobs.html#protocols\n",
    "\n"
   ]
  },
  {
   "cell_type": "markdown",
   "metadata": {
    "slideshow": {
     "slide_type": "subslide"
    }
   },
   "source": [
    "MRJob add many comodities!\n",
    "\n",
    "Some of them may result expensive on heavy computing.\n",
    "\n",
    "For example MapReduce data transfer is serialize in JSON format."
   ]
  },
  {
   "cell_type": "code",
   "execution_count": null,
   "metadata": {
    "collapsed": false,
    "slideshow": {
     "slide_type": "fragment"
    }
   },
   "outputs": [],
   "source": [
    "class MyMRJob(mrjob.job.MRJob):\n",
    "\n",
    "    # these are the defaults\n",
    "    INPUT_PROTOCOL = mrjob.protocol.RawValueProtocol\n",
    "    INTERNAL_PROTOCOL = mrjob.protocol.JSONProtocol\n",
    "    OUTPUT_PROTOCOL = mrjob.protocol.JSONProtocol\n"
   ]
  },
  {
   "cell_type": "markdown",
   "metadata": {
    "slideshow": {
     "slide_type": "subslide"
    }
   },
   "source": [
    "Let's see what it means"
   ]
  },
  {
   "cell_type": "code",
   "execution_count": 14,
   "metadata": {
    "collapsed": false,
    "slideshow": {
     "slide_type": "subslide"
    }
   },
   "outputs": [
    {
     "name": "stdout",
     "output_type": "stream",
     "text": [
      "Writing protocol.py\n"
     ]
    }
   ],
   "source": [
    "%%writefile protocol.py\n",
    "from mrjob.job import MRJob\n",
    "\n",
    "class MRWordCount(MRJob):\n",
    "\n",
    "    def mapper(self, key, line):\n",
    "        for word in line.split(' '):\n",
    "             yield word.lower(), 1\n",
    "\n",
    "                \n",
    "    def reducer(self, word, occurrences):\n",
    "        yield word, sum(occurrences)\n",
    "\n",
    "if __name__ == '__main__':\n",
    "    MRWordCount.run()"
   ]
  },
  {
   "cell_type": "code",
   "execution_count": 15,
   "metadata": {
    "collapsed": false,
    "slideshow": {
     "slide_type": "subslide"
    }
   },
   "outputs": [
    {
     "name": "stdout",
     "output_type": "stream",
     "text": [
      "\"bye\"\t1\r\n",
      "\"goodbye\"\t1\r\n",
      "\"hadoop\"\t2\r\n",
      "\"hello\"\t2\r\n",
      "\"world\"\t2\r\n"
     ]
    }
   ],
   "source": [
    "! python protocol.py /data/lectures/data/books/twolines.txt 2> /dev/null"
   ]
  },
  {
   "cell_type": "code",
   "execution_count": 16,
   "metadata": {
    "collapsed": false,
    "slideshow": {
     "slide_type": "subslide"
    }
   },
   "outputs": [
    {
     "name": "stdout",
     "output_type": "stream",
     "text": [
      "Overwriting protocol.py\n"
     ]
    }
   ],
   "source": [
    "%%writefile protocol.py\n",
    "from mrjob.job import MRJob\n",
    "from mrjob.protocol import PickleProtocol\n",
    "\n",
    "class MRWordCount(MRJob):\n",
    "\n",
    "    # Optimization on internal protocols\n",
    "    INTERNAL_PROTOCOL = PickleProtocol\n",
    "    OUTPUT_PROTOCOL = PickleProtocol\n",
    "    \n",
    "    def mapper(self, key, line):\n",
    "        for word in line.split(' '):\n",
    "             yield word.lower(), 1\n",
    "\n",
    "                \n",
    "    def reducer(self, word, occurrences):\n",
    "        yield word, sum(occurrences)\n",
    "\n",
    "if __name__ == '__main__':\n",
    "    MRWordCount.run()"
   ]
  },
  {
   "cell_type": "code",
   "execution_count": 17,
   "metadata": {
    "collapsed": false,
    "slideshow": {
     "slide_type": "subslide"
    }
   },
   "outputs": [
    {
     "name": "stdout",
     "output_type": "stream",
     "text": [
      "\\x80\\x03X\\x03\\x00\\x00\\x00byeq\\x00.\t\\x80\\x03K\\x01.\r\n",
      "\\x80\\x03X\\x05\\x00\\x00\\x00helloq\\x00.\t\\x80\\x03K\\x02.\r\n",
      "\\x80\\x03X\\x05\\x00\\x00\\x00worldq\\x00.\t\\x80\\x03K\\x02.\r\n",
      "\\x80\\x03X\\x06\\x00\\x00\\x00hadoopq\\x00.\t\\x80\\x03K\\x02.\r\n",
      "\\x80\\x03X\\x07\\x00\\x00\\x00goodbyeq\\x00.\t\\x80\\x03K\\x01.\r\n"
     ]
    }
   ],
   "source": [
    "! python protocol.py /data/lectures/data/books/twolines.txt 2> /dev/null"
   ]
  },
  {
   "cell_type": "markdown",
   "metadata": {
    "slideshow": {
     "slide_type": "slide"
    }
   },
   "source": [
    "# Getting deeper\n",
    "\n",
    "Let's try this together step by step"
   ]
  },
  {
   "cell_type": "code",
   "execution_count": 3,
   "metadata": {
    "collapsed": true,
    "slideshow": {
     "slide_type": "subslide"
    }
   },
   "outputs": [],
   "source": [
    "myfile = \"/data/lectures/data/books/prince.txt\""
   ]
  },
  {
   "cell_type": "markdown",
   "metadata": {
    "slideshow": {
     "slide_type": "fragment"
    }
   },
   "source": [
    "How does the wordcounter work with this file?"
   ]
  },
  {
   "cell_type": "code",
   "execution_count": 4,
   "metadata": {
    "collapsed": false,
    "slideshow": {
     "slide_type": "subslide"
    }
   },
   "outputs": [
    {
     "name": "stdout",
     "output_type": "stream",
     "text": [
      "Writing job.py\n"
     ]
    }
   ],
   "source": [
    "%%writefile job.py\n",
    "from mrjob.job import MRJob\n",
    "\n",
    "class SomeJob(MRJob):\n",
    "    \"\"\" Counting the words \"\"\"\n",
    "    \n",
    "    def mapper(self, key, line):\n",
    "        # Removing extra characters\n",
    "        for word in line.strip('.;,()').split():\n",
    "            yield word.lower(), 1\n",
    "\n",
    "    def reducer(self, word, occurrences):\n",
    "        yield word, sum(occurrences)\n",
    "\n",
    "if __name__ == '__main__':\n",
    "    SomeJob.run()"
   ]
  },
  {
   "cell_type": "code",
   "execution_count": 5,
   "metadata": {
    "collapsed": false,
    "slideshow": {
     "slide_type": "subslide"
    }
   },
   "outputs": [],
   "source": [
    "! python job.py $myfile 1> out.txt 2> err.txt"
   ]
  },
  {
   "cell_type": "code",
   "execution_count": 8,
   "metadata": {
    "collapsed": false
   },
   "outputs": [
    {
     "name": "stdout",
     "output_type": "stream",
     "text": [
      "\"yourself,\"\t2\r\n",
      "\"yourself--it\"\t1\r\n",
      "\"yourself.\\\"\"\t1\r\n",
      "\"yourself;\"\t1\r\n",
      "\"youth\"\t7\r\n",
      "\"youth,\"\t2\r\n",
      "\"zanobi\"\t2\r\n",
      "\"zeal\"\t1\r\n",
      "\"zenith\"\t1\r\n",
      "\"zerezzanello;\"\t1\r\n"
     ]
    }
   ],
   "source": [
    "! tail out.txt"
   ]
  },
  {
   "cell_type": "code",
   "execution_count": 9,
   "metadata": {
    "collapsed": true,
    "slideshow": {
     "slide_type": "subslide"
    }
   },
   "outputs": [],
   "source": [
    "import os\n",
    "\n",
    "def get_output(outfile):\n",
    "    \"\"\" Get Hadoop results from MrJob output file \"\"\"\n",
    "    \n",
    "    data = {}\n",
    "\n",
    "    if os.path.exists(outfile):\n",
    "        with open(outfile) as out:\n",
    "            outstring = out.read()\n",
    "        for line in outstring.split('\\n'):\n",
    "            if line.strip() == '':\n",
    "                continue\n",
    "            tmp = line.split('\\t')\n",
    "            data[tmp[0].strip('\"')] = int(tmp[1])\n",
    "\n",
    "    return data\n"
   ]
  },
  {
   "cell_type": "code",
   "execution_count": 10,
   "metadata": {
    "collapsed": false,
    "slideshow": {
     "slide_type": "subslide"
    }
   },
   "outputs": [],
   "source": [
    "# Recover last cell output\n",
    "data = get_output(\"out.txt\")"
   ]
  },
  {
   "cell_type": "code",
   "execution_count": 11,
   "metadata": {
    "collapsed": false,
    "slideshow": {
     "slide_type": "fragment"
    }
   },
   "outputs": [
    {
     "data": {
      "text/plain": [
       "{'constituted': 2,\n",
       " 'valued': 4,\n",
       " 'contemptible,': 1,\n",
       " '\\\\\"contro': 2,\n",
       " 'makes': 7,\n",
       " 'where,': 2,\n",
       " 'works,': 5,\n",
       " 'objects': 1,\n",
       " 'unmeritedly': 1,\n",
       " 'told': 12,\n",
       " 'owns': 2,\n",
       " 'offers': 3,\n",
       " 'conclude,': 2,\n",
       " 'fano,': 3,\n",
       " 'potentates,': 1,\n",
       " 'excess': 1,\n",
       " 'ruin;': 1,\n",
       " 'prisoners': 2,\n",
       " 'downloading,': 1,\n",
       " 'wrote': 4,\n",
       " 'imprisoned,': 1,\n",
       " 'begets': 1,\n",
       " 'trade': 3,\n",
       " 'art;': 1,\n",
       " 'delight': 2,\n",
       " 'memorials': 1,\n",
       " 'citta': 2,\n",
       " 'gratitude': 2,\n",
       " 'indulgence,': 1,\n",
       " 'trampled': 1,\n",
       " 'flatterers': 2,\n",
       " 'once.\\\\': 1,\n",
       " '15th': 2,\n",
       " 'infidels': 1,\n",
       " 'spoken.': 1,\n",
       " '1461': 1,\n",
       " 'sank': 1,\n",
       " 'disgusted': 3,\n",
       " 'reproaches': 1,\n",
       " 'catholic,\\\\': 1,\n",
       " 'say:': 4,\n",
       " 'establish': 3,\n",
       " 'effected': 1,\n",
       " 'votum\\\\': 1,\n",
       " 'idle,': 1,\n",
       " 'luxuries,': 1,\n",
       " 'travelled': 1,\n",
       " 'baby': 1,\n",
       " 'alive': 1,\n",
       " 'sword.': 1,\n",
       " 'concealed': 2,\n",
       " 'fortune': 50,\n",
       " 'looking': 2,\n",
       " 'cruelties': 1,\n",
       " 'term': 1,\n",
       " 'lodovico': 2,\n",
       " 'continuance': 1,\n",
       " 'showing': 6,\n",
       " 'swift': 1,\n",
       " 'inclined': 7,\n",
       " 'whenever': 9,\n",
       " 'happens': 10,\n",
       " 'nobles.': 2,\n",
       " 'theirs': 1,\n",
       " 'machiavelli,': 10,\n",
       " 'edifice:': 1,\n",
       " 'certain,': 1,\n",
       " 'binds': 1,\n",
       " 'presumption': 1,\n",
       " 'brests': 1,\n",
       " 'evil,': 4,\n",
       " 'combat': 1,\n",
       " 'wit': 3,\n",
       " 'mercy': 2,\n",
       " 'movement,': 1,\n",
       " 'exterminated,': 4,\n",
       " 'indebted': 2,\n",
       " 'world': 7,\n",
       " 'holder,': 1,\n",
       " 'hell': 1,\n",
       " 'actions,': 2,\n",
       " \"i'\": 1,\n",
       " 'spain,(*)': 1,\n",
       " 'yourself,': 2,\n",
       " 'del': 5,\n",
       " 'foreseen': 2,\n",
       " 'valore': 1,\n",
       " 'hedingham': 1,\n",
       " 'aggrandizement': 2,\n",
       " 'leaping': 1,\n",
       " 'three,': 1,\n",
       " 'abreast': 1,\n",
       " 'carmagnola': 1,\n",
       " 'conspiracies': 3,\n",
       " 'costs': 3,\n",
       " 'sparta,': 1,\n",
       " 'imagined.': 1,\n",
       " '$5,000)': 1,\n",
       " 'avoid': 19,\n",
       " 'administrators,': 1,\n",
       " 'failing': 1,\n",
       " 'master,': 1,\n",
       " 'revenues': 1,\n",
       " 'ungrateful,': 1,\n",
       " 'castle,': 3,\n",
       " 'english': 3,\n",
       " 'designate': 1,\n",
       " 'deity.': 1,\n",
       " 'year,': 2,\n",
       " 'severities(*)': 1,\n",
       " '216': 1,\n",
       " 'laws,': 5,\n",
       " 'industry': 1,\n",
       " 'faenza,': 1,\n",
       " 'secretly,': 1,\n",
       " 'paragraphs': 3,\n",
       " 'advantages': 1,\n",
       " 'furnish': 1,\n",
       " 'duke.': 4,\n",
       " 'natures,': 2,\n",
       " 'adherents': 4,\n",
       " 'intellects:': 1,\n",
       " 'whilst': 42,\n",
       " 'side,': 6,\n",
       " 'suspicions.': 1,\n",
       " 'sustain': 2,\n",
       " 'controlled': 1,\n",
       " 'confront': 1,\n",
       " 'much': 73,\n",
       " 'hated': 17,\n",
       " 'valentino': 5,\n",
       " 'scale,': 1,\n",
       " 'too': 16,\n",
       " 'creation': 1,\n",
       " 'upheld': 1,\n",
       " 'invited': 3,\n",
       " 'petrarch:': 1,\n",
       " 'e': 4,\n",
       " 'convenient': 1,\n",
       " '1394.': 1,\n",
       " 'torture.': 1,\n",
       " 'not.': 2,\n",
       " 'occurred': 4,\n",
       " 'castracani': 5,\n",
       " 'opposite,': 1,\n",
       " 'lace': 1,\n",
       " 'spartans,': 1,\n",
       " 'perils,': 1,\n",
       " 'assisting': 1,\n",
       " 'do,': 6,\n",
       " 'events': 3,\n",
       " 'wife,': 1,\n",
       " 'homage?': 1,\n",
       " 'limited': 5,\n",
       " 'arise': 7,\n",
       " 'servant.': 1,\n",
       " 'effective': 1,\n",
       " 'pg': 1,\n",
       " '(because': 1,\n",
       " 'supporters.': 1,\n",
       " 'clever': 2,\n",
       " 'guide': 2,\n",
       " 'reading': 2,\n",
       " '\\\\\"striving': 1,\n",
       " 'prosecution': 1,\n",
       " '1487.': 1,\n",
       " 'ascent': 1,\n",
       " 'cyrus;': 1,\n",
       " 'ebooks': 4,\n",
       " 'beasts,': 1,\n",
       " 'malcontent': 1,\n",
       " 'depended': 1,\n",
       " 'outrageous': 1,\n",
       " 'study': 8,\n",
       " 'victory': 13,\n",
       " '1st': 1,\n",
       " 'amusing': 2,\n",
       " 'destroy': 8,\n",
       " 'answer:': 1,\n",
       " 'interesting,': 1,\n",
       " 'ruled': 10,\n",
       " 'fate': 3,\n",
       " 'arises:': 1,\n",
       " 'classes': 1,\n",
       " 'redistribute': 1,\n",
       " 'accomplish': 1,\n",
       " 'date': 3,\n",
       " 'tower': 2,\n",
       " 'half': 4,\n",
       " 'bridle': 1,\n",
       " '1857;': 1,\n",
       " 'requisite': 1,\n",
       " 'unready': 1,\n",
       " 'hannibal': 1,\n",
       " 'everybody.': 1,\n",
       " 'distant;': 1,\n",
       " 'consistent': 2,\n",
       " 'esteemed,': 1,\n",
       " 'attempts': 1,\n",
       " 'subjects,': 11,\n",
       " 'depart': 1,\n",
       " 'task,': 1,\n",
       " 'lying': 1,\n",
       " 'throne,': 1,\n",
       " 'games,': 1,\n",
       " 'vase': 1,\n",
       " 'firm:': 1,\n",
       " 'political': 3,\n",
       " 'baths': 1,\n",
       " 'opinion': 10,\n",
       " 'worse': 1,\n",
       " 'revolt,': 1,\n",
       " 'aspire': 3,\n",
       " 'rules,': 4,\n",
       " 'enlisted': 2,\n",
       " 'chiefs': 2,\n",
       " 'entity': 3,\n",
       " 'charitable': 1,\n",
       " 'cowardly,': 2,\n",
       " 'departure': 2,\n",
       " 'notions': 1,\n",
       " '4.': 2,\n",
       " 'anxieties': 1,\n",
       " 'hopes': 2,\n",
       " 'reconciled,': 1,\n",
       " 'coolness': 1,\n",
       " 'there--seeing': 1,\n",
       " 'maternal': 1,\n",
       " 'upon': 55,\n",
       " 'apply': 2,\n",
       " 'gherardesca,': 1,\n",
       " 'towns': 9,\n",
       " 'bestrewn': 1,\n",
       " 'honest,': 2,\n",
       " 'omit': 2,\n",
       " 'alike,': 2,\n",
       " '\\\\\"faith,\\\\': 1,\n",
       " 'inquired;': 1,\n",
       " 'worst': 1,\n",
       " 'can.\\\\': 1,\n",
       " 'resolution': 1,\n",
       " 'honourably': 2,\n",
       " 'intentions;': 1,\n",
       " 'french': 14,\n",
       " 'desperation': 2,\n",
       " 'runs': 2,\n",
       " 'people,\\\\': 1,\n",
       " 'manna,': 1,\n",
       " 'further,': 7,\n",
       " 'unfortunate': 2,\n",
       " 'redeemed': 1,\n",
       " 'integrity;': 1,\n",
       " 'gentleman': 2,\n",
       " 'usurpers': 1,\n",
       " 'singly': 1,\n",
       " '(february': 1,\n",
       " 'arno.': 1,\n",
       " 'gain': 16,\n",
       " 'milanese': 1,\n",
       " 'secondly,': 1,\n",
       " 'venetians': 11,\n",
       " 'touched': 1,\n",
       " 'instance': 3,\n",
       " 'question.\\\\': 1,\n",
       " 'binary': 1,\n",
       " 'circles,': 1,\n",
       " 'president,': 1,\n",
       " 'dangers,': 2,\n",
       " 'arm,': 2,\n",
       " 'employee': 1,\n",
       " 'superiore.\\\\': 1,\n",
       " 'stronger': 1,\n",
       " 'presence,': 1,\n",
       " 'town.': 1,\n",
       " 'yielded': 4,\n",
       " 'lay,': 1,\n",
       " 'priest': 5,\n",
       " 'allied,': 1,\n",
       " 'tribute,': 1,\n",
       " 'exhorting': 1,\n",
       " 'protect': 4,\n",
       " 'wait': 6,\n",
       " 'classici,': 1,\n",
       " 'statecraft': 2,\n",
       " 'colonna,': 1,\n",
       " 'robbery,': 2,\n",
       " 'foreseeing': 1,\n",
       " 'protected': 1,\n",
       " 'innovators': 1,\n",
       " 'diligently': 1,\n",
       " 'sustained': 3,\n",
       " 'ghibellines': 5,\n",
       " '\\\\\"faithful.\\\\': 1,\n",
       " 'easy.': 1,\n",
       " 'recalled': 2,\n",
       " 'amongst': 8,\n",
       " 'unexpected': 2,\n",
       " '\\\\\"intrattenere,\\\\': 1,\n",
       " 'reasons,': 7,\n",
       " 'ammazzare': 2,\n",
       " 'security': 7,\n",
       " 'avaricious': 2,\n",
       " 'misled': 1,\n",
       " 'correspondencies(*)': 1,\n",
       " 'royalty': 3,\n",
       " 'taken': 32,\n",
       " 'various': 7,\n",
       " 'activities,': 1,\n",
       " 'overawed': 1,\n",
       " 'sinigalia;': 1,\n",
       " 'macedonia': 2,\n",
       " 'doubt': 5,\n",
       " 'casciano.': 1,\n",
       " 'gesso.\\\\': 1,\n",
       " 'note': 2,\n",
       " '1852;': 1,\n",
       " 'timidity': 1,\n",
       " 'summit': 2,\n",
       " 'protest': 1,\n",
       " 'i.e.': 2,\n",
       " 'attaining': 1,\n",
       " 'marvel': 1,\n",
       " 'caravaggio,(*': 1,\n",
       " 'door,': 1,\n",
       " 'combination': 1,\n",
       " 'suspicion': 1,\n",
       " 'liberality': 9,\n",
       " 'reproved': 2,\n",
       " 'influences': 1,\n",
       " 'cose': 4,\n",
       " 'conspirators': 1,\n",
       " 'meets': 1,\n",
       " 'saying': 9,\n",
       " 'resembling': 1,\n",
       " 'defend': 18,\n",
       " 'laid': 13,\n",
       " 'companion': 1,\n",
       " 'whose': 9,\n",
       " 'philip': 5,\n",
       " 'times,': 7,\n",
       " 'decline,': 1,\n",
       " 'belief,': 1,\n",
       " 'weak': 4,\n",
       " 'antonio.': 1,\n",
       " 'numantia': 1,\n",
       " 'praiseworthy': 2,\n",
       " 'faenza': 2,\n",
       " 'centurion.': 1,\n",
       " 'block': 1,\n",
       " 'located': 4,\n",
       " 'kingdoms': 2,\n",
       " 'countenance,': 1,\n",
       " 'thinking': 5,\n",
       " 'ordinary': 2,\n",
       " 'grew': 4,\n",
       " 'proposed': 1,\n",
       " 'lambertuccio': 1,\n",
       " 'irrevocable,': 1,\n",
       " 'result': 3,\n",
       " 'architect': 1,\n",
       " 'maude': 1,\n",
       " 'unheard': 1,\n",
       " 'commemoration': 1,\n",
       " 'spoken,': 1,\n",
       " 'shown;': 1,\n",
       " 'escaped.': 1,\n",
       " 'graces': 1,\n",
       " 'insecure.': 1,\n",
       " 'last,': 1,\n",
       " 'city.': 1,\n",
       " 'acquired': 25,\n",
       " 'completed,': 1,\n",
       " 'fourteen': 2,\n",
       " 'tumult': 3,\n",
       " 'start': 1,\n",
       " 'heavy': 1,\n",
       " 'ears': 1,\n",
       " 'society,': 1,\n",
       " 'suits': 1,\n",
       " '_bons': 1,\n",
       " 'earlier': 1,\n",
       " 'republics,': 3,\n",
       " 'strange': 1,\n",
       " 'regni': 1,\n",
       " 'league': 3,\n",
       " 'murders,': 1,\n",
       " 'complained': 1,\n",
       " 'shores': 1,\n",
       " 'opposition': 2,\n",
       " 'lords,': 1,\n",
       " 'conspire.': 1,\n",
       " 'corrupter': 1,\n",
       " 'tasted': 1,\n",
       " 'editions,': 2,\n",
       " 'alba,': 1,\n",
       " 'amid': 3,\n",
       " 'xxiv': 1,\n",
       " 'fact,': 1,\n",
       " 'appear,': 1,\n",
       " 'refund.': 2,\n",
       " 'italy': 32,\n",
       " 'error,': 1,\n",
       " 'praised': 5,\n",
       " 'life': 21,\n",
       " 'assured': 1,\n",
       " 'dacre,': 1,\n",
       " 'massa,': 1,\n",
       " 'assured,': 1,\n",
       " 'death': 27,\n",
       " 'off': 14,\n",
       " 'steadily': 1,\n",
       " 'consummate': 1,\n",
       " 'michelagnolo': 1,\n",
       " 'memories': 1,\n",
       " 'surprised': 2,\n",
       " 'personages': 3,\n",
       " 'stipend,': 1,\n",
       " 'saints.\\\\': 1,\n",
       " 'idleness,': 1,\n",
       " 'doing': 10,\n",
       " 'cares;': 1,\n",
       " 'sprang,': 1,\n",
       " 'accordingly': 4,\n",
       " 'endow': 1,\n",
       " 'fia': 1,\n",
       " 'contributed': 3,\n",
       " 'any)': 1,\n",
       " \"prince'\": 1,\n",
       " 'else,': 2,\n",
       " 'through.': 1,\n",
       " 'medici:': 1,\n",
       " 'injure': 11,\n",
       " 'potentates': 2,\n",
       " 'paragraph': 11,\n",
       " 'shun': 1,\n",
       " 'remain': 12,\n",
       " 'nothing,': 2,\n",
       " 'haste': 1,\n",
       " 'distributed:': 1,\n",
       " 'partly': 10,\n",
       " 'cogunt': 1,\n",
       " 'praetor': 1,\n",
       " '1300,': 1,\n",
       " 'rejected': 2,\n",
       " 'glass': 1,\n",
       " 'rome,': 10,\n",
       " 'states': 31,\n",
       " 'contented': 2,\n",
       " 'archbishop': 2,\n",
       " 'enmities': 1,\n",
       " 'bind': 5,\n",
       " 'chastised': 2,\n",
       " 'embroidered': 1,\n",
       " 'equals,': 1,\n",
       " 'saluted': 1,\n",
       " 'obeyed': 1,\n",
       " 'xv': 1,\n",
       " 'metauro,': 1,\n",
       " 'fortresses,': 5,\n",
       " 'like': 17,\n",
       " 'mentioned.': 1,\n",
       " 'listener': 1,\n",
       " 'battles': 1,\n",
       " 'you;': 3,\n",
       " 'get,': 1,\n",
       " 'scattered': 5,\n",
       " 'guinigi.': 1,\n",
       " 'caravaggio,': 1,\n",
       " 'prosperity,': 1,\n",
       " 'robbery': 1,\n",
       " 'similarly': 1,\n",
       " 'going': 4,\n",
       " 'remedy': 5,\n",
       " 'doubtful,': 1,\n",
       " 'endured,': 1,\n",
       " 'kept': 27,\n",
       " 'meeting,': 1,\n",
       " '1.f': 1,\n",
       " 'management': 1,\n",
       " 'luca,': 2,\n",
       " 'asked.': 1,\n",
       " 'forces;': 3,\n",
       " 'de': 2,\n",
       " 'since': 7,\n",
       " 'accordance': 2,\n",
       " 'manifested': 2,\n",
       " 'drives': 1,\n",
       " '1.e': 1,\n",
       " 'embellished': 1,\n",
       " 'ten,': 1,\n",
       " 'administration.': 1,\n",
       " '1509': 1,\n",
       " 'repeat,': 1,\n",
       " 'sharply': 2,\n",
       " 'average': 2,\n",
       " 'mother,': 1,\n",
       " '1512,': 2,\n",
       " 'midday': 1,\n",
       " '\\\\\"catherine': 1,\n",
       " 'doth': 1,\n",
       " 'egyptians,': 1,\n",
       " 'resources': 3,\n",
       " 'yet,': 2,\n",
       " 'glory.': 3,\n",
       " 'vitellozo,': 1,\n",
       " 'continues:': 1,\n",
       " 'unarmed;': 1,\n",
       " 'kingdom;': 1,\n",
       " 'double': 4,\n",
       " 'unfortunate?\\\\': 1,\n",
       " 'seems': 3,\n",
       " 'vitelli,': 9,\n",
       " 'cerchi': 1,\n",
       " 'bodies': 2,\n",
       " 'sword': 1,\n",
       " 'sending': 3,\n",
       " 'who,': 37,\n",
       " 'besieged': 2,\n",
       " 'jeanne,': 1,\n",
       " 'manfred': 1,\n",
       " 'cry': 4,\n",
       " 'varying': 2,\n",
       " 'alliance,': 1,\n",
       " 'solicitation': 1,\n",
       " 'escape': 1,\n",
       " 'want': 5,\n",
       " '\\\\\"with': 2,\n",
       " 'accord': 1,\n",
       " 'said': 28,\n",
       " 'attribute': 1,\n",
       " 'thanked': 1,\n",
       " '4557': 1,\n",
       " 'informed': 2,\n",
       " 'discerning': 1,\n",
       " 'attempted': 1,\n",
       " 'description': 3,\n",
       " 'contro': 1,\n",
       " 'foreigner.': 1,\n",
       " 'adversity': 5,\n",
       " 'duke': 70,\n",
       " 'republic,': 6,\n",
       " 'come': 31,\n",
       " 'harbour': 1,\n",
       " '***': 4,\n",
       " 'scheme:': 1,\n",
       " 'opportunities': 4,\n",
       " 'fitness': 1,\n",
       " 'nurse,': 1,\n",
       " 'harmless': 1,\n",
       " 'promises,': 2,\n",
       " 'minority': 1,\n",
       " 'sharp': 2,\n",
       " 'raffaello': 1,\n",
       " 'truer,': 1,\n",
       " 'pictured': 1,\n",
       " 'unwilling': 1,\n",
       " 'croce,': 1,\n",
       " 'stories': 1,\n",
       " 'rolled': 1,\n",
       " 'irs': 1,\n",
       " 'fight': 13,\n",
       " 'head': 10,\n",
       " 'thoroughly': 3,\n",
       " 'capua,': 2,\n",
       " 'murders': 2,\n",
       " 'prologue': 1,\n",
       " 'confirmation': 1,\n",
       " 'did.\\\\': 1,\n",
       " 'run': 4,\n",
       " 'buildings,': 1,\n",
       " 'devotion': 2,\n",
       " 'diligence': 1,\n",
       " 'successful.': 1,\n",
       " 'discovered': 3,\n",
       " '(#)': 1,\n",
       " 'attacked': 15,\n",
       " 'endless': 5,\n",
       " 'refund': 7,\n",
       " 'teaches': 1,\n",
       " 'for': 437,\n",
       " 'this,': 24,\n",
       " 'milan;': 1,\n",
       " 'nor,': 1,\n",
       " 'illud': 1,\n",
       " 'pusillanimity': 1,\n",
       " 'length,': 2,\n",
       " 'educational': 1,\n",
       " 'pursuit': 1,\n",
       " 'flowers': 1,\n",
       " 'destruction': 4,\n",
       " 'senate,': 4,\n",
       " 'orsino,': 1,\n",
       " 'favourable': 1,\n",
       " 'war.\\\\': 1,\n",
       " 'never,': 1,\n",
       " '1232.txt': 1,\n",
       " 'came': 35,\n",
       " 'by': 504,\n",
       " 'disputes': 1,\n",
       " 'induce': 1,\n",
       " 'mental': 1,\n",
       " 'proportioned.': 1,\n",
       " 'giorgio,': 1,\n",
       " 'locations.': 1,\n",
       " 'prendera': 1,\n",
       " 'toothing': 1,\n",
       " 'order,': 1,\n",
       " 'shock.': 1,\n",
       " 'will': 201,\n",
       " 'soldiers;': 2,\n",
       " 'short': 16,\n",
       " '(1478-': 1,\n",
       " 'drinking,': 1,\n",
       " 'reap': 1,\n",
       " 'stable': 1,\n",
       " 'obstacles': 1,\n",
       " 'delighted': 1,\n",
       " 'practised,': 1,\n",
       " 'punished,': 1,\n",
       " 'flank': 1,\n",
       " 'converting': 1,\n",
       " 'risen,': 1,\n",
       " 'doubtful': 5,\n",
       " 'the': 3068,\n",
       " 'cunning;': 1,\n",
       " 'prisoners;': 1,\n",
       " 'introduce': 2,\n",
       " 'truths': 1,\n",
       " 'hat.': 1,\n",
       " 'scipio,': 1,\n",
       " 'razed': 1,\n",
       " 'huge': 1,\n",
       " 'miserly': 2,\n",
       " 'overheated,': 1,\n",
       " 'dare': 3,\n",
       " 'influence,': 1,\n",
       " 'composition;': 1,\n",
       " 'taro,': 2,\n",
       " 'discontinue': 1,\n",
       " 'countryside': 1,\n",
       " 'peaceful': 2,\n",
       " 'x': 2,\n",
       " 'all,': 2,\n",
       " 'forces': 23,\n",
       " 'satisfactorily,': 1,\n",
       " 'contempt': 6,\n",
       " 'absence': 2,\n",
       " 'desperation,': 1,\n",
       " 'frenchmen': 2,\n",
       " 'wisdom': 9,\n",
       " 'pontificate,': 1,\n",
       " 'observances': 1,\n",
       " 'await': 3,\n",
       " 'empoli,': 1,\n",
       " 'madonna': 2,\n",
       " 'women': 1,\n",
       " 'conclusion': 2,\n",
       " 'told:': 1,\n",
       " 'build': 3,\n",
       " 'syracusan,': 1,\n",
       " 'closed': 1,\n",
       " 'ambitions': 5,\n",
       " 'whoever': 6,\n",
       " 'guilds': 2,\n",
       " 'buondelmonti': 1,\n",
       " 'disputable': 1,\n",
       " 'describing': 1,\n",
       " 'wanting;': 1,\n",
       " 'died,': 4,\n",
       " '1462': 1,\n",
       " 'midst': 3,\n",
       " 'capital,': 1,\n",
       " 'eat,\\\\': 1,\n",
       " 'willingly': 2,\n",
       " 'loved,': 2,\n",
       " 'craft': 2,\n",
       " 'newby': 1,\n",
       " 'mention': 2,\n",
       " 'returned': 8,\n",
       " 'lack': 1,\n",
       " 'proprietary': 1,\n",
       " 'parentage': 1,\n",
       " 'merchants': 2,\n",
       " 'erroneous;': 1,\n",
       " 'cooled,': 1,\n",
       " '1515': 2,\n",
       " '\\\\\"right': 1,\n",
       " 'dearness': 1,\n",
       " 'obscurity': 1,\n",
       " 'somewhere': 1,\n",
       " 'undignified': 1,\n",
       " '\\\\\"contrary': 1,\n",
       " 'taxes': 1,\n",
       " 'campaign': 2,\n",
       " 'eastern': 1,\n",
       " 'compass': 2,\n",
       " 'varies': 1,\n",
       " 'ways,': 7,\n",
       " 'religious.': 1,\n",
       " 'january': 1,\n",
       " 'domnia,': 1,\n",
       " 'predominancy': 1,\n",
       " 'priest,': 1,\n",
       " 'within,': 1,\n",
       " 'problems': 2,\n",
       " 'passive,': 1,\n",
       " 'precautions,': 1,\n",
       " 'pontremoli': 1,\n",
       " 'above-named': 4,\n",
       " 'gain,': 1,\n",
       " 'restoration': 1,\n",
       " 'excuses': 1,\n",
       " '297': 1,\n",
       " \"italians'\": 1,\n",
       " 'few': 27,\n",
       " 'contributes': 1,\n",
       " 'in,': 2,\n",
       " 'depart,': 1,\n",
       " 'mercy,': 4,\n",
       " 'introduced': 1,\n",
       " 'zenith': 1,\n",
       " 'house.': 2,\n",
       " 'event,': 1,\n",
       " 'occasional': 1,\n",
       " 'cleared': 1,\n",
       " 'bucklers': 1,\n",
       " 'forefathers,': 1,\n",
       " 'could,': 2,\n",
       " 'character,': 2,\n",
       " 'other': 134,\n",
       " 'qualifications,': 1,\n",
       " 'pier': 1,\n",
       " 'appearance': 1,\n",
       " 'strenuously;': 1,\n",
       " '1390,': 1,\n",
       " 'substance': 1,\n",
       " 'failed,': 1,\n",
       " 'doubtless': 1,\n",
       " 'dispute': 1,\n",
       " 'quite': 10,\n",
       " 'miniato': 2,\n",
       " 'shall,': 1,\n",
       " 'commerce': 1,\n",
       " 'excepted': 1,\n",
       " \"cicero's\": 1,\n",
       " 'user': 2,\n",
       " 'officiis\\\\\":': 1,\n",
       " '1.e.1.': 1,\n",
       " 'true': 9,\n",
       " 'illustrious': 6,\n",
       " 'conduct': 12,\n",
       " 'filippo': 3,\n",
       " 'severus': 4,\n",
       " 'beloved': 4,\n",
       " 'suggestions,': 1,\n",
       " 'lamentable': 1,\n",
       " 'about.': 2,\n",
       " 'ii),': 1,\n",
       " 'governorships': 1,\n",
       " 'force;': 2,\n",
       " 'order': 49,\n",
       " 'energy,': 3,\n",
       " 'save': 5,\n",
       " 'severus,': 5,\n",
       " 'silent': 1,\n",
       " 'sparta': 1,\n",
       " 'means.': 1,\n",
       " 'dedicates': 1,\n",
       " 'tutor': 2,\n",
       " 'carnascialeschi': 1,\n",
       " 'soldier': 1,\n",
       " 'opened': 3,\n",
       " 'valleys,': 1,\n",
       " 'decline': 2,\n",
       " 'placed,': 1,\n",
       " 'austere': 1,\n",
       " 'tommaso': 1,\n",
       " 'forward,': 4,\n",
       " 'unconquerable': 1,\n",
       " 'bernardo': 1,\n",
       " 'five': 13,\n",
       " 'infantry': 23,\n",
       " 'anyone.': 1,\n",
       " 'employments.': 1,\n",
       " '(801)': 1,\n",
       " 'continual': 2,\n",
       " 'michele,': 1,\n",
       " 'backward': 1,\n",
       " 'eaten': 1,\n",
       " 'blood': 2,\n",
       " 'commissioners,': 1,\n",
       " 'year.': 1,\n",
       " 'soldiers.': 4,\n",
       " 'emboldened,': 1,\n",
       " 'replete': 1,\n",
       " 'fortify': 3,\n",
       " 'excisions;': 1,\n",
       " 'egypt': 1,\n",
       " 'qualities,': 2,\n",
       " 'aid,': 1,\n",
       " 'banquets': 1,\n",
       " 'conform': 2,\n",
       " 'occur:': 1,\n",
       " 'prospective': 1,\n",
       " 'part;': 1,\n",
       " 'supreme,': 1,\n",
       " 'remitting': 1,\n",
       " 'pisa': 18,\n",
       " 'legitimate': 1,\n",
       " 'recognized.\\\\\"--pall': 1,\n",
       " 'distrust': 2,\n",
       " 'anyone': 3,\n",
       " 'reduced': 3,\n",
       " 'either,': 2,\n",
       " 'course,': 5,\n",
       " 'excessive': 2,\n",
       " 'title': 7,\n",
       " 'encountered': 2,\n",
       " '1.c.': 1,\n",
       " 'reach': 6,\n",
       " 'knife.': 1,\n",
       " 'separated': 1,\n",
       " 'resolved': 4,\n",
       " 'augmenting': 1,\n",
       " 'magnificence,': 1,\n",
       " 'man?\\\\': 1,\n",
       " 'councils': 1,\n",
       " 'devised': 1,\n",
       " 'weakness': 3,\n",
       " 'volume,': 1,\n",
       " 'however,': 4,\n",
       " 'switzers.': 1,\n",
       " 'source': 3,\n",
       " 'persuades': 1,\n",
       " 'duke;': 2,\n",
       " '1460,': 1,\n",
       " 'treaty,': 1,\n",
       " 'partisans': 3,\n",
       " 'germans': 3,\n",
       " 'x.': 1,\n",
       " 'allies': 2,\n",
       " 'deep': 1,\n",
       " 'often': 19,\n",
       " 'munitions': 2,\n",
       " 'care.': 1,\n",
       " 'infantries,': 1,\n",
       " 'existence.': 1,\n",
       " 'initiative,': 1,\n",
       " 'imitated': 4,\n",
       " 'passed,': 1,\n",
       " 'offending': 2,\n",
       " 'ship': 1,\n",
       " 'nantes': 1,\n",
       " 'prospered': 2,\n",
       " 'pistoian': 1,\n",
       " 'it,': 37,\n",
       " 'prophets': 1,\n",
       " 'oppress': 2,\n",
       " 'hostile.': 1,\n",
       " 'counterfeit': 1,\n",
       " 'ornaments': 1,\n",
       " 'display,': 1,\n",
       " 'wonderfully': 1,\n",
       " 'identify,': 1,\n",
       " 'deliberately': 3,\n",
       " 'processing': 1,\n",
       " 'assistance.': 3,\n",
       " 'apparent': 2,\n",
       " 'magione,': 1,\n",
       " 'honourably,': 1,\n",
       " 'chalk': 4,\n",
       " '(dialogue),': 1,\n",
       " 'portcullis.': 1,\n",
       " 'pledge': 2,\n",
       " 'usurper,': 1,\n",
       " '1459,': 1,\n",
       " 'excellent': 6,\n",
       " 'impetuous': 2,\n",
       " 'demands': 1,\n",
       " 'walls.': 1,\n",
       " 'its': 62,\n",
       " 'instruction': 2,\n",
       " 'liberal,': 5,\n",
       " 'estimate': 1,\n",
       " 'international': 1,\n",
       " 'disorder': 1,\n",
       " 'kingdom,': 3,\n",
       " 'bit': 2,\n",
       " 'near': 10,\n",
       " 'showed,': 1,\n",
       " 'fiery': 1,\n",
       " 'chiding': 1,\n",
       " 'give,': 1,\n",
       " 'recommending': 1,\n",
       " 'infantry.': 4,\n",
       " 'road.': 1,\n",
       " 'gerozzo': 1,\n",
       " 'providing': 4,\n",
       " 'examine': 3,\n",
       " 'both,': 5,\n",
       " 'neglects': 1,\n",
       " 'connected': 1,\n",
       " 'seen': 30,\n",
       " 'maximinus,': 1,\n",
       " 'cruelty,': 6,\n",
       " 'town,': 1,\n",
       " 'bestows': 1,\n",
       " 'deeply': 2,\n",
       " 'eight': 3,\n",
       " 'green,': 1,\n",
       " 'ordinances,': 1,\n",
       " 'risen': 4,\n",
       " 'benefit,': 1,\n",
       " 'succeeds': 1,\n",
       " 'upright,': 2,\n",
       " 'repudiated': 1,\n",
       " '1508': 1,\n",
       " 'inducement': 1,\n",
       " 'fighting': 9,\n",
       " 'line,': 1,\n",
       " 'crushed.': 1,\n",
       " 'xii,': 1,\n",
       " 'with.\\\\': 1,\n",
       " 'expected,': 2,\n",
       " 'forcing': 1,\n",
       " 'draws': 1,\n",
       " 'principalities;': 1,\n",
       " 'innovator': 1,\n",
       " '1.e.7.': 1,\n",
       " 'francesco,': 5,\n",
       " 'accumulate': 1,\n",
       " 'pisa.': 4,\n",
       " 'unusual': 1,\n",
       " 'humours': 2,\n",
       " 'moved': 10,\n",
       " 'compass,': 1,\n",
       " 'enslaved': 2,\n",
       " 'seriously': 1,\n",
       " 'unenforceability': 1,\n",
       " 'colonies,': 1,\n",
       " 'months': 2,\n",
       " 'said,': 15,\n",
       " 'hurtful?': 1,\n",
       " 'buy': 1,\n",
       " 'appended': 1,\n",
       " 'repeat': 1,\n",
       " 'constantinople,(*)': 1,\n",
       " 'nonproprietary': 1,\n",
       " 'plain': 4,\n",
       " 'begged': 2,\n",
       " 'two-thirds': 1,\n",
       " 'era': 1,\n",
       " 'ago.': 1,\n",
       " 'language;': 1,\n",
       " 'syracuse.': 2,\n",
       " 'worth': 1,\n",
       " 'means,': 1,\n",
       " 'advised': 2,\n",
       " 'practise': 2,\n",
       " 'accorded': 1,\n",
       " 'mind.': 1,\n",
       " 'capital': 1,\n",
       " 'attentions': 1,\n",
       " 'lived,': 3,\n",
       " 'palace,': 2,\n",
       " 'goest': 2,\n",
       " 'created': 12,\n",
       " 'comest': 1,\n",
       " 'unless,': 1,\n",
       " 'shows': 2,\n",
       " '\\\\\"rota,\\\\': 1,\n",
       " 'again': 13,\n",
       " 'honesty.\\\\': 1,\n",
       " 'such': 107,\n",
       " 'efforts': 2,\n",
       " 'soldiers': 30,\n",
       " 'afterwards': 34,\n",
       " 'losing': 1,\n",
       " 'angered': 2,\n",
       " 'member': 2,\n",
       " 'please': 8,\n",
       " 'tuscans': 1,\n",
       " 'cruelty;': 1,\n",
       " 'armies,': 6,\n",
       " 'undone,': 1,\n",
       " 'maintaining': 5,\n",
       " 'fees': 3,\n",
       " 'personality': 1,\n",
       " 'modified': 1,\n",
       " 'it:': 1,\n",
       " '\\\\\"correspondency\\\\': 1,\n",
       " 'along': 5,\n",
       " 'stopping,': 1,\n",
       " 'interval': 1,\n",
       " 'finding': 6,\n",
       " 'fail,': 1,\n",
       " 'compilation': 1,\n",
       " 'florentines,': 13,\n",
       " 'beheld': 1,\n",
       " 'clearly': 2,\n",
       " ...}"
      ]
     },
     "execution_count": 11,
     "metadata": {},
     "output_type": "execute_result"
    }
   ],
   "source": [
    "data"
   ]
  },
  {
   "cell_type": "code",
   "execution_count": 12,
   "metadata": {
    "collapsed": false,
    "slideshow": {
     "slide_type": "subslide"
    }
   },
   "outputs": [],
   "source": [
    "def slicedict(mydict, num):\n",
    "    \"\"\" Get maximum 'num' (random) occurences from the dict \"\"\"\n",
    "    count = 1\n",
    "    sliced = {}\n",
    "    for key, value in mydict.items():\n",
    "        sliced[key] = value\n",
    "        count += 1\n",
    "        if count > num:\n",
    "            break\n",
    "\n",
    "    return sliced\n",
    "    "
   ]
  },
  {
   "cell_type": "code",
   "execution_count": 16,
   "metadata": {
    "collapsed": false,
    "slideshow": {
     "slide_type": "subslide"
    }
   },
   "outputs": [
    {
     "data": {
      "text/plain": [
       "{'\\\\\"contro': 2,\n",
       " 'constituted': 2,\n",
       " 'contemptible,': 1,\n",
       " 'makes': 7,\n",
       " 'objects': 1,\n",
       " 'told': 12,\n",
       " 'unmeritedly': 1,\n",
       " 'valued': 4,\n",
       " 'where,': 2,\n",
       " 'works,': 5}"
      ]
     },
     "execution_count": 16,
     "metadata": {},
     "output_type": "execute_result"
    }
   ],
   "source": [
    "slicedict(data, 10)"
   ]
  },
  {
   "cell_type": "code",
   "execution_count": 25,
   "metadata": {
    "collapsed": false,
    "slideshow": {
     "slide_type": "subslide"
    }
   },
   "outputs": [],
   "source": [
    "def sortdict(mydict):\n",
    "    \"\"\" Sort in descent verse based on values count \"\"\"\n",
    "    return sorted(mydict.items(), key=lambda x: x[1], reverse=True) \n"
   ]
  },
  {
   "cell_type": "code",
   "execution_count": 26,
   "metadata": {
    "collapsed": false,
    "slideshow": {
     "slide_type": "fragment"
    }
   },
   "outputs": [
    {
     "data": {
      "text/plain": [
       "[('the', 3068), ('to', 2100), ('and', 1907), ('of', 1796), ('in', 987)]"
      ]
     },
     "execution_count": 26,
     "metadata": {},
     "output_type": "execute_result"
    }
   ],
   "source": [
    "sortdict(data)[:5]"
   ]
  },
  {
   "cell_type": "markdown",
   "metadata": {
    "slideshow": {
     "slide_type": "slide"
    }
   },
   "source": [
    "## More than a single step"
   ]
  },
  {
   "cell_type": "markdown",
   "metadata": {
    "slideshow": {
     "slide_type": "fragment"
    }
   },
   "source": [
    "mrjob can be configured to run different steps\n",
    "\n",
    "for each step you can specify which part has to be executed\n",
    "and the method to use within the class you wrote\n"
   ]
  },
  {
   "cell_type": "code",
   "execution_count": null,
   "metadata": {
    "collapsed": true,
    "slideshow": {
     "slide_type": "subslide"
    }
   },
   "outputs": [],
   "source": [
    "def steps(self):\n",
    "    return [\n",
    "        MRStep(\n",
    "            mapper=self.mapper_get_words,\n",
    "            combiner=self.combiner_count_words,\n",
    "            reducer=self.reducer_count_words),\n",
    "        MRStep(reducer=self.reducer_find_max_word)\n",
    "    ]"
   ]
  },
  {
   "cell_type": "markdown",
   "metadata": {
    "slideshow": {
     "slide_type": "fragment"
    }
   },
   "source": [
    "This could be an improvement for our mrjob extension:\n",
    "\n",
    "- if steps method is provided, override the default written by the extension"
   ]
  },
  {
   "cell_type": "markdown",
   "metadata": {
    "slideshow": {
     "slide_type": "slide"
    }
   },
   "source": [
    "A quick note\n",
    "\n",
    "* With MrJob you cannot connect to a **remote** Hadoop cluster. \n",
    "    - Hadoop does not allow job submissions (class or executables) from outside.\n",
    "* On the contrary EMR on Amazon can be accessible from your laptop.\n",
    "    - Amazon created the [boto api](http://boto.readthedocs.org/en/latest/ref/emr.html) to solve the issue."
   ]
  },
  {
   "cell_type": "markdown",
   "metadata": {
    "slideshow": {
     "slide_type": "slide"
    }
   },
   "source": [
    "### Runners\n",
    "\n",
    "http://mrjob.readthedocs.org/en/latest/guides/runners.html\n",
    "\n",
    "You cannot use the programmatic runner functionality in the same file as your job class.\n"
   ]
  },
  {
   "cell_type": "code",
   "execution_count": null,
   "metadata": {
    "collapsed": true,
    "slideshow": {
     "slide_type": "subslide"
    }
   },
   "outputs": [],
   "source": [
    "## RUNNER: JUST AN EXAMPLE\n",
    "\n",
    "# Load class for mapreduce\n",
    "from mypackage import SomeClassWeWrote\n",
    "#from job import MRcoverage\n",
    "from mrjob.util import log_to_stream\n",
    "\n",
    "if __name__ == '__main__':\n",
    "\n",
    "    # Create object\n",
    "    mrjob = SomeClassWeWrote(args=[   \\\n",
    "        '-r', 'inline',\n",
    "        #'-r', 'local',\n",
    "        # '-r', 'hadoop',\n",
    "        # '--jobconf=mapreduce.job.maps=10',\n",
    "        # '--jobconf=mapreduce.job.reduces=4'\n",
    "        #'--jobconf=stream.recordreader.compression=bz2'\n",
    "        ])\n",
    "\n",
    "    # Run and handle output\n",
    "    with mrjob.make_runner() as runner:\n",
    "\n",
    "        # Redirect hadoop logs to stderr\n",
    "        log_to_stream(\"mrjob\")\n",
    "        # Execute the job\n",
    "        runner.run()\n",
    "\n",
    "        # Do something with stream output (e.g. file, database, etc.)\n",
    "        for line in runner.stream_output():\n",
    "            key, value = mrjob.parse_output_line(line)\n",
    "            print(key, value)"
   ]
  },
  {
   "cell_type": "markdown",
   "metadata": {
    "slideshow": {
     "slide_type": "slide"
    }
   },
   "source": [
    "# Recap with Mrjob"
   ]
  },
  {
   "cell_type": "markdown",
   "metadata": {
    "slideshow": {
     "slide_type": "-"
    }
   },
   "source": [
    "You should really read the [documentation of the latest version](http://mrjob.readthedocs.org/en/latest/).\n",
    "\n",
    "It covers every need without getting too much complicated.\n",
    "There are many other options and advanced behaviours to discover.\n",
    "\n",
    "<small>\n",
    "Note 1: We are using the most recent version (*release* **v.0.5.0dev** ) because its the first one to support Python 3.\n",
    "\n",
    "Note 2: Developer are there to help you, see my case in https://github.com/Yelp/mrjob/issues/1142\n",
    "</small>\n",
    "\n"
   ]
  },
  {
   "cell_type": "markdown",
   "metadata": {
    "slideshow": {
     "slide_type": "subslide"
    }
   },
   "source": [
    "* More documentation than any other framework or library\n",
    "* Write code in a single class (per Hadoop job)\n",
    "    * Map and Reduce are single methods\n",
    "    * Very clean and simple\n",
    "* Advanced configuration\n",
    "    * Configure multiple steps\n",
    "    * Handle command line options inside the python code (see docs)\n",
    "* Easily wrap input/output \n",
    "    * No data copy required with HDFS\n",
    "* Hadoop logs or errors directly into the script output\n",
    "* **Switch environment without changing the code...!**"
   ]
  },
  {
   "cell_type": "markdown",
   "metadata": {
    "slideshow": {
     "slide_type": "subslide"
    }
   },
   "source": [
    "**Cons**\n",
    "\n",
    "* Doesn’t give you the same level of access to Hadoop APIs \n",
    "    - Better: Dumbo and Pydoop\n",
    "    - Other libraries can be faster if you use typedbytes"
   ]
  },
  {
   "cell_type": "markdown",
   "metadata": {
    "slideshow": {
     "slide_type": "subslide"
    }
   },
   "source": [
    "### Comparison\n",
    "<img src='http://blog.cloudera.com/wp-content/uploads/2013/01/features.png'>"
   ]
  },
  {
   "cell_type": "markdown",
   "metadata": {
    "slideshow": {
     "slide_type": "subslide"
    }
   },
   "source": [
    "### Performance\n",
    "<img src='http://blog.cloudera.com/wp-content/uploads/2013/01/performance.png'>"
   ]
  },
  {
   "cell_type": "markdown",
   "metadata": {
    "slideshow": {
     "slide_type": "fragment"
    }
   },
   "source": [
    "source: http://blog.cloudera.com/blog/2013/01/a-guide-to-python-frameworks-for-hadoop/"
   ]
  },
  {
   "cell_type": "markdown",
   "metadata": {},
   "source": [
    "*One final note*: \n",
    "> Open source is a great thing\n",
    "\n",
    "The community listens to you:\n",
    "https://github.com/Yelp/mrjob/issues/1142"
   ]
  },
  {
   "cell_type": "markdown",
   "metadata": {
    "slideshow": {
     "slide_type": "slide"
    }
   },
   "source": [
    "# End of Chapter"
   ]
  }
 ],
 "metadata": {
  "celltoolbar": "Slideshow",
  "kernelspec": {
   "display_name": "Python 3",
   "language": "python",
   "name": "python3"
  },
  "language_info": {
   "codemirror_mode": {
    "name": "ipython",
    "version": 3
   },
   "file_extension": ".py",
   "mimetype": "text/x-python",
   "name": "python",
   "nbconvert_exporter": "python",
   "pygments_lexer": "ipython3",
   "version": "3.5.1"
  }
 },
 "nbformat": 4,
 "nbformat_minor": 0
}
