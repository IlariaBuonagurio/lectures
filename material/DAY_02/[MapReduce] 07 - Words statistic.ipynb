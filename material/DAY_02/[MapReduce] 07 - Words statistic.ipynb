{
 "cells": [
  {
   "cell_type": "markdown",
   "metadata": {},
   "source": [
    "# Words statistics using MrJob"
   ]
  },
  {
   "cell_type": "markdown",
   "metadata": {},
   "source": [
    "## Configuration"
   ]
  },
  {
   "cell_type": "code",
   "execution_count": null,
   "metadata": {
    "collapsed": false
   },
   "outputs": [],
   "source": [
    "mydir = \"mymrjob\"\n",
    "%env mydir = $mydir\n",
    "myinput = \"data/txt/2261.txt.utf-8\"\n",
    "%env myinput $myinput\n",
    "myscript = mydir + \"/words_statistic.py\"\n",
    "%env myscript $myscript\n",
    "\n",
    "%system mkdir -p $mydir\n",
    "%env myoutput $mydir/output\n",
    "%env mylog $mydir/log"
   ]
  },
  {
   "cell_type": "code",
   "execution_count": null,
   "metadata": {
    "collapsed": false
   },
   "outputs": [],
   "source": [
    "%%writefile $myscript\n",
    "\n",
    "from mrjob.job import MRJob\n",
    "\n",
    "\n",
    "class MRWordFrequencyCount(MRJob):\n",
    "\n",
    "    # takes a key and a value as args (in this case, the key is \n",
    "    # ignored and a single line of text input is the value) and \n",
    "    # yields as many key-value pairs as it likes. \n",
    "    def mapper(self, _, line):\n",
    "        yield \"chars\", len(line)\n",
    "        yield \"words\", len(line.split())\n",
    "        yield \"lines\", 1\n",
    "\n",
    "    # takes a key and an iterator of values and also yields as \n",
    "    # many key-value pairs as it likes. (In this case, it sums \n",
    "    # the values for each key, which represent the numbers of \n",
    "    # characters, words, and lines in the input.)\n",
    "    def reducer(self, key, values):\n",
    "        yield key, sum(values)\n",
    "\n",
    "\n",
    "if __name__ == '__main__':\n",
    "    MRWordFrequencyCount.run()"
   ]
  },
  {
   "cell_type": "markdown",
   "metadata": {},
   "source": [
    "### Execute the code"
   ]
  },
  {
   "cell_type": "code",
   "execution_count": null,
   "metadata": {
    "collapsed": true
   },
   "outputs": [],
   "source": [
    "\n",
    "# ! python $myscript $myinput 1> $myoutput 2> $mylog"
   ]
  },
  {
   "cell_type": "markdown",
   "metadata": {},
   "source": [
    "### Show Output"
   ]
  },
  {
   "cell_type": "code",
   "execution_count": null,
   "metadata": {
    "collapsed": false
   },
   "outputs": [],
   "source": [
    "# %cat $myoutput\n",
    "# %cat $mylog"
   ]
  }
 ],
 "metadata": {
  "kernelspec": {
   "display_name": "Python 3",
   "language": "python",
   "name": "python3"
  },
  "language_info": {
   "codemirror_mode": {
    "name": "ipython",
    "version": 2
   },
   "file_extension": ".py",
   "mimetype": "text/x-python",
   "name": "python",
   "nbconvert_exporter": "python",
   "pygments_lexer": "ipython2",
   "version": "2.7.11"
  }
 },
 "nbformat": 4,
 "nbformat_minor": 0
}
