{
 "cells": [
  {
   "cell_type": "markdown",
   "metadata": {},
   "source": [
    " understand MapReduce paradigm and how HADOOP implements it (with HDFS)"
   ]
  },
  {
   "cell_type": "markdown",
   "metadata": {},
   "source": [
    "\n",
    "What does it mean by “sharding” a database?\n",
    "Partition the database into smaller parts by using a column-based selection (vertical partitioning)\n",
    "Partition the database into smaller parts by using a row-based selection (horizontal partitioning)\n",
    "Partition the database into smaller parts by using a standard hash function: k(x) -> n(x * p)\n"
   ]
  },
  {
   "cell_type": "markdown",
   "metadata": {},
   "source": [
    "What’s the reason why a new data set put onto a HDFS volume gets replicated three times of different nodes?\n",
    "\n",
    "Performance. It improves the data locality.\n",
    "Fault-tolerance. If a node crashes, its load can be moved onto another resource\n",
    "Performance and fault-tolerance.\n"
   ]
  }
 ],
 "metadata": {
  "celltoolbar": "Slideshow",
  "kernelspec": {
   "display_name": "Python 3",
   "language": "python",
   "name": "python3"
  },
  "language_info": {
   "codemirror_mode": {
    "name": "ipython",
    "version": 3
   },
   "file_extension": ".py",
   "mimetype": "text/x-python",
   "name": "python",
   "nbconvert_exporter": "python",
   "pygments_lexer": "ipython3",
   "version": "3.5.1"
  }
 },
 "nbformat": 4,
 "nbformat_minor": 0
}
