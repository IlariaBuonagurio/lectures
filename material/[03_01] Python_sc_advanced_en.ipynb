{
 "cells": [
  {
   "cell_type": "markdown",
   "metadata": {
    "slideshow": {
     "slide_type": "slide"
    }
   },
   "source": [
    "# language features\n",
    "\n",
    "* Strong typing\n",
    "* Dynamic typing\n",
    "* \"Duck typing\"\n",
    "\n",
    "Warning: the assignment is not an operator as in C++!\n",
    "\n",
    "<pre>\n",
    ">>> a = b\n",
    "</pre>\n",
    "\n",
    "On the left there is a symbolic name, on the right an object. There is no copy, only binding!"
   ]
  },
  {
   "cell_type": "markdown",
   "metadata": {
    "slideshow": {
     "slide_type": "subslide"
    }
   },
   "source": [
    "## strong typing\n",
    "\n",
    "* Each object has a well-defined type throughout its existence; the type of an object can never change\n",
    "* The expressions to which the object can take part depend on the type of the object."
   ]
  },
  {
   "cell_type": "markdown",
   "metadata": {
    "slideshow": {
     "slide_type": "subslide"
    }
   },
   "source": [
    "## strong typing\n",
    "\n",
    "<pre>\n",
    ">>> 3 + 4\n",
    "7\n",
    ">>> \"3\" + \"4\"\n",
    "'34'\n",
    ">>> \"3\" + 4\n",
    "Traceback (most recent call last):\n",
    "  File \"&lt;stdin&gt;\", line 1, in &lt;module&gt;\n",
    "TypeError: Can't convert 'int' object to str implicitly\n",
    ">>> \"3\" * 4\n",
    "'3333'\n",
    "</pre>"
   ]
  },
  {
   "cell_type": "markdown",
   "metadata": {
    "slideshow": {
     "slide_type": "subslide"
    }
   },
   "source": [
    "## strong typing\n",
    "\n",
    "In untyped languages, expressions like “3” + 4 can make sense; for example, in Perl\n",
    "\n",
    "<pre>\n",
    "print \"3\" + 4;\n",
    "  => 7\n",
    "</pre>\n",
    "\n",
    "In other languages the same expression could produce the string “34”."
   ]
  },
  {
   "cell_type": "markdown",
   "metadata": {
    "slideshow": {
     "slide_type": "subslide"
    }
   },
   "source": [
    "## strong typing\n",
    "\n",
    "* Strong typing is good, avoids that you can perform operations that do not make sense!\n",
    "* The modern interpreted languages are typed in a strong way.\n",
    "* There are no particular advantages in an untyped language, only many disadvantages!"
   ]
  },
  {
   "cell_type": "markdown",
   "metadata": {
    "slideshow": {
     "slide_type": "subslide"
    }
   },
   "source": [
    "## static typing\n",
    "\n",
    "* Some languages, such as C, C ++ or Fortran, adopt a static typing.\n",
    "* In these languages, the type is associated with the symbolic name.\n",
    "* The type is associated with the symbolic name at the time of the declaration, and can not be changed within the scope of that symbolic name.\n",
    "* In Fortran the declaration shall not be mandatory, but the typing is still static (there is a default type)."
   ]
  },
  {
   "cell_type": "markdown",
   "metadata": {
    "slideshow": {
     "slide_type": "subslide"
    }
   },
   "source": [
    "## static typing\n",
    "\n",
    "A symbolic name can be associated with different objects within its scope, as long as these objects have all the same kind of the symbolic name!\n",
    "\n",
    "\n",
    "<pre>\n",
    "INTEGER :: a, b\n",
    "REAL :: c\n",
    "a = 1\n",
    "a = b\n",
    "a = c !!! cast REAL -> INTEGER\n",
    "</pre>"
   ]
  },
  {
   "cell_type": "markdown",
   "metadata": {
    "slideshow": {
     "slide_type": "subslide"
    }
   },
   "source": [
    "## dynamic typing\n",
    "\n",
    "* In most modern interpreted languages, typing is dynamic.\n",
    "* The type is associated with the object, not the symbolic name.\n",
    "* The symbolic name loses much of its importance: it should not be declared, and in its lifetime can point to arbitrary objects!"
   ]
  },
  {
   "cell_type": "markdown",
   "metadata": {
    "slideshow": {
     "slide_type": "subslide"
    }
   },
   "source": [
    "## dynamic typing\n",
    "\n",
    "<pre>\n",
    ">>> a = 4\n",
    ">>> print(type(a))\n",
    "&lt;class 'int'&gt;\n",
    ">>> a = 4.5\n",
    ">>> print(type(a))\n",
    "&lt;class 'float'&gt;\n",
    ">>> a = \"I'm a string\"\n",
    ">>> print(type(a))\n",
    "&lt;class 'str'&gt;\n",
    ">>> a = 1, 2\n",
    ">>> print(type(a))\n",
    "&lt;class 'tuple'&gt;\n",
    ">>>\n",
    "</pre>"
   ]
  },
  {
   "cell_type": "markdown",
   "metadata": {
    "slideshow": {
     "slide_type": "subslide"
    }
   },
   "source": [
    "## type system\n",
    "\n",
    "* The type system defines which operations can be performed on an object.\n",
    "* What does determine whether it is possible to evaluate the expression \"x + y\"?\n",
    "* What does determine whether you can run x.some_method()?"
   ]
  },
  {
   "cell_type": "markdown",
   "metadata": {
    "slideshow": {
     "slide_type": "subslide"
    }
   },
   "source": [
    "## type system\n",
    "\n",
    "* Different languages implement different typing systems:\n",
    "* Structural typing (Ocaml)\n",
    "* Nominal typing (C, C ++, Fortran)\n",
    "* \"Duck\" Typing (python, ruby)"
   ]
  },
  {
   "cell_type": "markdown",
   "metadata": {
    "slideshow": {
     "slide_type": "subslide"
    }
   },
   "source": [
    "## structural typing\n",
    "\n",
    "* Two objects refer to the same type if they have the same structure.\n",
    "* If a complex number is defined by a pair of real, and the coordinates of a point on the plane are defined by a pair of real, they are of the same type."
   ]
  },
  {
   "cell_type": "markdown",
   "metadata": {
    "slideshow": {
     "slide_type": "subslide"
    }
   },
   "source": [
    "## nominal typing\n",
    "\n",
    "* Two objects refer to the same type if and only if their statements are identical, they \"name\" the same type.\n",
    "* The C (and C ++) below the nominal typing, except for the use of typedef.\n",
    "* If \"complex\" and \"point\" have the same structure, but they are types declared separately, they are not the same type."
   ]
  },
  {
   "cell_type": "markdown",
   "metadata": {
    "slideshow": {
     "slide_type": "subslide"
    }
   },
   "source": [
    "## duck typing\n",
    "\n",
    "\"if it walks like a duck, and quacks like a duck, then it is a duck\"\n",
    "\n",
    "* In practice, in nominal and structural typing the check if \"x\" can appear in an expression takes place entirely in the compilation\n",
    "* In the case of duck typing, the check is done in run time: if the expression is possible, then it is executed."
   ]
  },
  {
   "cell_type": "markdown",
   "metadata": {
    "slideshow": {
     "slide_type": "subslide"
    }
   },
   "source": [
    "## duck typing\n",
    "\n",
    "<pre>\n",
    ">>> l = [1, 2, 3]\n",
    ">>> d = { 0: 0, 'a': 2, 'b': 4 }\n",
    ">>> i = 4\n",
    ">>> def foo(x):\n",
    "...     print(x[0] + 3)\n",
    "...\n",
    ">>> foo(l)\n",
    "4\n",
    ">>> foo(d)\n",
    "3\n",
    ">>> foo(i)\n",
    "Traceback (most recent call last):\n",
    "  File \"&lt;stdin&gt;\", line 1, in &lt;module&gt;\n",
    "  File \"&lt;stdin&gt;\", line 2, in foo\n",
    "TypeError: 'int' object is not subscriptable\n",
    "</pre>"
   ]
  },
  {
   "cell_type": "markdown",
   "metadata": {
    "slideshow": {
     "slide_type": "subslide"
    }
   },
   "source": [
    "## duck typing\n",
    "\n",
    "* The three objects *l*, *d*, and *i* have different types; *l* and *d* may take the place of \"*x*\" in the expression *x[0] + 3* as their types both implement indexing through square brackets; *i* don't."
   ]
  },
  {
   "cell_type": "markdown",
   "metadata": {
    "slideshow": {
     "slide_type": "subslide"
    }
   },
   "source": [
    "## type system\n",
    "\n",
    "* The nominal typing helps detect more errors at compile time, and this is an advantage. It also allows greater speed of execution. But it is inconvenient and slow down the development. Also greatly it slows the compile time.\n",
    "* The duck typing is much more comfortable and practical, and allows a remarkably faster development, especially is very natural implement polymorphism."
   ]
  },
  {
   "cell_type": "markdown",
   "metadata": {
    "slideshow": {
     "slide_type": "subslide"
    }
   },
   "source": [
    "## typing in python\n",
    "\n",
    "* Strong\n",
    "* Dynamic\n",
    "* \"Duck\"\n",
    "\n",
    "This is the best you could wish for in a modern interpreted language!"
   ]
  },
  {
   "cell_type": "markdown",
   "metadata": {
    "slideshow": {
     "slide_type": "slide"
    }
   },
   "source": [
    "# \"=\" (equal sign)\n",
    "\n",
    "WARNING! The seemingly harmless '=' takes on a new role!\n",
    "\n",
    "<pre>\n",
    ">>> a = [1, 2, 'c']\n",
    ">>> b = a\n",
    ">>> b.append(10)\n",
    ">>> print(b)\n",
    "[1, 2, 'c', 10]\n",
    ">>> print(a)\n",
    "[1, 2, 'c', 10] ### Argh! \"a\" has changed!!!\n",
    ">>>\n",
    "</pre>"
   ]
  },
  {
   "cell_type": "markdown",
   "metadata": {
    "slideshow": {
     "slide_type": "subslide"
    }
   },
   "source": [
    "## object reference\n",
    "\n",
    "* The fact is that '*b = a*' do not perform a copy from *a* to *b*, as in *C*, *C++* or *Fortran*; the meaning is completely different:\n",
    "* *b = a* means that the symbolic name *b* from now on will be used to access the object *a*.\n",
    "* Then *a* and *b* are now alternative symbolic names for the same physical object, a list. They are object reference."
   ]
  },
  {
   "cell_type": "markdown",
   "metadata": {
    "slideshow": {
     "slide_type": "subslide"
    }
   },
   "source": [
    "## object reference\n",
    "\n",
    "<pre>\n",
    ">>> b = 4\n",
    ">>> a = [1, 2, 3]\n",
    ">>> b = a # now b refers to the list [1, 2, 3]\n",
    ">>> print(b)\n",
    "[1, 2, 3]\n",
    ">>> b = 4 # now b refers to the integer 4\n",
    ">>> print(b)\n",
    "4\n",
    ">>> a = \"abc\" # now a refers to the string \"abc\"\n",
    ">>>\n",
    "</pre>"
   ]
  },
  {
   "cell_type": "markdown",
   "metadata": {
    "slideshow": {
     "slide_type": "subslide"
    }
   },
   "source": [
    "## object reference\n",
    "\n",
    "* What about the list `[1, 2, 3]` at the end of the previous example?\n",
    "* It is \"created\" at line 2 (`a = [1, 2, 3]`), and is referred by '`a`'\n",
    "* At line 3 (`b = a`) it is also referred by '`b`'\n",
    "* After the line 5 (`b = 4`) it is again referred only by '`a`'\n",
    "* After the line 7 (`a = \"abc\"`) is no longer referred by anyone!"
   ]
  },
  {
   "cell_type": "markdown",
   "metadata": {
    "slideshow": {
     "slide_type": "subslide"
    }
   },
   "source": [
    "## object reference\n",
    "\n",
    "* Each python object contains an attribute that represents the number of references to that object.\n",
    "* When we create a new reference, this attribute is increased by 1; when a reference disappears, it is decremented by 1.\n",
    "* When the number of references for an object becomes 0, the object is automatically destroyed."
   ]
  },
  {
   "cell_type": "markdown",
   "metadata": {
    "slideshow": {
     "slide_type": "subslide"
    }
   },
   "source": [
    "## garbage collection\n",
    "\n",
    "* Therefore, in line 7 the list [1, 2, 3] is destroyed, because now unusable\n",
    "* This process is called *garbage collection*."
   ]
  },
  {
   "cell_type": "markdown",
   "metadata": {
    "slideshow": {
     "slide_type": "subslide"
    }
   },
   "source": [
    "## garbage collection\n",
    "\n",
    "<pre>\n",
    ">>> class My(object):\n",
    "...   def __del__(self):\n",
    "...     print(\"DEL CALLED!\")\n",
    "...\n",
    ">>> m = My()\n",
    ">>> del m\n",
    "DEL CALLED!\n",
    ">>>\n",
    ">>> m = My()\n",
    ">>> n=m\n",
    ">>> del m   # the object can not be deleted now!\n",
    ">>> n=10\n",
    "DEL CALLED!\n",
    ">>>\n",
    "</pre>"
   ]
  },
  {
   "cell_type": "markdown",
   "metadata": {
    "slideshow": {
     "slide_type": "subslide"
    }
   },
   "source": [
    "## object identifier\n",
    "\n",
    "For each python object is automatically assigned a unique identifier; the function *id()* allows you to know it:\n",
    "\n",
    "<pre>\n",
    ">>> a = 4\n",
    ">>> print(id(a))\n",
    "33534544\n",
    ">>> b = a\n",
    ">>> print(id(b))\n",
    "33534544\n",
    ">>> a = [1, 2, 3]\n",
    ">>> print(id(a))\n",
    "36130544\n",
    ">>> b = a\n",
    ">>> print(id(b))\n",
    "36130544\n",
    ">>>\n",
    "</pre>"
   ]
  },
  {
   "cell_type": "markdown",
   "metadata": {
    "slideshow": {
     "slide_type": "subslide"
    }
   },
   "source": [
    "## mutable/immutable objects\n",
    "\n",
    "Some types (`int`, `float`, `long`, `str`, ...) are immutable: there are no methods to modify the instances.\n",
    "\n",
    "<pre>\n",
    ">>> a = \"hello\"\n",
    ">>> id(a)\n",
    "139857688217520\n",
    ">>> a += \" world\"\n",
    ">>> id(a)\n",
    "139857688221600\n",
    ">>>\n",
    "</pre>"
   ]
  },
  {
   "cell_type": "markdown",
   "metadata": {
    "slideshow": {
     "slide_type": "subslide"
    }
   },
   "source": [
    "## mutable/immutable objects\n",
    "\n",
    "Other types (`list`, `dict`, `set`, ...) are mutable, that is, there are ways to change the status of individual instances.\n",
    "\n",
    "<pre>\n",
    ">>> l = [1, 2, 3]\n",
    ">>> id(l)\n",
    "139857688122000\n",
    ">>> l += [4, 5]\n",
    ">>> l\n",
    "[1, 2, 3, 4, 5]\n",
    ">>> id(l)\n",
    "139857688122000\n",
    ">>> l[3] = 10\n",
    ">>> l\n",
    "[1, 2, 3, 10, 5]\n",
    "</pre>"
   ]
  },
  {
   "cell_type": "markdown",
   "metadata": {
    "slideshow": {
     "slide_type": "subslide"
    }
   },
   "source": [
    "## mutable/immutable objects\n",
    "\n",
    "In practice, if an object is immutable, the object changes only apparently: in reality creates a new object, and the reference points to the new object:\n",
    "\n",
    "<pre>\n",
    ">>> a = 4\n",
    ">>> print(id(a))\n",
    "33534544\n",
    ">>> a += 1 # it is like a = a + 1; \n",
    "           # the previous object int \"4\" \n",
    "           # has been destroyed, and a \n",
    "           # new int \"5\" is created\n",
    ">>> print(id(a))\n",
    "33534448\n",
    ">>>\n",
    "</pre>"
   ]
  },
  {
   "cell_type": "markdown",
   "metadata": {
    "slideshow": {
     "slide_type": "subslide"
    }
   },
   "source": [
    "## mutable/immutable objects\n",
    "\n",
    "When a mutable object is changed, the content changes, the state, but not its identifier:\n",
    "\n",
    "Change of the same istance:\n",
    "\n",
    "<pre>\n",
    ">>> l = [0, 3, 4]\n",
    ">>> print(id(l))\n",
    "36144696\n",
    ">>> l += ['a', 'b']\n",
    ">>> print(id(l))\n",
    "36144696\n",
    "</pre>"
   ]
  },
  {
   "cell_type": "markdown",
   "metadata": {
    "slideshow": {
     "slide_type": "subslide"
    }
   },
   "source": [
    "## mutable/immutable objects\n",
    "\n",
    "New instance creation:\n",
    "\n",
    "<pre>\n",
    ">>> l = [0, 3, 4]\n",
    ">>> print(id(l))\n",
    "140561359168792\n",
    ">>> l = l + ['a', 'b']\n",
    ">>> print(id(l))\n",
    "140561358639688\n",
    "</pre>"
   ]
  },
  {
   "cell_type": "markdown",
   "metadata": {
    "slideshow": {
     "slide_type": "subslide"
    }
   },
   "source": [
    "## pitfall: mutable default arguments\n",
    "\n",
    "**Warning:** the binding of the default values to the function's arguments is done only once, at the time of creation of the function!\n",
    "\n",
    "<pre>\n",
    ">>> def add_to_list(element, initial_list=[]):\n",
    "...   initial_list.append(element)\n",
    "...   return initial_list\n",
    "...\n",
    ">>> add_to_list(10,[1,2,3])\n",
    "[1,2,3,10]\n",
    ">>> add_to_list(1)\n",
    "[1]\n",
    ">>> add_to_list(90)\n",
    "[1, 90]\n",
    ">>> add_to_list(\"alfa\")\n",
    "[1, 90, 'alfa']\n",
    "</pre>"
   ]
  }
 ],
 "metadata": {
  "celltoolbar": "Slideshow",
  "kernelspec": {
   "display_name": "Python 3",
   "language": "python",
   "name": "python3"
  },
  "language_info": {
   "codemirror_mode": {
    "name": "ipython",
    "version": 3
   },
   "file_extension": ".py",
   "mimetype": "text/x-python",
   "name": "python",
   "nbconvert_exporter": "python",
   "pygments_lexer": "ipython3",
   "version": "3.5.1"
  }
 },
 "nbformat": 4,
 "nbformat_minor": 0
}
