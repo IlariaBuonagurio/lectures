{
 "cells": [
  {
   "cell_type": "markdown",
   "metadata": {
    "slideshow": {
     "slide_type": "slide"
    }
   },
   "source": [
    "<center>\n",
    "<img \n",
    "    src='https://raw.githubusercontent.com/cineca-scai/lectures/science-rome/pyscience/images/welcome.jpg'\n",
    "    width=800>\n",
    "</center>"
   ]
  },
  {
   "cell_type": "markdown",
   "metadata": {
    "slideshow": {
     "slide_type": "subslide"
    }
   },
   "source": [
    "> The most complicated part is to start"
   ]
  },
  {
   "cell_type": "markdown",
   "metadata": {},
   "source": [
    "<table>\n",
    "    <thead>\n",
    "        <tr> <th>Day</th> <th>Time</th> <th>Lesson</th> </tr>\n",
    "    </thead>\n",
    "    <tr> <td> 1 </td> <td> Morning </td> <td> Introduction to language </td> </tr>\n",
    "    <tr> <td> 1 </td> <td> Afternoon </td> <td> Modular code and some magic </td> </tr>\n",
    "    <tr> <td> 2 </td> <td> Morning </td> <td> Numeric optimized arrays </td> </tr>\n",
    "    <tr> <td> 2 </td> <td> Afternoon </td> <td> Numeric operations </td> </tr>\n",
    "    <tr> <td> 3 </td> <td> Morning </td> <td> Scientific libraries and dataframes </td> </tr>\n",
    "    <tr> <td> 3 </td> <td> Afternoon </td> <td> Various </td> </tr>\n",
    "</table>"
   ]
  },
  {
   "cell_type": "markdown",
   "metadata": {
    "slideshow": {
     "slide_type": "slide"
    }
   },
   "source": [
    "# Before starting"
   ]
  },
  {
   "cell_type": "markdown",
   "metadata": {
    "slideshow": {
     "slide_type": "subslide"
    }
   },
   "source": [
    "** Testing the audience **\n",
    "\n",
    "- Do you already know python?\n",
    "- Which version of python are you using?\n",
    "- What is the main reason you decided to use python? \n",
    "- Have you ever used `numpy`?\n",
    "- Do you know what `ipython` is?"
   ]
  },
  {
   "cell_type": "markdown",
   "metadata": {
    "slideshow": {
     "slide_type": "slide"
    }
   },
   "source": [
    "## The role of computing in science\n",
    "\n",
    "> about why you probably are here now"
   ]
  },
  {
   "cell_type": "markdown",
   "metadata": {
    "slideshow": {
     "slide_type": "subslide"
    }
   },
   "source": [
    "Science has traditionally been divided into \n",
    "\n",
    "* **experimental** and \n",
    "* **theoretical** disciplines."
   ]
  },
  {
   "cell_type": "markdown",
   "metadata": {
    "slideshow": {
     "slide_type": "fragment"
    }
   },
   "source": [
    "During the last several decades ***computing*** has emerged\n",
    "\n",
    "* Related to both experiments and theory.\n",
    "* Often viewed as a new third branch of science. "
   ]
  },
  {
   "cell_type": "markdown",
   "metadata": {
    "slideshow": {
     "slide_type": "subslide"
    }
   },
   "source": [
    "<center>\n",
    "    <img src=\"images/theory-experiment-computation.png\" width=\"600\">\n",
    "</center>"
   ]
  },
  {
   "cell_type": "markdown",
   "metadata": {
    "slideshow": {
     "slide_type": "subslide"
    }
   },
   "source": [
    "*Nowadays a vast majority of both experimental and theoretical papers involve some **numerical calculations**, simulations or computer modeling*."
   ]
  },
  {
   "cell_type": "markdown",
   "metadata": {
    "slideshow": {
     "slide_type": "slide"
    }
   },
   "source": [
    "## Requirements on scientific computing"
   ]
  },
  {
   "cell_type": "markdown",
   "metadata": {
    "slideshow": {
     "slide_type": "subslide"
    }
   },
   "source": [
    "With respect to numerical work:"
   ]
  },
  {
   "cell_type": "markdown",
   "metadata": {
    "slideshow": {
     "slide_type": "fragment"
    }
   },
   "source": [
    "**Replication**\n",
    "    - An author of a scientific paper that involves numerical calculations should be able to rerun the simulations and replicate the results upon request. \n",
    "    - Other scientist should also be able to perform the same calculations and obtain the same results, given the information about the methods used in a publication."
   ]
  },
  {
   "cell_type": "markdown",
   "metadata": {
    "slideshow": {
     "slide_type": "subslide"
    }
   },
   "source": [
    "**Reproducibility** \n",
    "    - The results obtained should be reproducible with an independent implementation of the method, or using a different method altogether. "
   ]
  },
  {
   "cell_type": "markdown",
   "metadata": {
    "slideshow": {
     "slide_type": "subslide"
    }
   },
   "source": [
    "In experimental sciences\n",
    "* the methods used and the results are published\n",
    "* All experimental data should be available upon request\n",
    "* It is considered unscientific to withhold crucial details in a theoretical proof\n",
    "\n",
    "In computational sciences \n",
    "* There are not yet any well established guidelines for how **source code** and **generated data** should be handled. \n",
    "\n",
    "*A number of editorials in high-profile journals have started \n",
    "to demand of authors to provide the source code for simulation software*\n"
   ]
  },
  {
   "cell_type": "markdown",
   "metadata": {
    "slideshow": {
     "slide_type": "subslide"
    }
   },
   "source": [
    "> Reproducibility is one of the cornerstones of science. \n",
    "\n",
    "> Made popular by British scientist Robert Boyle in the 1660s, the idea is that a discovery should be reproducible before being accepted as scientific knowledge.\n",
    "\n",
    "> Computers wrangle the data, but also obscure it...\n",
    "\n",
    "> recommend free software that is available for all computer systems (eg. Windows, Mac, and Linux) for analyzing and visualizing data (such as R and Python)\n",
    "\n",
    "source: http://j.mp/1TjbF7i\n"
   ]
  },
  {
   "cell_type": "markdown",
   "metadata": {
    "slideshow": {
     "slide_type": "subslide"
    }
   },
   "source": [
    "### To achieve goals\n",
    "\n",
    "* Keep source code and version that was used to produce data and figures in published papers\n",
    "* Record information of which version of external software that was used\n",
    "    - Keep access to the environment that was used\n",
    "* Be ready to give additional information about the methods used\n",
    "* Ideally codes should be published online"
   ]
  },
  {
   "cell_type": "markdown",
   "metadata": {
    "slideshow": {
     "slide_type": "slide"
    }
   },
   "source": [
    "1. Can we do something for keeping source code/tools versions?\n",
    "\n",
    "2. How to write (understandable) code that can be published online?"
   ]
  },
  {
   "cell_type": "markdown",
   "metadata": {
    "slideshow": {
     "slide_type": "subslide"
    }
   },
   "source": [
    "# Tools for managing source code\n",
    "*this is extremely important for your future work*"
   ]
  },
  {
   "cell_type": "markdown",
   "metadata": {
    "slideshow": {
     "slide_type": "subslide"
    }
   },
   "source": [
    "Ensuring replicability and reprodicibility of scientific simulations is a *complicated problem*"
   ]
  },
  {
   "cell_type": "markdown",
   "metadata": {
    "slideshow": {
     "slide_type": "subslide"
    }
   },
   "source": [
    "#### Revision Control System (RCS) software\n",
    "Good choices include\n",
    "* git - http://git-scm.com\n",
    "* mercurial - http://mercurial.selenic.com. Also known as `hg`\n",
    "* subversion - http://subversion.apache.org. Also known as `svn`"
   ]
  },
  {
   "cell_type": "markdown",
   "metadata": {
    "slideshow": {
     "slide_type": "subslide"
    }
   },
   "source": [
    "#### Online repositories for source code\n",
    "Some good alternatives are\n",
    "* Github - http://www.github.com\n",
    "* Bitbucket - http://www.bitbucket.com\n",
    "* Privately hosted repositories on the university's or department's servers"
   ]
  },
  {
   "cell_type": "markdown",
   "metadata": {
    "slideshow": {
     "slide_type": "subslide"
    }
   },
   "source": [
    "Repositories are also excellent for version controlling manuscripts, figures, thesis files, data files, lab logs, etc. \n",
    "\n",
    "Basically for any digital content that must be preserved and is frequently updated!\n",
    "\n",
    "They are also excellent **collaboration tools**!"
   ]
  },
  {
   "cell_type": "markdown",
   "metadata": {
    "slideshow": {
     "slide_type": "slide"
    }
   },
   "source": [
    "## The cycle of data/science projects\n",
    "\n",
    "> how computing changed the life of a scientist"
   ]
  },
  {
   "cell_type": "markdown",
   "metadata": {
    "slideshow": {
     "slide_type": "subslide"
    }
   },
   "source": [
    "<table>\n",
    "<tr><td>\n",
    "<h2>Steps:</h2>\n",
    "<br>\n",
    "1. Identify the problem\n",
    "<br>\n",
    "2. Identify available data sources\n",
    "<br>\n",
    "3. Implementation\n",
    "<br>\n",
    "4. Statistics and tests\n",
    "<br>\n",
    "5. Develop application/service/paper\n",
    "<br><br>\n",
    "Additional:\n",
    "<br>\n",
    "6. Share results\n",
    "<br>\n",
    "7. Maintenance\n",
    "<br>\n",
    "</td>\n",
    "<td>\n",
    "<img src='http://j.mp/1lMNT8R' width=500>\n",
    "</td></tr></table>"
   ]
  },
  {
   "cell_type": "markdown",
   "metadata": {
    "slideshow": {
     "slide_type": "fragment"
    }
   },
   "source": [
    "source *Vincent Granville*:\n",
    "http://www.datasciencecentral.com/profiles/blogs/life-cycle-of-data-science-projects"
   ]
  },
  {
   "cell_type": "markdown",
   "metadata": {
    "slideshow": {
     "slide_type": "slide"
    }
   },
   "source": [
    "# Uff.. boring!"
   ]
  },
  {
   "cell_type": "markdown",
   "metadata": {
    "slideshow": {
     "slide_type": "fragment"
    }
   },
   "source": [
    "I agree! Here we go...\n",
    "\n",
    "\n",
    "...with live code from the beginning!"
   ]
  },
  {
   "cell_type": "code",
   "execution_count": null,
   "metadata": {
    "collapsed": false,
    "scrolled": true,
    "slideshow": {
     "slide_type": "subslide"
    }
   },
   "outputs": [],
   "source": [
    "%%bash \n",
    "\n",
    "# Download an extension from my repo\n",
    "repo=\"https://raw.githubusercontent.com/pdonorio/pdonorio.github.io\"\n",
    "path=\"$HOME/.ipython/extensions\" \n",
    "extension=\"whoami.py\"\n",
    "\n",
    "# Use bash commands!\n",
    "wget -q $repo/master/scripts/$extension -O $path/$extension\n",
    "echo \"Downloaded\""
   ]
  },
  {
   "cell_type": "markdown",
   "metadata": {
    "slideshow": {
     "slide_type": "fragment"
    }
   },
   "source": [
    "* note to self: click on the cell below\n",
    "* then press key combination: `SHIFT` + `ENTER`"
   ]
  },
  {
   "cell_type": "code",
   "execution_count": null,
   "metadata": {
    "collapsed": false,
    "scrolled": true,
    "slideshow": {
     "slide_type": "fragment"
    }
   },
   "outputs": [],
   "source": [
    "# Load the installed extension\n",
    "%load_ext whoami"
   ]
  },
  {
   "cell_type": "markdown",
   "metadata": {
    "slideshow": {
     "slide_type": "subslide"
    }
   },
   "source": [
    "<small> wait, what is that?? </small>"
   ]
  },
  {
   "cell_type": "markdown",
   "metadata": {
    "slideshow": {
     "slide_type": "subslide"
    }
   },
   "source": [
    "A command about *my self*"
   ]
  },
  {
   "cell_type": "code",
   "execution_count": null,
   "metadata": {
    "collapsed": false,
    "scrolled": true,
    "slideshow": {
     "slide_type": "fragment"
    }
   },
   "outputs": [],
   "source": [
    "# This is a new command added from the extension 'whoami'\n",
    "%helloworld"
   ]
  },
  {
   "cell_type": "markdown",
   "metadata": {
    "slideshow": {
     "slide_type": "subslide"
    }
   },
   "source": [
    "### Ok. Let's double check"
   ]
  },
  {
   "cell_type": "code",
   "execution_count": null,
   "metadata": {
    "collapsed": false,
    "slideshow": {
     "slide_type": "-"
    }
   },
   "outputs": [],
   "source": [
    "import time\n",
    "print (\"Today is \" + time.strftime(\"%d/%m/%Y\"))"
   ]
  },
  {
   "cell_type": "markdown",
   "metadata": {
    "slideshow": {
     "slide_type": "slide"
    }
   },
   "source": [
    "## A notebook and a Calculator"
   ]
  },
  {
   "cell_type": "markdown",
   "metadata": {
    "slideshow": {
     "slide_type": "subslide"
    }
   },
   "source": [
    "Many of the things I used to use a calculator for, I now use Python for:"
   ]
  },
  {
   "cell_type": "code",
   "execution_count": null,
   "metadata": {
    "collapsed": false,
    "scrolled": true,
    "slideshow": {
     "slide_type": "fragment"
    }
   },
   "outputs": [],
   "source": [
    "2+2"
   ]
  },
  {
   "cell_type": "code",
   "execution_count": null,
   "metadata": {
    "collapsed": false,
    "scrolled": true,
    "slideshow": {
     "slide_type": "fragment"
    }
   },
   "outputs": [],
   "source": [
    "(50-5*6)/4"
   ]
  },
  {
   "cell_type": "code",
   "execution_count": null,
   "metadata": {
    "collapsed": false,
    "slideshow": {
     "slide_type": "fragment"
    }
   },
   "outputs": [],
   "source": [
    "5 ** 2"
   ]
  },
  {
   "cell_type": "markdown",
   "metadata": {
    "slideshow": {
     "slide_type": "subslide"
    }
   },
   "source": [
    "But much MUCH more powerful"
   ]
  },
  {
   "cell_type": "code",
   "execution_count": null,
   "metadata": {
    "collapsed": false,
    "slideshow": {
     "slide_type": "fragment"
    }
   },
   "outputs": [],
   "source": [
    "width = 20\n",
    "height = 5*9\n",
    "width * height"
   ]
  },
  {
   "cell_type": "markdown",
   "metadata": {
    "slideshow": {
     "slide_type": "subslide"
    }
   },
   "source": [
    "I can also use python as my base shell"
   ]
  },
  {
   "cell_type": "code",
   "execution_count": null,
   "metadata": {
    "collapsed": false,
    "scrolled": true,
    "slideshow": {
     "slide_type": "fragment"
    }
   },
   "outputs": [],
   "source": [
    "ls -l"
   ]
  },
  {
   "cell_type": "markdown",
   "metadata": {
    "slideshow": {
     "slide_type": "subslide"
    }
   },
   "source": [
    "Ok. I think i've got your attention..."
   ]
  },
  {
   "cell_type": "markdown",
   "metadata": {
    "slideshow": {
     "slide_type": "slide"
    }
   },
   "source": [
    "#  A modern approach to science\n",
    "*with python*\n",
    "\n",
    "<!-- logos -->\n",
    "<table>\n",
    "<tr>\n",
    "<td colspan=3> <img src='images/scai-logo.png' width=500> </td>\n",
    "</tr><tr>\n",
    "<td> <img src='http://upload.wikimedia.org/wikipedia/commons/thumb/f/f8/Python_logo_and_wordmark.svg/2000px-Python_logo_and_wordmark.svg.png' width=400> </td>\n",
    "<td> <img src='https://raw.githubusercontent.com/jupyter/nature-demo/master/images/jupyter-logo.png' width=400> </td>\n",
    "<td> <img src='https://pbs.twimg.com/profile_images/562949148932964352/a5XS7EQh.png' width=400> </td>\n",
    "</tr>\n",
    "</table>"
   ]
  },
  {
   "cell_type": "markdown",
   "metadata": {
    "slideshow": {
     "slide_type": "slide"
    }
   },
   "source": [
    "# The evolution"
   ]
  },
  {
   "cell_type": "markdown",
   "metadata": {
    "slideshow": {
     "slide_type": "fragment"
    }
   },
   "source": [
    "`Scripting` -> *Python* Interpreter -> *Ipython* Shell -> *Jupyter* Notebooks -> **Awesome!**"
   ]
  },
  {
   "cell_type": "markdown",
   "metadata": {
    "slideshow": {
     "slide_type": "subslide"
    }
   },
   "source": [
    "## About '*scripting*'"
   ]
  },
  {
   "cell_type": "markdown",
   "metadata": {
    "slideshow": {
     "slide_type": "subslide"
    }
   },
   "source": [
    "## Compilers\n",
    "\n",
    "* **Computer programs** are \"*binaries*\" (alphabet of only 0 and 1) instructions, which is the only language the machine understand.\n",
    "\n",
    "\n",
    "* A **programming language** (e.g. `C` or `Fortran`) is a way in the middle between human language (e.g. English) and machine language (0s and 1s).\n",
    "\n",
    "\n",
    "* A person learns `C` language which is translated into machine language by ***compilers***. The **code** is translated into **binaries** or **executables**.  "
   ]
  },
  {
   "cell_type": "markdown",
   "metadata": {
    "slideshow": {
     "slide_type": "subslide"
    }
   },
   "source": [
    "## Interpreters\n",
    "\n",
    "* **Scripting languages** are programming languages that *don't require an explicit compilation step*. For example: PHP, Javascript, Perl, Python, R.\n",
    "\n",
    "\n",
    "* You have to compile a C program before you can run it. You don't have to compile a JavaScript program before using it.\n",
    "\n",
    "\n",
    "* Scripting languages use **interpreters** (instead of compilers) to translate source-code to machine executable code at run-time."
   ]
  },
  {
   "cell_type": "markdown",
   "metadata": {
    "slideshow": {
     "slide_type": "slide"
    }
   },
   "source": [
    "## What is Python?\n",
    "\n",
    "> TL;TR: an interpreter"
   ]
  },
  {
   "cell_type": "markdown",
   "metadata": {
    "slideshow": {
     "slide_type": "subslide"
    }
   },
   "source": [
    "[Python](http://www.python.org/) is: \n",
    "\n",
    "> a modern, general-purpose, object-oriented, high-level programming language."
   ]
  },
  {
   "cell_type": "markdown",
   "metadata": {
    "slideshow": {
     "slide_type": "subslide"
    }
   },
   "source": [
    "### General characteristics of Python\n",
    "\n",
    "* **clean and simple language:** \n",
    "    * Easy-to-read and intuitive code\n",
    "    * easy-to-learn minimalistic syntax\n",
    "    * maintainability scales well with size of projects\n",
    "\n",
    "* **expressive language:** \n",
    "    * Fewer lines of code\n",
    "    * fewer bugs\n",
    "    * easier to maintain"
   ]
  },
  {
   "cell_type": "markdown",
   "metadata": {
    "slideshow": {
     "slide_type": "subslide"
    }
   },
   "source": [
    "### Some *technical* details\n",
    "\n",
    "* **dynamically typed:** \n",
    "    * No need to define the type of variables, function arguments or return types.\n",
    "* **automatic memory management:** \n",
    "    * No need to explicitly allocate and deallocate memory for variables and data arrays\n",
    "        * No memory leak bugs \n",
    "* **interpreted:** \n",
    "    * No need to compile the code\n",
    "        * The Python interpreter reads and executes the python code directly"
   ]
  },
  {
   "cell_type": "markdown",
   "metadata": {
    "slideshow": {
     "slide_type": "subslide"
    }
   },
   "source": [
    "### Advantages\n",
    "\n",
    "* The main advantage is ease of programming\n",
    "    - minimizing the **time required** to develop, debug and maintain the code\n",
    "* Well designed: encourage many good programming practices\n",
    "    - Modular, with good system for packaging and re-use of code\n",
    "    - This often results in more transparent, maintainable and bug-free code\n",
    "* Self describing (*introspection*)\n",
    "    - Documentation tightly integrated with the code\n",
    "* A large standard library, and a large collection of add-on packages"
   ]
  },
  {
   "cell_type": "markdown",
   "metadata": {
    "slideshow": {
     "slide_type": "subslide"
    }
   },
   "source": [
    "### Disadvantages\n",
    "\n",
    "* Interpreted and dynamically typed programming language's execution **may be slow compared to compiled** programming languages\n",
    "* Very different from functional programming, which you may already know a little bit"
   ]
  },
  {
   "cell_type": "markdown",
   "metadata": {
    "slideshow": {
     "slide_type": "subslide"
    }
   },
   "source": [
    "### Popularity"
   ]
  },
  {
   "cell_type": "markdown",
   "metadata": {},
   "source": [
    "source: http://githut.info/\n",
    "<img src='http://j.mp/1NwNIdj'>"
   ]
  },
  {
   "cell_type": "markdown",
   "metadata": {
    "slideshow": {
     "slide_type": "subslide"
    }
   },
   "source": [
    "### What makes python suitable for scientific computing?\n",
    "<img src=\"images/optimizing-what.png\" width=\"800\">"
   ]
  },
  {
   "cell_type": "markdown",
   "metadata": {
    "slideshow": {
     "slide_type": "slide"
    }
   },
   "source": [
    "# Python interpreter"
   ]
  },
  {
   "cell_type": "markdown",
   "metadata": {
    "slideshow": {
     "slide_type": "subslide"
    }
   },
   "source": [
    "The standard way to use the Python programming language is to use the Python interpreter to run python code"
   ]
  },
  {
   "cell_type": "markdown",
   "metadata": {
    "slideshow": {
     "slide_type": "fragment"
    }
   },
   "source": [
    "* The python interpreter is a program that read and execute the python code in files passed to it as arguments\n",
    "* At the command prompt, the command ``python`` is used to invoke the Python interpreter\n",
    "\n",
    "For example, to run a file ``my-program.py`` that contains python code from the command prompt, use:\n",
    "\n",
    "    $ python my-program.py"
   ]
  },
  {
   "cell_type": "markdown",
   "metadata": {
    "slideshow": {
     "slide_type": "subslide"
    }
   },
   "source": [
    "We can also start the interpreter by simply typing ``python`` at the command line, and interactively type python code into the interpreter. \n",
    "\n",
    "(i may use the notebook terminal)\n",
    "\n",
    "<img src=\"https://raw.githubusercontent.com/cineca-scai/lectures/master/pydata/images/python-screenshot.jpg\" width=\"700\">\n"
   ]
  },
  {
   "cell_type": "markdown",
   "metadata": {
    "slideshow": {
     "slide_type": "subslide"
    }
   },
   "source": [
    "Most notable feature of the Python language syntax is the use of **indentation** to define code blocks, instead of classic '*Parentheses*'"
   ]
  },
  {
   "cell_type": "markdown",
   "metadata": {
    "slideshow": {
     "slide_type": "fragment"
    }
   },
   "source": [
    "Let's see a quick shell demo."
   ]
  },
  {
   "cell_type": "markdown",
   "metadata": {
    "slideshow": {
     "slide_type": "subslide"
    }
   },
   "source": [
    "### IPython"
   ]
  },
  {
   "cell_type": "markdown",
   "metadata": {
    "slideshow": {
     "slide_type": "fragment"
    }
   },
   "source": [
    "IPython is an interactive shell that addresses the limitation of the standard python interpreter\n",
    "\n",
    "...it is a work-horse for scientific use of python! "
   ]
  },
  {
   "cell_type": "markdown",
   "metadata": {
    "slideshow": {
     "slide_type": "subslide"
    }
   },
   "source": [
    "It provides an interactive prompt to the python interpreter with a greatly improved user-friendliness.\n",
    "\n",
    "<img src=\"https://raw.githubusercontent.com/cineca-scai/lectures/master/pydata/images/ipython-screenshot.jpg\" width=\"800\">"
   ]
  },
  {
   "cell_type": "markdown",
   "metadata": {
    "slideshow": {
     "slide_type": "subslide"
    }
   },
   "source": [
    "Born in 2001 as a work of a student (*Fernando Perez*).\n",
    "\n",
    "Based on features he liked in *Mathematica* and trying to create a system for everyday scientific computing."
   ]
  },
  {
   "cell_type": "markdown",
   "metadata": {
    "slideshow": {
     "slide_type": "subslide"
    }
   },
   "source": [
    "Some of the many useful features of IPython includes:\n",
    "\n",
    "* Command history, which can be browsed with the up and down arrows on the keyboard.\n",
    "* Tab auto-completion.\n",
    "* In-line editing of code.\n",
    "* Object introspection, and automatic extract of documentation strings from python objects like classes and functions.\n",
    "* Good interaction with operating system shell.\n",
    "* Support for multiple parallel back-end processes, that can run on computing clusters or cloud services like Amazon EE2.\n"
   ]
  },
  {
   "cell_type": "markdown",
   "metadata": {
    "slideshow": {
     "slide_type": "subslide"
    }
   },
   "source": [
    "Let's see a quick shell demo.\n",
    "\n",
    "* colors\n",
    "* output\n",
    "* magic commands\n",
    "* history\n",
    "* bash commands"
   ]
  },
  {
   "cell_type": "markdown",
   "metadata": {
    "slideshow": {
     "slide_type": "slide"
    }
   },
   "source": [
    "# IPython notebook"
   ]
  },
  {
   "cell_type": "markdown",
   "metadata": {
    "slideshow": {
     "slide_type": "subslide"
    }
   },
   "source": [
    "[IPython notebook](http://ipython.org/notebook.html) is an HTML-based notebook environment for Python\n",
    "\n",
    "* Based on the IPython shell\n",
    "* Provides a web cell-based interactive environment powered with Javascript\n",
    "* System profiles to access unix-terminal-like capability\n",
    "* Comments and notes with HTML and markdown formats\n",
    "* Integrates embedded plots\n"
   ]
  },
  {
   "cell_type": "markdown",
   "metadata": {
    "slideshow": {
     "slide_type": "subslide"
    }
   },
   "source": [
    "<img src=\"https://raw.githubusercontent.com/cineca-scai/lectures/master/pydata/images/ipython-notebook-screenshot.jpg\" width=\"800\">"
   ]
  },
  {
   "cell_type": "markdown",
   "metadata": {
    "slideshow": {
     "slide_type": "subslide"
    }
   },
   "source": [
    "Although using the a web browser as graphical interface, \n",
    "\n",
    "IPython notebooks are usually run **locally**\n",
    "\n",
    "from the same computer that run the browser. "
   ]
  },
  {
   "cell_type": "markdown",
   "metadata": {
    "slideshow": {
     "slide_type": "subslide"
    }
   },
   "source": [
    "\n",
    "To start a new IPython notebook session, run the following command:\n",
    "\n",
    "    $ ipython notebook\n",
    "\n",
    "from a directory where you want the notebooks to be stored. \n",
    "\n",
    "<small>(This will open a new browser window with a running explorer of the current path)</small>"
   ]
  },
  {
   "cell_type": "markdown",
   "metadata": {
    "slideshow": {
     "slide_type": "slide"
    }
   },
   "source": [
    "# Jupyter project"
   ]
  },
  {
   "cell_type": "markdown",
   "metadata": {
    "slideshow": {
     "slide_type": "subslide"
    }
   },
   "source": [
    "> In 2014, Fernado Perez announced a spin-off project from IPython called Project Jupyter. \n",
    "\n",
    "> IPython will continue to exist as a Python shell and a kernel for Jupyter, \n",
    "\n",
    "> while **the notebook and other language-agnostic parts of IPython** will move under the Jupyter name. \n",
    "\n",
    "> Jupyter added support for Julia, R, Haskell and Ruby.\n",
    "\n",
    "source: https://en.wikipedia.org/wiki/IPython#Project_Jupyter"
   ]
  },
  {
   "cell_type": "markdown",
   "metadata": {
    "slideshow": {
     "slide_type": "subslide"
    }
   },
   "source": [
    "## Kernels\n",
    "\n",
    "Jupyter notebooks are based on **ipython kernels**.\n",
    "\n",
    "> A ‘kernel’ is a program that runs and introspects the user’s code. "
   ]
  },
  {
   "cell_type": "markdown",
   "metadata": {
    "slideshow": {
     "slide_type": "subslide"
    }
   },
   "source": [
    "IPython includes a kernel for Python code\n",
    "\n",
    "People have written kernels for [several other languages](https://github.com/ipython/ipython/wiki/IPython-kernels-for-other-languages)."
   ]
  },
  {
   "cell_type": "markdown",
   "metadata": {
    "slideshow": {
     "slide_type": "fragment"
    }
   },
   "source": [
    "<small>Note: \n",
    "If you wish to **write a Kernel for a missing language**, you can read the ipython development documentation:\n",
    "http://ipython.readthedocs.org/en/stable/development/kernels.html.</small>"
   ]
  },
  {
   "cell_type": "markdown",
   "metadata": {
    "slideshow": {
     "slide_type": "fragment"
    }
   },
   "source": [
    "<small>Note: When IPython starts a kernel, it passes it a connection file. \n",
    "This specifies how to set up communications with the frontend.</small>"
   ]
  },
  {
   "cell_type": "markdown",
   "metadata": {
    "slideshow": {
     "slide_type": "slide"
    }
   },
   "source": [
    "# Welcome, \n",
    "## new *you* \n",
    "\n",
    "a <u>notebooker</u> data scientist\n",
    "\n",
    "Note: \n",
    "\n",
    "we will NOW give you credentials to test notebook \n",
    "\n",
    "on our PICO cloud environment"
   ]
  },
  {
   "cell_type": "markdown",
   "metadata": {
    "slideshow": {
     "slide_type": "subslide"
    }
   },
   "source": [
    "## A notebook is crazy simple and fun"
   ]
  },
  {
   "cell_type": "markdown",
   "metadata": {
    "slideshow": {
     "slide_type": "-"
    }
   },
   "source": [
    "- explorer, create new, rename, remove"
   ]
  },
  {
   "cell_type": "markdown",
   "metadata": {
    "slideshow": {
     "slide_type": "fragment"
    }
   },
   "source": [
    "- move inside, run cell code, help"
   ]
  },
  {
   "cell_type": "markdown",
   "metadata": {
    "slideshow": {
     "slide_type": "fragment"
    }
   },
   "source": [
    "- the kernel: start and stop, cell types. autosaving and checkpoints."
   ]
  },
  {
   "cell_type": "markdown",
   "metadata": {
    "slideshow": {
     "slide_type": "fragment"
    }
   },
   "source": [
    "- shortcuts: becoming an editor"
   ]
  },
  {
   "cell_type": "markdown",
   "metadata": {
    "slideshow": {
     "slide_type": "subslide"
    }
   },
   "source": [
    "## A notebook is crazy simple and fun"
   ]
  },
  {
   "cell_type": "markdown",
   "metadata": {
    "slideshow": {
     "slide_type": "-"
    }
   },
   "source": [
    "- markdown and notes <small>(consider to [learn markdown language](http://markdowntutorial.com/))"
   ]
  },
  {
   "cell_type": "markdown",
   "metadata": {
    "slideshow": {
     "slide_type": "fragment"
    }
   },
   "source": [
    "- download ipynb, python, html"
   ]
  },
  {
   "cell_type": "markdown",
   "metadata": {
    "slideshow": {
     "slide_type": "fragment"
    }
   },
   "source": [
    "- install a library and use it"
   ]
  },
  {
   "cell_type": "markdown",
   "metadata": {
    "slideshow": {
     "slide_type": "fragment"
    }
   },
   "source": [
    "- slideshow"
   ]
  },
  {
   "cell_type": "markdown",
   "metadata": {
    "slideshow": {
     "slide_type": "slide"
    }
   },
   "source": [
    "- slideshow"
   ]
  },
  {
   "cell_type": "markdown",
   "metadata": {
    "slideshow": {
     "slide_type": "slide"
    }
   },
   "source": [
    "<center>\n",
    "<h2>The Pydata stack</h2>\n",
    "<img src=\"images/scientific-python-stack.jpg\" width=\"750\"></center>"
   ]
  },
  {
   "cell_type": "markdown",
   "metadata": {},
   "source": [
    "# Main resources\n",
    "\n",
    "- Course official website: http://bit.ly/pfs_2015rome\n",
    "- Github cineca-scai/lectures https://github.com/cineca-scai/lectures/tree/science-rome/pyscience\n",
    "- Docker hub and main notebook image https://hub.docker.com/r/cineca/nbscience\n",
    "- Python weekly newsletter http://www.pythonweekly.com/\n",
    "- Markdown cheatsheet https://github.com/adam-p/markdown-here/wiki/Markdown-Cheatsheet"
   ]
  },
  {
   "cell_type": "markdown",
   "metadata": {
    "slideshow": {
     "slide_type": "subslide"
    }
   },
   "source": [
    "## How to replicate this environment when you go home\n",
    "\n",
    "https://hub.docker.com/r/cineca/nbscience\n",
    "\n",
    "The resources we provided here for you are just simple **Docker containers** running on our PICO cloud.\n",
    "\n",
    "Docker (a lightweigth virtual environment) has the amazing property to run your software on a linux virtual environment in the same conditions on every machine. Also your workstation or laptop (even if they are windows or mac)."
   ]
  },
  {
   "cell_type": "markdown",
   "metadata": {
    "slideshow": {
     "slide_type": "slide"
    }
   },
   "source": [
    "last step before getting serious:\n",
    "\n",
    "## Python and module versions"
   ]
  },
  {
   "cell_type": "markdown",
   "metadata": {
    "slideshow": {
     "slide_type": "subslide"
    }
   },
   "source": [
    "For the reproducibility of an IPython notebook:\n",
    "\n",
    "- We record the versions of all these different software packages\n",
    "- If this is done properly it will be easy to reproduce the environment \n",
    "\n",
    "\n",
    "To encourage the practice of recording versions in notebooks:\n",
    "\n",
    "> a simple IPython extension that produces a table with versions numbers of selected software components"
   ]
  },
  {
   "cell_type": "markdown",
   "metadata": {
    "slideshow": {
     "slide_type": "fragment"
    }
   },
   "source": [
    "Now, to load the extension and produce the version table"
   ]
  },
  {
   "cell_type": "code",
   "execution_count": null,
   "metadata": {
    "collapsed": false,
    "scrolled": true,
    "slideshow": {
     "slide_type": "subslide"
    }
   },
   "outputs": [],
   "source": [
    "# Execute me now\n",
    "%reload_ext version_information\n",
    "%version_information numpy, scipy, pandas, matplotlib, seaborn, bokeh"
   ]
  },
  {
   "cell_type": "markdown",
   "metadata": {
    "collapsed": true,
    "slideshow": {
     "slide_type": "slide"
    }
   },
   "source": [
    "# End of Chapter\n",
    "\n",
    "This lectures are also available in *non-interactive mode* on free **nbviewer** service:\n",
    "http://bit.ly/pyscience_readonly"
   ]
  },
  {
   "cell_type": "markdown",
   "metadata": {
    "slideshow": {
     "slide_type": "fragment"
    }
   },
   "source": [
    "*note*:\n",
    "\n",
    "The idea of this course based on notebooks was initially inspired when i found the **Scientific Python lectures** written by *Robert Johansson*.\n",
    "\n",
    "Few of his material has been integrated with our previous courses.\n",
    "\n",
    "You can find its original work on his Github Project:\n",
    "https://github.com/jrjohansson/scientific-python-lectures"
   ]
  },
  {
   "cell_type": "markdown",
   "metadata": {
    "slideshow": {
     "slide_type": "fragment"
    }
   },
   "source": [
    "You can go to [next one](%5B01_02%5D%20Learning%20Python.ipynb)"
   ]
  }
 ],
 "metadata": {
  "celltoolbar": "Slideshow",
  "kernelspec": {
   "display_name": "Python 3",
   "language": "python",
   "name": "python3"
  },
  "language_info": {
   "codemirror_mode": {
    "name": "ipython",
    "version": 3
   },
   "file_extension": ".py",
   "mimetype": "text/x-python",
   "name": "python",
   "nbconvert_exporter": "python",
   "pygments_lexer": "ipython3",
   "version": "3.5.0"
  }
 },
 "nbformat": 4,
 "nbformat_minor": 0
}
