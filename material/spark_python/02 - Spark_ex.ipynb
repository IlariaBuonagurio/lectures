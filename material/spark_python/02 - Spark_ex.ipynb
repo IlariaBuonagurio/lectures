{
 "cells": [
  {
   "cell_type": "markdown",
   "metadata": {},
   "source": [
    "# (Py)Spark Exercises\n",
    "@stravanni\n",
    "\n"
   ]
  },
  {
   "cell_type": "markdown",
   "metadata": {},
   "source": [
    "----\n",
    "# Exercises\n",
    "### Try to solve the following exercise using the API introduced above"
   ]
  },
  {
   "cell_type": "code",
   "execution_count": 1,
   "metadata": {
    "collapsed": false
   },
   "outputs": [],
   "source": [
    "from pyspark import SparkConf, SparkContext\n",
    "conf = SparkConf()\n",
    "sc = SparkContext(conf=conf)"
   ]
  },
  {
   "cell_type": "markdown",
   "metadata": {},
   "source": [
    "## A. Wordcount\n",
    "1. read the file \"example.txt\", containing \"THE DIVINE COMEDY\"\n",
    "2. Select the 10 most frequent words, exluding che stopwords"
   ]
  },
  {
   "cell_type": "code",
   "execution_count": 2,
   "metadata": {
    "collapsed": false
   },
   "outputs": [],
   "source": [
    "#%%sh\n",
    "#pip install -U nltk"
   ]
  },
  {
   "cell_type": "code",
   "execution_count": 3,
   "metadata": {
    "collapsed": false
   },
   "outputs": [],
   "source": [
    "import nltk\n",
    "#nltk.download(\"stopwords\")"
   ]
  },
  {
   "cell_type": "code",
   "execution_count": 4,
   "metadata": {
    "collapsed": false
   },
   "outputs": [],
   "source": [
    "try:\n",
    "    import nltk.corpus as corpus\n",
    "    stopwords = set(corpus.stopwords.words())\n",
    "except ImportError: \n",
    "    stopwords = []"
   ]
  },
  {
   "cell_type": "code",
   "execution_count": 5,
   "metadata": {
    "collapsed": false
   },
   "outputs": [
    {
     "data": {
      "text/plain": [
       "[('one', 413),\n",
       " ('thou', 284),\n",
       " ('may', 238),\n",
       " ('great', 199),\n",
       " ('made', 183),\n",
       " ('would', 171),\n",
       " ('upon', 166),\n",
       " ('like', 166),\n",
       " ('time', 159),\n",
       " ('thy', 148)]"
      ]
     },
     "execution_count": 5,
     "metadata": {},
     "output_type": "execute_result"
    }
   ],
   "source": [
    "# scrivere la soluzione qua\n",
    "# Most common words in \"THE DIVINE COMEDY\"\n",
    "stopwords = stopwords.union([\"dante\",\"etc._:\",\"dante's\",\"_the\",\"(_inf._\"])\n",
    "rdd = sc.textFile(\"./data/DivineComedy.txt\")\n",
    "rdd_sw = rdd.flatMap(lambda line: line.split())\\\n",
    "            .map(lambda word: word.strip().lower())\\\n",
    "            .filter(lambda word: word not in stopwords)\\\n",
    "            .map(lambda word: (word, 1))\\\n",
    "            .reduceByKey(lambda a, b: a + b)\\\n",
    "            .sortBy(lambda a: a[1], ascending=False)\n",
    "res = rdd_sw.take(10)\n",
    "#    .map(lambda (key, cnt): (cnt, key)) \\\n",
    "#    .top(10)\n",
    "res"
   ]
  },
  {
   "cell_type": "markdown",
   "metadata": {},
   "source": [
    "## B. Estimating Pi\n",
    "This code estimates π by \"throwing darts\" at a circle.\n",
    "\n",
    "1. We pick random points in the unit square ((0, 0) to (1,1)) and see how many fall in the unit circle.\n",
    "2. The fraction should be π / 4, so we use this to get our estimate."
   ]
  },
  {
   "cell_type": "code",
   "execution_count": 6,
   "metadata": {
    "collapsed": false,
    "slideshow": {
     "slide_type": "slide"
    }
   },
   "outputs": [
    {
     "name": "stdout",
     "output_type": "stream",
     "text": [
      "Pi is roughly 2.88\n"
     ]
    }
   ],
   "source": [
    "# SOLUTION\n",
    "from random import random\n",
    "NUM_SAMPLES = 100\n",
    "\n",
    "def sample(p):\n",
    "    x, y = random(), random()\n",
    "    return 1 if x*x + y*y < 1 else 0\n",
    "\n",
    "#print random()\n",
    "#sample(10)\n",
    "#a = [1,2,3]\n",
    "#map(lambda a: 1 if random()**2 + random()**2 < 1 else 0,a)\n",
    "#lambda a: 1 if random()**2 + random()**2 < 1 else 0\n",
    "\n",
    "sample_nums = sc.parallelize(range(0, NUM_SAMPLES))\n",
    "#sample = sample_nums.map(lambda a: 1 if 1<2 else 0)\n",
    "sample = sample_nums.map(sample)\n",
    "count = sample.reduce(lambda a, b: a + b)\n",
    "\n",
    "print(\"Pi is roughly {0:.2f}\".format(4.0 * count / NUM_SAMPLES))"
   ]
  },
  {
   "cell_type": "markdown",
   "metadata": {},
   "source": [
    "## C. TMax"
   ]
  },
  {
   "cell_type": "code",
   "execution_count": 7,
   "metadata": {
    "collapsed": true
   },
   "outputs": [],
   "source": [
    "import re\n",
    "import sys"
   ]
  },
  {
   "cell_type": "code",
   "execution_count": 8,
   "metadata": {
    "collapsed": true
   },
   "outputs": [],
   "source": [
    "#function to extract the data from the line\n",
    "#based on position and filter out the invalid records\n",
    "def extractData(line):\n",
    "    val = line.strip()\n",
    "    (year, temp, q) = (str(val[15:19]), str(val[87:92]), str(val[92:93]))\n",
    "    if (temp != \"+9999\" and re.match(\"[01459]\", q)):\n",
    "        return [(year, temp)]\n",
    "    else:\n",
    "        return []"
   ]
  },
  {
   "cell_type": "code",
   "execution_count": 9,
   "metadata": {
    "collapsed": false
   },
   "outputs": [],
   "source": [
    "#Create an RDD from the input data in HDFS\n",
    "weatherData = sc.textFile(\"./data/1902.txt\")"
   ]
  },
  {
   "cell_type": "code",
   "execution_count": 10,
   "metadata": {
    "collapsed": false
   },
   "outputs": [],
   "source": [
    "#Transform the data to extract/filter and then find the max temperature\n",
    "temperature_per_year = weatherData.flatMap(extractData)\n",
    "max_temperature_per_year = temperature_per_year.reduceByKey(lambda a,b : a if int(a) > int(b) else b)"
   ]
  },
  {
   "cell_type": "code",
   "execution_count": 11,
   "metadata": {
    "collapsed": false
   },
   "outputs": [
    {
     "data": {
      "text/plain": [
       "['1902']"
      ]
     },
     "execution_count": 11,
     "metadata": {},
     "output_type": "execute_result"
    }
   ],
   "source": [
    "#temperature_per_year.sortByKey().takeSample(False,10)\n",
    "years = temperature_per_year.map(lambda a: a[0])\n",
    "years.distinct().collect()"
   ]
  },
  {
   "cell_type": "code",
   "execution_count": 12,
   "metadata": {
    "collapsed": false
   },
   "outputs": [],
   "source": [
    "#Save the RDD back into HDFS\n",
    "max_temperature_per_year.saveAsTextFile(\"./data/output.txt\")\n",
    "#max_temperature_per_year.saveAsTextFile(\"hdfs:///output\")"
   ]
  },
  {
   "cell_type": "markdown",
   "metadata": {},
   "source": [
    "#### Currently, pyspark doesn't support overwrite or append.\n",
    "\n",
    "- The function `saveAsTextFile` is\n",
    "a wrapper around `saveAsHadoopFile` and it's not possible overwrite existing files.\n",
    "\n",
    "#### in scala\n",
    "It is however trivial to do this using HDFS directly from Scala:\n",
    "```\n",
    "val hadoopConf = new org.apache.hadoop.conf.Configuration()\n",
    "\n",
    "val hdfs = org.apache.hadoop.fs.FileSystem.get(new java.net.URI(\"hdfs://localhost:9000\"), hadoopConf)\n",
    "```\n",
    "#### in shell\n",
    "- If you need to merge hdfs file, remember to use:\n",
    "[hadoop getMerge](https://hadoop.apache.org/docs/r2.4.1/hadoop-project-dist/hadoop-common/FileSystemShell.html#getmerge)\n",
    "- If you simply want to delete it:\n",
    "```\n",
    "hdfs dfs -rm -R \"hdfs:///output\"\n",
    "```"
   ]
  },
  {
   "cell_type": "code",
   "execution_count": 13,
   "metadata": {
    "collapsed": true
   },
   "outputs": [],
   "source": [
    "#weatherData_ = sc.textFile(\"hdfs:///output\")\n",
    "weatherData_ = sc.textFile(\"./data/output.txt\")"
   ]
  },
  {
   "cell_type": "code",
   "execution_count": 14,
   "metadata": {
    "collapsed": false
   },
   "outputs": [
    {
     "data": {
      "text/plain": [
       "[\"('1902', '+0244')\"]"
      ]
     },
     "execution_count": 14,
     "metadata": {},
     "output_type": "execute_result"
    }
   ],
   "source": [
    "weatherData_.collect()"
   ]
  },
  {
   "cell_type": "code",
   "execution_count": 15,
   "metadata": {
    "collapsed": false
   },
   "outputs": [],
   "source": [
    "%%bash\n",
    "rm -r data/o*\n",
    "#hdfs dfs -ls /output"
   ]
  },
  {
   "cell_type": "code",
   "execution_count": 16,
   "metadata": {
    "collapsed": false
   },
   "outputs": [],
   "source": [
    "#%%bash\n",
    "#hdfs dfs -rm -R \"hdfs:///output\"\n",
    "\n",
    "# http://hadoop.apache.org/docs/current/hadoop-project-dist/hadoop-common/FileSystemShell.html#rm"
   ]
  },
  {
   "cell_type": "code",
   "execution_count": null,
   "metadata": {
    "collapsed": true
   },
   "outputs": [],
   "source": []
  }
 ],
 "metadata": {
  "celltoolbar": "Raw Cell Format",
  "kernelspec": {
   "display_name": "Python 3",
   "language": "python",
   "name": "python3"
  },
  "language_info": {
   "codemirror_mode": {
    "name": "ipython",
    "version": 3
   },
   "file_extension": ".py",
   "mimetype": "text/x-python",
   "name": "python",
   "nbconvert_exporter": "python",
   "pygments_lexer": "ipython3",
   "version": "3.5.1"
  }
 },
 "nbformat": 4,
 "nbformat_minor": 0
}
