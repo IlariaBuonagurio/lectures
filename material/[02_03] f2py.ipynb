{
 "cells": [
  {
   "cell_type": "markdown",
   "metadata": {
    "slideshow": {
     "slide_type": "slide"
    }
   },
   "source": [
    "   ![](files/images/cover_f2py.png)  "
   ]
  },
  {
   "cell_type": "markdown",
   "metadata": {
    "slideshow": {
     "slide_type": "subslide"
    }
   },
   "source": [
    "## f2py\n",
    "* f2py allows to build an extension module that interfaces Python to Fortran 77/90/95 routines\n",
    "* Let's write a Fortran function to interface a simple array_multiply routine\n"
   ]
  },
  {
   "cell_type": "markdown",
   "metadata": {
    "slideshow": {
     "slide_type": "subslide"
    }
   },
   "source": [
    "## matmul example"
   ]
  },
  {
   "cell_type": "code",
   "execution_count": null,
   "metadata": {
    "collapsed": false,
    "slideshow": {
     "slide_type": "subslide"
    }
   },
   "outputs": [],
   "source": [
    "%%writefile mult.f90\n",
    "\n",
    "subroutine fmult(a,b,c,n)\n",
    "implicit none\n",
    "real*8 :: a(*)\n",
    "real*8 :: b(*)\n",
    "real*8 :: c(*)\n",
    "integer :: n, i\n",
    "do i =1,n\n",
    "  c(i) = a(i) * b(i)\n",
    "enddo\n",
    "end"
   ]
  },
  {
   "cell_type": "code",
   "execution_count": null,
   "metadata": {
    "collapsed": false,
    "slideshow": {
     "slide_type": "subslide"
    }
   },
   "outputs": [],
   "source": [
    "!f2py3 -c -m mult mult.f90"
   ]
  },
  {
   "cell_type": "code",
   "execution_count": null,
   "metadata": {
    "collapsed": false,
    "slideshow": {
     "slide_type": "subslide"
    }
   },
   "outputs": [],
   "source": [
    "# now we can import the module mult.so\n",
    "import mult\n",
    "print(mult.fmult.__doc__)"
   ]
  },
  {
   "cell_type": "code",
   "execution_count": null,
   "metadata": {
    "collapsed": false,
    "slideshow": {
     "slide_type": "subslide"
    }
   },
   "outputs": [],
   "source": [
    "a = np.ones(10000)+ 3 \n",
    "b = np.ones(10000)+ 1.5\n",
    "c = np.empty(a.size)\n",
    "mult.fmult(a,b,c,a.size)\n",
    "c"
   ]
  },
  {
   "cell_type": "markdown",
   "metadata": {
    "slideshow": {
     "slide_type": "skip"
    }
   },
   "source": [
    "## f2py: improving interface\n",
    "* One can improve the interface automatically built to make it more pythonic"
   ]
  },
  {
   "cell_type": "code",
   "execution_count": null,
   "metadata": {
    "collapsed": false,
    "slideshow": {
     "slide_type": "skip"
    }
   },
   "outputs": [],
   "source": [
    "!f2py -h mult.pyf -m mult mult.f90"
   ]
  },
  {
   "cell_type": "code",
   "execution_count": null,
   "metadata": {
    "collapsed": false,
    "slideshow": {
     "slide_type": "skip"
    }
   },
   "outputs": [],
   "source": [
    "!cat mult.pyf"
   ]
  },
  {
   "cell_type": "markdown",
   "metadata": {
    "slideshow": {
     "slide_type": "skip"
    }
   },
   "source": [
    "## Let's adapt the interface to be more pythonic"
   ]
  },
  {
   "cell_type": "code",
   "execution_count": null,
   "metadata": {
    "collapsed": false,
    "slideshow": {
     "slide_type": "skip"
    }
   },
   "outputs": [],
   "source": [
    "%%writefile mult.pyf\n",
    "\n",
    "!    -*- f90 -*-\n",
    "! Note: the context of this file is case sensitive.\n",
    "\n",
    "python module mult ! in \n",
    "    interface  ! in :mult\n",
    "        subroutine fmult(a,b,c,n) ! in :mult:mult.f90\n",
    "            real*8 dimension(n) :: a\n",
    "            real*8 dimension(n) :: b\n",
    "            real*8 intent(out), dimension(n) :: c\n",
    "            integer intent(hide), depend(a) :: n=len(a)\n",
    "        end subroutine fmult\n",
    "    end interface \n",
    "end python module mult\n",
    "\n",
    "! This file was auto-generated with f2py (version:2).\n",
    "! See http://cens.ioc.ee/projects/f2py2e/"
   ]
  },
  {
   "cell_type": "code",
   "execution_count": null,
   "metadata": {
    "collapsed": false,
    "slideshow": {
     "slide_type": "skip"
    }
   },
   "outputs": [],
   "source": [
    "!rm mult.cpython-34m.so\n",
    "!f2py3 -c -m mult mult.pyf mult.f90"
   ]
  },
  {
   "cell_type": "code",
   "execution_count": null,
   "metadata": {
    "collapsed": false,
    "slideshow": {
     "slide_type": "skip"
    }
   },
   "outputs": [],
   "source": [
    "import mult\n",
    "print(mult.fmult.__doc__)"
   ]
  },
  {
   "cell_type": "markdown",
   "metadata": {
    "slideshow": {
     "slide_type": "subslide"
    }
   },
   "source": [
    "## f2py: improving the interface \n",
    "\n",
    "* Inserting directives in fortran source to make the function more pythonic"
   ]
  },
  {
   "cell_type": "code",
   "execution_count": null,
   "metadata": {
    "collapsed": false,
    "slideshow": {
     "slide_type": "subslide"
    }
   },
   "outputs": [],
   "source": [
    "%%writefile mult2.f90\n",
    "\n",
    "subroutine fmult(a,b,c,n)\n",
    "implicit none\n",
    "real*8 :: a(n)\n",
    "real*8 :: b(n)\n",
    "real*8 :: c(n)\n",
    "integer :: n, i\n",
    "!f2py intent(hide), depend(a) :: n=len(a)\n",
    "!f2py real*8 :: a(n)\n",
    "!f2py real*8 :: b(n)\n",
    "!f2py real*8, intent(out) :: c(n)\n",
    "do i =1,n\n",
    "  c(i) = a(i) * b(i)\n",
    "enddo\n",
    "end\n"
   ]
  },
  {
   "cell_type": "code",
   "execution_count": null,
   "metadata": {
    "collapsed": false,
    "slideshow": {
     "slide_type": "subslide"
    }
   },
   "outputs": [],
   "source": [
    "!diff mult.f90 mult2.f90"
   ]
  },
  {
   "cell_type": "code",
   "execution_count": null,
   "metadata": {
    "collapsed": false,
    "slideshow": {
     "slide_type": "subslide"
    }
   },
   "outputs": [],
   "source": [
    "!f2py3 -c -m mult2 mult2.f90"
   ]
  },
  {
   "cell_type": "code",
   "execution_count": null,
   "metadata": {
    "collapsed": false,
    "slideshow": {
     "slide_type": "subslide"
    }
   },
   "outputs": [],
   "source": [
    "import mult2\n",
    "print(mult2.fmult.__doc__)"
   ]
  },
  {
   "cell_type": "code",
   "execution_count": null,
   "metadata": {
    "collapsed": true,
    "slideshow": {
     "slide_type": "subslide"
    }
   },
   "outputs": [],
   "source": [
    "import numpy as np"
   ]
  },
  {
   "cell_type": "code",
   "execution_count": null,
   "metadata": {
    "collapsed": false,
    "slideshow": {
     "slide_type": "subslide"
    }
   },
   "outputs": [],
   "source": [
    "a = np.array([1, 3, 4])\n",
    "b = np.array([2, 5, 1.5])\n",
    "c = mult2.fmult(a, b) \n",
    "c"
   ]
  },
  {
   "cell_type": "code",
   "execution_count": 64,
   "metadata": {
    "collapsed": false,
    "slideshow": {
     "slide_type": "subslide"
    }
   },
   "outputs": [],
   "source": [
    "a = np.arange(1, 10**6, 1.1)\n",
    "b = a.copy()"
   ]
  },
  {
   "cell_type": "code",
   "execution_count": 65,
   "metadata": {
    "collapsed": false,
    "slideshow": {
     "slide_type": "fragment"
    }
   },
   "outputs": [
    {
     "name": "stdout",
     "output_type": "stream",
     "text": [
      "100 loops, best of 3: 3.28 ms per loop\n"
     ]
    }
   ],
   "source": [
    "%timeit a*b"
   ]
  },
  {
   "cell_type": "code",
   "execution_count": 66,
   "metadata": {
    "collapsed": false,
    "slideshow": {
     "slide_type": "fragment"
    }
   },
   "outputs": [
    {
     "name": "stdout",
     "output_type": "stream",
     "text": [
      "100 loops, best of 3: 3.9 ms per loop\n"
     ]
    }
   ],
   "source": [
    "%timeit mult2.fmult(a,b)"
   ]
  },
  {
   "cell_type": "markdown",
   "metadata": {
    "slideshow": {
     "slide_type": "slide"
    }
   },
   "source": [
    "## second example: mandelbrot\n",
    "\n",
    "This fractal is defined by the iteration\n",
    "\n",
    "$$z ← z^2 + c$$\n",
    "\n",
    "where z and c are complex variables. This expression is iterated; if z stays finite, c belongs to the Mandelbrot set\n"
   ]
  },
  {
   "cell_type": "code",
   "execution_count": 67,
   "metadata": {
    "collapsed": false,
    "slideshow": {
     "slide_type": "subslide"
    }
   },
   "outputs": [
    {
     "name": "stdout",
     "output_type": "stream",
     "text": [
      "Overwriting mandel.f90\n"
     ]
    }
   ],
   "source": [
    "%%writefile mandel.f90\n",
    "\n",
    "subroutine single_point_mandelbrot(z,c,zout)\n",
    "    ! *************************************************\n",
    "    ! * compute single point mandlebrot *\n",
    "    ! *************************************************\n",
    "    implicit none\n",
    "    integer :: I \n",
    "    complex*16 :: z, c, zout\n",
    "    do i = 1,100\n",
    "        z = z*z + c\n",
    "        if ((real(z)**2 + aimag(z)**2 ) .gt. 1000.0) then\n",
    "           exit\n",
    "        endif \n",
    "    enddo\n",
    "    zout = z\n",
    "end subroutine\n"
   ]
  },
  {
   "cell_type": "markdown",
   "metadata": {
    "slideshow": {
     "slide_type": "subslide"
    }
   },
   "source": [
    "## mandelbrot/2\n",
    "Let us get the new module a more pythonic interface\n"
   ]
  },
  {
   "cell_type": "code",
   "execution_count": 68,
   "metadata": {
    "collapsed": false,
    "slideshow": {
     "slide_type": "subslide"
    }
   },
   "outputs": [
    {
     "name": "stdout",
     "output_type": "stream",
     "text": [
      "Overwriting mandel2.f90\n"
     ]
    }
   ],
   "source": [
    "%%writefile mandel2.f90\n",
    "\n",
    "subroutine single_point_mandelbrot(z,c,zout)\n",
    "    ! *************************************************\n",
    "    ! * compute single point mandlebrot *\n",
    "    ! *************************************************\n",
    "    implicit none\n",
    "    integer :: I \n",
    "    complex*16 :: z, c, zout \n",
    "    !f2py complex*16, intent(out) :: zout \n",
    "    do i = 1,100\n",
    "        z = z*z + c\n",
    "        if ((real(z)**2 + aimag(z)**2 ) .gt. 1000.0) then\n",
    "           exit\n",
    "        endif \n",
    "    enddo\n",
    "    zout = z\n",
    "end subroutine"
   ]
  },
  {
   "cell_type": "code",
   "execution_count": null,
   "metadata": {
    "collapsed": false,
    "slideshow": {
     "slide_type": "subslide"
    }
   },
   "outputs": [],
   "source": [
    "!f2py3 -c -m mandel mandel2.f90"
   ]
  },
  {
   "cell_type": "code",
   "execution_count": null,
   "metadata": {
    "collapsed": false,
    "slideshow": {
     "slide_type": "subslide"
    }
   },
   "outputs": [],
   "source": [
    "import mandel\n",
    "print(mandel.single_point_mandelbrot.__doc__)"
   ]
  },
  {
   "cell_type": "markdown",
   "metadata": {
    "slideshow": {
     "slide_type": "subslide"
    }
   },
   "source": [
    "## mandelbrot/3\n",
    "* Let's test the module (and the interface)\n"
   ]
  },
  {
   "cell_type": "code",
   "execution_count": null,
   "metadata": {
    "collapsed": false,
    "slideshow": {
     "slide_type": "subslide"
    }
   },
   "outputs": [],
   "source": [
    "z = complex(1,2)\n",
    "c = complex(1,2)\n",
    "zout = mandel.single_point_mandelbrot(z,c)\n",
    "zout\n"
   ]
  },
  {
   "cell_type": "markdown",
   "metadata": {
    "slideshow": {
     "slide_type": "subslide"
    }
   },
   "source": [
    "## mandelbrot/4\n",
    "* Now we can employ our function\n",
    "* First, we need to wrap our function\n"
   ]
  },
  {
   "cell_type": "code",
   "execution_count": null,
   "metadata": {
    "collapsed": true,
    "slideshow": {
     "slide_type": "subslide"
    }
   },
   "outputs": [],
   "source": [
    "def myfunc(a,b):\n",
    "    return mandel.single_point_mandelbrot(a,b)"
   ]
  },
  {
   "cell_type": "markdown",
   "metadata": {
    "slideshow": {
     "slide_type": "subslide"
    }
   },
   "source": [
    "* And then vectorize it\n"
   ]
  },
  {
   "cell_type": "code",
   "execution_count": null,
   "metadata": {
    "collapsed": true,
    "slideshow": {
     "slide_type": "fragment"
    }
   },
   "outputs": [],
   "source": [
    "vfunc = np.vectorize(myfunc) #now we can use madel.single_point_mandelbrot as a ufunc "
   ]
  },
  {
   "cell_type": "markdown",
   "metadata": {
    "slideshow": {
     "slide_type": "subslide"
    }
   },
   "source": [
    "* Let's build the input points ..."
   ]
  },
  {
   "cell_type": "code",
   "execution_count": null,
   "metadata": {
    "collapsed": true,
    "slideshow": {
     "slide_type": "fragment"
    }
   },
   "outputs": [],
   "source": [
    "x = np.linspace(-1.7, 0.6, 1000)\n",
    "y = np.linspace(-1.4, 1.4, 1000)\n",
    "xx, yy = np.meshgrid(x, y)  "
   ]
  },
  {
   "cell_type": "markdown",
   "metadata": {
    "slideshow": {
     "slide_type": "subslide"
    }
   },
   "source": [
    "* ... and then get the complex numbers\n"
   ]
  },
  {
   "cell_type": "code",
   "execution_count": 69,
   "metadata": {
    "collapsed": true,
    "slideshow": {
     "slide_type": "fragment"
    }
   },
   "outputs": [],
   "source": [
    "def f(aa, bb):\n",
    "    return aa + 1j*bb  \n",
    "\n",
    "ff = f(xx, yy)  # build a 2d array of complex numbers"
   ]
  },
  {
   "cell_type": "markdown",
   "metadata": {
    "slideshow": {
     "slide_type": "subslide"
    }
   },
   "source": [
    "*  Now we can use our new function and plot the results"
   ]
  },
  {
   "cell_type": "code",
   "execution_count": null,
   "metadata": {
    "collapsed": false,
    "slideshow": {
     "slide_type": "subslide"
    }
   },
   "outputs": [],
   "source": [
    "z = vfunc(ff,ff) # just used our single_point_mandelbrot func\n",
    "%matplotlib inline\n",
    "import matplotlib.pyplot as plt\n",
    "plt.imshow(abs(z)**2 < 1000, extent=[-1.7, 0.6, -1.4, 1.4])\n",
    "plt.gray()\n",
    "plt.show()"
   ]
  }
 ],
 "metadata": {
  "celltoolbar": "Slideshow",
  "kernelspec": {
   "display_name": "Python 3",
   "language": "python",
   "name": "python3"
  },
  "language_info": {
   "codemirror_mode": {
    "name": "ipython",
    "version": 3
   },
   "file_extension": ".py",
   "mimetype": "text/x-python",
   "name": "python",
   "nbconvert_exporter": "python",
   "pygments_lexer": "ipython3",
   "version": "3.5.1"
  }
 },
 "nbformat": 4,
 "nbformat_minor": 0
}
