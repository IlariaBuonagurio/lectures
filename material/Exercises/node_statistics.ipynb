{
 "cells": [
  {
   "cell_type": "markdown",
   "metadata": {},
   "source": [
    "# Node outage statistics"
   ]
  },
  {
   "cell_type": "markdown",
   "metadata": {},
   "source": [
    "1. **read all files and store data on a ndarray**\n",
    "2. **calculate total availability** \n",
    "  * **number of nodes** \n",
    "  * **number of days** \n",
    "  * **total availability (%)** \n",
    "3. **perform single node statistics plot** \n",
    "\n",
    "Check #TODO lines and make the necessary changes "
   ]
  },
  {
   "cell_type": "markdown",
   "metadata": {},
   "source": [
    "## 1. read files"
   ]
  },
  {
   "cell_type": "code",
   "execution_count": 58,
   "metadata": {
    "collapsed": false
   },
   "outputs": [
    {
     "data": {
      "text/plain": [
       "u'/home/mirko/lavoro/formazione/attiva/corso_python/201509/notebook/EserciziNumpy/es_statistics'"
      ]
     },
     "execution_count": 58,
     "metadata": {},
     "output_type": "execute_result"
    }
   ],
   "source": [
    "%pwd"
   ]
  },
  {
   "cell_type": "code",
   "execution_count": 8,
   "metadata": {
    "collapsed": true
   },
   "outputs": [],
   "source": [
    "# user defined variables\n",
    "# DATA_DIR points to data directory \n",
    "#TODO DATA_DIR = ...    # e.g.  ./data"
   ]
  },
  {
   "cell_type": "code",
   "execution_count": 9,
   "metadata": {
    "collapsed": true
   },
   "outputs": [],
   "source": [
    "# import numpy in the current namespace\n",
    "#TODO import ..."
   ]
  },
  {
   "cell_type": "code",
   "execution_count": 10,
   "metadata": {
    "collapsed": true
   },
   "outputs": [],
   "source": [
    "# define data type to read these lines\n",
    "# 2015-09-01 00:00:01;node027;1;free;xagi scalar;16\n",
    "# we are only interested in the first 4 fields\n",
    "# TODO dt = np.dtype([...])"
   ]
  },
  {
   "cell_type": "code",
   "execution_count": 40,
   "metadata": {
    "collapsed": true
   },
   "outputs": [],
   "source": [
    "# read file names using glob function \n",
    "from glob import glob\n",
    "#TODO file_names = ... \n",
    "file_names.sort()\n",
    "file_names\n",
    "# in case file_names is void, please adjust DATA_DIR"
   ]
  },
  {
   "cell_type": "code",
   "execution_count": 43,
   "metadata": {
    "collapsed": true
   },
   "outputs": [],
   "source": [
    "# read first file \n",
    "# TODO data_array = np.loadtxt(...)\n",
    "# check it\n",
    "data_array"
   ]
  },
  {
   "cell_type": "code",
   "execution_count": null,
   "metadata": {
    "collapsed": true
   },
   "outputs": [],
   "source": [
    "# now append all the other files data\n",
    "for file_name in file_names[1:]:\n",
    "    # TODO arr = np.loadtxt(...)\n",
    "    # TODO data_array = np.append(data_array, arr)"
   ]
  },
  {
   "cell_type": "code",
   "execution_count": 48,
   "metadata": {
    "collapsed": true
   },
   "outputs": [],
   "source": [
    "# check first elements of data_array\n",
    "data_array[:6]"
   ]
  },
  {
   "cell_type": "code",
   "execution_count": 54,
   "metadata": {
    "collapsed": true
   },
   "outputs": [],
   "source": [
    "# check size of array\n",
    "assert data_array.size == 400896"
   ]
  },
  {
   "cell_type": "markdown",
   "metadata": {},
   "source": [
    "## 2. Calculate overall node availability"
   ]
  },
  {
   "cell_type": "code",
   "execution_count": 55,
   "metadata": {
    "collapsed": false
   },
   "outputs": [
    {
     "data": {
      "text/plain": [
       "array(['node001', 'node002', 'node003', 'node004', 'node005'], \n",
       "      dtype='|S7')"
      ]
     },
     "execution_count": 55,
     "metadata": {},
     "output_type": "execute_result"
    }
   ],
   "source": [
    "# get node names\n",
    "# TODO nodes = np.unique(...)\n",
    "nodes[:5]"
   ]
  },
  {
   "cell_type": "code",
   "execution_count": 56,
   "metadata": {
    "collapsed": false
   },
   "outputs": [
    {
     "name": "stdout",
     "output_type": "stream",
     "text": [
      "******************************\n",
      "Number of nodes: 522\n",
      "Number of days: 16\n",
      "up states:  395603\n",
      "approximate up time (hh):  197801.5\n",
      "total availability: 98.7 % \n",
      "******************************\n"
     ]
    }
   ],
   "source": [
    "# print total availability of the HPC system\n",
    "def total_availability(array):\n",
    "    \"\"\" for each 'up' state we consider 30 minutes of uptime\n",
    "    \"\"\"\n",
    "    # remember each up state is 1, down state 0\n",
    "    # TODO return array...\n",
    "\n",
    "up_states = total_availability(data_array)\n",
    "up_time = up_states/2.0\n",
    "# TODO number_of_nodes = ...\n",
    "# TODO number_of_days = ...\n",
    "\n",
    "# availability % is:\n",
    "#   up_time (hh) / (number_of_nodes * number_of_days * 24) * 100 \n",
    "# TODO total_availability_percentage = ...\n",
    "\n",
    "print '*'*30\n",
    "print 'Number of nodes: %d' % number_of_nodes\n",
    "print 'Number of days: %d' % number_of_days\n",
    "print 'up states: %7d' % up_states \n",
    "print 'approximate up time (hh):  %7.1f' % up_time\n",
    "print 'total availability: %3.1f %% ' % total_availability_percentage\n",
    "print '*'*30"
   ]
  },
  {
   "cell_type": "markdown",
   "metadata": {},
   "source": [
    "## 3. Single node availability plot"
   ]
  },
  {
   "cell_type": "code",
   "execution_count": 64,
   "metadata": {
    "collapsed": false
   },
   "outputs": [
    {
     "data": {
      "text/plain": [
       "768"
      ]
     },
     "execution_count": 64,
     "metadata": {},
     "output_type": "execute_result"
    }
   ],
   "source": [
    "def availability(node):\n",
    "    \"\"\" return node availability (status) array \n",
    "    \"\"\"\n",
    "    # first select only 'node' elements of the array \n",
    "    # TODO arr = data_array[...] == ...\n",
    "    #  now return only array of status\n",
    "    # TODO return data_array[arr][...] \n",
    "\n",
    "availability('node001').size"
   ]
  },
  {
   "cell_type": "code",
   "execution_count": 25,
   "metadata": {
    "collapsed": true
   },
   "outputs": [],
   "source": [
    "import matplotlib.pyplot as plt"
   ]
  },
  {
   "cell_type": "code",
   "execution_count": 28,
   "metadata": {
    "collapsed": true
   },
   "outputs": [],
   "source": [
    "# show the plots inline\n",
    "%matplotlib inline"
   ]
  },
  {
   "cell_type": "code",
   "execution_count": 4,
   "metadata": {
    "collapsed": true
   },
   "outputs": [],
   "source": [
    "# total hours\n",
    "total_hours = number_of_days*24"
   ]
  },
  {
   "cell_type": "code",
   "execution_count": 75,
   "metadata": {
    "collapsed": true
   },
   "outputs": [],
   "source": [
    "# build an array to be the time (x) axis\n",
    "time = np.linspace(0, total_hours, 768)"
   ]
  },
  {
   "cell_type": "code",
   "execution_count": 96,
   "metadata": {
    "collapsed": true
   },
   "outputs": [],
   "source": [
    "def plot_node_availability(x, plots):\n",
    "    \"\"\" multiplot of node availability  \n",
    "        plots is a list of 4 ndarrays corresponding to 4 different y axis \n",
    "    \"\"\"\n",
    "    fig = plt.figure()\n",
    "    # we need to add one or more subplot\n",
    "    ax1 = fig.add_subplot(221)\n",
    "    # TODO ax2 = ...\n",
    "    # TODO ax3 = ...\n",
    "    # TODO ax4 = ...\n",
    "    \n",
    "    # let's fill the subplot\n",
    "    # TODO ax1.plot(..., ...)\n",
    "    # TODO ax2.plot(..., ...)\n",
    "    # TODO ax3.plot(..., ...)\n",
    "    # TODO ax4.plot(..., ...)\n",
    "    \n",
    "    # set y range for a better view of the data\n",
    "    ax1.set_ylim(-0.5, 1.5)\n",
    "    ax2.set_ylim(-0.5, 1.5)\n",
    "    ax3.set_ylim(-0.5, 1.5)\n",
    "    ax4.set_ylim(-0.5, 1.5)\n",
    "    \n",
    "    plt.show()"
   ]
  },
  {
   "cell_type": "code",
   "execution_count": 5,
   "metadata": {
    "collapsed": true
   },
   "outputs": [],
   "source": [
    "for i in range(100, 150, 4): \n",
    "    node_plots = [availability(node) for node in nodes[i:i+4]]\n",
    "    for node_name in nodes[i:i+4]:\n",
    "        print node_name, \n",
    "    plot_node_availability(time, node_plots)"
   ]
  }
 ],
 "metadata": {
  "kernelspec": {
   "display_name": "Python 3",
   "language": "python",
   "name": "python3"
  },
  "language_info": {
   "codemirror_mode": {
    "name": "ipython",
    "version": 3
   },
   "file_extension": ".py",
   "mimetype": "text/x-python",
   "name": "python",
   "nbconvert_exporter": "python",
   "pygments_lexer": "ipython3",
   "version": "3.5.1"
  }
 },
 "nbformat": 4,
 "nbformat_minor": 0
}
