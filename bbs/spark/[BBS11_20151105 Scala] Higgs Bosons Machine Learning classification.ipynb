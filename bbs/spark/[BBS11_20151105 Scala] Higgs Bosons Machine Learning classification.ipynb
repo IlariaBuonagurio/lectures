{
 "cells": [
  {
   "cell_type": "markdown",
   "metadata": {},
   "source": [
    "# Higgs Boson Machine Learning classification"
   ]
  },
  {
   "cell_type": "markdown",
   "metadata": {},
   "source": [
    "### Importing MLlib libraries"
   ]
  },
  {
   "cell_type": "code",
   "execution_count": null,
   "metadata": {
    "collapsed": true
   },
   "outputs": [],
   "source": [
    "import org.apache.spark.mllib.regression.LabeledPoint\n",
    "import org.apache.spark.mllib.linalg.Vectors\n",
    "import org.apache.spark.mllib.tree.DecisionTree\n",
    "import org.apache.spark.mllib.tree.configuration.Algo\n",
    "import org.apache.spark.mllib.tree.impurity.Entropy\n",
    "import org.apache.spark.mllib.classification.NaiveBayes\n",
    "import org.apache.spark.mllib.evaluation.MulticlassMetrics\n",
    "import sqlContext.implicits._\n",
    "import org.apache.spark.sql.functions._"
   ]
  },
  {
   "cell_type": "markdown",
   "metadata": {},
   "source": [
    "### Read data and pre-processing"
   ]
  },
  {
   "cell_type": "markdown",
   "metadata": {},
   "source": [
    "File descriptions\n",
    "\n",
    "- training.csv: Training set of 250000 events, with an ID column, 30 feature columns, a weight column and a label column.\n",
    " \n",
    "- test.csv: Test set of 550000 events with an ID column and 30 feature columns (without label is not usefull in this example but only for submission on Kaggle competition).\n",
    "\n",
    "\n",
    "For detailed information on the semantics of the features, labels, and weights, see the technical documentation from https://www.kaggle.com/c/higgs-boson/https://www.kaggle.com/c/higgs-boson/\n",
    "\n",
    "Some details to get started:\n",
    "\n",
    "- All variables are floating point, except PRI_jet_num which is integer\n",
    "- Variables prefixed with PRI (for PRImitives) are “raw” quantities about the bunch collision as measured by the detector.\n",
    "- Variables prefixed with DER (for DERived) are quantities computed from the primitive features, which were selected by the physicists of ATLAS\n",
    "- It can happen that for some entries some variables are meaningless or cannot be computed; in this case, their value is −999.0, which is outside the normal range of all variables"
   ]
  },
  {
   "cell_type": "code",
   "execution_count": null,
   "metadata": {
    "collapsed": false
   },
   "outputs": [],
   "source": [
    "val rawData = sc.textFile(\"data/Higgs/training.csv\")\n",
    "rawData.take(5).foreach(println)\n",
    "rawData.count()"
   ]
  },
  {
   "cell_type": "code",
   "execution_count": null,
   "metadata": {
    "collapsed": false
   },
   "outputs": [],
   "source": [
    "val splitlines = rawData.map(lines => {\n",
    "    lines.split(',')\n",
    "  })\n",
    "splitlines.first()"
   ]
  },
  {
   "cell_type": "code",
   "execution_count": null,
   "metadata": {
    "collapsed": false
   },
   "outputs": [],
   "source": [
    "val temp = splitlines.filter(lines => lines(0) != \"EventId\")\n",
    "temp.first"
   ]
  },
  {
   "cell_type": "markdown",
   "metadata": {},
   "source": [
    "Drop the last feature Weight"
   ]
  },
  {
   "cell_type": "code",
   "execution_count": null,
   "metadata": {
    "collapsed": false
   },
   "outputs": [],
   "source": [
    "val Data = temp.map { col =>   \n",
    "     val temp_label = col(col.size - 1)                       \n",
    "     val label = if (temp_label == \"s\") 1.toInt else 0.toInt\n",
    "     val features = col.slice(1, col.size - 2).map(_.toDouble)\n",
    "     LabeledPoint(label, Vectors.dense(features))\n",
    "}\n",
    "Data.take(5).foreach(println)"
   ]
  },
  {
   "cell_type": "markdown",
   "metadata": {},
   "source": [
    "### Split the data into training and test sets (40% held out for testing)"
   ]
  },
  {
   "cell_type": "code",
   "execution_count": null,
   "metadata": {
    "collapsed": false
   },
   "outputs": [],
   "source": [
    "val splits = Data.randomSplit(Array(0.6, 0.4), seed = 13L)\n",
    "val trainingData = splits(0).cache()\n",
    "val testData = splits(1)\n",
    "println(\"Training Data\")\n",
    "trainingData.take(5).foreach(println)\n",
    "println(\"Test Data\")\n",
    "testData.take(5).foreach(println)"
   ]
  },
  {
   "cell_type": "markdown",
   "metadata": {},
   "source": [
    "### Train a Decision Tree"
   ]
  },
  {
   "cell_type": "code",
   "execution_count": null,
   "metadata": {
    "collapsed": false
   },
   "outputs": [],
   "source": [
    "val numClasses = 2\n",
    "val categoricalFeaturesInfo = Map[Int, Int]()\n",
    "val impurity = \"entropy\"\n",
    "val maxDepth = 3\n",
    "val maxBins = 10\n",
    "val dtModel = DecisionTree.trainClassifier(trainingData, numClasses, categoricalFeaturesInfo,\n",
    "  impurity, maxDepth, maxBins)\n",
    "println(dtModel.toDebugString)"
   ]
  },
  {
   "cell_type": "code",
   "execution_count": null,
   "metadata": {
    "collapsed": false
   },
   "outputs": [],
   "source": [
    "val dtTotalCorrect = trainingData.map { point =>\n",
    "  if (dtModel.predict(point.features) == point.label) 1 else 0\n",
    "  }.sum\n",
    "\n",
    "println(dtTotalCorrect)\n",
    "println(trainingData.count)"
   ]
  },
  {
   "cell_type": "code",
   "execution_count": null,
   "metadata": {
    "collapsed": false
   },
   "outputs": [],
   "source": [
    "val dtAccuracy = dtTotalCorrect / trainingData.count\n",
    "println(dtAccuracy)"
   ]
  },
  {
   "cell_type": "markdown",
   "metadata": {},
   "source": [
    "### Test"
   ]
  },
  {
   "cell_type": "code",
   "execution_count": null,
   "metadata": {
    "collapsed": false
   },
   "outputs": [],
   "source": [
    "val dtTotalCorrect = testData.map { point =>\n",
    "  if (dtModel.predict(point.features) == point.label) 1 else 0\n",
    "  }.sum\n",
    "println(dtTotalCorrect)\n",
    "println(testData.count)"
   ]
  },
  {
   "cell_type": "code",
   "execution_count": null,
   "metadata": {
    "collapsed": false
   },
   "outputs": [],
   "source": [
    "val dtAccuracy = dtTotalCorrect / testData.count\n",
    "println(dtAccuracy)"
   ]
  },
  {
   "cell_type": "code",
   "execution_count": null,
   "metadata": {
    "collapsed": false
   },
   "outputs": [],
   "source": [
    "val predictionAndLabels = testData.map { case LabeledPoint(label, features) =>\n",
    "  val prediction = dtModel.predict(features)\n",
    "  (prediction, label)\n",
    "}\n",
    "\n",
    "// Instantiate metrics object\n",
    "val metrics = new MulticlassMetrics(predictionAndLabels)\n",
    "\n",
    "// Confusion matrix\n",
    "println(\"Confusion matrix:\")\n",
    "println(metrics.confusionMatrix)\n",
    "\n",
    "// Overall Statistics\n",
    "val precision = metrics.precision\n",
    "val recall = metrics.recall // same as true positive rate\n",
    "val f1Score = metrics.fMeasure\n",
    "println(\"Summary Statistics\")\n",
    "println(s\"Precision = $precision\")\n",
    "println(s\"Recall = $recall\")\n",
    "println(s\"F1 Score = $f1Score\")\n",
    "\n",
    "// Precision by label\n",
    "val labels = metrics.labels\n",
    "labels.foreach { l =>\n",
    "    println(s\"Precision($l) = \" + metrics.precision(l))\n",
    "}\n",
    "\n",
    "// Recall by label\n",
    "labels.foreach { l =>\n",
    "    println(s\"Recall($l) = \" + metrics.recall(l))\n",
    "}\n",
    "\n",
    "// False positive rate by label\n",
    "labels.foreach { l =>\n",
    "    println(s\"FPR($l) = \" + metrics.falsePositiveRate(l))\n",
    "}\n",
    "\n",
    "// F-measure by label\n",
    "labels.foreach { l =>\n",
    "    println(s\"F1-Score($l) = \" + metrics.fMeasure(l))\n",
    "}\n",
    "\n",
    "// Weighted stats\n",
    "println(s\"Weighted precision: ${metrics.weightedPrecision}\")\n",
    "println(s\"Weighted recall: ${metrics.weightedRecall}\")\n",
    "println(s\"Weighted F1 score: ${metrics.weightedFMeasure}\")\n",
    "println(s\"Weighted false positive rate: ${metrics.weightedFalsePositiveRate}\")"
   ]
  }
 ],
 "metadata": {
  "kernelspec": {
   "display_name": "Scala 2.10.4",
   "language": "scala",
   "name": "scala"
  },
  "language_info": {
   "name": "scala"
  }
 },
 "nbformat": 4,
 "nbformat_minor": 0
}
