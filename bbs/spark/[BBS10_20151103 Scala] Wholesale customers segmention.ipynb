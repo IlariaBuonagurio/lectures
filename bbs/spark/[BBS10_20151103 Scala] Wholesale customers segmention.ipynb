{
 "cells": [
  {
   "cell_type": "markdown",
   "metadata": {},
   "source": [
    "# Customer segmentation with K-means clustering"
   ]
  },
  {
   "cell_type": "markdown",
   "metadata": {},
   "source": [
    "### Importing MLlib libraries "
   ]
  },
  {
   "cell_type": "code",
   "execution_count": 1,
   "metadata": {
    "collapsed": false
   },
   "outputs": [],
   "source": [
    "import org.apache.spark.mllib.clustering._\n",
    "import org.apache.spark.mllib.linalg._\n",
    "import org.apache.spark.rdd._\n",
    "import org.apache.spark.{SparkConf, SparkContext}\n",
    "import org.apache.spark.SparkContext._\n",
    "import org.apache.spark.mllib.regression.LabeledPoint\n",
    "import org.apache.spark.mllib.linalg.Vectors\n",
    "import org.apache.spark.mllib.stat.{MultivariateStatisticalSummary, Statistics}\n",
    "import org.apache.spark.sql.functions._\n",
    "import sqlContext.implicits._\n",
    "import org.apache.spark.sql.functions._"
   ]
  },
  {
   "cell_type": "markdown",
   "metadata": {},
   "source": [
    "We're going to use the wholesale customer dataset we downloaded from the Center for Machine Learning and Intelligent Systems at the University of California, Irvine. You can download the dataset from here – https://archive.ics.uci.edu/ml/datasets/Wholesale+customers#.\n",
    "\n",
    "The dataset contains 440 customers (observations) of a wholesale distributor. It includes the annual spend in monetary units on six product categories – Fresh, Milk, Grocery, Frozen, Detergents_Paper, and Delicatessen. "
   ]
  },
  {
   "cell_type": "markdown",
   "metadata": {},
   "source": [
    "### Read data and pre-processing"
   ]
  },
  {
   "cell_type": "code",
   "execution_count": 2,
   "metadata": {
    "collapsed": false
   },
   "outputs": [
    {
     "name": "stdout",
     "output_type": "stream",
     "text": [
      "Channel,Region,Fresh,Milk,Grocery,Frozen,Detergents_Paper,Delicassen\n",
      "2,3,12669,9656,7561,214,2674,1338\n",
      "2,3,7057,9810,9568,1762,3293,1776\n",
      "2,3,6353,8808,7684,2405,3516,7844\n",
      "1,3,13265,1196,4221,6404,507,1788\n"
     ]
    },
    {
     "data": {
      "text/plain": [
       "441"
      ]
     },
     "execution_count": 2,
     "metadata": {},
     "output_type": "execute_result"
    }
   ],
   "source": [
    "val data =sc.textFile(\"data/customer.csv\")\n",
    "data.take(5).foreach(println)\n",
    "data.count()"
   ]
  },
  {
   "cell_type": "code",
   "execution_count": 3,
   "metadata": {
    "collapsed": true
   },
   "outputs": [],
   "source": [
    "val header = data.first\n",
    "val temp = data.filter(l => l != header)"
   ]
  },
  {
   "cell_type": "code",
   "execution_count": 4,
   "metadata": {
    "collapsed": false
   },
   "outputs": [
    {
     "name": "stdout",
     "output_type": "stream",
     "text": [
      "2,3,12669,9656,7561,214,2674,1338\n",
      "2,3,7057,9810,9568,1762,3293,1776\n",
      "2,3,6353,8808,7684,2405,3516,7844\n",
      "1,3,13265,1196,4221,6404,507,1788\n",
      "2,3,22615,5410,7198,3915,1777,5185\n"
     ]
    }
   ],
   "source": [
    "temp.take(5).foreach(println)"
   ]
  },
  {
   "cell_type": "code",
   "execution_count": 5,
   "metadata": {
    "collapsed": false
   },
   "outputs": [],
   "source": [
    "val customer=temp.map(line=>Vectors.dense(line.split(',').slice(2,8).map(_.toDouble)))"
   ]
  },
  {
   "cell_type": "code",
   "execution_count": 6,
   "metadata": {
    "collapsed": false
   },
   "outputs": [
    {
     "name": "stdout",
     "output_type": "stream",
     "text": [
      "[12669.0,9656.0,7561.0,214.0,2674.0,1338.0]\n",
      "[7057.0,9810.0,9568.0,1762.0,3293.0,1776.0]\n",
      "[6353.0,8808.0,7684.0,2405.0,3516.0,7844.0]\n",
      "[13265.0,1196.0,4221.0,6404.0,507.0,1788.0]\n",
      "[22615.0,5410.0,7198.0,3915.0,1777.0,5185.0]\n"
     ]
    }
   ],
   "source": [
    "customer.take(5).foreach(println)"
   ]
  },
  {
   "cell_type": "markdown",
   "metadata": {},
   "source": [
    "### Perform cluster analysis"
   ]
  },
  {
   "cell_type": "code",
   "execution_count": 7,
   "metadata": {
    "collapsed": true
   },
   "outputs": [],
   "source": [
    "val numClusters = 5\n",
    "val numIterations = 10\n",
    "val model = KMeans.train(customer,numClusters,numIterations)"
   ]
  },
  {
   "cell_type": "code",
   "execution_count": 8,
   "metadata": {
    "collapsed": false
   },
   "outputs": [
    {
     "name": "stdout",
     "output_type": "stream",
     "text": [
      "[12000.297727272728,5796.265909090909,7951.277272727274,3071.931818181818,2881.493181818182,1524.8704545454548]\n",
      "[1.5995492742140704E8,5.44699672389263E7,9.03101037543798E7,2.3567853166183483E7,2.2732436036399867E7,7952997.497986122]\n"
     ]
    }
   ],
   "source": [
    "val summary: MultivariateStatisticalSummary = Statistics.colStats(customer)\n",
    "println(summary.mean) // a dense vector containing the mean value for each column\n",
    "println(summary.variance) // column-wise variance\n",
    "println(summary.numNonzeros) // number of nonzeros in each column"
   ]
  },
  {
   "cell_type": "code",
   "execution_count": 9,
   "metadata": {
    "collapsed": false
   },
   "outputs": [],
   "source": [
    "model.clusterCenters.foreach(println)"
   ]
  },
  {
   "cell_type": "code",
   "execution_count": 10,
   "metadata": {
    "collapsed": true
   },
   "outputs": [],
   "source": [
    "val cusclu = model.predict(customer)"
   ]
  },
  {
   "cell_type": "code",
   "execution_count": 11,
   "metadata": {
    "collapsed": false
   },
   "outputs": [
    {
     "name": "stdout",
     "output_type": "stream",
     "text": [
      "0\n",
      "0\n",
      "0\n",
      "0\n",
      "2\n"
     ]
    }
   ],
   "source": [
    "cusclu.take(5).foreach(println)"
   ]
  },
  {
   "cell_type": "code",
   "execution_count": 12,
   "metadata": {
    "collapsed": false
   },
   "outputs": [
    {
     "name": "stdout",
     "output_type": "stream",
     "text": [
      "PMML Model:\n",
      "<?xml version=\"1.0\" encoding=\"UTF-8\" standalone=\"yes\"?>\n",
      "<PMML xmlns=\"http://www.dmg.org/PMML-4_2\">\n",
      "    <Header description=\"k-means clustering\">\n",
      "        <Application name=\"Apache Spark MLlib\" version=\"1.5.1\"/>\n",
      "        <Timestamp>2016-03-18T15:57:09</Timestamp>\n",
      "    </Header>\n",
      "    <DataDictionary numberOfFields=\"6\">\n",
      "        <DataField name=\"field_0\" optype=\"continuous\" dataType=\"double\"/>\n",
      "        <DataField name=\"field_1\" optype=\"continuous\" dataType=\"double\"/>\n",
      "        <DataField name=\"field_2\" optype=\"continuous\" dataType=\"double\"/>\n",
      "        <DataField name=\"field_3\" optype=\"continuous\" dataType=\"double\"/>\n",
      "        <DataField name=\"field_4\" optype=\"continuous\" dataType=\"double\"/>\n",
      "        <DataField name=\"field_5\" optype=\"continuous\" dataType=\"double\"/>\n",
      "    </DataDictionary>\n",
      "    <ClusteringModel modelName=\"k-means\" functionName=\"clustering\" modelClass=\"centerBased\" numberOfClusters=\"5\">\n",
      "        <MiningSchema>\n",
      "            <MiningField name=\"field_0\" usageType=\"active\"/>\n",
      "            <MiningField name=\"field_1\" usageType=\"active\"/>\n",
      "            <MiningField name=\"field_2\" usageType=\"active\"/>\n",
      "            <MiningField name=\"field_3\" usageType=\"active\"/>\n",
      "            <MiningField name=\"field_4\" usageType=\"active\"/>\n",
      "            <MiningField name=\"field_5\" usageType=\"active\"/>\n",
      "        </MiningSchema>\n",
      "        <ComparisonMeasure kind=\"distance\">\n",
      "            <squaredEuclidean/>\n",
      "        </ComparisonMeasure>\n",
      "        <ClusteringField field=\"field_0\" compareFunction=\"absDiff\"/>\n",
      "        <ClusteringField field=\"field_1\" compareFunction=\"absDiff\"/>\n",
      "        <ClusteringField field=\"field_2\" compareFunction=\"absDiff\"/>\n",
      "        <ClusteringField field=\"field_3\" compareFunction=\"absDiff\"/>\n",
      "        <ClusteringField field=\"field_4\" compareFunction=\"absDiff\"/>\n",
      "        <ClusteringField field=\"field_5\" compareFunction=\"absDiff\"/>\n",
      "        <Cluster name=\"cluster_0\">\n",
      "            <Array n=\"6\" type=\"real\">7902.404411764705 3275.158088235294 4139.83455882353 2681.823529411765 1199.6433823529412 1050.5992647058824</Array>\n",
      "        </Cluster>\n",
      "        <Cluster name=\"cluster_1\">\n",
      "            <Array n=\"6\" type=\"real\">25603.0 43460.600000000006 61472.200000000004 2636.0 29974.2 2708.8</Array>\n",
      "        </Cluster>\n",
      "        <Cluster name=\"cluster_2\">\n",
      "            <Array n=\"6\" type=\"real\">30065.36363636364 4970.857142857143 5599.2467532467535 5592.96103896104 1048.857142857143 2540.194805194805</Array>\n",
      "        </Cluster>\n",
      "        <Cluster name=\"cluster_3\">\n",
      "            <Array n=\"6\" type=\"real\">5184.21686746988 12312.578313253012 19230.90361445783 1643.144578313253 8487.277108433735 1977.9156626506026</Array>\n",
      "        </Cluster>\n",
      "        <Cluster name=\"cluster_4\">\n",
      "            <Array n=\"6\" type=\"real\">85779.66666666666 12503.666666666666 12619.666666666666 13991.666666666666 2159.0 3958.0</Array>\n",
      "        </Cluster>\n",
      "    </ClusteringModel>\n",
      "</PMML>\n",
      "\n"
     ]
    }
   ],
   "source": [
    "println(\"PMML Model:\\n\" + model.toPMML)"
   ]
  },
  {
   "cell_type": "code",
   "execution_count": null,
   "metadata": {
    "collapsed": true
   },
   "outputs": [],
   "source": []
  }
 ],
 "metadata": {
  "kernelspec": {
   "display_name": "Scala 2.10.4",
   "language": "scala",
   "name": "scala"
  },
  "language_info": {
   "name": "scala"
  }
 },
 "nbformat": 4,
 "nbformat_minor": 0
}
