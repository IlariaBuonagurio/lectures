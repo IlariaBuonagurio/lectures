{
 "cells": [
  {
   "cell_type": "markdown",
   "metadata": {},
   "source": [
    "# Clustering financial data using dataframe"
   ]
  },
  {
   "cell_type": "markdown",
   "metadata": {},
   "source": [
    "### Importing MLlib libraries"
   ]
  },
  {
   "cell_type": "code",
   "execution_count": 1,
   "metadata": {
    "collapsed": false
   },
   "outputs": [
    {
     "name": "stdout",
     "output_type": "stream",
     "text": [
      "Using cached version of spark-csv_2.10-1.3.0.jar\n",
      "Marking com.databricks:spark-csv_2.10:1.3.0 for download\n",
      "Preparing to fetch from:\n",
      "-> file:/tmp/.ivy2/\n",
      "-> https://repo1.maven.org/maven2\n",
      "-> New file at /tmp/.ivy2/https/repo1.maven.org/maven2/org/apache/commons/commons-csv/1.1/commons-csv-1.1.jar\n",
      "-> New file at /tmp/.ivy2/https/repo1.maven.org/maven2/com/univocity/univocity-parsers/1.5.1/univocity-parsers-1.5.1.jar\n",
      "-> New file at /tmp/.ivy2/https/repo1.maven.org/maven2/com/databricks/spark-csv_2.10/1.3.0/spark-csv_2.10-1.3.0.jar\n"
     ]
    }
   ],
   "source": [
    "import org.apache.spark.mllib.linalg.Vectors\n",
    "import org.apache.spark.mllib.clustering.KMeans\n",
    "import org.apache.spark.sql.functions._\n",
    "import sqlContext.implicits._\n",
    "import org.apache.spark.sql.SQLContext\n",
    "%AddJar http://repo1.maven.org/maven2/com/databricks/spark-csv_2.10/1.3.0/spark-csv_2.10-1.3.0.jar --magic\n",
    "%AddDeps com.databricks spark-csv_2.10 1.3.0 --transitive"
   ]
  },
  {
   "cell_type": "markdown",
   "metadata": {},
   "source": [
    "### Read data and pre-processing"
   ]
  },
  {
   "cell_type": "markdown",
   "metadata": {},
   "source": [
    "The data that we are going to use in this example is stock market data with the ConnorsRSI indicator. ConnorsRSI is a composite indicator made up from RSI_CLOSE_3, PERCENT_RANK_100, and RSI_STREAK_2. We will use these attributes as well as the actual ConnorsRSI (CRSI) and RSI2 to pass into  KMeans algorithm. The calculation of this data is already normalized from 0 to 100.\n",
    "The other columns like ID, LABEL, RTN5, FIVE_DAY_GL, and CLOSE we will use to do further analysis once we cluster the instances. They will not be passed into the KMeans algorithm."
   ]
  },
  {
   "cell_type": "code",
   "execution_count": 2,
   "metadata": {
    "collapsed": false
   },
   "outputs": [
    {
     "name": "stdout",
     "output_type": "stream",
     "text": [
      "+--------------+-----+---------+-----------+------+--------+-----------+----------------+------------+-------+\n",
      "|            ID|LABEL|     RTN5|FIVE_DAY_GL| CLOSE|    RSI2|RSI_CLOSE_3|PERCENT_RANK_100|RSI_STREAK_2|   CRSI|\n",
      "+--------------+-----+---------+-----------+------+--------+-----------+----------------+------------+-------+\n",
      "|2015-09-16:SPY|   UP|  2.76708|   -3.28704|200.18| 91.5775|     81.572|              84|     73.2035|79.5918|\n",
      "|2015-09-15:SPY|   UP| 0.521704|   -2.29265|198.46| 83.4467|    72.9477|              92|     60.6273|75.1917|\n",
      "|2015-09-14:SPY|   DN|  1.77579|    0.22958|196.01| 47.0239|    51.3076|              31|      25.807|36.0382|\n",
      "|2015-09-11:SPY|   UP|  0.60854|  -0.655688|196.74| 69.9559|    61.0005|              76|      76.643|71.2145|\n",
      "|2015-09-10:SPY|   UP| 0.225168|    1.98111|195.85| 57.2462|    53.9258|              79|     65.2266|66.0508|\n",
      "|2015-09-09:SPY|   DN|   1.5748|    2.76708|194.79| 42.8488|    46.1728|               7|     31.9797|28.3842|\n",
      "|2015-09-08:SPY|   UP|-0.121414|   0.521704|197.43| 73.7949|    64.0751|              98|     61.2696|74.4483|\n",
      "|2015-09-04:SPY|   DN| -3.35709|    1.77579|192.59| 22.4626|    31.7166|               6|      28.549|22.0886|\n",
      "|2015-09-03:SPY|   UP| -1.86681|    0.60854|195.55| 56.0153|    50.1242|              57|     77.9225|61.6822|\n",
      "|2015-09-02:SPY|   UP| 0.374974|   0.225168|195.41| 54.4047|    49.1944|              97|     68.9819|71.7254|\n",
      "|2015-09-01:SPY|   DN|  2.40295|     1.5748|191.77|  12.981|    24.9421|               2|     20.9842|15.9754|\n",
      "|2015-08-31:SPY|   DN|  4.28383|  -0.121414|197.67| 49.2245|    51.5145|              15|     28.2768|31.5971|\n",
      "|2015-08-28:SPY|   UP| 0.834893|   -3.35709|199.28|  79.516|    63.8989|              51|      92.729|69.2093|\n",
      "|2015-08-27:SPY|   UP| -2.30426|   -1.86681|199.27| 79.4768|    63.8629|              98|      89.832|83.8983|\n",
      "|2015-08-26:SPY|   UP| -6.54762|   0.374974|194.68| 63.3882|    48.0105|              99|     87.3024|78.1043|\n",
      "|2015-08-25:SPY|   DN| -10.8153|    2.40295|187.27|0.302691|    1.51155|               5|     1.77423|2.76193|\n",
      "|2015-08-24:SPY|   DN| -9.99098|    4.28383|189.55|0.411875|    1.85117|               0|     3.41939|1.75686|\n",
      "|2015-08-21:SPY|   DN| -5.62983|   0.834893|197.63| 1.14143|    3.94571|               0|       6.375|3.44024|\n",
      "|2015-08-20:SPY|   DN| -2.24768|   -2.30426|203.97| 3.74155|    9.66778|               1|     11.2272|7.29834|\n",
      "|2015-08-19:SPY|   DN|-0.287191|   -6.54762|208.32| 17.1216|    28.7169|              12|      18.125| 19.614|\n",
      "+--------------+-----+---------+-----------+------+--------+-----------+----------------+------------+-------+\n",
      "only showing top 20 rows\n",
      "\n"
     ]
    },
    {
     "data": {
      "text/plain": [
       "StructType(StructField(ID,StringType,true), StructField(LABEL,StringType,true), StructField(RTN5,DoubleType,true), StructField(FIVE_DAY_GL,DoubleType,true), StructField(CLOSE,DoubleType,true), StructField(RSI2,DoubleType,true), StructField(RSI_CLOSE_3,DoubleType,true), StructField(PERCENT_RANK_100,IntegerType,true), StructField(RSI_STREAK_2,DoubleType,true), StructField(CRSI,DoubleType,true))"
      ]
     },
     "execution_count": 2,
     "metadata": {},
     "output_type": "execute_result"
    }
   ],
   "source": [
    "// load file and remove header\n",
    "import org.apache.spark.sql.SQLContext\n",
    "val sqlContext = new SQLContext(sc)\n",
    "val allDF = sqlContext.read.format(\"com.databricks.spark.csv\").option(\"header\", \"true\").option(\"inferSchema\", \"true\").load(\"data/spykmeans.csv\")\n",
    "\n",
    "allDF.show()\n",
    "allDF.schema"
   ]
  },
  {
   "cell_type": "markdown",
   "metadata": {},
   "source": [
    "### RDD / Dataframe conversions"
   ]
  },
  {
   "cell_type": "code",
   "execution_count": 3,
   "metadata": {
    "collapsed": false
   },
   "outputs": [],
   "source": [
    "// convert to rdd and cache the data\n",
    "\n",
    "val rowsRDD = allDF.rdd.map(r => (r.getString(0), r.getString(1), r.getDouble(2),\n",
    "                                  r.getDouble(3), r.getDouble(4), r.getDouble(5), r.getDouble(6),\n",
    "                                  r.getInt(7), r.getDouble(8), r.getDouble(9) ))\n",
    "\n",
    "rowsRDD.cache()\n",
    "\n",
    "// convert data to RDD which will be passed to KMeans and cache the data. We are passing in RSI2, RSI_CLOSE_3, PERCENT_RANK_100,\n",
    "// RSI_STREAK_2 and CRSI to KMeans. These are the attributes we want to use to assign the instance to a cluster\n",
    "\n",
    "val vectors = allDF.rdd.map(r => Vectors.dense( r.getDouble(5),r.getDouble(6),\n",
    "                                               r.getInt(7), r.getDouble(8), r.getDouble(9) ))\n",
    "\n",
    "\n"
   ]
  },
  {
   "cell_type": "code",
   "execution_count": 4,
   "metadata": {
    "collapsed": false
   },
   "outputs": [
    {
     "name": "stdout",
     "output_type": "stream",
     "text": [
      "(2015-09-16:SPY,UP,2.76708,-3.28704,200.18,91.5775,81.572,84,73.2035,79.5918)\n",
      "(2015-09-15:SPY,UP,0.521704,-2.29265,198.46,83.4467,72.9477,92,60.6273,75.1917)\n",
      "(2015-09-14:SPY,DN,1.77579,0.22958,196.01,47.0239,51.3076,31,25.807,36.0382)\n",
      "(2015-09-11:SPY,UP,0.60854,-0.655688,196.74,69.9559,61.0005,76,76.643,71.2145)\n",
      "(2015-09-10:SPY,UP,0.225168,1.98111,195.85,57.2462,53.9258,79,65.2266,66.0508)\n"
     ]
    }
   ],
   "source": [
    "\n",
    "rowsRDD.take(5).foreach(println)"
   ]
  },
  {
   "cell_type": "markdown",
   "metadata": {},
   "source": [
    "### Run cluster analysis"
   ]
  },
  {
   "cell_type": "code",
   "execution_count": 5,
   "metadata": {
    "collapsed": false
   },
   "outputs": [
    {
     "name": "stdout",
     "output_type": "stream",
     "text": [
      "[25.590238191780806,33.762228675799086,22.24429223744292,25.428050107305936,27.14485747716894]\n",
      "[79.06854271582732,72.01910089928057,70.35431654676259,72.65608415467624,71.67650269784168]\n",
      "(2015-09-16:SPY,1)\n",
      "(2015-09-15:SPY,1)\n",
      "(2015-09-14:SPY,0)\n",
      "(2015-09-11:SPY,1)\n",
      "(2015-09-10:SPY,1)\n"
     ]
    }
   ],
   "source": [
    "//KMeans model with 2 clusters and 20 iterations\n",
    "\n",
    "val kMeansModel = KMeans.train(vectors, 2, 20)\n",
    "\n",
    "//Print the center of each cluster\n",
    "\n",
    "kMeansModel.clusterCenters.foreach(println)\n",
    "\n",
    "// Get the prediction from the model with the ID so we can link them back to other information\n",
    "\n",
    "val predictions = rowsRDD.map{r => (r._1, kMeansModel.predict(Vectors.dense(r._6, r._7, r._8, r._9, r._10) ))}\n",
    "predictions.take(5).foreach(println)\n",
    "// convert the rdd to a dataframe\n",
    "\n",
    "val predDF = predictions.toDF(\"ID\",\"CLUSTER\")"
   ]
  },
  {
   "cell_type": "markdown",
   "metadata": {},
   "source": [
    "### Join the dataframes on ID"
   ]
  },
  {
   "cell_type": "code",
   "execution_count": 6,
   "metadata": {
    "collapsed": false
   },
   "outputs": [
    {
     "name": "stdout",
     "output_type": "stream",
     "text": [
      "root\n",
      " |-- ID: string (nullable = true)\n",
      " |-- LABEL: string (nullable = true)\n",
      " |-- RTN5: double (nullable = true)\n",
      " |-- FIVE_DAY_GL: double (nullable = true)\n",
      " |-- CLOSE: double (nullable = true)\n",
      " |-- RSI2: double (nullable = true)\n",
      " |-- RSI_CLOSE_3: double (nullable = true)\n",
      " |-- PERCENT_RANK_100: integer (nullable = true)\n",
      " |-- RSI_STREAK_2: double (nullable = true)\n",
      " |-- CRSI: double (nullable = true)\n",
      " |-- CLUSTER: integer (nullable = false)\n",
      "\n"
     ]
    }
   ],
   "source": [
    "val t = allDF.join(predDF, \"ID\")\n",
    "t.printSchema()"
   ]
  },
  {
   "cell_type": "markdown",
   "metadata": {},
   "source": [
    "### Review a subset of each cluster"
   ]
  },
  {
   "cell_type": "code",
   "execution_count": 7,
   "metadata": {
    "collapsed": false
   },
   "outputs": [
    {
     "name": "stdout",
     "output_type": "stream",
     "text": [
      "+--------------+-----+----------+-----------+------+-------+-----------+----------------+------------+-------+-------+\n",
      "|            ID|LABEL|      RTN5|FIVE_DAY_GL| CLOSE|   RSI2|RSI_CLOSE_3|PERCENT_RANK_100|RSI_STREAK_2|   CRSI|CLUSTER|\n",
      "+--------------+-----+----------+-----------+------+-------+-----------+----------------+------------+-------+-------+\n",
      "|2007-11-21:SPY|   DN|  -4.05634|    3.88199|141.68|12.9386|    18.8982|               7|     35.5108|20.4696|      0|\n",
      "|2008-01-18:SPY|   DN|  -5.77239|      2.408|132.06|2.42493|    6.64805|              18|     9.12246|11.2568|      0|\n",
      "|2013-03-21:SPY|   DN|  -1.51215|     1.4965|154.36|26.5574|    32.0213|               9|     44.0927|28.3713|      0|\n",
      "|2014-04-07:SPY|   DN|  -1.42773|  -0.759466|184.34|6.34707|    16.6131|               6|     8.95155|10.5216|      0|\n",
      "|2014-12-04:SPY|   DN|0.00963206|     -1.671|207.66|63.3008|    62.9819|              34|     28.6038|41.8619|      0|\n",
      "|2011-08-18:SPY|   DN|  -2.40348|    1.54572|114.51|9.78518|    22.8148|               3|     29.7166|18.5105|      0|\n",
      "|2011-10-31:SPY|   DN|0.00796876|   0.605578| 125.5|28.9148|    43.3403|              11|     17.0543|23.7982|      0|\n",
      "|2013-09-20:SPY|   DN|  0.820882|   -1.06022|170.72|23.5654|    39.5409|               7|     12.4539|19.6649|      0|\n",
      "|2015-05-11:SPY|   DN| -0.335983|    1.18228|210.61|55.9578|    56.7287|              22|     28.5749|35.7679|      0|\n",
      "|2010-05-28:SPY|   DN|  0.229106|   -3.54759|109.37|51.9331|    51.6657|              13|      34.198|32.9546|      0|\n",
      "|2013-07-16:SPY|   DN|    1.4534|   0.961022|167.53|52.3958|    69.9948|              25|     10.0177|35.0042|      0|\n",
      "|2009-06-17:SPY|   DN|  -3.01907|   -1.56199| 91.55|5.12304|    11.6357|              47|     11.0268|23.2208|      0|\n",
      "|2011-08-01:SPY|   DN|  -3.77344|   -12.8281|128.78|1.35018|     7.2619|              28|     1.76291|12.3416|      0|\n",
      "|2008-02-04:SPY|   DN|   1.90772|   -2.95313|137.82|49.0717|    57.4541|              16|     25.2373|32.8971|      0|\n",
      "|2008-03-27:SPY|   DN|   1.88766|    3.20831|132.78|28.9854|    44.2307|              45|     15.2172| 34.816|      0|\n",
      "|2008-06-19:SPY|   UP|-0.0223131|   -4.60497|134.42|26.0184|    30.3218|              56|     68.1856|51.5025|      0|\n",
      "|2010-05-11:SPY|   DN|  -1.43805|   -2.96124|115.83|64.1621|    54.5238|              26|     50.1525|43.5588|      0|\n",
      "|2012-10-19:SPY|   DN|   0.34992|   -1.42269|143.39|13.7955|    25.6146|               2|     15.4643|14.3596|      0|\n",
      "|2014-03-24:SPY|   DN| -0.483014|   0.852074|185.43|19.4005|    30.0166|              20|     21.7046|23.9071|      0|\n",
      "|2014-09-08:SPY|   DN|-0.0597878|  -0.802632|200.59| 43.362|    50.3477|              19|     45.2495|38.1991|      0|\n",
      "+--------------+-----+----------+-----------+------+-------+-----------+----------------+------------+-------+-------+\n",
      "only showing top 20 rows\n",
      "\n",
      "+--------------+-----+----------+-----------+------+-------+-----------+----------------+------------+-------+-------+\n",
      "|            ID|LABEL|      RTN5|FIVE_DAY_GL| CLOSE|   RSI2|RSI_CLOSE_3|PERCENT_RANK_100|RSI_STREAK_2|   CRSI|CLUSTER|\n",
      "+--------------+-----+----------+-----------+------+-------+-----------+----------------+------------+-------+-------+\n",
      "|2012-05-24:SPY|   UP|   1.27617|   -3.29737|132.53|80.5069|    61.8344|              60|     95.4215|72.4186|      1|\n",
      "|2012-08-16:SPY|   UP|  0.981438|  -0.929643|141.99|99.1446|    96.5522|              79|     70.8234|82.1252|      1|\n",
      "|2014-01-15:SPY|   UP|  0.621186|   -1.01267|184.66|76.9431|      69.09|              78|     64.3179|70.4693|      1|\n",
      "|2008-04-25:SPY|   UP|  0.808781|    1.36819| 139.6|92.4863|    86.0256|              81|     72.3651|79.7969|      1|\n",
      "|2008-07-17:SPY|   UP|-0.0798085|   0.247604| 125.2|79.5427|    66.7112|              85|     85.0435|78.9182|      1|\n",
      "|2010-09-01:SPY|   UP|    2.3787|    2.26812|108.46|87.8617|    77.6191|              96|     74.3585|82.6592|      1|\n",
      "|2011-05-26:SPY|   UP|   -1.2474|   -1.93985| 133.0|74.4896|    57.2719|              72|     84.2201| 71.164|      1|\n",
      "|2014-07-14:SPY|   UP| 0.0455673|  -0.131579| 197.6|80.9264|    69.4788|              78|     77.6673|75.0487|      1|\n",
      "|2007-12-24:SPY|   UP|   2.86758|   -2.88146|149.23|95.0976|    82.2026|              70|     91.2372|81.1466|      1|\n",
      "|2009-08-21:SPY|   UP|   2.16291|   0.398174|102.97|91.4003|    81.6338|              86|     61.5561|76.3966|      1|\n",
      "|2010-01-13:SPY|   UP|  0.800281|   -2.54755|114.62|67.0908|    64.7618|              81|     41.7395|62.5004|      1|\n",
      "|2010-04-05:SPY|   UP|   1.86996|   0.825194|118.76|92.7735|    87.0545|              83|     74.2176| 81.424|      1|\n",
      "|2010-12-02:SPY|   UP|   1.96339|   0.979112|122.56|91.1167|    82.5634|              87|      77.773|82.4455|      1|\n",
      "|2013-04-24:SPY|   UP|   1.78583|   0.253357|157.88|88.7426|    74.5114|              45|     93.4438|70.9851|      1|\n",
      "|2014-02-18:SPY|   UP|   2.34987|   0.325662|184.24|99.5198|    95.1724|              53|     99.5001|82.5575|      1|\n",
      "|2009-03-25:SPY|   UP|   1.90166|  -0.478821| 81.45|66.8883|    66.3541|              69|     67.5959|  67.65|      1|\n",
      "|2009-09-09:SPY|   UP|   3.52295|    3.46091|103.73|93.9359|    83.2434|              67|      94.377|81.5401|      1|\n",
      "|2012-04-26:SPY|   UP|   1.77171|  -0.649258|140.16|91.8237|    82.1382|              76|     87.2806|81.8063|      1|\n",
      "|2012-07-18:SPY|   UP|   2.39267|   -2.48235|137.37| 92.293|    83.6723|              80|     78.4756| 80.716|      1|\n",
      "|2013-10-17:SPY|   UP|   2.39404|    1.11419|173.22| 88.672|    82.8345|              79|     64.1875|75.3407|      1|\n",
      "+--------------+-----+----------+-----------+------+-------+-----------+----------------+------------+-------+-------+\n",
      "only showing top 20 rows\n",
      "\n"
     ]
    }
   ],
   "source": [
    "t.filter(\"CLUSTER = 0\").show()\n",
    "t.filter(\"CLUSTER = 1\").show()"
   ]
  },
  {
   "cell_type": "markdown",
   "metadata": {},
   "source": [
    "### Get descriptive statistics for each cluster"
   ]
  },
  {
   "cell_type": "code",
   "execution_count": 8,
   "metadata": {
    "collapsed": false
   },
   "outputs": [
    {
     "name": "stdout",
     "output_type": "stream",
     "text": [
      "+-------+-------------------+------------------+------------------+------------------+------------------+\n",
      "|summary|               RTN5|       FIVE_DAY_GL|             CLOSE|              RSI2|       RSI_CLOSE_3|\n",
      "+-------+-------------------+------------------+------------------+------------------+------------------+\n",
      "|  count|                876|               876|               876|               876|               876|\n",
      "|   mean|-1.2283751243607308|0.2847856990867581|141.65286529680358|25.590238191780823| 33.76222867579909|\n",
      "| stddev| 2.7682920695071767| 3.085360825933131|36.991560549603435|18.784853399492384|18.649455797802382|\n",
      "|    min|           -19.7934|          -19.7934|             68.11|          0.155807|           1.06545|\n",
      "|    max|            6.38769|           19.4036|            212.99|           79.0877|           83.5509|\n",
      "+-------+-------------------+------------------+------------------+------------------+------------------+\n",
      "\n",
      "+-------+------------------+------------------+------------------+-------+\n",
      "|summary|  PERCENT_RANK_100|      RSI_STREAK_2|              CRSI|CLUSTER|\n",
      "+-------+------------------+------------------+------------------+-------+\n",
      "|  count|               876|               876|               876|    876|\n",
      "|   mean|22.244292237442924| 25.42805010730594|27.144857477168955|    0.0|\n",
      "| stddev| 14.60581964095866|15.433557300368513|11.016660170038218|    0.0|\n",
      "|    min|                 0|          0.385541|           1.12223|      0|\n",
      "|    max|                64|           85.4695|           55.0604|      0|\n",
      "+-------+------------------+------------------+------------------+-------+\n",
      "\n",
      "+-------+-----------------+--------------------+------------------+-----------------+------------------+\n",
      "|summary|             RTN5|         FIVE_DAY_GL|             CLOSE|             RSI2|       RSI_CLOSE_3|\n",
      "+-------+-----------------+--------------------+------------------+-----------------+------------------+\n",
      "|  count|             1112|                1112|              1112|             1112|              1112|\n",
      "|   mean|1.150415319037769|-0.03837807874999998|143.98284172661872|79.06854271582732| 72.01910089928056|\n",
      "| stddev|2.261222536974694|  2.4702502060751694| 36.14835678821346|16.75622556167194|16.707962903743002|\n",
      "|    min|         -8.19672|            -17.2425|             71.73|          20.3873|           19.0374|\n",
      "|    max|          19.4036|             10.0358|             213.5|          99.9975|           99.8326|\n",
      "+-------+-----------------+--------------------+------------------+-----------------+------------------+\n",
      "\n",
      "+-------+------------------+------------------+------------------+-------+\n",
      "|summary|  PERCENT_RANK_100|      RSI_STREAK_2|              CRSI|CLUSTER|\n",
      "+-------+------------------+------------------+------------------+-------+\n",
      "|  count|              1112|              1112|              1112|   1112|\n",
      "|   mean| 70.35431654676259| 72.65608415467632| 71.67650269784166|    1.0|\n",
      "| stddev|17.464388332790296|18.234316971795742|10.544849508809929|    0.0|\n",
      "|    min|                21|           6.25018|           43.3119|      1|\n",
      "|    max|                99|           99.9893|           97.5344|      1|\n",
      "+-------+------------------+------------------+------------------+-------+\n",
      "\n"
     ]
    }
   ],
   "source": [
    "t.filter(\"CLUSTER = 0\").describe(\"RTN5\",\"FIVE_DAY_GL\",\"CLOSE\",\"RSI2\",\"RSI_CLOSE_3\").show()\n",
    "t.filter(\"CLUSTER = 0\").describe(\"PERCENT_RANK_100\",\"RSI_STREAK_2\",\"CRSI\",\"CLUSTER\").show()\n",
    "t.filter(\"CLUSTER = 1\").describe(\"RTN5\",\"FIVE_DAY_GL\",\"CLOSE\",\"RSI2\",\"RSI_CLOSE_3\").show()\n",
    "t.filter(\"CLUSTER = 1\").describe(\"PERCENT_RANK_100\",\"RSI_STREAK_2\",\"CRSI\",\"CLUSTER\").show()"
   ]
  },
  {
   "cell_type": "markdown",
   "metadata": {},
   "source": [
    "checked"
   ]
  }
 ],
 "metadata": {
  "kernelspec": {
   "display_name": "Apache_Toree",
   "language": "",
   "name": "apache_toree"
  },
  "language_info": {
   "name": "scala"
  }
 },
 "nbformat": 4,
 "nbformat_minor": 0
}
